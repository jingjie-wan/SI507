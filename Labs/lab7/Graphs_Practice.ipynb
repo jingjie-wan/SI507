{
 "cells": [
  {
   "cell_type": "markdown",
   "metadata": {
    "id": "2Qkp3rMJSBaB"
   },
   "source": [
    "Implement a class called Vertex with attributes id and connectedTo\n",
    "- connectedTo should create an empty dictionary\n",
    "- What input arguments do you need for this class?\n",
    "\n",
    "Add a method called addNeighbor which adds a connection to another vertex\n",
    "- addNeighbor should work by updating connectedTo to include an id and weight. \n",
    "- Note, because id is an attribute of this vertex use a different variable name - nbr - to update connectedTo\n",
    "\n",
    "Add a method called getId that returns this vertex objects id\n",
    "\n",
    "Add a method called getWeight that returns the weight to a given nbr\n",
    "\n",
    "Add a method called getConnections that returns all the nbrs\n",
    "\n",
    "Add a method called __str__ that returns a string that tells you the id of the vertex object and all the vertex and weight its  connected to"
   ]
  },
  {
   "cell_type": "code",
   "execution_count": null,
   "metadata": {
    "id": "cnsDpDUyKJi4"
   },
   "outputs": [],
   "source": [
    "class Vertex:\n",
    "    def __init__():\n",
    "  \n",
    "    def addNeighbor():\n",
    "  \n",
    "    def getId():\n",
    "  \n",
    "    def getWeight():\n",
    "  \n",
    "    def getConnections():\n",
    "  \n",
    "    def __str__():\n"
   ]
  },
  {
   "cell_type": "code",
   "execution_count": null,
   "metadata": {
    "id": "ggiIGuuqLPPz"
   },
   "outputs": [],
   "source": [
    "V1 = Vertex(\"B\")\n",
    "V2 = Vertex(\"C\")\n",
    "V3 = Vertex(\"D\")"
   ]
  },
  {
   "cell_type": "code",
   "execution_count": null,
   "metadata": {
    "id": "3SMQvdeML4Dn"
   },
   "outputs": [],
   "source": [
    "print(V3)"
   ]
  },
  {
   "cell_type": "code",
   "execution_count": null,
   "metadata": {
    "id": "lO-uNJOYLcS9"
   },
   "outputs": [],
   "source": [
    "V1.addNeighbor(\"D\", 5)"
   ]
  },
  {
   "cell_type": "code",
   "execution_count": null,
   "metadata": {
    "id": "-tFdZmmgLrqD"
   },
   "outputs": [],
   "source": [
    "V1.__str__()"
   ]
  },
  {
   "cell_type": "markdown",
   "metadata": {
    "id": "La7wTl2ON8y6"
   },
   "source": [
    "Implement a Class called Graph with attributes vertList and numVertices\n",
    "\n",
    " - vertList should create an empty dictionary\n",
    "\n",
    "- numVertices should start out with what what value?\n",
    "\n",
    "- What input arguments do you need for this class?\n",
    "\n",
    "Add a method called addVertex which does what it sounds like\n",
    "- How should this method interact with the attributes of Graph?\n",
    "- What input arguments are needed for this method?\n",
    "- Please return the vertex object that is created\n",
    "\n",
    "Add a method called getVertex that returns a specific vertex object\n",
    "- What input argument is needed?\n",
    "- How should this method handle it if the requested vertex object is not present?\n",
    "\n",
    "Add a method called getVertices that returns all keys in vertList\n",
    "\n",
    "Add a method called __contains__ that returns all the vertices of the graph\n",
    "\n",
    "Add a method called addEdge that uses the addNeighbor method from the Class \n",
    "Vertex to add a weight between two vertices\n",
    "- What input arguments are needed?\n",
    "- Make this method add vertex objects to the graph if they are not already present so that an error won’t be thrown\n",
    "\n",
    "Add the following  method and try to figure out what it means (iter should be surrounded by dunders):\n",
    "- def __iter__(self):\n",
    "\n",
    "  - return iter(self.vertList.values())\n"
   ]
  },
  {
   "cell_type": "code",
   "execution_count": null,
   "metadata": {
    "id": "nyM2kRMOzUjE"
   },
   "outputs": [],
   "source": [
    "class Graph:\n",
    "    def __init__():\n",
    "\n",
    "    def addVertex():\n",
    "\n",
    "    def getVertex():\n",
    "\n",
    "    def __contains__():\n",
    "\n",
    "    def addEdge():\n",
    "\n",
    "    def getVertices():\n",
    "\n",
    "    def __iter__():"
   ]
  },
  {
   "cell_type": "code",
   "execution_count": null,
   "metadata": {
    "id": "hIbowa9Y3QTg"
   },
   "outputs": [],
   "source": [
    "g = Graph()\n",
    "for i in range(5):\n",
    "    g.addVertex(i)"
   ]
  },
  {
   "cell_type": "code",
   "execution_count": null,
   "metadata": {
    "id": "kYsnDLh53wY3"
   },
   "outputs": [],
   "source": [
    "g = Graph()\n",
    "for i in range(5):\n",
    "    g.addVertex(i)\n",
    "    print(g.vertList)"
   ]
  },
  {
   "cell_type": "code",
   "execution_count": null,
   "metadata": {
    "id": "TIYCQlWz3d1o"
   },
   "outputs": [],
   "source": [
    "g.addEdge(0,1,5)\n",
    "g.addEdge(0,5,2)\n",
    "g.addEdge(1,2,4)\n",
    "g.addEdge(2,3,9)\n",
    "g.addEdge(3,4,7)\n",
    "g.addEdge(3,5,3)\n",
    "g.addEdge(4,0,1)\n",
    "g.addEdge(5,4,8)\n",
    "g.addEdge(5,2,1)\n",
    "for v in g:\n",
    "    for w in v.getConnections():\n",
    "        print(\"( %s , %s )\" % (v.getId(), w.getId()))"
   ]
  }
 ],
 "metadata": {
  "colab": {
   "provenance": [
    {
     "file_id": "1O01lDAecRETIEgASj1EvJhpqEV9WDbFK",
     "timestamp": 1665511498055
    },
    {
     "file_id": "1lQ2sI4ugqJ6-kaHxWl0Md0OwVwcCCWYu",
     "timestamp": 1665510908287
    }
   ]
  },
  "kernelspec": {
   "display_name": "Python 3 (ipykernel)",
   "language": "python",
   "name": "python3"
  },
  "language_info": {
   "codemirror_mode": {
    "name": "ipython",
    "version": 3
   },
   "file_extension": ".py",
   "mimetype": "text/x-python",
   "name": "python",
   "nbconvert_exporter": "python",
   "pygments_lexer": "ipython3",
   "version": "3.8.13"
  }
 },
 "nbformat": 4,
 "nbformat_minor": 1
}
