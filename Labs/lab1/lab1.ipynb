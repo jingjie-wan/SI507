{
 "cells": [
  {
   "cell_type": "code",
   "execution_count": null,
   "id": "32e8459b",
   "metadata": {},
   "outputs": [],
   "source": [
    "\"\"\"\n",
    "Lab 1 - Individual/Group Exercise\n",
    "\"\"\"\n",
    "\n",
    "\"\"\"\n",
    "1. Write a function named CelsiusToFarenheit\n",
    "   your function should ask the user for a temperature in celsius\n",
    "   your function should convert the temperature to farenheit\n",
    "   your function should print the Farenheit Temperature (no return statement)\n",
    "   The formula for conversion is (°C × 9/5) + 32 = °F\n",
    "   Check your answer 0°C should be 32°F and 100°C should be 212°F\n",
    "\"\"\"\n",
    "\n",
    "\n",
    "\n",
    "\n",
    "\n",
    "# Extra Practice / Resources\n",
    "\n",
    "# 2. Write a function named MarketingCampaign.\n",
    "#    your function should accept the following parameters:\n",
    "#        DigitalAds - an integer representing the budget for buying internet ads\n",
    "#        TVAds - an integer representing the budget for buying television ads\n",
    "#        PrintAds - an integer representing the budget for buying newspaper ads\n",
    "\n",
    "#    Calculation: Assume that at your company a single marketing campaign consists of\n",
    "#             7 digital ads (cost: 1 unit per ad = 7 units)\n",
    "#             3 television ads (cost: 1 unit per ad = 3 units)\n",
    "#             6 print ads. (cost: 1 unit per ad = 6 units)\n",
    "#             and that ads of all types cost 1 unit.\n",
    "\n",
    "#     Return Value:\n",
    "#        An integer representing the number of full marketing campaigns you can run\n",
    "\n",
    "\n",
    "#    Hint: There is a built-in python function called min() that may be useful\n",
    "#    Hint2: You can solve this without conditionals.\n",
    "#    Self-check your function if you have budget of 400 for digital, 22 for TV and 125 for print your output should be 7\n",
    "\n",
    "# 2B. Make a second function that also asks the user to input the current prices for the three\n",
    "# types of ads before calculating the number of marketing campaigns that can be run at the new\n",
    "# prices.\n",
    "\n",
    "# NOTE: a single marketing campaign still consists of:\n",
    "#     7 digital ads (cost per add to be input by user)\n",
    "#     3 television ads (cost per add to be input by user)\n",
    "#     6 print ads (cost per add to be input by user)\n",
    "\n",
    "# For extra practice (later) you can read through the following:\n",
    "# 3. Read and work through examples in Chapter 4 Code Reuse: Functions & Modules in Head First Python:\n",
    "# https://www.oreilly.com/library/view/head-first-python/9781491919521/ch04.html\n",
    "# you can access for free as a UM student.\n",
    "# See the U-M Library instructions https://search.lib.umich.edu/databases/record/10263\n",
    "# or visit https://www.safaribooksonline.com/library/view/temporary-access/\n",
    "# and log in with your U-M email address."
   ]
  },
  {
   "cell_type": "code",
   "execution_count": 8,
   "id": "4a049a89",
   "metadata": {},
   "outputs": [],
   "source": [
    "def CelsiusToFahrenheit():\n",
    "    #(°C ✕ 9/5) + 32 = °F\n",
    "    celsius = input(\"Enter a temperature in degrees Celsius: \")\n",
    "    print(int(celsius) * 9 / 5 + 32)"
   ]
  },
  {
   "cell_type": "code",
   "execution_count": 7,
   "id": "0b28398d",
   "metadata": {},
   "outputs": [
    {
     "name": "stdout",
     "output_type": "stream",
     "text": [
      "Enter a temperature in degrees Celsius0\n",
      "32.0\n"
     ]
    }
   ],
   "source": [
    "CelsiusToFahrenheit()"
   ]
  },
  {
   "cell_type": "code",
   "execution_count": 3,
   "id": "72b8d280",
   "metadata": {},
   "outputs": [
    {
     "name": "stdout",
     "output_type": "stream",
     "text": [
      "212.0\n"
     ]
    }
   ],
   "source": [
    "CelsiusToFahrenheit(100)"
   ]
  },
  {
   "cell_type": "code",
   "execution_count": null,
   "id": "1fc9a5bc",
   "metadata": {},
   "outputs": [],
   "source": []
  }
 ],
 "metadata": {
  "kernelspec": {
   "display_name": "Python 3",
   "language": "python",
   "name": "python3"
  },
  "language_info": {
   "codemirror_mode": {
    "name": "ipython",
    "version": 3
   },
   "file_extension": ".py",
   "mimetype": "text/x-python",
   "name": "python",
   "nbconvert_exporter": "python",
   "pygments_lexer": "ipython3",
   "version": "3.8.8"
  }
 },
 "nbformat": 4,
 "nbformat_minor": 5
}
