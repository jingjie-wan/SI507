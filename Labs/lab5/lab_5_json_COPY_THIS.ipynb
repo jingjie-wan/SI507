{
 "cells": [
  {
   "cell_type": "markdown",
   "metadata": {
    "id": "ar77uUadxuoH"
   },
   "source": [
    "1. Convert the following dictionary into JSON format."
   ]
  },
  {
   "cell_type": "code",
   "execution_count": 2,
   "metadata": {
    "executionInfo": {
     "elapsed": 143,
     "status": "ok",
     "timestamp": 1664298737206,
     "user": {
      "displayName": "Patrick Lukowicz",
      "userId": "11547346153454352966"
     },
     "user_tz": 240
    },
    "id": "RUZ0WJNEzepC"
   },
   "outputs": [
    {
     "name": "stdout",
     "output_type": "stream",
     "text": [
      "{\"key1\": \"value1\", \"key2\": \"value2\"}\n"
     ]
    }
   ],
   "source": [
    "import json\n",
    "data = {\"key1\": \"value1\", \"key2\": \"value2\"}\n",
    "dataJson = json.dumps(data)\n",
    "print(dataJson)\n",
    "### your code here\n"
   ]
  },
  {
   "cell_type": "markdown",
   "metadata": {
    "id": "JAv3HbmVzlOW"
   },
   "source": [
    "2. Access the value of `key2` form the following JSON:"
   ]
  },
  {
   "cell_type": "code",
   "execution_count": 8,
   "metadata": {
    "executionInfo": {
     "elapsed": 16,
     "status": "ok",
     "timestamp": 1664298737470,
     "user": {
      "displayName": "Patrick Lukowicz",
      "userId": "11547346153454352966"
     },
     "user_tz": 240
    },
    "id": "E5sBdmb_zuyP"
   },
   "outputs": [
    {
     "data": {
      "text/plain": [
       "'value2'"
      ]
     },
     "execution_count": 8,
     "metadata": {},
     "output_type": "execute_result"
    }
   ],
   "source": [
    "import json\n",
    "sampleJson = \"\"\"{\"key1\": \"value1\", \"key2\": \"value2\"}\"\"\"\n",
    "sample = json.loads(sampleJson)\n",
    "sample['key2']\n",
    "### your code here\n"
   ]
  },
  {
   "cell_type": "markdown",
   "metadata": {
    "id": "Ma55gTMJz5RH"
   },
   "source": [
    "3. Access the value of the nested key 'salary' from the following JSON:"
   ]
  },
  {
   "cell_type": "code",
   "execution_count": 24,
   "metadata": {
    "executionInfo": {
     "elapsed": 16,
     "status": "ok",
     "timestamp": 1664298737472,
     "user": {
      "displayName": "Patrick Lukowicz",
      "userId": "11547346153454352966"
     },
     "user_tz": 240
    },
    "id": "NwZLlePdz4X5"
   },
   "outputs": [
    {
     "data": {
      "text/plain": [
       "7000"
      ]
     },
     "execution_count": 24,
     "metadata": {},
     "output_type": "execute_result"
    }
   ],
   "source": [
    "import json\n",
    "sampleJson = \"\"\"{\n",
    "  \"company\":{\n",
    "    \"employee\":{\n",
    "      \"name\":\"emma\",\n",
    "      \"payable\":{\n",
    "        \"salary\":7000,\n",
    "        \"bonus\":800\n",
    "      }\n",
    "    }\n",
    "  }\n",
    "}\"\"\"\n",
    "sample = json.loads(sampleJson)\n",
    "sample['company']['employee']['payable']['salary']\n",
    "### your code here\n"
   ]
  },
  {
   "cell_type": "markdown",
   "metadata": {
    "id": "K0kXswRS1Oyn"
   },
   "source": [
    "4. Sort the following data in alphabetical order of keys and convert them to a JSON string. You may want to look up how to do this!"
   ]
  },
  {
   "cell_type": "code",
   "execution_count": 22,
   "metadata": {
    "executionInfo": {
     "elapsed": 267,
     "status": "ok",
     "timestamp": 1664298737725,
     "user": {
      "displayName": "Patrick Lukowicz",
      "userId": "11547346153454352966"
     },
     "user_tz": 240
    },
    "id": "ZqtyBUIt1fWI"
   },
   "outputs": [
    {
     "data": {
      "text/plain": [
       "'{\"age\": 29, \"id\": 1, \"name\": \"value2\"}'"
      ]
     },
     "execution_count": 22,
     "metadata": {},
     "output_type": "execute_result"
    }
   ],
   "source": [
    "import json\n",
    "sampleJson = {\"id\": 1, \"name\": \"value2\", \"age\": 29}\n",
    "sample = json.dumps(sampleJson, sort_keys = True)\n",
    "### your code here\n",
    "sample"
   ]
  },
  {
   "cell_type": "markdown",
   "metadata": {
    "id": "2Er12oP329mt"
   },
   "source": [
    "5. Convert the following vehicle object into a JSON string. You may need to look up how to do this with a class object."
   ]
  },
  {
   "cell_type": "code",
   "execution_count": 27,
   "metadata": {
    "executionInfo": {
     "elapsed": 14,
     "status": "ok",
     "timestamp": 1664298737728,
     "user": {
      "displayName": "Patrick Lukowicz",
      "userId": "11547346153454352966"
     },
     "user_tz": 240
    },
    "id": "bUEgG6c53KQ7"
   },
   "outputs": [],
   "source": [
    "import json\n",
    "\n",
    "class Vehicle:\n",
    "    def __init__(self, name, engine, price):\n",
    "        self.name = name\n",
    "        self.engine = engine\n",
    "        self.price = price\n",
    "\n",
    "vehicle = Vehicle('Toyota Rav4', '2.5L', 32000)\n",
    "\n",
    "\n",
    "### your code here\n"
   ]
  },
  {
   "cell_type": "code",
   "execution_count": 45,
   "metadata": {},
   "outputs": [
    {
     "data": {
      "text/plain": [
       "{'name': 'Toyota Rav4', 'engine': '2.5L', 'price': 32000}"
      ]
     },
     "execution_count": 45,
     "metadata": {},
     "output_type": "execute_result"
    }
   ],
   "source": [
    "from json import JSONEncoder\n",
    "class VehicleEncoder(JSONEncoder):\n",
    "        def encode(self, o):\n",
    "            return o.__dict__\n",
    "vehicleJson = json.dumps(vehicle, cls=VehicleEncoder)\n",
    "vehicleJson"
   ]
  },
  {
   "cell_type": "code",
   "execution_count": 33,
   "metadata": {},
   "outputs": [
    {
     "data": {
      "text/plain": [
       "['__class__',\n",
       " '__delattr__',\n",
       " '__dict__',\n",
       " '__dir__',\n",
       " '__doc__',\n",
       " '__eq__',\n",
       " '__format__',\n",
       " '__ge__',\n",
       " '__getattribute__',\n",
       " '__gt__',\n",
       " '__hash__',\n",
       " '__init__',\n",
       " '__init_subclass__',\n",
       " '__le__',\n",
       " '__lt__',\n",
       " '__module__',\n",
       " '__ne__',\n",
       " '__new__',\n",
       " '__reduce__',\n",
       " '__reduce_ex__',\n",
       " '__repr__',\n",
       " '__setattr__',\n",
       " '__sizeof__',\n",
       " '__str__',\n",
       " '__subclasshook__',\n",
       " '__weakref__',\n",
       " 'default',\n",
       " 'encode',\n",
       " 'item_separator',\n",
       " 'iterencode',\n",
       " 'key_separator']"
      ]
     },
     "execution_count": 33,
     "metadata": {},
     "output_type": "execute_result"
    }
   ],
   "source": [
    "dir(JSONEncoder)"
   ]
  }
 ],
 "metadata": {
  "colab": {
   "collapsed_sections": [],
   "provenance": []
  },
  "kernelspec": {
   "display_name": "Python 3 (ipykernel)",
   "language": "python",
   "name": "python3"
  },
  "language_info": {
   "codemirror_mode": {
    "name": "ipython",
    "version": 3
   },
   "file_extension": ".py",
   "mimetype": "text/x-python",
   "name": "python",
   "nbconvert_exporter": "python",
   "pygments_lexer": "ipython3",
   "version": "3.8.13"
  }
 },
 "nbformat": 4,
 "nbformat_minor": 1
}
