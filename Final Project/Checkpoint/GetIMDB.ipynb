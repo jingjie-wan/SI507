{
 "cells": [
  {
   "cell_type": "code",
   "execution_count": 1,
   "id": "8ef983ea",
   "metadata": {},
   "outputs": [],
   "source": [
    "from bs4 import BeautifulSoup\n",
    "import requests\n",
    "import re\n",
    "import pandas as pd\n",
    "import json"
   ]
  },
  {
   "cell_type": "code",
   "execution_count": 2,
   "id": "64858653",
   "metadata": {},
   "outputs": [],
   "source": [
    "def get_imdb():\n",
    "    try:\n",
    "        with open('imdb_cache.html', 'rb') as f:\n",
    "            read = f.read()\n",
    "    except:\n",
    "        url = 'http://www.imdb.com/chart/top'\n",
    "        response = requests.get(url)\n",
    "        read = response.text\n",
    "        with open('imdb_cache.html', 'wb') as f:\n",
    "            f.write(response.content)\n",
    "    soup = BeautifulSoup(read, \"html.parser\")\n",
    "    return soup"
   ]
  },
  {
   "cell_type": "code",
   "execution_count": 3,
   "id": "f7781393",
   "metadata": {},
   "outputs": [],
   "source": [
    "soup = get_imdb()\n",
    "movies = soup.select('td.titleColumn')\n",
    "#IMDB_number = [i.attrs.get('href')[7:16] for i in soup.select('td.titleColumn a')]\n",
    "IMDB_number = [i.attrs.get('href').split('/')[2] for i in soup.select('td.titleColumn a')]\n",
    "crew = [i.attrs.get('title') for i in soup.select('td.titleColumn a')]\n",
    "ratings = [i.attrs.get('data-value')\n",
    "        for i in soup.select('td.posterColumn span[name=ir]')]"
   ]
  },
  {
   "cell_type": "code",
   "execution_count": 4,
   "id": "e3c00cac",
   "metadata": {},
   "outputs": [],
   "source": [
    "list = []\n",
    "for i in range(len(movies)):\n",
    "    movie_string = movies[i].get_text()\n",
    "    movie = str().join(movie_string.split()[1:])\n",
    "    movie_title = movie[:-6]\n",
    "    year = int(movie[-5:-1])\n",
    "    place = int(movie_string.split()[0][:-1])\n",
    "    data = {\"place\": place,\n",
    "            \"IMDB_number\": IMDB_number[i], \n",
    "            \"title\": movie_title,\n",
    "            \"rating\": round(float(ratings[i]), 1),\n",
    "            \"year\": year,\n",
    "            \"director\": re.search('^[^(]+', crew[i]).group()[:-1],\n",
    "            \"stars\": ', '.join([item[1:] for item in crew[i].split(',')[1:]]),\n",
    "            }\n",
    "    list.append(data)"
   ]
  },
  {
   "cell_type": "code",
   "execution_count": 5,
   "id": "bb005a52",
   "metadata": {},
   "outputs": [],
   "source": [
    "df = pd.DataFrame(list)\n",
    "#df.to_csv('imdb_top_250_movies.csv',index=False)"
   ]
  },
  {
   "cell_type": "code",
   "execution_count": 6,
   "id": "1e788b94",
   "metadata": {},
   "outputs": [],
   "source": [
    "def get_omdb():\n",
    "    try:\n",
    "        with open(\"omdb_cache.json\", 'r') as f:\n",
    "            cache_contents = f.read()\n",
    "            cache_dict = json.loads(cache_contents)\n",
    "    except:\n",
    "        cache_dict = {}\n",
    "        for i in range(len(df)):###\n",
    "            number = df.iloc[i]['IMDB_number']\n",
    "            response = requests.get(\"http://www.omdbapi.com/?i=\" + number + \"&apikey=2a48f97e\")\n",
    "            json_str = response.text\n",
    "            json_dict = json.loads(json_str)\n",
    "            cache_dict[number] = json_dict\n",
    "        with open(\"omdb_cache.json\", 'w') as f:\n",
    "            dumped_json_cache = json.dumps(cache_dict)\n",
    "            f.write(dumped_json_cache)\n",
    "    return cache_dict"
   ]
  },
  {
   "cell_type": "code",
   "execution_count": 7,
   "id": "c7426977",
   "metadata": {},
   "outputs": [],
   "source": [
    "omdb_dict = get_omdb()"
   ]
  },
  {
   "cell_type": "code",
   "execution_count": 8,
   "id": "91ada830",
   "metadata": {},
   "outputs": [],
   "source": [
    "lst_omdb = []\n",
    "for movie in omdb_dict.values():\n",
    "    IMDB_number = movie['imdbID']\n",
    "    rated = movie['Rated'] #R, PG-13, Approved\n",
    "    if movie['Runtime'] == 'N/A':\n",
    "        runtime = None\n",
    "    else:\n",
    "        runtime = int(re.search('\\d+', movie['Runtime']).group())\n",
    "    genre = movie['Genre']\n",
    "    language = movie['Language']\n",
    "    country = movie['Country']\n",
    "    nominated_oscar = ((re.search('Nominated for \\d+ Oscars', movie['Awards']) != None) or (re.search('Won \\d+ Oscars', movie['Awards']) != None))\n",
    "    won_oscar = (re.search('Won \\d+ Oscars', movie['Awards']) != None)\n",
    "    plot = movie['Plot']\n",
    "    if movie['imdbVotes'] == 'N/A':\n",
    "        IMDB_votes = None\n",
    "    else:\n",
    "        IMDB_votes = int(str().join(movie['imdbVotes'].split(',')))\n",
    "    \n",
    "    try:\n",
    "        box_office = int(str().join(movie['BoxOffice'][1:].split(',')))\n",
    "    except:\n",
    "        box_office = None\n",
    "    #if movie['BoxOffice'] == 'N/A':\n",
    "    #    box_office = None\n",
    "    #else:\n",
    "    #    box_office = int(str().join(movie['BoxOffice'][1:].split(',')))\n",
    "    data = {\"IMDB_number\": IMDB_number,\n",
    "            \"rated\": rated, \n",
    "            \"runtime\": runtime,\n",
    "            \"genre\": genre,\n",
    "            \"language\": language,\n",
    "            \"country\": country,\n",
    "            \"nominated_oscar\": nominated_oscar,\n",
    "            \"won_oscar\": won_oscar,\n",
    "            \"IMDB_votes\": IMDB_votes,\n",
    "            \"box_office\":box_office,\n",
    "            \"plot\": plot,\n",
    "            }\n",
    "    lst_omdb.append(data)"
   ]
  },
  {
   "cell_type": "code",
   "execution_count": 9,
   "id": "0ca5bff4",
   "metadata": {},
   "outputs": [],
   "source": [
    "df_omdb = pd.DataFrame(lst_omdb)"
   ]
  },
  {
   "cell_type": "code",
   "execution_count": 10,
   "id": "bc281644",
   "metadata": {},
   "outputs": [],
   "source": [
    "merge = df.merge(df_omdb, on = 'IMDB_number')"
   ]
  },
  {
   "cell_type": "code",
   "execution_count": 11,
   "id": "7b69dc4b",
   "metadata": {},
   "outputs": [],
   "source": [
    "merge.to_csv('collected_data.csv')"
   ]
  }
 ],
 "metadata": {
  "kernelspec": {
   "display_name": "Python 3 (ipykernel)",
   "language": "python",
   "name": "python3"
  },
  "language_info": {
   "codemirror_mode": {
    "name": "ipython",
    "version": 3
   },
   "file_extension": ".py",
   "mimetype": "text/x-python",
   "name": "python",
   "nbconvert_exporter": "python",
   "pygments_lexer": "ipython3",
   "version": "3.8.13"
  }
 },
 "nbformat": 4,
 "nbformat_minor": 5
}
