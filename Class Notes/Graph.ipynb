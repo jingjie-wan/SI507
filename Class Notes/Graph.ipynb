{
 "cells": [
  {
   "cell_type": "code",
   "execution_count": 3,
   "id": "307b25a9",
   "metadata": {},
   "outputs": [],
   "source": [
    "class Vertex:\n",
    "    def __init__(self, key):\n",
    "        self.id = key\n",
    "        self.connectedTo = {}\n",
    "    def addNeighbor(self, nbr, weight=0):\n",
    "        self.connectedTo[nbr] = weight\n",
    "    def getId(self):\n",
    "        return self.id\n",
    "    def getWeight(self, nbr):\n",
    "        return self.connectedTo[nbr]\n",
    "    def getConnections(self):\n",
    "        return self.connectedTo.keys()\n",
    "    def __str__(self):\n",
    "        return str(self.id) + 'is connected to' + str([(x.id, x.weight) for x in self.connectedTo])"
   ]
  },
  {
   "cell_type": "code",
   "execution_count": 5,
   "id": "e9b0c532",
   "metadata": {},
   "outputs": [],
   "source": [
    "class Graph:\n",
    "    def __init__(self):\n",
    "        self.vertList = {}\n",
    "        self.numVertices = 0\n",
    "    def addVertex(self, key):\n",
    "        self.numVertices = self.numVertices + 1\n",
    "        newVertex = Vertex(key)\n",
    "        self.vertList[key] = newVertex\n",
    "        return newVertex\n",
    "    def getVertex(self, n):\n",
    "        if n in self.vertList:\n",
    "            return self.vertList[n]\n",
    "        else:\n",
    "            return None\n",
    "        \n",
    "    #def contains\n",
    "    def __iter__(self):\n",
    "        return iter(self.vertList.values())"
   ]
  },
  {
   "cell_type": "code",
   "execution_count": 9,
   "id": "42eb249c",
   "metadata": {},
   "outputs": [
    {
     "name": "stdout",
     "output_type": "stream",
     "text": [
      "0is connected to[]\n",
      "1is connected to[]\n",
      "2is connected to[]\n",
      "3is connected to[]\n",
      "4is connected to[]\n"
     ]
    }
   ],
   "source": [
    "g = Graph()\n",
    "for i in range(5):\n",
    "    g.addVertex(i)\n",
    "    print(g.vertList[i])\n"
   ]
  },
  {
   "cell_type": "code",
   "execution_count": null,
   "id": "200cb32f",
   "metadata": {},
   "outputs": [],
   "source": []
  }
 ],
 "metadata": {
  "kernelspec": {
   "display_name": "Python 3.9.7 64-bit",
   "language": "python",
   "name": "python3"
  },
  "language_info": {
   "codemirror_mode": {
    "name": "ipython",
    "version": 3
   },
   "file_extension": ".py",
   "mimetype": "text/x-python",
   "name": "python",
   "nbconvert_exporter": "python",
   "pygments_lexer": "ipython3",
   "version": "3.9.7"
  },
  "vscode": {
   "interpreter": {
    "hash": "7a08528582f853724fc93c4f812e566cdd9488c17622c4c4e7d2493c4c9bb764"
   }
  }
 },
 "nbformat": 4,
 "nbformat_minor": 5
}
