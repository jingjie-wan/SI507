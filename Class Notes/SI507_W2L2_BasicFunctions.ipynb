{
 "cells": [
  {
   "cell_type": "markdown",
   "metadata": {
    "colab_type": "text",
    "id": "KaYbKjy4WKZ4"
   },
   "source": [
    "# **Welcome to SI 507 Week 2 Lesson 2: Basic Functions.**\n",
    "\n",
    "# https://tinyurl.com/y6mblg8s \n",
    "\n",
    "Why do programmers use functions?\n",
    "\n",
    "![picture](https://drive.google.com/uc?export=view&id=1ZpjDQOJy1sB3gjD2DqoadVN8ghWREfwn)\n",
    "\n",
    "Functions make your programs more **readable**, by hiding **complexity**. The **reusability** of functions lets you efficiently complete, repeated tasks. \n",
    "\n",
    "Functions fulfill the programming edict of 'Dont Repeat Yourself' (DRY).\n",
    "\n",
    "**DRY** code is preferable to **WET** (Write Every Time) code. \n",
    "\n",
    "Using functions prevents typo errors.\n",
    "\n",
    "Let's look at some examples to illustrate this concept.\n",
    "\n",
    "\n",
    "\n",
    "**Best Practice: before executing the code, pause the video and make a prediction about what you think will happen. Doing this will engage metacognition and let you make deeper insights**\n"
   ]
  },
  {
   "cell_type": "code",
   "execution_count": 1,
   "metadata": {
    "colab": {},
    "colab_type": "code",
    "id": "7Q40oN1U6aD2"
   },
   "outputs": [
    {
     "name": "stdout",
     "output_type": "stream",
     "text": [
      "{'last_name': 'R', 'first_name': 'Keisha', 'uniqname': 'RKeisha'}\n"
     ]
    }
   ],
   "source": [
    "## Before hitting run make a prediction about the output!\n",
    "SalesPeople = {\n",
    "    '1001': {'last_name': 'C', 'first_name': 'Alan', 'uniqname': 'AlanC'},\n",
    "    '1002': {'last_name': 'R', 'first_name': 'Keisha', 'uniqname': 'RKeisha'},\n",
    "    '1003': {'last_name': 'W', 'first_name': 'Tanya', 'uniqname': 'WTanya'},\n",
    "    '1004': {'last_name': 'D', 'first_name': 'Henry', 'uniqname': 'DHenry'}\n",
    "}\n",
    "sales = {\n",
    "    '1001': [190, 188, 175, 195],   \n",
    "    '1002': [192, 199, 288, 140],\n",
    "    '1003': [195, 188, 182, 110],\n",
    "    '1004': [99, 292, 94, 298]\n",
    "}\n",
    "\n",
    "'''\n",
    "many lines in between\n",
    "'''  \n",
    "\n",
    "max = 0\n",
    "max_id = -1\n",
    "for id in sales:\n",
    "    sum = 0\n",
    "    num_sales = 0\n",
    "    for s in sales[id]:\n",
    "        sum = sum + s\n",
    "        num_sales += 1\n",
    "    avg = sum/num_sales\n",
    "    if avg > max:\n",
    "        max = avg\n",
    "        max_id = id\n",
    "print(SalesPeople[max_id])"
   ]
  },
  {
   "cell_type": "markdown",
   "metadata": {
    "colab_type": "text",
    "id": "dTMxhfHX76nI"
   },
   "source": [
    "You can figure out the above code with some careful attention. But its not hard to imagine that if it was many lines longer you wouldn't be able to tell what it is.\n",
    "\n",
    "Now imagine instead there was just the following two lines:\n",
    "```\n",
    "top_salesperson = find_salesperson_with_highest_weekly_sales_average(SalesPeople, sales)\n",
    "print(top_salesperson)\n",
    "```\n",
    "\n",
    "that's much more interpretable, but does it run?\n",
    "\n",
    "Only if this accompanies it:\n",
    "```\n",
    "def find_salesperson_with_highest_weekly_sales_average(SalesPeople, sales):\n",
    "  max = 0\n",
    "  max_id = -1\n",
    "  for id in sales:\n",
    "    sum = 0\n",
    "    num_sales = 0\n",
    "    for s in sales[id]:\n",
    "        sum = sum + s\n",
    "        num_sales += 1\n",
    "    avg = sum/num_sales\n",
    "    if avg > max:\n",
    "        max = avg\n",
    "        max_id = id\n",
    "  return SalesPeople[max_id]\n",
    "\n",
    "```\n",
    "The complexity isn't erased - its just hidden.\n",
    "\n"
   ]
  },
  {
   "cell_type": "markdown",
   "metadata": {
    "colab_type": "text",
    "id": "pCK4EDNl9lJn"
   },
   "source": [
    "When you use multiple functions in a short space, the readability becomes much much better than compared to WET code. \n",
    "\n",
    "```\n",
    "top_salesperson = find_salesperson_with_highest_weekly_sales_average(SalesPeople, sales)\n",
    "send_email(top_salesperson['uniqname'] + '@widgets4sale.com', \"Great Job!\")\n",
    "```"
   ]
  },
  {
   "cell_type": "markdown",
   "metadata": {
    "colab_type": "text",
    "id": "BmtAgedV-sTX"
   },
   "source": [
    "## Reusability\n",
    "Run the code in the following cell. Make a prediction and look at the output"
   ]
  },
  {
   "cell_type": "code",
   "execution_count": 3,
   "metadata": {
    "colab": {},
    "colab_type": "code",
    "id": "Oe8w87Ij-3hM"
   },
   "outputs": [
    {
     "name": "stdout",
     "output_type": "stream",
     "text": [
      "The top salesperson is Keisha R\n",
      "Alan C has 187.0\n",
      "Keisha R has 204.75\n",
      "Tanya W has 168.75\n",
      "Henry D has 195.75\n"
     ]
    }
   ],
   "source": [
    "SalesPeople = {\n",
    "    '1001': {'last_name': 'C', 'first_name': 'Alan', 'uniqname': 'AlanC'},\n",
    "    '1002': {'last_name': 'R', 'first_name': 'Keisha', 'uniqname': 'RKeisha'},\n",
    "    '1003': {'last_name': 'W', 'first_name': 'Tanya', 'uniqname': 'WTanya'},\n",
    "    '1004': {'last_name': 'D', 'first_name': 'Henry', 'uniqname': 'DHenry'}\n",
    "}\n",
    "sales = {\n",
    "    '1001': [190, 188, 175, 195],   \n",
    "    '1002': [192, 199, 288, 140],\n",
    "    '1003': [195, 188, 182, 110],\n",
    "    '1004': [99, 292, 94, 298]\n",
    "}\n",
    "\n",
    "def find_salesperson_with_highest_average(SalesPeople, sales):\n",
    "    max = 0\n",
    "    max_id = -1\n",
    "    for id in sales:\n",
    "        sum = 0\n",
    "        num_sales = 0\n",
    "        for s in sales[id]:\n",
    "            sum += s\n",
    "            num_sales += 1\n",
    "        avg = sum/num_sales\n",
    "        if avg > max:\n",
    "            max = avg\n",
    "            max_id = id\n",
    "    return SalesPeople[max_id]\n",
    "\n",
    "def compute_final_sales(sales):\n",
    "    salesperson_sales = {}\n",
    "    for id in sales:\n",
    "        sum = 0\n",
    "        num_sales = 0\n",
    "        for s in sales[id]:\n",
    "            sum += s\n",
    "            num_sales += 1\n",
    "        salesperson_sales[id] = sum/num_sales\n",
    "    return salesperson_sales\n",
    "\n",
    "def print_final_sales(SalesPeople, final_sales):\n",
    "    for id in final_sales:\n",
    "        salesperson = SalesPeople[id]\n",
    "        print(salesperson['first_name'], salesperson['last_name'], 'has', final_sales[id])\n",
    "\n",
    "top_salesperson = find_salesperson_with_highest_average(SalesPeople, sales)\n",
    "print(\"The top salesperson is\", top_salesperson['first_name'], top_salesperson['last_name'])\n",
    "\n",
    "final_sales = compute_final_sales(sales)\n",
    "print_final_sales(SalesPeople, final_sales)"
   ]
  },
  {
   "cell_type": "markdown",
   "metadata": {
    "colab_type": "text",
    "id": "Y9rudzTK__Z6"
   },
   "source": [
    "Now look at the code, you will see that it’s a completed version of the program we’ve been looking at so far, with two new functions `compute_final_sales()`  and `print_final_sales()`. Look at these and try to figure out what they do.\n",
    "\n",
    "\n",
    "This program can be simplified. There is some repeated code in it. Identify the repeated code and convert it into a function to make the program simpler. This may take a substantial amount of time pause the video and work on it. If you are stuck. Explain where you're stuck and post a comment in the slack in the lecture channel. Myself or one of your peers will respond."
   ]
  },
  {
   "cell_type": "code",
   "execution_count": 5,
   "metadata": {
    "colab": {},
    "colab_type": "code",
    "id": "nGCRDPiIBA0W"
   },
   "outputs": [
    {
     "name": "stdout",
     "output_type": "stream",
     "text": [
      "The top salesperson is Keisha R\n",
      "Alan C has 187.0\n",
      "Keisha R has 204.75\n",
      "Tanya W has 168.75\n",
      "Henry D has 195.75\n"
     ]
    }
   ],
   "source": [
    "### Refactored Code\n",
    "\n",
    "SalesPeople = {\n",
    "    '1001': {'last_name': 'C', 'first_name': 'Alan', 'uniqname': 'AlanC'},\n",
    "    '1002': {'last_name': 'R', 'first_name': 'Keisha', 'uniqname': 'RKeisha'},\n",
    "    '1003': {'last_name': 'W', 'first_name': 'Tanya', 'uniqname': 'WTanya'},\n",
    "    '1004': {'last_name': 'D', 'first_name': 'Henry', 'uniqname': 'DHenry'}\n",
    "}\n",
    "sales = {\n",
    "    '1001': [190, 188, 175, 195],   \n",
    "    '1002': [192, 199, 288, 140],\n",
    "    '1003': [195, 188, 182, 110],\n",
    "    '1004': [99, 292, 94, 298]\n",
    "}\n",
    "\n",
    "def compute_average(num_list):\n",
    "    sum = 0\n",
    "    num_items = 0\n",
    "    for n in num_list:\n",
    "        sum += n\n",
    "        num_items += 1\n",
    "    return sum/num_items\n",
    "\n",
    "def find_salesperson_with_highest_average(SalesPeople, sales):\n",
    "    max = 0\n",
    "    max_id = -1\n",
    "    for id in sales:\n",
    "        avg = compute_average(sales[id])\n",
    "        if avg > max:\n",
    "            max = avg\n",
    "            max_id = id\n",
    "    return SalesPeople[max_id]\n",
    "\n",
    "def compute_final_sales(sales):\n",
    "    salesperson_sales = {}\n",
    "    for id in sales:\n",
    "        salesperson_sales[id] = compute_average(sales[id])\n",
    "    return salesperson_sales\n",
    "\n",
    "def print_final_sales(SalesPeople, final_sales):\n",
    "    for id in final_sales:\n",
    "        salesperson = SalesPeople[id]\n",
    "        print(salesperson['first_name'], salesperson['last_name'], 'has', final_sales[id])\n",
    "\n",
    "top_salesperson = find_salesperson_with_highest_average(SalesPeople, sales)\n",
    "print(\"The top salesperson is\", top_salesperson['first_name'], top_salesperson['last_name'])\n",
    "\n",
    "final_sales = compute_final_sales(sales)\n",
    "print_final_sales(SalesPeople, final_sales)"
   ]
  },
  {
   "cell_type": "markdown",
   "metadata": {
    "colab_type": "text",
    "id": "INoauKWXBaqs"
   },
   "source": [
    "**Refactoring** is *rewriting a program so that the structure of the code changes but the functionality does not.*"
   ]
  },
  {
   "cell_type": "markdown",
   "metadata": {
    "colab_type": "text",
    "id": "Nqs2iGuW6Xys"
   },
   "source": [
    "### **Review Basics of Functions**\n",
    "![picture](https://drive.google.com/uc?export=view&id=1pfA5WOqR-wFUCqXCFNI4zsoFdnJq_XQs)\n"
   ]
  },
  {
   "cell_type": "markdown",
   "metadata": {
    "colab_type": "text",
    "id": "2k9dKYomGNbM"
   },
   "source": [
    "**The syntax of a function**\n",
    "\n",
    "```\n",
    "def function_name(argument1, argument2):\n",
    "  \"\"\"docstring \n",
    "     docstring \"\"\"\n",
    "  indented statement\n",
    "  indented statement\n",
    "  return value\n",
    "```\n",
    "*  `def` is: keyword\n",
    "*  `function_name` is: function name \n",
    "*  `argument1` & `argument2` are the arguments and they are *positional*\n",
    "*  `       `indentation defines the body of the function that is executed whenever the function is called\n",
    "*  `\"\"\"docstring\"\"\"` is an explanation of what the function does. It has a specified syntax which we will discuss in depth!\n",
    "*  `value` is the data that the `return` keyword sends back to the program when a function is called. \n",
    "\n"
   ]
  },
  {
   "cell_type": "markdown",
   "metadata": {
    "colab_type": "text",
    "id": "jHpjjHGNJbPX"
   },
   "source": [
    "**Scope**\n",
    "\n",
    "All variables in a program may not be accessible at all locations in that program. This depends on where you have declared a variable.\n",
    "The **scope** of a variable determines the portion of the program where you can access a particular identifier. \n",
    "\n",
    "There are two basic scopes of variables in Python:\n",
    "*  Global variables\n",
    "*  Local variables\n",
    "\n",
    "*Global vs. Local variables*\n",
    "Variables that are defined inside a function body have a local scope, and those defined outside have a global scope.\n",
    "This means that local variables can be accessed only inside the function in which they are declared whereas global variables can be accessed throughout the program body by all functions. When you call a function, the variables declared inside it are brought into scope.\n",
    "\n",
    "Test your understanding by working through the following examples. "
   ]
  },
  {
   "cell_type": "code",
   "execution_count": 6,
   "metadata": {
    "colab": {},
    "colab_type": "code",
    "id": "0dAybaqTQ32b"
   },
   "outputs": [
    {
     "name": "stdout",
     "output_type": "stream",
     "text": [
      "inside function 66\n",
      "outside function 66\n"
     ]
    }
   ],
   "source": [
    "var1 = 66 # global scope\n",
    "def func1():\n",
    "    print(\"inside function\", var1) # global name is valid inside the function\n",
    "func1()\n",
    "print(\"outside function\", var1) # global name is valid outside the function"
   ]
  },
  {
   "cell_type": "code",
   "execution_count": 7,
   "metadata": {
    "colab": {},
    "colab_type": "code",
    "id": "h6qONb8naReL"
   },
   "outputs": [
    {
     "name": "stdout",
     "output_type": "stream",
     "text": [
      "inside function 88\n",
      "outside function 77\n"
     ]
    }
   ],
   "source": [
    "### Test your knowledge: Global vs Local\n",
    "var2 = 77 # global scope\n",
    "def func2():\n",
    "    var2 = 88 # local name overrides global\n",
    "    \n",
    "    print(\"inside function\", var2) \n",
    "func2()  # What do you think will print here, 88 or 77?\n",
    "print(\"outside function\", var2) # What do you think will print here, 88 or 77?"
   ]
  },
  {
   "cell_type": "code",
   "execution_count": 8,
   "metadata": {
    "colab": {},
    "colab_type": "code",
    "id": "UxM4dxeRarkW",
    "scrolled": true
   },
   "outputs": [
    {
     "name": "stdout",
     "output_type": "stream",
     "text": [
      "inside function 99\n"
     ]
    },
    {
     "ename": "NameError",
     "evalue": "name 'var3' is not defined",
     "output_type": "error",
     "traceback": [
      "\u001b[1;31m---------------------------------------------------------------------------\u001b[0m",
      "\u001b[1;31mNameError\u001b[0m                                 Traceback (most recent call last)",
      "\u001b[1;32m<ipython-input-8-8e6b786cfdd5>\u001b[0m in \u001b[0;36m<module>\u001b[1;34m\u001b[0m\n\u001b[0;32m      4\u001b[0m     \u001b[0mprint\u001b[0m\u001b[1;33m(\u001b[0m\u001b[1;34m\"inside function\"\u001b[0m\u001b[1;33m,\u001b[0m \u001b[0mvar3\u001b[0m\u001b[1;33m)\u001b[0m\u001b[1;33m\u001b[0m\u001b[1;33m\u001b[0m\u001b[0m\n\u001b[0;32m      5\u001b[0m \u001b[0mfunc3\u001b[0m\u001b[1;33m(\u001b[0m\u001b[1;33m)\u001b[0m \u001b[1;31m#what do you think prints here?\u001b[0m\u001b[1;33m\u001b[0m\u001b[1;33m\u001b[0m\u001b[0m\n\u001b[1;32m----> 6\u001b[1;33m \u001b[0mprint\u001b[0m\u001b[1;33m(\u001b[0m\u001b[1;34m\"outside function\"\u001b[0m\u001b[1;33m,\u001b[0m \u001b[0mvar3\u001b[0m\u001b[1;33m)\u001b[0m \u001b[1;31m#what do you think prints here?\u001b[0m\u001b[1;33m\u001b[0m\u001b[1;33m\u001b[0m\u001b[0m\n\u001b[0m",
      "\u001b[1;31mNameError\u001b[0m: name 'var3' is not defined"
     ]
    }
   ],
   "source": [
    "#Test your knowledge Global vs Local\n",
    "def func3():\n",
    "    var3 = 99 # local name overrides global\n",
    "    print(\"inside function\", var3) \n",
    "func3() #what do you think prints here?\n",
    "print(\"outside function\", var3) #what do you think prints here?"
   ]
  },
  {
   "cell_type": "code",
   "execution_count": 9,
   "metadata": {
    "colab": {},
    "colab_type": "code",
    "id": "bv6yMcejcUMh"
   },
   "outputs": [
    {
     "name": "stdout",
     "output_type": "stream",
     "text": [
      "inside function A 111\n",
      "inside function B 222\n",
      "outside function 111\n"
     ]
    }
   ],
   "source": [
    "def func4(param1):\n",
    "    print(\"inside function A\", param1) \n",
    "    param1 = 222\n",
    "    print(\"inside function B\", param1) \n",
    "var4  = 111\n",
    "func4(var4)  ### two print statements are called here. What values will print?\n",
    "print(\"outside function\", var4) # What value is going to print here?"
   ]
  },
  {
   "cell_type": "code",
   "execution_count": 10,
   "metadata": {
    "colab": {},
    "colab_type": "code",
    "id": "XfPDY0gWa2GO"
   },
   "outputs": [
    {
     "name": "stdout",
     "output_type": "stream",
     "text": [
      "inside function A 111\n",
      "inside function B 222\n",
      "outside function 111\n"
     ]
    }
   ],
   "source": [
    "####\n",
    "#### func5 is constructed differently than func4.\n",
    "#### \n",
    "def func5(var5):\n",
    "    print(\"inside function A\", var5) \n",
    "    var5 = 222\n",
    "    print(\"inside function B\", var5) #### what will function B print?  isnt var5 a global variable?\n",
    "var5  = 111\n",
    "func5(var5)  \n",
    "print(\"outside function\", var5)  ### what will this line print? isn't var 5 a global variable?\n",
    "\n",
    "\n"
   ]
  },
  {
   "cell_type": "code",
   "execution_count": 11,
   "metadata": {
    "colab": {},
    "colab_type": "code",
    "id": "AB1n9HNRc65_"
   },
   "outputs": [
    {
     "name": "stdout",
     "output_type": "stream",
     "text": [
      "hello world from func6\n",
      "hello from indent level 0\n"
     ]
    }
   ],
   "source": [
    "def func6(var6):\n",
    "    var6 += \" world\"\n",
    "    print(var6, \"from func6\") \n",
    "var6  = \"hello\"\n",
    "func6(var6)   #what do you expect to print here? \n",
    "print(var6, \"from indent level 0\")   #What do you expect to print here?"
   ]
  },
  {
   "cell_type": "markdown",
   "metadata": {
    "colab_type": "text",
    "id": "LxMolD_qOyjb"
   },
   "source": [
    "# **Mutability**\n",
    "\n",
    "Most data types in python are mutable.\n",
    "\n",
    "*Numbers, booleans, strings and tuples are immutable*"
   ]
  },
  {
   "cell_type": "code",
   "execution_count": 12,
   "metadata": {
    "colab": {},
    "colab_type": "code",
    "id": "GQI9fQPhOyK1"
   },
   "outputs": [
    {
     "name": "stdout",
     "output_type": "stream",
     "text": [
      "m\n",
      "3\n",
      "3.2626\n"
     ]
    }
   ],
   "source": [
    "### This example works intuitively\n",
    "string1 = \"I am a string\"\n",
    "print(string1[3])\n",
    "tuple1 = (1, 2, 3)\n",
    "print(tuple1[2])\n",
    "List1 = ['hat', 4, 3.2626]\n",
    "print(List1[-1])"
   ]
  },
  {
   "cell_type": "code",
   "execution_count": 15,
   "metadata": {
    "colab": {},
    "colab_type": "code",
    "id": "Zb0jxanePp7z"
   },
   "outputs": [
    {
     "name": "stdout",
     "output_type": "stream",
     "text": [
      "m\n"
     ]
    },
    {
     "ename": "TypeError",
     "evalue": "'tuple' object does not support item assignment",
     "output_type": "error",
     "traceback": [
      "\u001b[1;31m---------------------------------------------------------------------------\u001b[0m",
      "\u001b[1;31mTypeError\u001b[0m                                 Traceback (most recent call last)",
      "\u001b[1;32m<ipython-input-15-dce77aea5889>\u001b[0m in \u001b[0;36m<module>\u001b[1;34m\u001b[0m\n\u001b[0;32m      7\u001b[0m \u001b[1;33m\u001b[0m\u001b[0m\n\u001b[0;32m      8\u001b[0m \u001b[0mtuple1\u001b[0m \u001b[1;33m=\u001b[0m \u001b[1;33m(\u001b[0m\u001b[1;36m1\u001b[0m\u001b[1;33m,\u001b[0m \u001b[1;36m2\u001b[0m\u001b[1;33m,\u001b[0m \u001b[1;36m3\u001b[0m\u001b[1;33m)\u001b[0m\u001b[1;33m\u001b[0m\u001b[1;33m\u001b[0m\u001b[0m\n\u001b[1;32m----> 9\u001b[1;33m \u001b[0mtuple1\u001b[0m\u001b[1;33m[\u001b[0m\u001b[1;36m2\u001b[0m\u001b[1;33m]\u001b[0m \u001b[1;33m=\u001b[0m \u001b[1;36m4\u001b[0m\u001b[1;33m\u001b[0m\u001b[1;33m\u001b[0m\u001b[0m\n\u001b[0m\u001b[0;32m     10\u001b[0m \u001b[0mprint\u001b[0m\u001b[1;33m(\u001b[0m\u001b[0mtuple1\u001b[0m\u001b[1;33m[\u001b[0m\u001b[1;36m2\u001b[0m\u001b[1;33m]\u001b[0m\u001b[1;33m)\u001b[0m\u001b[1;33m\u001b[0m\u001b[1;33m\u001b[0m\u001b[0m\n\u001b[0;32m     11\u001b[0m \u001b[1;33m\u001b[0m\u001b[0m\n",
      "\u001b[1;31mTypeError\u001b[0m: 'tuple' object does not support item assignment"
     ]
    }
   ],
   "source": [
    "####\n",
    "#### Two of the not work....Why not?\n",
    "####\n",
    "string1 = \"I am a string\"\n",
    "#string1[3] = \"n\"\n",
    "print(string1[3])\n",
    "\n",
    "tuple1 = (1, 2, 3)\n",
    "#tuple1[2] = 4\n",
    "print(tuple1[2])\n",
    "\n",
    "List1 = ['hat', 4, 3.2626]\n",
    "List1[-1] = 'temecula'\n",
    "print(List1[-1])"
   ]
  },
  {
   "cell_type": "markdown",
   "metadata": {
    "colab_type": "text",
    "id": "FmO3QD-sP9Sf"
   },
   "source": [
    "Lists are mutable, tuples and strings which are handled verys similarly - are not.\n",
    "\n",
    "String.functions therefore return *new* strings."
   ]
  },
  {
   "cell_type": "code",
   "execution_count": 16,
   "metadata": {
    "colab": {},
    "colab_type": "code",
    "id": "BzX-mDaHPssh"
   },
   "outputs": [
    {
     "name": "stdout",
     "output_type": "stream",
     "text": [
      "hello HELLO\n"
     ]
    }
   ],
   "source": [
    "s1 = \"hello\"\n",
    "s2 = s1.upper()\n",
    "print(s1, s2)"
   ]
  },
  {
   "cell_type": "markdown",
   "metadata": {
    "colab_type": "text",
    "id": "SrJXmemIRg-_"
   },
   "source": [
    "The mutability of variables has important consequences for what happens to arguments during functions. Let's look at some simple examples."
   ]
  },
  {
   "cell_type": "code",
   "execution_count": 17,
   "metadata": {
    "colab": {},
    "colab_type": "code",
    "id": "C1CRYiLnR6nW"
   },
   "outputs": [
    {
     "name": "stdout",
     "output_type": "stream",
     "text": [
      "5\n",
      "5\n"
     ]
    }
   ],
   "source": [
    "x = 5\n",
    "y = x \n",
    "print(x) # prints ?\n",
    "print(y) # prints ?"
   ]
  },
  {
   "cell_type": "code",
   "execution_count": 18,
   "metadata": {
    "colab": {},
    "colab_type": "code",
    "id": "rNziAyOtR-4Z"
   },
   "outputs": [
    {
     "name": "stdout",
     "output_type": "stream",
     "text": [
      "6\n",
      "5\n"
     ]
    }
   ],
   "source": [
    "x = 6\n",
    "print(x) # prints 6\n",
    "print(y) # does this print 5 or 6?"
   ]
  },
  {
   "cell_type": "markdown",
   "metadata": {
    "colab_type": "text",
    "id": "gUf1GVELSEof"
   },
   "source": [
    "Now lets do it with strings"
   ]
  },
  {
   "cell_type": "code",
   "execution_count": 19,
   "metadata": {
    "colab": {},
    "colab_type": "code",
    "id": "GegK9zRpSGN3"
   },
   "outputs": [
    {
     "name": "stdout",
     "output_type": "stream",
     "text": [
      "hello\n",
      "hello\n",
      "world\n",
      "hello\n"
     ]
    }
   ],
   "source": [
    "s = \"hello\"\n",
    "s2 = s \n",
    "print(s) # prints \"hello\"\n",
    "print(s2) # prints \"hello\"\n",
    "s = \"world\"\n",
    "print(s) # prints \"world\"\n",
    "print(s2) # prints hello or world?"
   ]
  },
  {
   "cell_type": "markdown",
   "metadata": {
    "colab_type": "text",
    "id": "zCTn5DurSUNU"
   },
   "source": [
    "Even mutable types will have this predictable behavior -- if you don't 'mutate' them."
   ]
  },
  {
   "cell_type": "code",
   "execution_count": 20,
   "metadata": {
    "colab": {},
    "colab_type": "code",
    "id": "OMfDxVl9ST49"
   },
   "outputs": [
    {
     "name": "stdout",
     "output_type": "stream",
     "text": [
      "[1, 2, 3]\n",
      "[1, 2, 3]\n",
      "[4, 5, 6]\n",
      "[1, 2, 3]\n"
     ]
    }
   ],
   "source": [
    "a = [1, 2, 3]\n",
    "b = a\n",
    "print(a) # prints \"[1, 2, 3]\"\n",
    "print(b) # prints \"[1, 2, 3]\"\n",
    "a = [4, 5, 6]\n",
    "print(a) # prints \"[4, 5, 6]\"\n",
    "print(b) # prints ?"
   ]
  },
  {
   "cell_type": "markdown",
   "metadata": {
    "colab_type": "text",
    "id": "n1aqfAiISpI9"
   },
   "source": [
    "But things can get mutated!"
   ]
  },
  {
   "cell_type": "code",
   "execution_count": 21,
   "metadata": {
    "colab": {},
    "colab_type": "code",
    "id": "obQ4d-59Sscq"
   },
   "outputs": [
    {
     "name": "stdout",
     "output_type": "stream",
     "text": [
      "[1, 2, 3]\n",
      "[1, 2, 3]\n",
      "[1, 2, 3, 4]\n",
      "[1, 2, 3, 4]\n",
      "[1, 2, 3, 4, 5]\n",
      "[1, 2, 3, 4, 5]\n",
      "[4, 5, 6]\n",
      "[1, 2, 3, 4, 5]\n"
     ]
    }
   ],
   "source": [
    "#### this example is not intuitive -- pay attention.\n",
    "a = [1, 2, 3]\n",
    "b = a\n",
    "print(a) # prints \"[1, 2, 3]\"\n",
    "print(b) # prints \"[1, 2, 3]\"\n",
    "a.append(4)\n",
    "print(a) # what will print?\n",
    "print(b) # what will print?\n",
    "b.append(5)\n",
    "print(a) # prints \"[1, 2, 3, 4, 5]\"\n",
    "print(b) # prints \"[1, 2, 3, 4, 5]\"\n",
    "a = [4, 5, 6]\n",
    "print(a) # prints \"[4, 5, 6]\"\n",
    "print(b) # prints \"[1, 2, 3, 4, 5]\""
   ]
  },
  {
   "cell_type": "markdown",
   "metadata": {
    "colab_type": "text",
    "id": "WZqG24-sTSpi"
   },
   "source": [
    "So lets finally look at this phenomenon in the context of functions."
   ]
  },
  {
   "cell_type": "code",
   "execution_count": 24,
   "metadata": {
    "colab": {},
    "colab_type": "code",
    "id": "3chAXO1-TRvH"
   },
   "outputs": [
    {
     "name": "stdout",
     "output_type": "stream",
     "text": [
      "['a', 'b', 'c', 'd']\n"
     ]
    }
   ],
   "source": [
    "def change_it(the_list):\n",
    "    the_list.append('d')\n",
    "\n",
    "g_list = ['a', 'b', 'c']\n",
    "change_it(g_list)\n",
    "print(g_list) # prints \"['a', 'b', 'c', 'd']\""
   ]
  },
  {
   "cell_type": "code",
   "execution_count": 25,
   "metadata": {
    "colab": {},
    "colab_type": "code",
    "id": "8nW9TZRNUUBT"
   },
   "outputs": [
    {
     "name": "stdout",
     "output_type": "stream",
     "text": [
      "grapefruit\n",
      "nectarine\n",
      "plum\n"
     ]
    }
   ],
   "source": [
    "\n",
    "def dict_update(local_dict):\n",
    "    local_dict['g'] = 'grapefruit'\n",
    "    local_dict['n'] = 'nectarine'\n",
    "global_dict = {'g': 'grape', 'p': 'plum', 'o': 'orange'}\n",
    "dict_update(global_dict)\n",
    "print(global_dict['g']) #what will print?\n",
    "print(global_dict['n']) #what will print?\n",
    "print(global_dict['p'])"
   ]
  },
  {
   "cell_type": "markdown",
   "metadata": {
    "colab_type": "text",
    "id": "gj4oOqCvUpQ1"
   },
   "source": [
    "This happens because `the_list` and `local_dict` are pointers to their global counterparts - not full copies!"
   ]
  },
  {
   "cell_type": "code",
   "execution_count": 26,
   "metadata": {
    "colab": {},
    "colab_type": "code",
    "id": "W-zKMZDUUow1"
   },
   "outputs": [
    {
     "name": "stdout",
     "output_type": "stream",
     "text": [
      "1 please pick up bread\n",
      "2 please pick up bread\n",
      "3 don't forget! eggs\n",
      "4 please pick up eggs\n"
     ]
    }
   ],
   "source": [
    "\n",
    "def list_remind(message, data):\n",
    "    print('2', message, data[-1])\n",
    "    message = 'don\\'t forget!'\n",
    "    data.append('eggs')\n",
    "    print('3', message, data[-1])\n",
    "\n",
    "groceries = ['milk', 'bread']\n",
    "reminder = 'please pick up'\n",
    "print('1', reminder, groceries[-1])\n",
    "list_remind(reminder, groceries)\n",
    "print('4', reminder, groceries[-1])"
   ]
  },
  {
   "cell_type": "code",
   "execution_count": null,
   "metadata": {},
   "outputs": [],
   "source": [
    "#list makes pointers, string makes copyies."
   ]
  },
  {
   "cell_type": "code",
   "execution_count": 28,
   "metadata": {},
   "outputs": [
    {
     "data": {
      "text/plain": [
       "<function __main__.<lambda>(x, y)>"
      ]
     },
     "execution_count": 28,
     "metadata": {},
     "output_type": "execute_result"
    }
   ],
   "source": [
    "lambda x, y: x + y"
   ]
  },
  {
   "cell_type": "code",
   "execution_count": 33,
   "metadata": {},
   "outputs": [],
   "source": [
    "lst = [1, 33, 5]"
   ]
  },
  {
   "cell_type": "code",
   "execution_count": 34,
   "metadata": {},
   "outputs": [
    {
     "data": {
      "text/plain": [
       "[1, 5, 33]"
      ]
     },
     "execution_count": 34,
     "metadata": {},
     "output_type": "execute_result"
    }
   ],
   "source": [
    "lst.sort(key = lambda x: x)\n",
    "lst"
   ]
  },
  {
   "cell_type": "code",
   "execution_count": 35,
   "metadata": {},
   "outputs": [
    {
     "data": {
      "text/plain": [
       "[33, 5, 1]"
      ]
     },
     "execution_count": 35,
     "metadata": {},
     "output_type": "execute_result"
    }
   ],
   "source": [
    "lst.sort(key = lambda x: -x)\n",
    "lst"
   ]
  },
  {
   "cell_type": "code",
   "execution_count": 36,
   "metadata": {},
   "outputs": [
    {
     "data": {
      "text/plain": [
       "[1, 5, 33]"
      ]
     },
     "execution_count": 36,
     "metadata": {},
     "output_type": "execute_result"
    }
   ],
   "source": [
    "sorted(lst, key = lambda x:x)"
   ]
  },
  {
   "cell_type": "code",
   "execution_count": 55,
   "metadata": {},
   "outputs": [
    {
     "data": {
      "text/plain": [
       "[1089, 25, 1]"
      ]
     },
     "execution_count": 55,
     "metadata": {},
     "output_type": "execute_result"
    }
   ],
   "source": [
    "lst_map = map(lambda x: x**2, lst)\n",
    "lst2 = list(lst_map)\n",
    "lst2"
   ]
  },
  {
   "cell_type": "code",
   "execution_count": 56,
   "metadata": {},
   "outputs": [
    {
     "data": {
      "text/plain": [
       "[25, 1]"
      ]
     },
     "execution_count": 56,
     "metadata": {},
     "output_type": "execute_result"
    }
   ],
   "source": [
    "lst3 = filter(lambda x: x < 100, lst2)\n",
    "list(lst3)"
   ]
  },
  {
   "cell_type": "code",
   "execution_count": 63,
   "metadata": {},
   "outputs": [
    {
     "ename": "NameError",
     "evalue": "name 'calendar' is not defined",
     "output_type": "error",
     "traceback": [
      "\u001b[1;31m---------------------------------------------------------------------------\u001b[0m",
      "\u001b[1;31mNameError\u001b[0m                                 Traceback (most recent call last)",
      "\u001b[1;32m<ipython-input-63-7cf974b6f248>\u001b[0m in \u001b[0;36m<module>\u001b[1;34m\u001b[0m\n\u001b[0;32m      1\u001b[0m \u001b[0mlst_map\u001b[0m \u001b[1;33m=\u001b[0m \u001b[0mmap\u001b[0m\u001b[1;33m(\u001b[0m\u001b[1;32mlambda\u001b[0m \u001b[0mx\u001b[0m\u001b[1;33m:\u001b[0m \u001b[0mcalendar\u001b[0m\u001b[1;33m.\u001b[0m\u001b[0mmonth_name\u001b[0m\u001b[1;33m[\u001b[0m\u001b[0mx\u001b[0m\u001b[1;33m]\u001b[0m\u001b[1;33m,\u001b[0m \u001b[1;33m[\u001b[0m\u001b[1;36m1\u001b[0m\u001b[1;33m,\u001b[0m\u001b[1;36m4\u001b[0m\u001b[1;33m,\u001b[0m\u001b[1;36m8\u001b[0m\u001b[1;33m]\u001b[0m\u001b[1;33m)\u001b[0m\u001b[1;33m\u001b[0m\u001b[1;33m\u001b[0m\u001b[0m\n\u001b[1;32m----> 2\u001b[1;33m \u001b[0mlst4\u001b[0m \u001b[1;33m=\u001b[0m \u001b[0mlist\u001b[0m\u001b[1;33m(\u001b[0m\u001b[0mlst_map\u001b[0m\u001b[1;33m)\u001b[0m\u001b[1;33m\u001b[0m\u001b[1;33m\u001b[0m\u001b[0m\n\u001b[0m\u001b[0;32m      3\u001b[0m \u001b[0mlst4\u001b[0m\u001b[1;33m\u001b[0m\u001b[1;33m\u001b[0m\u001b[0m\n",
      "\u001b[1;32m<ipython-input-63-7cf974b6f248>\u001b[0m in \u001b[0;36m<lambda>\u001b[1;34m(x)\u001b[0m\n\u001b[1;32m----> 1\u001b[1;33m \u001b[0mlst_map\u001b[0m \u001b[1;33m=\u001b[0m \u001b[0mmap\u001b[0m\u001b[1;33m(\u001b[0m\u001b[1;32mlambda\u001b[0m \u001b[0mx\u001b[0m\u001b[1;33m:\u001b[0m \u001b[0mcalendar\u001b[0m\u001b[1;33m.\u001b[0m\u001b[0mmonth_name\u001b[0m\u001b[1;33m[\u001b[0m\u001b[0mx\u001b[0m\u001b[1;33m]\u001b[0m\u001b[1;33m,\u001b[0m \u001b[1;33m[\u001b[0m\u001b[1;36m1\u001b[0m\u001b[1;33m,\u001b[0m\u001b[1;36m4\u001b[0m\u001b[1;33m,\u001b[0m\u001b[1;36m8\u001b[0m\u001b[1;33m]\u001b[0m\u001b[1;33m)\u001b[0m\u001b[1;33m\u001b[0m\u001b[1;33m\u001b[0m\u001b[0m\n\u001b[0m\u001b[0;32m      2\u001b[0m \u001b[0mlst4\u001b[0m \u001b[1;33m=\u001b[0m \u001b[0mlist\u001b[0m\u001b[1;33m(\u001b[0m\u001b[0mlst_map\u001b[0m\u001b[1;33m)\u001b[0m\u001b[1;33m\u001b[0m\u001b[1;33m\u001b[0m\u001b[0m\n\u001b[0;32m      3\u001b[0m \u001b[0mlst4\u001b[0m\u001b[1;33m\u001b[0m\u001b[1;33m\u001b[0m\u001b[0m\n",
      "\u001b[1;31mNameError\u001b[0m: name 'calendar' is not defined"
     ]
    }
   ],
   "source": [
    "lst_map = map(lambda x: calendar.month_name[x], [1,4,8])\n",
    "lst4 = list(lst_map)\n",
    "lst4"
   ]
  },
  {
   "cell_type": "code",
   "execution_count": 1,
   "metadata": {},
   "outputs": [
    {
     "data": {
      "text/plain": [
       "['ab', 'bb', 'cb']"
      ]
     },
     "execution_count": 1,
     "metadata": {},
     "output_type": "execute_result"
    }
   ],
   "source": [
    "temp = 'abc'\n",
    "lm = map(lambda x: x+'b',temp)\n",
    "list(lm)"
   ]
  },
  {
   "cell_type": "code",
   "execution_count": 17,
   "metadata": {},
   "outputs": [
    {
     "data": {
      "text/plain": [
       "['EMILY', 'JUDY', 'HARRISON']"
      ]
     },
     "execution_count": 17,
     "metadata": {},
     "output_type": "execute_result"
    }
   ],
   "source": [
    "upper_names = list(map(str.upper, ['emily','Judy','harrison']))\n",
    "upper_names"
   ]
  },
  {
   "cell_type": "code",
   "execution_count": 65,
   "metadata": {},
   "outputs": [],
   "source": [
    "a = 'abcd'"
   ]
  },
  {
   "cell_type": "code",
   "execution_count": 66,
   "metadata": {},
   "outputs": [
    {
     "data": {
      "text/plain": [
       "'c'"
      ]
     },
     "execution_count": 66,
     "metadata": {},
     "output_type": "execute_result"
    }
   ],
   "source": [
    "a[-2:-1]"
   ]
  },
  {
   "cell_type": "code",
   "execution_count": 67,
   "metadata": {},
   "outputs": [
    {
     "data": {
      "text/plain": [
       "'ab'"
      ]
     },
     "execution_count": 67,
     "metadata": {},
     "output_type": "execute_result"
    }
   ],
   "source": [
    "a[0:2]"
   ]
  },
  {
   "cell_type": "code",
   "execution_count": 70,
   "metadata": {},
   "outputs": [
    {
     "data": {
      "text/plain": [
       "'3234.333'"
      ]
     },
     "execution_count": 70,
     "metadata": {},
     "output_type": "execute_result"
    }
   ],
   "source": [
    "str(3234.333)"
   ]
  },
  {
   "cell_type": "markdown",
   "metadata": {},
   "source": [
    "## Reduce"
   ]
  },
  {
   "cell_type": "code",
   "execution_count": 14,
   "metadata": {},
   "outputs": [
    {
     "name": "stdout",
     "output_type": "stream",
     "text": [
      "16\n"
     ]
    }
   ],
   "source": [
    "from functools import reduce\n",
    "numbers = [1,2,3]\n",
    "def custom_sum(first, second):\n",
    "    return first + second\n",
    "result = reduce(custom_sum, numbers,10)\n",
    "print(result)"
   ]
  },
  {
   "cell_type": "code",
   "execution_count": 15,
   "metadata": {},
   "outputs": [
    {
     "name": "stdout",
     "output_type": "stream",
     "text": [
      "6\n"
     ]
    }
   ],
   "source": [
    "result_default = reduce(custom_sum, numbers)\n",
    "print(result_default)"
   ]
  },
  {
   "cell_type": "markdown",
   "metadata": {},
   "source": [
    "## List Comprehension"
   ]
  },
  {
   "cell_type": "markdown",
   "metadata": {},
   "source": [
    " Syntax: newlist = [*expression* for *item* in *iterable* if *condition* == True]"
   ]
  },
  {
   "cell_type": "code",
   "execution_count": 18,
   "metadata": {},
   "outputs": [
    {
     "name": "stdout",
     "output_type": "stream",
     "text": [
      "['apple123', 'banana123', 'mango123']\n"
     ]
    }
   ],
   "source": [
    "fruits = [\"apple\", \"banana\", \"cherry\", \"kiwi\", \"mango\"]\n",
    "newlist = [x+'123' for x in fruits if \"a\" in x]\n",
    "\n",
    "print(newlist)"
   ]
  },
  {
   "cell_type": "code",
   "execution_count": 19,
   "metadata": {},
   "outputs": [
    {
     "name": "stdout",
     "output_type": "stream",
     "text": [
      "['apple', 'orange', 'cherry', 'kiwi', 'mango']\n"
     ]
    }
   ],
   "source": [
    "fruits = [\"apple\", \"banana\", \"cherry\", \"kiwi\", \"mango\"]\n",
    "newlist = [x if x != \"banana\" else \"orange\" for x in fruits] #replace banana by orange\n",
    "print(newlist)\n"
   ]
  },
  {
   "cell_type": "markdown",
   "metadata": {},
   "source": [
    "## Dictionary Comprehension"
   ]
  },
  {
   "cell_type": "markdown",
   "metadata": {},
   "source": [
    "Syntax: new_dict = {key: value for (key, value) in iterable if *condition* == True}"
   ]
  },
  {
   "cell_type": "code",
   "execution_count": 23,
   "metadata": {},
   "outputs": [
    {
     "name": "stdout",
     "output_type": "stream",
     "text": [
      "{1: 1, 2: 4, 3: 9, 4: 16, 5: 25}\n"
     ]
    }
   ],
   "source": [
    "myDict = {x: x**2 for x in [1,2,3,4,5]}\n",
    "print (myDict)"
   ]
  },
  {
   "cell_type": "code",
   "execution_count": 24,
   "metadata": {},
   "outputs": [
    {
     "name": "stdout",
     "output_type": "stream",
     "text": [
      "{'C': 'ccc', 'O': 'ooo', 'D': 'ddd', 'I': 'iii', 'N': 'nnn', 'G': 'ggg', ' ': '   '}\n"
     ]
    }
   ],
   "source": [
    "sDict = {x.upper(): x*3 for x in 'coding '}\n",
    "print (sDict)"
   ]
  },
  {
   "cell_type": "code",
   "execution_count": 28,
   "metadata": {},
   "outputs": [
    {
     "name": "stdout",
     "output_type": "stream",
     "text": [
      "{'jack': 'young', 'michael': 'old', 'guido': 'old', 'john': 'young'}\n"
     ]
    }
   ],
   "source": [
    "original_dict = {'jack': 38, 'michael': 48, 'guido': 57, 'john': 33}\n",
    "\n",
    "new_dict_1 = {k: ('old' if v > 40 else 'young')\n",
    "    for (k, v) in original_dict.items()}   #original_dict.items()\n",
    "print(new_dict_1)"
   ]
  },
  {
   "cell_type": "code",
   "execution_count": 29,
   "metadata": {},
   "outputs": [
    {
     "data": {
      "text/plain": [
       "dict_items([('jack', 38), ('michael', 48), ('guido', 57), ('john', 33)])"
      ]
     },
     "execution_count": 29,
     "metadata": {},
     "output_type": "execute_result"
    }
   ],
   "source": [
    "original_dict.items()"
   ]
  },
  {
   "cell_type": "code",
   "execution_count": null,
   "metadata": {},
   "outputs": [],
   "source": []
  }
 ],
 "metadata": {
  "colab": {
   "collapsed_sections": [],
   "name": "SI507_W2L2_BasicFunctions.ipynb",
   "provenance": []
  },
  "kernelspec": {
   "display_name": "Python 3 (ipykernel)",
   "language": "python",
   "name": "python3"
  },
  "language_info": {
   "codemirror_mode": {
    "name": "ipython",
    "version": 3
   },
   "file_extension": ".py",
   "mimetype": "text/x-python",
   "name": "python",
   "nbconvert_exporter": "python",
   "pygments_lexer": "ipython3",
   "version": "3.8.13"
  }
 },
 "nbformat": 4,
 "nbformat_minor": 1
}
