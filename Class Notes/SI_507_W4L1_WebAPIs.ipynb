{
 "cells": [
  {
   "cell_type": "markdown",
   "metadata": {
    "colab_type": "text",
    "id": "DSjgBXcGco4O"
   },
   "source": [
    "# **Working with Web APIs**\n",
    "\n",
    "Today's learning objective is that you'll be able to answer the following 4 questions\n",
    "*  How does the Web work?\n",
    "\n",
    "*  What are Web APIs and how do we access them?\n",
    "\n",
    "*  How do we access the Web and Web APIs in Python?\n",
    "\n",
    "* What is JSON\n",
    "\n",
    "At the end of the lesson I recommend you come back to this section and enter your answers!\n"
   ]
  },
  {
   "cell_type": "markdown",
   "metadata": {
    "colab_type": "text",
    "id": "vApBVa1VhFAd"
   },
   "source": [
    "## The operating procedure for the web\n",
    "\n",
    "\n",
    "1.   You enter a URL into a web browser\n",
    "2.   The browser looks up the IP address for the domain name via DNS\n",
    "   \n",
    "   *  You can think of DNS (Domain Name System) as the phone book of the internet\n",
    "3.   The browser sends a HTTP request to the server \n",
    "   *  The server is the computer that hosts the website\n",
    "4.  The server sends back a HTTP *response*\n",
    "5.  The browser begins rendering the HTML \n",
    "6.  The browser sends requests for additional objects embedded in HTML (images, css, JavaScript) and repeats steps 3-5.\n",
    "7.  Once the page is loaded, the browser sends further asynchronous requests as needed."
   ]
  },
  {
   "cell_type": "markdown",
   "metadata": {
    "colab_type": "text",
    "id": "sqJ5USoahJrQ"
   },
   "source": [
    "**HTTP**\n",
    "![picture](https://drive.google.com/uc?export=view&id=1tHKCW_tXeZXFbeve6UfsWHwJBFuJB2iV)\n",
    "\n",
    "source: https://doepud.co.uk/blog/anatomy-of-a-url\n",
    "\n",
    "\n",
    "\n",
    "*   **Protocol:** specifies which protocol to run \n",
    "*   **Subdomain & domain name:** the server name\n",
    "*   **Port:** a point of entry on a server\n",
    "*   **Path:** the path to a specific resource (file/page) you wish to access\n",
    "*   **Query & Parameters:** Data passed to the server in a specified structure\n",
    "*   **Fragment:** Anchors for specific portions of a webpage\n",
    "\n",
    "For Web APIs the important distinction is:\n",
    "*   **Endpoint:** everythign up to the query-string\n",
    "*   **Query String**\n",
    "\n"
   ]
  },
  {
   "cell_type": "markdown",
   "metadata": {
    "colab_type": "text",
    "id": "5JqIVh6ukJKm"
   },
   "source": [
    "## **Web APIs**\n",
    "\n",
    "**A**pplication **P**rogramming **I**nterface (API)\n",
    "\n",
    "- a contract between two programs (or parts of a prgogram).\n",
    "\n",
    "- In python you can think of *classes* as an interface\n",
    "   *  for example the `Buildings` class that had the `MaximumOccupancy()` method is a contract or promise about how any object within that class will operate.\n",
    "   *  `datetime.datetime.now()` returns the current date and time in python - that is an interface to the `datetime` package\n",
    "\n",
    "\n",
    "**The concept of an API is simply a collection of interfaces to some larger functionality that can be used by *applications***\n",
    "\n",
    "For data scientists - Web APIs are gateways to lots of data\n",
    "\n"
   ]
  },
  {
   "cell_type": "markdown",
   "metadata": {
    "colab_type": "text",
    "id": "tlG1SBkvvPYV"
   },
   "source": [
    "## **Accessing Web APIs**\n",
    "\n",
    "First lets try accessing the Datamuse API: www.datamuse.com/api \n",
    "\n",
    "Go ahead and navigate their in your broswer. The landing page should have the following banner on top:\n",
    "\n",
    "![picture](https://drive.google.com/uc?export=view&id=1NfUcz2IWtrTtUQTgWlWOu1RJZXLik4vZ)\n",
    "\n",
    "If you scroll down there are examples of how to use the API\n",
    "\n",
    "![picture](https://drive.google.com/uc?export=view&id=1g7U_xdUvpKUk9u3ipJ-DKDkoL-a-81RI)\n",
    "\n",
    "Do you notice a pattern in the structure of the query parameters?  If you scroll further down the rules are explained\n",
    "\n",
    "![picture](https://drive.google.com/uc?export=view&id=1HS8eP_Ts3Vx47U_W2DgmAQEDcCkDq-yF)"
   ]
  },
  {
   "cell_type": "markdown",
   "metadata": {
    "colab_type": "text",
    "id": "SMKkPdPPygSn"
   },
   "source": [
    "**Strucutre of a Query**\n",
    "***Endpoint*:** http://api.datamuse.com/words\n",
    "\n",
    "***Query String*:** ?rel_rhy=blue \n",
    "\n",
    "Navigate their in your browser\n",
    "http://api.datamuse.com/words?rel_rhy=blue\n",
    "\n",
    "![picture](https://drive.google.com/uc?export=view&id=117i8K6v7u2sLhSVB7nl4KxMxk_FPoWpc)\n",
    "\n",
    "This is **JavaScript Object Notation** or **JSON**\n",
    "\n",
    "  *  looks like a dictionary but is actually a string\n",
    "  *  text-based language for sending structured data (objects) between programs\n",
    "\n",
    "Copy the output of your query into http://JSONLint.com and click validate JSON\n",
    "\n",
    "the output is clearly structured\n",
    "\n",
    "![picture](https://drive.google.com/uc?export=view&id=1fi-SdDnw43R_s5wqFBoMv5wnssMO0EXa)\n",
    "\n"
   ]
  },
  {
   "cell_type": "markdown",
   "metadata": {
    "colab_type": "text",
    "id": "t0xIkq5Z3Jk9"
   },
   "source": [
    "## **Accessing the Web with Python**\n",
    "\n",
    "We will do this using the python library `requests`\n",
    "\n",
    "In your computer you will need to install the library `requests` either through `pip install requests` or `pip3 install requests` \n",
    "\n",
    "You only have to install once. After that you must `import requests` every time you use it.\n",
    "\n",
    "`requests` is very easy to use.\n",
    "*  simply call `requests.get()` with a url you want to get. \n",
    "\n",
    "*  this will work with both API endpoints and regular websites."
   ]
  },
  {
   "cell_type": "code",
   "execution_count": 123,
   "metadata": {
    "colab": {},
    "colab_type": "code",
    "id": "lQJcNeurcoEH"
   },
   "outputs": [
    {
     "name": "stdout",
     "output_type": "stream",
     "text": [
      "<html>\n",
      "<head>\n",
      "<script src=\"https://ajax.googleapis.com/ajax/libs/jquery/2.1.3/jquery.min.js\"></script>\n",
      "<TITLE>Welcome to Datamuse</TITLE>\n",
      "  <STYLE>\n",
      "  <!--A:hover {text-decoration:bold; background:#FFFF99; color:#FF0000;}-->\n",
      "  <!--A:active {text-decoration:bold; color:#FF0000;}-->\n",
      "  </STYLE>\n",
      "  <STYLE>\n",
      "\n",
      ".style4 {font-family:arial;\n",
      "         font-size:100px;\n",
      "         color:#a1a181;\n",
      "         position:absolute;\n",
      "        top:30;\n",
      "        left:80}\n",
      "        \n",
      ".style5 {font-family:verdana;\n",
      "         font-size:60px;\n",
      "         color:#e1e1c1;\n",
      "        position:absolute;\n",
      "        top:65;\n",
      "        left:165}\n",
      "\n",
      ".style6 {font-family:verdana;\n",
      "         font-size:14px;\n",
      "         color:#ffffff;\n",
      "        position:absolute;\n",
      "        top:90;\n",
      "\twidth:300;\n",
      "        left:500}\n",
      "\n",
      "\n",
      ".style7 { position:absolute;\n",
      "          color:#FFFFFF;\n",
      "          font-family:arial;\n",
      "          font-size:20px;\n",
      "          top:360;\n",
      "          left:230}\n",
      "\n",
      ".style8 {font-family:arial;\n",
      "         font-size:100px;\n",
      "         color:blue;\n",
      "         position:absolute;\n",
      "        top:75;\n",
      "        left:480}\n",
      "</STYLE>\n",
      "<BODY bgcolor=#FFFFFF>\n",
      "</head>\n",
      "\n",
      "<BODY BGCOLOR=\"#FFFFFF\" MARGINHEIGHT=0 MARGINWIDTH=0 TOPMARGIN=10 LEFTMARGIN=10\n",
      ">\n",
      "\n",
      "<script>\n",
      "$(function() {\n",
      "  $.ajax({ dataType: \"json\", type : 'Get', url: 'https://api.datamuse.com/metrics',\n",
      "  success: function(data) {\n",
      "   var latency_re = /latency_.*/;\n",
      "   var qps = 0.0;\n",
      "   for (x in data) {\n",
      "      if (data[x][\"key\"] === \"qps_5\") {  v = Math.round(data[x][\"value\"] * 100) / 100.0; qps += v; }\n",
      "   }\n",
      "  $.ajax({ dataType: \"json\", type : 'Get', url: 'https://api.rhymezone.com/metrics',\n",
      "  success: function(data2) {\n",
      "      for (x in data2) {\n",
      "        if (data2[x][\"key\"] === \"qps_5\") {\n",
      "            v = Math.round((data2[x][\"value\"] + qps));\n",
      "            $( \"#metrics_\" + data2[x][\"key\"] ).html(Math.round(v));\n",
      "        }\n",
      "      }\n",
      "  }});\n",
      "  \n",
      "  }})});\n",
      "</script>\n",
      "\n",
      "\n",
      "<!--\n",
      "<table cellpadding=0 cellspacing=0 border=0 width=100%> <TD colspan=2><HR size=0 width=\"100%\" align=center></TD></TR><td bgcolor=#EEEEEE><font face=\"Verdana,Arial,Helvetica\" size=-1>&nbsp;&nbsp;<b>Datamuse home</b></font></td></tr> <tr><TR><TD colspan=2><HR size=0 width=\"100%\" align=center></TD></TR></table>\n",
      "-->\n",
      "\n",
      "<center>\n",
      "<FONT face=\"Arial,Helvetica\" size=2>\n",
      "<table bgcolor=#000000 cellpadding=1><td>\n",
      "<table bgcolor=#ffffff border=0 cellspacing=0>\n",
      "<td width=320 valign=center align=right>\n",
      "<font size=14px face=verdana>\n",
      "                                                           <font color=#CCCCFF>use</font><br>\n",
      "                               <font color=#AAAAFF>m</font><font color=#CCCCFF>use</font><br>\n",
      "   <font color=#AAAAFF>a</font><font color=#AAAAFF>m</font><font color=#CCCCFF>use</font><br>\n",
      "<font color=#AAAAFF>Data</font><font color=#AAAAFF>m</font><font color=#CCCCFF>use</font><br>\n",
      "</td>\n",
      "<td width=50>\n",
      "&nbsp;\n",
      "</td>\n",
      "<td width=320>\n",
      "<p align=left>\n",
      "<font color=black face=verdana size=2>\n",
      "<font size=-1><br><br></font>\n",
      "<b>Datamuse</b> is a collection of websites, mobile apps,\n",
      "and APIs designed to help people create and communicate more effectively.\n",
      "We aim to organize knowledge in ways that inspire, inform, and delight\n",
      "people, making everyone who uses our services a more effective writer,\n",
      "researcher, and learner.<br><br>\n",
      "\n",
      "<A target=_top HREF=https://www.onelook.com>OneLook</a>\n",
      "is the Web's premier search engine for English words, indexing 10 million unique words and phrases in more than 1000 dictionaries and glossaries.  More than a million unique users visit OneLook every month.\n",
      "<br><br>\n",
      "\n",
      "<A target=_top href=\"https://www.onelook.com/thesaurus/\">OneLook Thesaurus</a>\n",
      "is a Web-based thesaurus, reverse dictionary, and knowledge discovery tool that is\n",
      "available now in English and Spanish, with more languages to come.\n",
      "Its <a href=\"https://onelook.com/thesaurus/olthes_googleapp/\">Google Docs add-on</a>\n",
      "and <a href=\"http://onelook.com/thesaurus/ios/\">iOS/Mac apps</a> offer other ways to access\n",
      "the same information.   <a href=\"https://www.onelook.com/spruce/\">Spruce</a> is an\n",
      "experimental add-on that helps you find ideas as you write.\n",
      "<br><br>\n",
      "\n",
      "\n",
      "<A target=_top HREF=https://www.rhymezone.com>RhymeZone</A></b>\n",
      "is the premier tool for creative writers of all kinds, combining the\n",
      "features of a rhyming dictionary and a thesaurus.\n",
      "It serves several million writers every month through the website\n",
      "and its <a href=\"https://apps.apple.com/us/app/rhymezone/id493493802\">iOS</a>\n",
      "and \n",
      "<a href=\"https://play.google.com/store/apps/details?id=com.rhymezone.rzapp&hl=en_US&gl=US\">Android</a> mobile apps.\n",
      "<A target=_top href=https://rimar.io>Rimar.io</a> is its new Spanish sibling.\n",
      "<br><br>\n",
      "\n",
      "The <A target=_top HREF=\"https://www.datamuse.com/api/\">Datamuse API</A></b>\n",
      "is a lexical search service for developers.  It's answering <span id=\"metrics_qps_5\">...</span> queries\n",
      "per second right now from hundreds of educational applications, search tools, and word games.\n",
      "\n",
      "</font>\n",
      "</p>\n",
      "<font size=-6><br></font>\n",
      "</td>\n",
      "<td width=60>\n",
      "&nbsp;\n",
      "</td>\n",
      "</td>\n",
      "</table>\n",
      "</table>\n",
      "</center>\n",
      "<center>\n",
      "<br><b>\n",
      "<A HREF=\"https://blog.datamuse.com\">Blog</A>&nbsp;&nbsp;&nbsp;\n",
      "<A HREF=https://www.datamuse.com/api/>API</A>&nbsp;&nbsp;&nbsp;\n",
      "<A HREF=https://www.datamuse.com/jobs>Contract jobs</A>&nbsp;&nbsp;&nbsp;\n",
      "<A HREF=https://twitter.com/RhymeZonecom>Twitter</A>&nbsp;&nbsp;&nbsp;\n",
      "<A HREF=https://www.onelook.com/about.shtml#feedback>Contact us</A><br><br>\n",
      "</b>\n",
      "</center>\n",
      "</font>\n",
      "\n"
     ]
    }
   ],
   "source": [
    "import requests\n",
    "\n",
    "response = requests.get(\"http://datamuse.com\")\n",
    "\n",
    "print(response.text)  "
   ]
  },
  {
   "cell_type": "markdown",
   "metadata": {
    "colab_type": "text",
    "id": "vbLA6F2R52Wf"
   },
   "source": [
    "\n",
    "Because it is not an API if we run the code above we get the html of the landing page.  You can check that its correct by comparing the output to what you get if you vew source code for that URL in your browser.\n",
    "\n",
    "**Note** that `requests.get()` pulls everything from the url, so the object `response` has many thigns you don't need. \n",
    "*  `response.text` provides the *response body*\n",
    "*  `response.status_code` provides the HTTP status code returned by the server\n",
    "   * compare the `response.status_code` you get for http://datamuse.com with what you get for http://datamuse.com/totallyfakeURL/"
   ]
  },
  {
   "cell_type": "code",
   "execution_count": 124,
   "metadata": {
    "colab": {},
    "colab_type": "code",
    "id": "7PlKC7IDX3ap"
   },
   "outputs": [
    {
     "name": "stdout",
     "output_type": "stream",
     "text": [
      "200\n",
      "404\n"
     ]
    }
   ],
   "source": [
    "import requests\n",
    "\n",
    "response1 = requests.get(\"http://datamuse.com/\")\n",
    "response2 = requests.get(\"http://datamuse.com/totallyfakeURL/\")\n",
    "\n",
    "print(response1.status_code)\n",
    "print(response2.status_code)"
   ]
  },
  {
   "cell_type": "markdown",
   "metadata": {
    "colab_type": "text",
    "id": "QbUh5o9V7fKW"
   },
   "source": [
    "**Accessing Web API with requests**\n",
    "\n",
    "Just as above we can use an actual WebAPI endpoint and query string with the `requests.get()` code as below"
   ]
  },
  {
   "cell_type": "code",
   "execution_count": 125,
   "metadata": {
    "colab": {},
    "colab_type": "code",
    "id": "lZZtr2Zo7enQ"
   },
   "outputs": [
    {
     "name": "stdout",
     "output_type": "stream",
     "text": [
      "[{\"word\":\"to\",\"score\":18213,\"numSyllables\":1},{\"word\":\"through\",\"score\":9356,\"numSyllables\":1},{\"word\":\"into\",\"score\":6075,\"numSyllables\":2},{\"word\":\"do\",\"score\":4809,\"numSyllables\":1},{\"word\":\"you\",\"score\":4268,\"numSyllables\":1},{\"word\":\"que\",\"score\":3889,\"numSyllables\":1},{\"word\":\"view\",\"score\":3265,\"numSyllables\":1},{\"word\":\"pursue\",\"score\":3238,\"numSyllables\":2},{\"word\":\"hew\",\"score\":3108,\"numSyllables\":1},{\"word\":\"purview\",\"score\":3087,\"numSyllables\":2},{\"word\":\"review\",\"score\":2993,\"numSyllables\":2},{\"word\":\"queue\",\"score\":2900,\"numSyllables\":1},{\"word\":\"eschew\",\"score\":2813,\"numSyllables\":2},{\"word\":\"accrue\",\"score\":2668,\"numSyllables\":2},{\"word\":\"cue\",\"score\":2562,\"numSyllables\":1},{\"word\":\"new\",\"score\":2438,\"numSyllables\":1},{\"word\":\"true\",\"score\":2418,\"numSyllables\":1},{\"word\":\"due\",\"score\":2408,\"numSyllables\":1},{\"word\":\"two\",\"score\":2309,\"numSyllables\":1},{\"word\":\"screw\",\"score\":2174,\"numSyllables\":1},{\"word\":\"coup\",\"score\":1966,\"numSyllables\":1},{\"word\":\"rue\",\"score\":1951,\"numSyllables\":1},{\"word\":\"slew\",\"score\":1884,\"numSyllables\":1},{\"word\":\"revenue\",\"score\":1882,\"numSyllables\":3},{\"word\":\"shoe\",\"score\":1856,\"numSyllables\":1},{\"word\":\"imbue\",\"score\":1817,\"numSyllables\":2},{\"word\":\"crew\",\"score\":1759,\"numSyllables\":1},{\"word\":\"too\",\"score\":1758,\"numSyllables\":1},{\"word\":\"u\",\"score\":1746,\"numSyllables\":1},{\"word\":\"hue\",\"score\":1738,\"numSyllables\":1},{\"word\":\"lieu\",\"score\":1675,\"numSyllables\":1},{\"word\":\"tissue\",\"score\":1667,\"numSyllables\":2},{\"word\":\"skew\",\"score\":1641,\"numSyllables\":1},{\"word\":\"ensue\",\"score\":1527,\"numSyllables\":2},{\"word\":\"stew\",\"score\":1523,\"numSyllables\":1},{\"word\":\"few\",\"score\":1489,\"numSyllables\":1},{\"word\":\"rendezvous\",\"score\":1427,\"numSyllables\":3},{\"word\":\"construe\",\"score\":1386,\"numSyllables\":2},{\"word\":\"avenue\",\"score\":1385,\"numSyllables\":3},{\"word\":\"breakthrough\",\"score\":1368,\"numSyllables\":2},{\"word\":\"guru\",\"score\":1329,\"numSyllables\":2},{\"word\":\"brew\",\"score\":1328,\"numSyllables\":1},{\"word\":\"debut\",\"score\":1324,\"numSyllables\":2},{\"word\":\"sue\",\"score\":1310,\"numSyllables\":1},{\"word\":\"who\",\"score\":1302,\"numSyllables\":1},{\"word\":\"ado\",\"score\":1295,\"numSyllables\":2},{\"word\":\"boo\",\"score\":1295,\"numSyllables\":1},{\"word\":\"flu\",\"score\":1279,\"numSyllables\":1},{\"word\":\"hitherto\",\"score\":1276,\"numSyllables\":3},{\"word\":\"strew\",\"score\":1263,\"numSyllables\":1},{\"word\":\"woo\",\"score\":1221,\"numSyllables\":1},{\"word\":\"overview\",\"score\":1208,\"numSyllables\":3},{\"word\":\"shrew\",\"score\":1201,\"numSyllables\":1},{\"word\":\"taboo\",\"score\":1194,\"numSyllables\":2},{\"word\":\"ewe\",\"score\":1190,\"numSyllables\":1},{\"word\":\"yahoo\",\"score\":1187,\"numSyllables\":2},{\"word\":\"glue\",\"score\":1182,\"numSyllables\":1},{\"word\":\"coo\",\"score\":1180,\"numSyllables\":1},{\"word\":\"bamboo\",\"score\":1163,\"numSyllables\":2},{\"word\":\"subdue\",\"score\":1159,\"numSyllables\":2},{\"word\":\"clue\",\"score\":1157,\"numSyllables\":1},{\"word\":\"loo\",\"score\":1145,\"numSyllables\":1},{\"word\":\"redo\",\"score\":1121,\"numSyllables\":2},{\"word\":\"outdo\",\"score\":1098,\"numSyllables\":2},{\"word\":\"undo\",\"score\":1066,\"numSyllables\":2},{\"word\":\"tattoo\",\"score\":1059,\"numSyllables\":2},{\"word\":\"retinue\",\"score\":1057,\"numSyllables\":3},{\"word\":\"poo\",\"score\":1040,\"numSyllables\":1},{\"word\":\"undue\",\"score\":1025,\"numSyllables\":2},{\"word\":\"pew\",\"score\":1015,\"numSyllables\":1},{\"word\":\"spew\",\"score\":1002,\"numSyllables\":1},{\"word\":\"thru\",\"score\":1001,\"numSyllables\":1},{\"word\":\"askew\",\"score\":981,\"numSyllables\":2},{\"word\":\"adieu\",\"score\":969,\"numSyllables\":2},{\"word\":\"vue\",\"score\":964,\"numSyllables\":1},{\"word\":\"q\",\"score\":961,\"numSyllables\":1},{\"word\":\"ingenue\",\"score\":956,\"numSyllables\":3},{\"word\":\"goo\",\"score\":946,\"numSyllables\":1},{\"word\":\"statue\",\"score\":937,\"numSyllables\":2},{\"word\":\"interview\",\"score\":933,\"numSyllables\":3},{\"word\":\"lulu\",\"score\":894,\"numSyllables\":2},{\"word\":\"dew\",\"score\":887,\"numSyllables\":1},{\"word\":\"barbecue\",\"score\":879,\"numSyllables\":3},{\"word\":\"anew\",\"score\":874,\"numSyllables\":2},{\"word\":\"vu\",\"score\":871,\"numSyllables\":1},{\"word\":\"yew\",\"score\":865,\"numSyllables\":1},{\"word\":\"cuckoo\",\"score\":858,\"numSyllables\":2},{\"word\":\"renew\",\"score\":857,\"numSyllables\":2},{\"word\":\"canoe\",\"score\":832,\"numSyllables\":2},{\"word\":\"xu\",\"score\":829,\"numSyllables\":1},{\"word\":\"emu\",\"score\":827,\"numSyllables\":2},{\"word\":\"residue\",\"score\":817,\"numSyllables\":3},{\"word\":\"chew\",\"score\":814,\"numSyllables\":1},{\"word\":\"shue\",\"score\":810,\"numSyllables\":1},{\"word\":\"gnu\",\"score\":789,\"numSyllables\":1},{\"word\":\"flue\",\"score\":778,\"numSyllables\":1},{\"word\":\"mew\",\"score\":774,\"numSyllables\":1},{\"word\":\"zoo\",\"score\":770,\"numSyllables\":1},{\"word\":\"overdo\",\"score\":768,\"numSyllables\":3},{\"word\":\"roux\",\"score\":762,\"numSyllables\":1}]\n"
     ]
    }
   ],
   "source": [
    "\n",
    "import requests\n",
    "\n",
    "response = requests.get(\"http://api.datamuse.com/words?rel_rhy=blue\")\n",
    "print(response.text)"
   ]
  },
  {
   "cell_type": "markdown",
   "metadata": {
    "colab_type": "text",
    "id": "C-lIT_xl8GyA"
   },
   "source": [
    "This can also be shortened using the following structure"
   ]
  },
  {
   "cell_type": "code",
   "execution_count": 126,
   "metadata": {
    "colab": {},
    "colab_type": "code",
    "id": "qW5Oqmh06e-t"
   },
   "outputs": [
    {
     "name": "stdout",
     "output_type": "stream",
     "text": [
      "[{\"word\":\"to\",\"score\":18213,\"numSyllables\":1},{\"word\":\"through\",\"score\":9356,\"numSyllables\":1},{\"word\":\"into\",\"score\":6075,\"numSyllables\":2},{\"word\":\"do\",\"score\":4809,\"numSyllables\":1},{\"word\":\"you\",\"score\":4268,\"numSyllables\":1},{\"word\":\"que\",\"score\":3889,\"numSyllables\":1},{\"word\":\"view\",\"score\":3265,\"numSyllables\":1},{\"word\":\"pursue\",\"score\":3238,\"numSyllables\":2},{\"word\":\"hew\",\"score\":3108,\"numSyllables\":1},{\"word\":\"purview\",\"score\":3087,\"numSyllables\":2},{\"word\":\"review\",\"score\":2993,\"numSyllables\":2},{\"word\":\"queue\",\"score\":2900,\"numSyllables\":1},{\"word\":\"eschew\",\"score\":2813,\"numSyllables\":2},{\"word\":\"accrue\",\"score\":2668,\"numSyllables\":2},{\"word\":\"cue\",\"score\":2562,\"numSyllables\":1},{\"word\":\"new\",\"score\":2438,\"numSyllables\":1},{\"word\":\"true\",\"score\":2418,\"numSyllables\":1},{\"word\":\"due\",\"score\":2408,\"numSyllables\":1},{\"word\":\"two\",\"score\":2309,\"numSyllables\":1},{\"word\":\"screw\",\"score\":2174,\"numSyllables\":1},{\"word\":\"coup\",\"score\":1966,\"numSyllables\":1},{\"word\":\"rue\",\"score\":1951,\"numSyllables\":1},{\"word\":\"slew\",\"score\":1884,\"numSyllables\":1},{\"word\":\"revenue\",\"score\":1882,\"numSyllables\":3},{\"word\":\"shoe\",\"score\":1856,\"numSyllables\":1},{\"word\":\"imbue\",\"score\":1817,\"numSyllables\":2},{\"word\":\"crew\",\"score\":1759,\"numSyllables\":1},{\"word\":\"too\",\"score\":1758,\"numSyllables\":1},{\"word\":\"u\",\"score\":1746,\"numSyllables\":1},{\"word\":\"hue\",\"score\":1738,\"numSyllables\":1},{\"word\":\"lieu\",\"score\":1675,\"numSyllables\":1},{\"word\":\"tissue\",\"score\":1667,\"numSyllables\":2},{\"word\":\"skew\",\"score\":1641,\"numSyllables\":1},{\"word\":\"ensue\",\"score\":1527,\"numSyllables\":2},{\"word\":\"stew\",\"score\":1523,\"numSyllables\":1},{\"word\":\"few\",\"score\":1489,\"numSyllables\":1},{\"word\":\"rendezvous\",\"score\":1427,\"numSyllables\":3},{\"word\":\"construe\",\"score\":1386,\"numSyllables\":2},{\"word\":\"avenue\",\"score\":1385,\"numSyllables\":3},{\"word\":\"breakthrough\",\"score\":1368,\"numSyllables\":2},{\"word\":\"guru\",\"score\":1329,\"numSyllables\":2},{\"word\":\"brew\",\"score\":1328,\"numSyllables\":1},{\"word\":\"debut\",\"score\":1324,\"numSyllables\":2},{\"word\":\"sue\",\"score\":1310,\"numSyllables\":1},{\"word\":\"who\",\"score\":1302,\"numSyllables\":1},{\"word\":\"ado\",\"score\":1295,\"numSyllables\":2},{\"word\":\"boo\",\"score\":1295,\"numSyllables\":1},{\"word\":\"flu\",\"score\":1279,\"numSyllables\":1},{\"word\":\"hitherto\",\"score\":1276,\"numSyllables\":3},{\"word\":\"strew\",\"score\":1263,\"numSyllables\":1},{\"word\":\"woo\",\"score\":1221,\"numSyllables\":1},{\"word\":\"overview\",\"score\":1208,\"numSyllables\":3},{\"word\":\"shrew\",\"score\":1201,\"numSyllables\":1},{\"word\":\"taboo\",\"score\":1194,\"numSyllables\":2},{\"word\":\"ewe\",\"score\":1190,\"numSyllables\":1},{\"word\":\"yahoo\",\"score\":1187,\"numSyllables\":2},{\"word\":\"glue\",\"score\":1182,\"numSyllables\":1},{\"word\":\"coo\",\"score\":1180,\"numSyllables\":1},{\"word\":\"bamboo\",\"score\":1163,\"numSyllables\":2},{\"word\":\"subdue\",\"score\":1159,\"numSyllables\":2},{\"word\":\"clue\",\"score\":1157,\"numSyllables\":1},{\"word\":\"loo\",\"score\":1145,\"numSyllables\":1},{\"word\":\"redo\",\"score\":1121,\"numSyllables\":2},{\"word\":\"outdo\",\"score\":1098,\"numSyllables\":2},{\"word\":\"undo\",\"score\":1066,\"numSyllables\":2},{\"word\":\"tattoo\",\"score\":1059,\"numSyllables\":2},{\"word\":\"retinue\",\"score\":1057,\"numSyllables\":3},{\"word\":\"poo\",\"score\":1040,\"numSyllables\":1},{\"word\":\"undue\",\"score\":1025,\"numSyllables\":2},{\"word\":\"pew\",\"score\":1015,\"numSyllables\":1},{\"word\":\"spew\",\"score\":1002,\"numSyllables\":1},{\"word\":\"thru\",\"score\":1001,\"numSyllables\":1},{\"word\":\"askew\",\"score\":981,\"numSyllables\":2},{\"word\":\"adieu\",\"score\":969,\"numSyllables\":2},{\"word\":\"vue\",\"score\":964,\"numSyllables\":1},{\"word\":\"q\",\"score\":961,\"numSyllables\":1},{\"word\":\"ingenue\",\"score\":956,\"numSyllables\":3},{\"word\":\"goo\",\"score\":946,\"numSyllables\":1},{\"word\":\"statue\",\"score\":937,\"numSyllables\":2},{\"word\":\"interview\",\"score\":933,\"numSyllables\":3},{\"word\":\"lulu\",\"score\":894,\"numSyllables\":2},{\"word\":\"dew\",\"score\":887,\"numSyllables\":1},{\"word\":\"barbecue\",\"score\":879,\"numSyllables\":3},{\"word\":\"anew\",\"score\":874,\"numSyllables\":2},{\"word\":\"vu\",\"score\":871,\"numSyllables\":1},{\"word\":\"yew\",\"score\":865,\"numSyllables\":1},{\"word\":\"cuckoo\",\"score\":858,\"numSyllables\":2},{\"word\":\"renew\",\"score\":857,\"numSyllables\":2},{\"word\":\"canoe\",\"score\":832,\"numSyllables\":2},{\"word\":\"xu\",\"score\":829,\"numSyllables\":1},{\"word\":\"emu\",\"score\":827,\"numSyllables\":2},{\"word\":\"residue\",\"score\":817,\"numSyllables\":3},{\"word\":\"chew\",\"score\":814,\"numSyllables\":1},{\"word\":\"shue\",\"score\":810,\"numSyllables\":1},{\"word\":\"gnu\",\"score\":789,\"numSyllables\":1},{\"word\":\"flue\",\"score\":778,\"numSyllables\":1},{\"word\":\"mew\",\"score\":774,\"numSyllables\":1},{\"word\":\"zoo\",\"score\":770,\"numSyllables\":1},{\"word\":\"overdo\",\"score\":768,\"numSyllables\":3},{\"word\":\"roux\",\"score\":762,\"numSyllables\":1}]\n"
     ]
    }
   ],
   "source": [
    "baseurl = \"https://api.datamuse.com/words\"\n",
    "parameter_dictionary = {'rel_rhy':'blue'}\n",
    "response = requests.get(baseurl, parameter_dictionary)\n",
    "print(response.text)"
   ]
  },
  {
   "cell_type": "code",
   "execution_count": 13,
   "metadata": {},
   "outputs": [],
   "source": [
    "def squares_and_cubes(side):\n",
    "    b = side**2\n",
    "    a = side**3\n",
    "    return b, a\n"
   ]
  },
  {
   "cell_type": "code",
   "execution_count": 15,
   "metadata": {},
   "outputs": [
    {
     "name": "stdout",
     "output_type": "stream",
     "text": [
      "16\n",
      "64\n"
     ]
    }
   ],
   "source": [
    "area, volume = squares_and_cubes(4) #use descriptive variable names!\n",
    "print(area) #what output do you expect\n",
    "print(volume) #what output do you expect\n",
    "\n"
   ]
  },
  {
   "cell_type": "code",
   "execution_count": 16,
   "metadata": {},
   "outputs": [
    {
     "name": "stdout",
     "output_type": "stream",
     "text": [
      "16\n",
      "64\n"
     ]
    }
   ],
   "source": [
    "a = squares_and_cubes(4) #what type of object is a?\n",
    "print(a[0]) #what output do you expect\n",
    "print(a[1]) #what output do you expect\n"
   ]
  },
  {
   "cell_type": "code",
   "execution_count": 19,
   "metadata": {},
   "outputs": [
    {
     "data": {
      "text/plain": [
       "True"
      ]
     },
     "execution_count": 19,
     "metadata": {},
     "output_type": "execute_result"
    }
   ],
   "source": [
    "list([1,2,3]) == [1,2,3]"
   ]
  },
  {
   "cell_type": "code",
   "execution_count": 22,
   "metadata": {},
   "outputs": [],
   "source": [
    "list1 = [3,2,1]"
   ]
  },
  {
   "cell_type": "code",
   "execution_count": 23,
   "metadata": {},
   "outputs": [
    {
     "data": {
      "text/plain": [
       "[1, 2, 3]"
      ]
     },
     "execution_count": 23,
     "metadata": {},
     "output_type": "execute_result"
    }
   ],
   "source": [
    "sorted(list1)"
   ]
  },
  {
   "cell_type": "code",
   "execution_count": 24,
   "metadata": {},
   "outputs": [
    {
     "data": {
      "text/plain": [
       "[3, 2, 1]"
      ]
     },
     "execution_count": 24,
     "metadata": {},
     "output_type": "execute_result"
    }
   ],
   "source": [
    "list1 #not changed"
   ]
  },
  {
   "cell_type": "code",
   "execution_count": 25,
   "metadata": {},
   "outputs": [],
   "source": [
    "list1.sort()"
   ]
  },
  {
   "cell_type": "code",
   "execution_count": 26,
   "metadata": {},
   "outputs": [
    {
     "data": {
      "text/plain": [
       "[1, 2, 3]"
      ]
     },
     "execution_count": 26,
     "metadata": {},
     "output_type": "execute_result"
    }
   ],
   "source": [
    "list1 #changed"
   ]
  },
  {
   "cell_type": "code",
   "execution_count": 29,
   "metadata": {},
   "outputs": [],
   "source": [
    "def sum_of_list(list_of_numbers):\n",
    "    if (len(list_of_numbers) < 1): return\n",
    "    if (len(list_of_numbers) == 1): return list_of_numbers[0]\n",
    "    the_sum = list_of_numbers[0] + sum_of_list(list_of_numbers[1:])\n",
    "    return the_sum"
   ]
  },
  {
   "cell_type": "code",
   "execution_count": 30,
   "metadata": {},
   "outputs": [
    {
     "data": {
      "text/plain": [
       "6"
      ]
     },
     "execution_count": 30,
     "metadata": {},
     "output_type": "execute_result"
    }
   ],
   "source": [
    "sum_of_list(list1)"
   ]
  },
  {
   "cell_type": "code",
   "execution_count": 31,
   "metadata": {},
   "outputs": [],
   "source": [
    "def sum_of_list_loop(list_of_numbers):\n",
    "    the_sum = 0\n",
    "    for q in list_of_numbers:\n",
    "        the_sum += q\n",
    "    return the_sum"
   ]
  },
  {
   "cell_type": "code",
   "execution_count": 32,
   "metadata": {},
   "outputs": [
    {
     "data": {
      "text/plain": [
       "6"
      ]
     },
     "execution_count": 32,
     "metadata": {},
     "output_type": "execute_result"
    }
   ],
   "source": [
    "sum_of_list_loop(list1)"
   ]
  },
  {
   "cell_type": "code",
   "execution_count": 34,
   "metadata": {},
   "outputs": [],
   "source": [
    "def fib(n):\n",
    "    if (n == 1): return 0\n",
    "    elif (n == 2): return 1\n",
    "    else:\n",
    "        return fib(n-1) + fib(n-2)\n",
    "    "
   ]
  },
  {
   "cell_type": "code",
   "execution_count": 35,
   "metadata": {},
   "outputs": [
    {
     "data": {
      "text/plain": [
       "3"
      ]
     },
     "execution_count": 35,
     "metadata": {},
     "output_type": "execute_result"
    }
   ],
   "source": [
    "fib(5)"
   ]
  },
  {
   "cell_type": "code",
   "execution_count": 36,
   "metadata": {},
   "outputs": [
    {
     "data": {
      "text/plain": [
       "21"
      ]
     },
     "execution_count": 36,
     "metadata": {},
     "output_type": "execute_result"
    }
   ],
   "source": [
    "fib(9)"
   ]
  },
  {
   "cell_type": "code",
   "execution_count": 43,
   "metadata": {},
   "outputs": [
    {
     "data": {
      "text/plain": [
       "1"
      ]
     },
     "execution_count": 43,
     "metadata": {},
     "output_type": "execute_result"
    }
   ],
   "source": [
    "it = iter(list1)\n",
    "next(it) #Retrieve the next item from the iterator "
   ]
  },
  {
   "cell_type": "code",
   "execution_count": 80,
   "metadata": {},
   "outputs": [],
   "source": [
    "def fib(max):\n",
    "    n,a,b = 0,0,1\n",
    "    while n < max:\n",
    "        yield b  #Yield 每次运行到这个yield结束（包括这个yield），有next()时才会运行\n",
    "        a,b = b,a+b\n",
    "        n += 1"
   ]
  },
  {
   "cell_type": "code",
   "execution_count": 81,
   "metadata": {},
   "outputs": [],
   "source": [
    "f = fib(6)"
   ]
  },
  {
   "cell_type": "code",
   "execution_count": 82,
   "metadata": {},
   "outputs": [
    {
     "name": "stdout",
     "output_type": "stream",
     "text": [
      "1\n"
     ]
    }
   ],
   "source": [
    "print(next(f))"
   ]
  },
  {
   "cell_type": "code",
   "execution_count": 83,
   "metadata": {},
   "outputs": [
    {
     "name": "stdout",
     "output_type": "stream",
     "text": [
      "1\n"
     ]
    }
   ],
   "source": [
    "print(next(f))"
   ]
  },
  {
   "cell_type": "code",
   "execution_count": 84,
   "metadata": {},
   "outputs": [
    {
     "name": "stdout",
     "output_type": "stream",
     "text": [
      "2\n"
     ]
    }
   ],
   "source": [
    "print(next(f))"
   ]
  },
  {
   "cell_type": "code",
   "execution_count": 85,
   "metadata": {},
   "outputs": [
    {
     "name": "stdout",
     "output_type": "stream",
     "text": [
      "3\n"
     ]
    }
   ],
   "source": [
    "print(next(f))"
   ]
  },
  {
   "cell_type": "code",
   "execution_count": 86,
   "metadata": {},
   "outputs": [
    {
     "name": "stdout",
     "output_type": "stream",
     "text": [
      "5\n"
     ]
    }
   ],
   "source": [
    "print(next(f))"
   ]
  },
  {
   "cell_type": "code",
   "execution_count": 87,
   "metadata": {},
   "outputs": [
    {
     "name": "stdout",
     "output_type": "stream",
     "text": [
      "8\n"
     ]
    }
   ],
   "source": [
    "print(next(f))"
   ]
  },
  {
   "cell_type": "code",
   "execution_count": 88,
   "metadata": {},
   "outputs": [],
   "source": [
    "for i in f:\n",
    "    print(i) #next次数达到6次，不再print；如果前面没有next过，则print 112358"
   ]
  },
  {
   "cell_type": "code",
   "execution_count": 89,
   "metadata": {},
   "outputs": [],
   "source": [
    "def num_list(n):\n",
    "    for i in range(n):\n",
    "        return i #第一遍i = 0就return了"
   ]
  },
  {
   "cell_type": "code",
   "execution_count": 90,
   "metadata": {},
   "outputs": [
    {
     "data": {
      "text/plain": [
       "0"
      ]
     },
     "execution_count": 90,
     "metadata": {},
     "output_type": "execute_result"
    }
   ],
   "source": [
    "num_list(5)"
   ]
  },
  {
   "cell_type": "code",
   "execution_count": 95,
   "metadata": {},
   "outputs": [
    {
     "data": {
      "text/plain": [
       "0"
      ]
     },
     "execution_count": 95,
     "metadata": {},
     "output_type": "execute_result"
    }
   ],
   "source": [
    "num_list(5)"
   ]
  },
  {
   "cell_type": "code",
   "execution_count": 96,
   "metadata": {},
   "outputs": [],
   "source": [
    "def num_list_y(n):\n",
    "    for i in range(n):\n",
    "        yield i #每个循环都有个next，yield工作五次"
   ]
  },
  {
   "cell_type": "code",
   "execution_count": 99,
   "metadata": {},
   "outputs": [],
   "source": [
    "a = num_list_y(5)"
   ]
  },
  {
   "cell_type": "code",
   "execution_count": 100,
   "metadata": {},
   "outputs": [
    {
     "data": {
      "text/plain": [
       "0"
      ]
     },
     "execution_count": 100,
     "metadata": {},
     "output_type": "execute_result"
    }
   ],
   "source": [
    "next(a)"
   ]
  },
  {
   "cell_type": "code",
   "execution_count": 101,
   "metadata": {},
   "outputs": [
    {
     "data": {
      "text/plain": [
       "1"
      ]
     },
     "execution_count": 101,
     "metadata": {},
     "output_type": "execute_result"
    }
   ],
   "source": [
    "next(a)"
   ]
  },
  {
   "cell_type": "code",
   "execution_count": 102,
   "metadata": {},
   "outputs": [
    {
     "data": {
      "text/plain": [
       "[2, 3, 4]"
      ]
     },
     "execution_count": 102,
     "metadata": {},
     "output_type": "execute_result"
    }
   ],
   "source": [
    "list(a)"
   ]
  },
  {
   "cell_type": "code",
   "execution_count": 103,
   "metadata": {},
   "outputs": [
    {
     "data": {
      "text/plain": [
       "[]"
      ]
     },
     "execution_count": 103,
     "metadata": {},
     "output_type": "execute_result"
    }
   ],
   "source": [
    "list(a) #yield是一次性的"
   ]
  },
  {
   "cell_type": "code",
   "execution_count": 104,
   "metadata": {},
   "outputs": [
    {
     "data": {
      "text/plain": [
       "<function __main__.<lambda>(x, y)>"
      ]
     },
     "execution_count": 104,
     "metadata": {},
     "output_type": "execute_result"
    }
   ],
   "source": [
    "lambda x,y: (x**2 + y**2)**.5"
   ]
  },
  {
   "cell_type": "markdown",
   "metadata": {},
   "source": [
    "range(a,b,c): from *a* to *b* (includes *a* , not includes *b*), each step is *c*."
   ]
  },
  {
   "cell_type": "markdown",
   "metadata": {},
   "source": [
    "arguments of range must be integers"
   ]
  },
  {
   "cell_type": "code",
   "execution_count": 119,
   "metadata": {},
   "outputs": [
    {
     "data": {
      "text/plain": [
       "['a', 'b', 'c']"
      ]
     },
     "execution_count": 119,
     "metadata": {},
     "output_type": "execute_result"
    }
   ],
   "source": [
    "temp = 'abc'\n",
    "lm = map(lambda x: x+'b',temp)\n",
    "list(lm)"
   ]
  },
  {
   "cell_type": "code",
   "execution_count": null,
   "metadata": {},
   "outputs": [],
   "source": []
  }
 ],
 "metadata": {
  "colab": {
   "name": "SI_507_W4L2_WebAPIs.ipynb",
   "private_outputs": true,
   "provenance": []
  },
  "kernelspec": {
   "display_name": "Python 3 (ipykernel)",
   "language": "python",
   "name": "python3"
  },
  "language_info": {
   "codemirror_mode": {
    "name": "ipython",
    "version": 3
   },
   "file_extension": ".py",
   "mimetype": "text/x-python",
   "name": "python",
   "nbconvert_exporter": "python",
   "pygments_lexer": "ipython3",
   "version": "3.8.13"
  }
 },
 "nbformat": 4,
 "nbformat_minor": 1
}
