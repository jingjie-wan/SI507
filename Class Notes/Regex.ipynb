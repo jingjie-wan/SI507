{
 "cells": [
  {
   "cell_type": "code",
   "execution_count": 1,
   "id": "579e1dae",
   "metadata": {},
   "outputs": [],
   "source": [
    "pat = \"ab\"\n",
    "import re"
   ]
  },
  {
   "cell_type": "code",
   "execution_count": 4,
   "id": "96b46886",
   "metadata": {},
   "outputs": [
    {
     "data": {
      "text/plain": [
       "<re.Match object; span=(5, 7), match='ab'>"
      ]
     },
     "execution_count": 4,
     "metadata": {},
     "output_type": "execute_result"
    }
   ],
   "source": [
    "re.search(pat,\"fooaaabcde\") #Search looks for the first instance of the pattern anywhere in a string"
   ]
  },
  {
   "cell_type": "code",
   "execution_count": 7,
   "id": "68712ce6",
   "metadata": {},
   "outputs": [
    {
     "name": "stdout",
     "output_type": "stream",
     "text": [
      "None\n"
     ]
    }
   ],
   "source": [
    "print(re.match(pat,\"fooaaabcde\")) #match return None if the pattern not found at the beginning of the string"
   ]
  },
  {
   "cell_type": "code",
   "execution_count": 8,
   "id": "233ef09f",
   "metadata": {},
   "outputs": [],
   "source": [
    "pat = \"a*b\" # * matches 0 or more occurrences of the preceding character, such as b, aaaaab"
   ]
  },
  {
   "cell_type": "code",
   "execution_count": 9,
   "id": "c6ada7a6",
   "metadata": {},
   "outputs": [],
   "source": [
    "r1 = re.search(pat,\"fooaaabcde\")"
   ]
  },
  {
   "cell_type": "code",
   "execution_count": 10,
   "id": "338714fe",
   "metadata": {},
   "outputs": [
    {
     "data": {
      "text/plain": [
       "'aaab'"
      ]
     },
     "execution_count": 10,
     "metadata": {},
     "output_type": "execute_result"
    }
   ],
   "source": [
    "r1.group()  # group returns string matched"
   ]
  },
  {
   "cell_type": "code",
   "execution_count": 11,
   "id": "8614161d",
   "metadata": {},
   "outputs": [
    {
     "data": {
      "text/plain": [
       "3"
      ]
     },
     "execution_count": 11,
     "metadata": {},
     "output_type": "execute_result"
    }
   ],
   "source": [
    "r1.start()  # index of the match start"
   ]
  },
  {
   "cell_type": "code",
   "execution_count": 12,
   "id": "b3a3541a",
   "metadata": {},
   "outputs": [
    {
     "data": {
      "text/plain": [
       "7"
      ]
     },
     "execution_count": 12,
     "metadata": {},
     "output_type": "execute_result"
    }
   ],
   "source": [
    "r1.end()# index of the match end (Exclusive)"
   ]
  },
  {
   "cell_type": "code",
   "execution_count": 13,
   "id": "2f6f6c28",
   "metadata": {},
   "outputs": [
    {
     "data": {
      "text/plain": [
       "(3, 7)"
      ]
     },
     "execution_count": 13,
     "metadata": {},
     "output_type": "execute_result"
    }
   ],
   "source": [
    "r1.span()   # tuple of (start, end): 3, 4, 5, 6"
   ]
  },
  {
   "cell_type": "code",
   "execution_count": 16,
   "id": "c1e7355e",
   "metadata": {},
   "outputs": [
    {
     "name": "stdout",
     "output_type": "stream",
     "text": [
      "['From:']\n"
     ]
    }
   ],
   "source": [
    "#Match is greedy\n",
    "x = 'From: Using the : character'\n",
    "y = re.findall('^F.+:', x)\n",
    "print(y)"
   ]
  },
  {
   "cell_type": "code",
   "execution_count": 21,
   "id": "59161321",
   "metadata": {},
   "outputs": [
    {
     "name": "stdout",
     "output_type": "stream",
     "text": [
      "['From:']\n"
     ]
    }
   ],
   "source": [
    "#Not greedy:\n",
    "y = re.findall('^F.+?:', x)\n",
    "print(y)"
   ]
  },
  {
   "cell_type": "code",
   "execution_count": 22,
   "id": "5583fe41",
   "metadata": {},
   "outputs": [
    {
     "data": {
      "text/plain": [
       "'amadaman@umich.edu'"
      ]
     },
     "execution_count": 22,
     "metadata": {},
     "output_type": "execute_result"
    }
   ],
   "source": [
    "pat1 = \"\\w+@(\\w+\\.)+(com|org|net|edu)\"\n",
    "r1 = re.match(pat1,\"amadaman@umich.edu\")\n",
    "r1.group()"
   ]
  },
  {
   "cell_type": "code",
   "execution_count": 27,
   "id": "e01bc4f9",
   "metadata": {},
   "outputs": [
    {
     "data": {
      "text/plain": [
       "['This', 'is', 'a', 'test', 'short', 'and', 'sweet', 'of', 'split', '']"
      ]
     },
     "execution_count": 27,
     "metadata": {},
     "output_type": "execute_result"
    }
   ],
   "source": [
    "re.split(\"\\W+\", \"This... is a test, short and sweet, of split().\")"
   ]
  },
  {
   "cell_type": "code",
   "execution_count": 28,
   "id": "dfc0c184",
   "metadata": {},
   "outputs": [
    {
     "data": {
      "text/plain": [
       "'black socks and black shoes'"
      ]
     },
     "execution_count": 28,
     "metadata": {},
     "output_type": "execute_result"
    }
   ],
   "source": [
    "#re.sub substitutes one string for a pattern\n",
    "re.sub('(blue|white|red)', 'black', 'blue socks and red shoes')"
   ]
  },
  {
   "cell_type": "code",
   "execution_count": 31,
   "id": "25505024",
   "metadata": {},
   "outputs": [
    {
     "data": {
      "text/plain": [
       "['12', '11', '1']"
      ]
     },
     "execution_count": 31,
     "metadata": {},
     "output_type": "execute_result"
    }
   ],
   "source": [
    "#re.findall() finds all matches\n",
    "re.findall(\"\\d+\",\"12 dogs,11 cats, 1 egg\")"
   ]
  },
  {
   "cell_type": "code",
   "execution_count": 36,
   "id": "a0aed653",
   "metadata": {},
   "outputs": [
    {
     "name": "stdout",
     "output_type": "stream",
     "text": [
      "amadaman@umich.edu\n",
      "('umich.', 'edu')\n"
     ]
    }
   ],
   "source": [
    "#Compile a re pattern to a re object\n",
    "cpat3 = re.compile(pat1)\n",
    "r3 = cpat3.search(\"amadaman@umich.edu\")\n",
    "print(r3.group())\n",
    "print(r3.groups())"
   ]
  },
  {
   "cell_type": "code",
   "execution_count": 40,
   "id": "9183f190",
   "metadata": {},
   "outputs": [
    {
     "data": {
      "text/plain": [
       "True"
      ]
     },
     "execution_count": 40,
     "metadata": {},
     "output_type": "execute_result"
    }
   ],
   "source": [
    "#Write a Python function that uses re to check whether a string has a word containing 'b'.\n",
    "pattern2 = '\\Bb\\B'\n",
    "r = re.search(pattern2, \"The Timberwolves season has started disastrously\")\n",
    "r != None"
   ]
  },
  {
   "cell_type": "code",
   "execution_count": null,
   "id": "d7bef9dc",
   "metadata": {},
   "outputs": [],
   "source": []
  }
 ],
 "metadata": {
  "kernelspec": {
   "display_name": "Python 3 (ipykernel)",
   "language": "python",
   "name": "python3"
  },
  "language_info": {
   "codemirror_mode": {
    "name": "ipython",
    "version": 3
   },
   "file_extension": ".py",
   "mimetype": "text/x-python",
   "name": "python",
   "nbconvert_exporter": "python",
   "pygments_lexer": "ipython3",
   "version": "3.8.13"
  }
 },
 "nbformat": 4,
 "nbformat_minor": 5
}
