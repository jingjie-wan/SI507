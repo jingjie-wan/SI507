{
 "cells": [
  {
   "cell_type": "markdown",
   "metadata": {
    "colab_type": "text",
    "id": "4tNHnzms9pKZ"
   },
   "source": [
    "# **Working with JSON**\n",
    "\n",
    "JSON often looks like dictionaries or lists, but it is simply text. \n",
    "\n",
    "Lets look again at the JSON output of our last `requests` query"
   ]
  },
  {
   "cell_type": "code",
   "execution_count": 1,
   "metadata": {
    "colab": {},
    "colab_type": "code",
    "id": "v43YFGaN9osc"
   },
   "outputs": [
    {
     "name": "stdout",
     "output_type": "stream",
     "text": [
      "[{\"word\":\"to\",\"score\":18213,\"numSyllables\":1},{\"word\":\"through\",\"score\":9356,\"numSyllables\":1},{\"word\":\"into\",\"score\":6075,\"numSyllables\":2},{\"word\":\"do\",\"score\":4809,\"numSyllables\":1},{\"word\":\"you\",\"score\":4268,\"numSyllables\":1},{\"word\":\"que\",\"score\":3889,\"numSyllables\":1},{\"word\":\"view\",\"score\":3265,\"numSyllables\":1},{\"word\":\"pursue\",\"score\":3238,\"numSyllables\":2},{\"word\":\"hew\",\"score\":3108,\"numSyllables\":1},{\"word\":\"purview\",\"score\":3087,\"numSyllables\":2},{\"word\":\"review\",\"score\":2993,\"numSyllables\":2},{\"word\":\"queue\",\"score\":2900,\"numSyllables\":1},{\"word\":\"eschew\",\"score\":2813,\"numSyllables\":2},{\"word\":\"accrue\",\"score\":2668,\"numSyllables\":2},{\"word\":\"cue\",\"score\":2562,\"numSyllables\":1},{\"word\":\"new\",\"score\":2438,\"numSyllables\":1},{\"word\":\"true\",\"score\":2418,\"numSyllables\":1},{\"word\":\"due\",\"score\":2408,\"numSyllables\":1},{\"word\":\"two\",\"score\":2309,\"numSyllables\":1},{\"word\":\"screw\",\"score\":2174,\"numSyllables\":1},{\"word\":\"coup\",\"score\":1966,\"numSyllables\":1},{\"word\":\"rue\",\"score\":1951,\"numSyllables\":1},{\"word\":\"slew\",\"score\":1884,\"numSyllables\":1},{\"word\":\"revenue\",\"score\":1882,\"numSyllables\":3},{\"word\":\"shoe\",\"score\":1856,\"numSyllables\":1},{\"word\":\"imbue\",\"score\":1817,\"numSyllables\":2},{\"word\":\"crew\",\"score\":1759,\"numSyllables\":1},{\"word\":\"too\",\"score\":1758,\"numSyllables\":1},{\"word\":\"u\",\"score\":1746,\"numSyllables\":1},{\"word\":\"hue\",\"score\":1738,\"numSyllables\":1},{\"word\":\"lieu\",\"score\":1675,\"numSyllables\":1},{\"word\":\"tissue\",\"score\":1667,\"numSyllables\":2},{\"word\":\"skew\",\"score\":1641,\"numSyllables\":1},{\"word\":\"ensue\",\"score\":1527,\"numSyllables\":2},{\"word\":\"stew\",\"score\":1523,\"numSyllables\":1},{\"word\":\"few\",\"score\":1489,\"numSyllables\":1},{\"word\":\"rendezvous\",\"score\":1427,\"numSyllables\":3},{\"word\":\"construe\",\"score\":1386,\"numSyllables\":2},{\"word\":\"avenue\",\"score\":1385,\"numSyllables\":3},{\"word\":\"breakthrough\",\"score\":1368,\"numSyllables\":2},{\"word\":\"guru\",\"score\":1329,\"numSyllables\":2},{\"word\":\"brew\",\"score\":1328,\"numSyllables\":1},{\"word\":\"debut\",\"score\":1324,\"numSyllables\":2},{\"word\":\"sue\",\"score\":1310,\"numSyllables\":1},{\"word\":\"who\",\"score\":1302,\"numSyllables\":1},{\"word\":\"ado\",\"score\":1295,\"numSyllables\":2},{\"word\":\"boo\",\"score\":1295,\"numSyllables\":1},{\"word\":\"flu\",\"score\":1279,\"numSyllables\":1},{\"word\":\"hitherto\",\"score\":1276,\"numSyllables\":3},{\"word\":\"strew\",\"score\":1263,\"numSyllables\":1},{\"word\":\"woo\",\"score\":1221,\"numSyllables\":1},{\"word\":\"overview\",\"score\":1208,\"numSyllables\":3},{\"word\":\"shrew\",\"score\":1201,\"numSyllables\":1},{\"word\":\"taboo\",\"score\":1194,\"numSyllables\":2},{\"word\":\"ewe\",\"score\":1190,\"numSyllables\":1},{\"word\":\"yahoo\",\"score\":1187,\"numSyllables\":2},{\"word\":\"glue\",\"score\":1182,\"numSyllables\":1},{\"word\":\"coo\",\"score\":1180,\"numSyllables\":1},{\"word\":\"bamboo\",\"score\":1163,\"numSyllables\":2},{\"word\":\"subdue\",\"score\":1159,\"numSyllables\":2},{\"word\":\"clue\",\"score\":1157,\"numSyllables\":1},{\"word\":\"loo\",\"score\":1145,\"numSyllables\":1},{\"word\":\"redo\",\"score\":1121,\"numSyllables\":2},{\"word\":\"outdo\",\"score\":1098,\"numSyllables\":2},{\"word\":\"undo\",\"score\":1066,\"numSyllables\":2},{\"word\":\"tattoo\",\"score\":1059,\"numSyllables\":2},{\"word\":\"retinue\",\"score\":1057,\"numSyllables\":3},{\"word\":\"poo\",\"score\":1040,\"numSyllables\":1},{\"word\":\"undue\",\"score\":1025,\"numSyllables\":2},{\"word\":\"pew\",\"score\":1015,\"numSyllables\":1},{\"word\":\"spew\",\"score\":1002,\"numSyllables\":1},{\"word\":\"thru\",\"score\":1001,\"numSyllables\":1},{\"word\":\"askew\",\"score\":981,\"numSyllables\":2},{\"word\":\"adieu\",\"score\":969,\"numSyllables\":2},{\"word\":\"vue\",\"score\":964,\"numSyllables\":1},{\"word\":\"q\",\"score\":961,\"numSyllables\":1},{\"word\":\"ingenue\",\"score\":956,\"numSyllables\":3},{\"word\":\"goo\",\"score\":946,\"numSyllables\":1},{\"word\":\"statue\",\"score\":937,\"numSyllables\":2},{\"word\":\"interview\",\"score\":933,\"numSyllables\":3},{\"word\":\"lulu\",\"score\":894,\"numSyllables\":2},{\"word\":\"dew\",\"score\":887,\"numSyllables\":1},{\"word\":\"barbecue\",\"score\":879,\"numSyllables\":3},{\"word\":\"anew\",\"score\":874,\"numSyllables\":2},{\"word\":\"vu\",\"score\":871,\"numSyllables\":1},{\"word\":\"yew\",\"score\":865,\"numSyllables\":1},{\"word\":\"cuckoo\",\"score\":858,\"numSyllables\":2},{\"word\":\"renew\",\"score\":857,\"numSyllables\":2},{\"word\":\"canoe\",\"score\":832,\"numSyllables\":2},{\"word\":\"xu\",\"score\":829,\"numSyllables\":1},{\"word\":\"emu\",\"score\":827,\"numSyllables\":2},{\"word\":\"residue\",\"score\":817,\"numSyllables\":3},{\"word\":\"chew\",\"score\":814,\"numSyllables\":1},{\"word\":\"shue\",\"score\":810,\"numSyllables\":1},{\"word\":\"gnu\",\"score\":789,\"numSyllables\":1},{\"word\":\"flue\",\"score\":778,\"numSyllables\":1},{\"word\":\"mew\",\"score\":774,\"numSyllables\":1},{\"word\":\"zoo\",\"score\":770,\"numSyllables\":1},{\"word\":\"overdo\",\"score\":768,\"numSyllables\":3},{\"word\":\"roux\",\"score\":762,\"numSyllables\":1}]\n"
     ]
    }
   ],
   "source": [
    "import requests\n",
    "\n",
    "response = requests.get(\"http://api.datamuse.com/words?rel_rhy=blue\")\n",
    "print(response.text)"
   ]
  },
  {
   "cell_type": "markdown",
   "metadata": {
    "colab_type": "text",
    "id": "5eym4XWE-hds"
   },
   "source": [
    "This JSON output is text formatted as a list of dictoinaries. \n",
    "\n",
    "There are 3 keys in each dictionary (word, score, and numSyllables)\n",
    "\n",
    "The values of those keys are a `str`, an `int`, and an `int`\n",
    "\n",
    "To convert this JSON string into a python object - use the `json.loads()` from the `json` library.  "
   ]
  },
  {
   "cell_type": "code",
   "execution_count": 2,
   "metadata": {
    "colab": {},
    "colab_type": "code",
    "id": "bnL1iWUr9dr7"
   },
   "outputs": [
    {
     "name": "stdout",
     "output_type": "stream",
     "text": [
      "<class 'str'>\n",
      "<class 'list'>\n",
      "<class 'dict'>\n",
      "through\n"
     ]
    }
   ],
   "source": [
    "import json\n",
    "\n",
    "json_str = response.text\n",
    "\n",
    "rhymes_with_blue_List_of_Dict = json.loads(json_str)\n",
    "\n",
    "print(type(json_str))\n",
    "print(type(rhymes_with_blue_List_of_Dict))\n",
    "print(type(rhymes_with_blue_List_of_Dict[0]))\n",
    "print(rhymes_with_blue_List_of_Dict[1][\"word\"])"
   ]
  },
  {
   "cell_type": "markdown",
   "metadata": {
    "colab_type": "text",
    "id": "_9XMVvV7_8Em"
   },
   "source": [
    "You can also copy in a JSON string using the `'''        '''` literals for multi-line strings.\n",
    "\n",
    "\n",
    "To go from a python object to a JSON string, use `json.dumps()` (opposite to `json.loads()`)"
   ]
  },
  {
   "cell_type": "code",
   "execution_count": 3,
   "metadata": {
    "colab": {},
    "colab_type": "code",
    "id": "6Mgb-NbDAiXx"
   },
   "outputs": [
    {
     "name": "stdout",
     "output_type": "stream",
     "text": [
      "<class 'str'>\n",
      "{\"g\": \"grape\", \"p\": \"plum\", \"n\": \"nectarine\"}\n"
     ]
    }
   ],
   "source": [
    "\n",
    "the_dict = {'g': 'grape', 'p': 'plum', 'n': 'nectarine'}\n",
    "dict_json_str = json.dumps(the_dict)\n",
    "print(type(dict_json_str))\n",
    "print(dict_json_str)"
   ]
  },
  {
   "cell_type": "markdown",
   "metadata": {
    "colab_type": "text",
    "id": "rHBQirG7A2RM"
   },
   "source": [
    "## **Constructing Objects with JSON**\n",
    "\n",
    "To practice constructing an object with JSON we will use the Star Wars API (https://swapi.dev/documentation#schema) that you were introduced to in 506. We will use the People Query (https://swapi.dev/documentation#people).\n",
    "\n",
    "Let's examine the first person in the People list. \n",
    "\n",
    "you can navigate to: https://swapi.dev/api/people/?search=Skywalker to examine that JSON string in detail.\n",
    "\n",
    "``` \n",
    "{\n",
    "    \"count\": 3, \n",
    "    \"next\": null, \n",
    "    \"previous\": null, \n",
    "    \"results\": [\n",
    "        {\n",
    "            \"name\": \"Luke Skywalker\", \n",
    "            \"height\": \"172\", \n",
    "            \"mass\": \"77\", \n",
    "            \"hair_color\": \"blond\", \n",
    "            \"skin_color\": \"fair\", \n",
    "            \"eye_color\": \"blue\", \n",
    "            \"birth_year\": \"19BBY\", \n",
    "            \"gender\": \"male\", \n",
    "            \"homeworld\": \"http://swapi.dev/api/planets/1/\", \n",
    "            \"films\": [\n",
    "                \"http://swapi.dev/api/films/1/\", \n",
    "                \"http://swapi.dev/api/films/2/\", \n",
    "                \"http://swapi.dev/api/films/3/\", \n",
    "                \"http://swapi.dev/api/films/6/\"\n",
    "            ], \n",
    "            \"species\": [], \n",
    "            \"vehicles\": [\n",
    "                \"http://swapi.dev/api/vehicles/14/\", \n",
    "                \"http://swapi.dev/api/vehicles/30/\"\n",
    "            ], \n",
    "            \"starships\": [\n",
    "                \"http://swapi.dev/api/starships/12/\", \n",
    "                \"http://swapi.dev/api/starships/22/\"\n",
    "            ], \n",
    "            \"created\": \"2014-12-09T13:50:51.644000Z\", \n",
    "            \"edited\": \"2014-12-20T21:17:56.891000Z\", \n",
    "            \"url\": \"http://swapi.dev/api/people/1/\"\n",
    "        }, \n",
    "        {\n",
    "            \"name\": \"Anakin Skywalker\", \n",
    "            \"height\": \"188\", \n",
    "            \"mass\": \"84\", \n",
    "            \"hair_color\": \"blond\", \n",
    "            \"skin_color\": \"fair\", \n",
    "            \"eye_color\": \"blue\", \n",
    "            \"birth_year\": \"41.9BBY\", \n",
    "            \"gender\": \"male\", \n",
    "            \"homeworld\": \"http://swapi.dev/api/planets/1/\", \n",
    "            \"films\": [\n",
    "                \"http://swapi.dev/api/films/4/\", \n",
    "                \"http://swapi.dev/api/films/5/\", \n",
    "                \"http://swapi.dev/api/films/6/\"\n",
    "            ], \n",
    "            \"species\": [], \n",
    "            \"vehicles\": [\n",
    "                \"http://swapi.dev/api/vehicles/44/\", \n",
    "                \"http://swapi.dev/api/vehicles/46/\"\n",
    "            ], \n",
    "            \"starships\": [\n",
    "                \"http://swapi.dev/api/starships/39/\", \n",
    "                \"http://swapi.dev/api/starships/59/\", \n",
    "                \"http://swapi.dev/api/starships/65/\"\n",
    "            ], \n",
    "            \"created\": \"2014-12-10T16:20:44.310000Z\", \n",
    "            \"edited\": \"2014-12-20T21:17:50.327000Z\", \n",
    "            \"url\": \"http://swapi.dev/api/people/11/\"\n",
    "        }, \n",
    "        {\n",
    "            \"name\": \"Shmi Skywalker\", \n",
    "            \"height\": \"163\", \n",
    "            \"mass\": \"unknown\", \n",
    "            \"hair_color\": \"black\", \n",
    "            \"skin_color\": \"fair\", \n",
    "            \"eye_color\": \"brown\", \n",
    "            \"birth_year\": \"72BBY\", \n",
    "            \"gender\": \"female\", \n",
    "            \"homeworld\": \"http://swapi.dev/api/planets/1/\", \n",
    "            \"films\": [\n",
    "                \"http://swapi.dev/api/films/4/\", \n",
    "                \"http://swapi.dev/api/films/5/\"\n",
    "            ], \n",
    "            \"species\": [], \n",
    "            \"vehicles\": [], \n",
    "            \"starships\": [], \n",
    "            \"created\": \"2014-12-19T17:57:41.191000Z\", \n",
    "            \"edited\": \"2014-12-20T21:17:50.401000Z\", \n",
    "            \"url\": \"http://swapi.dev/api/people/43/\"\n",
    "        }]}\n",
    "```\n",
    "\n",
    "\n"
   ]
  },
  {
   "cell_type": "markdown",
   "metadata": {
    "colab_type": "text",
    "id": "adbdBpPlDopC"
   },
   "source": [
    "Notice that URLs are used as identifiers.\n",
    "\n",
    "Look at the value for the key \"species\"\n",
    "\n",
    "```\n",
    " \"species\": [\n",
    "     \"https://swapi.co/api/species/1/\"\n",
    "            ], \n",
    "```\n",
    "if we compare with R2-D2, we see \n",
    "```\n",
    "\"species\": [\n",
    "     \"https://swapi.co/api/species/2/\"\n",
    "            ], \n",
    "```\n",
    "So this doesn't actually tell us what the species is - we have to navigate 1 level further to find that information. \n",
    "\n",
    "if we go to https://swapi.dev/api/species/1/ we see\n",
    "```\n",
    "{\n",
    "    \"name\": \"Human\", \n",
    "    \"classification\": \"mammal\", \n",
    "    \"designation\": \"sentient\", \n",
    "    ...\n",
    "}\n",
    "```\n",
    "and for https://swapi.dev/api/species/2 we see\n",
    "```\n",
    "{\n",
    "    \"name\": \"Droid\", \n",
    "    \"classification\": \"artificial\", \n",
    "    \"designation\": \"sentient\", \n",
    "     ...\n",
    "}\n",
    "```\n",
    "this is an example of nested JSON objects. \n"
   ]
  },
  {
   "cell_type": "markdown",
   "metadata": {
    "colab_type": "text",
    "id": "J4huwd8TGMas"
   },
   "source": [
    "Lets make classes in python that have this same information for each person in Star Wars\n",
    "\n",
    "Starting simply we have:"
   ]
  },
  {
   "cell_type": "code",
   "execution_count": 4,
   "metadata": {
    "colab": {},
    "colab_type": "code",
    "id": "NkEIhFBWGbLA"
   },
   "outputs": [
    {
     "name": "stdout",
     "output_type": "stream",
     "text": [
      "Luke Skywalker is a Human\n",
      "C3PO is a Droid\n"
     ]
    }
   ],
   "source": [
    "class Character:\n",
    "    def __init__(self, nm, sp):\n",
    "        self.name = nm\n",
    "        self.species = sp\n",
    "\n",
    "    def info(self):\n",
    "        return self.name + \" is a \" + self.species\n",
    "\n",
    "luke = Character(\"Luke Skywalker\", \"Human\")\n",
    "c3po = Character(\"C3PO\", \"Droid\")\n",
    "\n",
    "print(luke.info())\n",
    "print(c3po.info())"
   ]
  },
  {
   "cell_type": "markdown",
   "metadata": {
    "colab_type": "text",
    "id": "iARz1y07GjB-"
   },
   "source": [
    "This is a good example of constructing objects by hand to test whether they work properly before automatically generating them. \n",
    "\n",
    "So how do we use the Star Wars API to make the rest. "
   ]
  },
  {
   "cell_type": "code",
   "execution_count": 5,
   "metadata": {
    "colab": {},
    "colab_type": "code",
    "id": "skbGzgadGico"
   },
   "outputs": [
    {
     "name": "stdout",
     "output_type": "stream",
     "text": [
      "{'count': 82, 'next': 'https://swapi.dev/api/people/?page=2', 'previous': None, 'results': [{'name': 'Luke Skywalker', 'height': '172', 'mass': '77', 'hair_color': 'blond', 'skin_color': 'fair', 'eye_color': 'blue', 'birth_year': '19BBY', 'gender': 'male', 'homeworld': 'https://swapi.dev/api/planets/1/', 'films': ['https://swapi.dev/api/films/1/', 'https://swapi.dev/api/films/2/', 'https://swapi.dev/api/films/3/', 'https://swapi.dev/api/films/6/'], 'species': [], 'vehicles': ['https://swapi.dev/api/vehicles/14/', 'https://swapi.dev/api/vehicles/30/'], 'starships': ['https://swapi.dev/api/starships/12/', 'https://swapi.dev/api/starships/22/'], 'created': '2014-12-09T13:50:51.644000Z', 'edited': '2014-12-20T21:17:56.891000Z', 'url': 'https://swapi.dev/api/people/1/'}, {'name': 'C-3PO', 'height': '167', 'mass': '75', 'hair_color': 'n/a', 'skin_color': 'gold', 'eye_color': 'yellow', 'birth_year': '112BBY', 'gender': 'n/a', 'homeworld': 'https://swapi.dev/api/planets/1/', 'films': ['https://swapi.dev/api/films/1/', 'https://swapi.dev/api/films/2/', 'https://swapi.dev/api/films/3/', 'https://swapi.dev/api/films/4/', 'https://swapi.dev/api/films/5/', 'https://swapi.dev/api/films/6/'], 'species': ['https://swapi.dev/api/species/2/'], 'vehicles': [], 'starships': [], 'created': '2014-12-10T15:10:51.357000Z', 'edited': '2014-12-20T21:17:50.309000Z', 'url': 'https://swapi.dev/api/people/2/'}, {'name': 'R2-D2', 'height': '96', 'mass': '32', 'hair_color': 'n/a', 'skin_color': 'white, blue', 'eye_color': 'red', 'birth_year': '33BBY', 'gender': 'n/a', 'homeworld': 'https://swapi.dev/api/planets/8/', 'films': ['https://swapi.dev/api/films/1/', 'https://swapi.dev/api/films/2/', 'https://swapi.dev/api/films/3/', 'https://swapi.dev/api/films/4/', 'https://swapi.dev/api/films/5/', 'https://swapi.dev/api/films/6/'], 'species': ['https://swapi.dev/api/species/2/'], 'vehicles': [], 'starships': [], 'created': '2014-12-10T15:11:50.376000Z', 'edited': '2014-12-20T21:17:50.311000Z', 'url': 'https://swapi.dev/api/people/3/'}, {'name': 'Darth Vader', 'height': '202', 'mass': '136', 'hair_color': 'none', 'skin_color': 'white', 'eye_color': 'yellow', 'birth_year': '41.9BBY', 'gender': 'male', 'homeworld': 'https://swapi.dev/api/planets/1/', 'films': ['https://swapi.dev/api/films/1/', 'https://swapi.dev/api/films/2/', 'https://swapi.dev/api/films/3/', 'https://swapi.dev/api/films/6/'], 'species': [], 'vehicles': [], 'starships': ['https://swapi.dev/api/starships/13/'], 'created': '2014-12-10T15:18:20.704000Z', 'edited': '2014-12-20T21:17:50.313000Z', 'url': 'https://swapi.dev/api/people/4/'}, {'name': 'Leia Organa', 'height': '150', 'mass': '49', 'hair_color': 'brown', 'skin_color': 'light', 'eye_color': 'brown', 'birth_year': '19BBY', 'gender': 'female', 'homeworld': 'https://swapi.dev/api/planets/2/', 'films': ['https://swapi.dev/api/films/1/', 'https://swapi.dev/api/films/2/', 'https://swapi.dev/api/films/3/', 'https://swapi.dev/api/films/6/'], 'species': [], 'vehicles': ['https://swapi.dev/api/vehicles/30/'], 'starships': [], 'created': '2014-12-10T15:20:09.791000Z', 'edited': '2014-12-20T21:17:50.315000Z', 'url': 'https://swapi.dev/api/people/5/'}, {'name': 'Owen Lars', 'height': '178', 'mass': '120', 'hair_color': 'brown, grey', 'skin_color': 'light', 'eye_color': 'blue', 'birth_year': '52BBY', 'gender': 'male', 'homeworld': 'https://swapi.dev/api/planets/1/', 'films': ['https://swapi.dev/api/films/1/', 'https://swapi.dev/api/films/5/', 'https://swapi.dev/api/films/6/'], 'species': [], 'vehicles': [], 'starships': [], 'created': '2014-12-10T15:52:14.024000Z', 'edited': '2014-12-20T21:17:50.317000Z', 'url': 'https://swapi.dev/api/people/6/'}, {'name': 'Beru Whitesun lars', 'height': '165', 'mass': '75', 'hair_color': 'brown', 'skin_color': 'light', 'eye_color': 'blue', 'birth_year': '47BBY', 'gender': 'female', 'homeworld': 'https://swapi.dev/api/planets/1/', 'films': ['https://swapi.dev/api/films/1/', 'https://swapi.dev/api/films/5/', 'https://swapi.dev/api/films/6/'], 'species': [], 'vehicles': [], 'starships': [], 'created': '2014-12-10T15:53:41.121000Z', 'edited': '2014-12-20T21:17:50.319000Z', 'url': 'https://swapi.dev/api/people/7/'}, {'name': 'R5-D4', 'height': '97', 'mass': '32', 'hair_color': 'n/a', 'skin_color': 'white, red', 'eye_color': 'red', 'birth_year': 'unknown', 'gender': 'n/a', 'homeworld': 'https://swapi.dev/api/planets/1/', 'films': ['https://swapi.dev/api/films/1/'], 'species': ['https://swapi.dev/api/species/2/'], 'vehicles': [], 'starships': [], 'created': '2014-12-10T15:57:50.959000Z', 'edited': '2014-12-20T21:17:50.321000Z', 'url': 'https://swapi.dev/api/people/8/'}, {'name': 'Biggs Darklighter', 'height': '183', 'mass': '84', 'hair_color': 'black', 'skin_color': 'light', 'eye_color': 'brown', 'birth_year': '24BBY', 'gender': 'male', 'homeworld': 'https://swapi.dev/api/planets/1/', 'films': ['https://swapi.dev/api/films/1/'], 'species': [], 'vehicles': [], 'starships': ['https://swapi.dev/api/starships/12/'], 'created': '2014-12-10T15:59:50.509000Z', 'edited': '2014-12-20T21:17:50.323000Z', 'url': 'https://swapi.dev/api/people/9/'}, {'name': 'Obi-Wan Kenobi', 'height': '182', 'mass': '77', 'hair_color': 'auburn, white', 'skin_color': 'fair', 'eye_color': 'blue-gray', 'birth_year': '57BBY', 'gender': 'male', 'homeworld': 'https://swapi.dev/api/planets/20/', 'films': ['https://swapi.dev/api/films/1/', 'https://swapi.dev/api/films/2/', 'https://swapi.dev/api/films/3/', 'https://swapi.dev/api/films/4/', 'https://swapi.dev/api/films/5/', 'https://swapi.dev/api/films/6/'], 'species': [], 'vehicles': ['https://swapi.dev/api/vehicles/38/'], 'starships': ['https://swapi.dev/api/starships/48/', 'https://swapi.dev/api/starships/59/', 'https://swapi.dev/api/starships/64/', 'https://swapi.dev/api/starships/65/', 'https://swapi.dev/api/starships/74/'], 'created': '2014-12-10T16:16:29.192000Z', 'edited': '2014-12-20T21:17:50.325000Z', 'url': 'https://swapi.dev/api/people/10/'}]}\n"
     ]
    }
   ],
   "source": [
    "import requests\n",
    "\n",
    "BASE_URL = \"http://swapi.dev/api/people\" # only interested in people\n",
    "resp = requests.get(BASE_URL)\n",
    "results_object = resp.json() # same as calling json.loads(resp.text)\n",
    "print(results_object)\n",
    "#exit()"
   ]
  },
  {
   "cell_type": "markdown",
   "metadata": {
    "colab_type": "text",
    "id": "ge4OpKpsHOAe"
   },
   "source": [
    "That get request fetched a lot of data - but its hard to understand its structure.\n",
    "\n",
    "If we navigate to https://swapi.dev/api/people we can see what that endpoint returns with no parameters\n",
    "\n",
    "![picture](https://drive.google.com/uc?export=view&id=1PyrhdzRRFDlqZj7rq7-EFdLHfzLVCvdG)\n"
   ]
  },
  {
   "cell_type": "markdown",
   "metadata": {
    "colab_type": "text",
    "id": "l2jM1P2fIchP"
   },
   "source": [
    "The JSON output is structured as a dictrionary of dictionaries (not a list of dictionaries as we saw in Datamuse)\n",
    "\n",
    "There are 4 keys: \"count\", \"next\", \"previous\", and \"results\". \n",
    "\n",
    "Can you think of anything related to the internet that might have those 4 elements?\n",
    "\n",
    "All of the people we are interested in are located as dictionaries within \"results\".  So we can extract that using the following command \n",
    "\n"
   ]
  },
  {
   "cell_type": "code",
   "execution_count": 6,
   "metadata": {
    "colab": {},
    "colab_type": "code",
    "id": "0JdLt2NkJtOI"
   },
   "outputs": [
    {
     "name": "stdout",
     "output_type": "stream",
     "text": [
      "{'name': 'Luke Skywalker', 'height': '172', 'mass': '77', 'hair_color': 'blond', 'skin_color': 'fair', 'eye_color': 'blue', 'birth_year': '19BBY', 'gender': 'male', 'homeworld': 'https://swapi.dev/api/planets/1/', 'films': ['https://swapi.dev/api/films/1/', 'https://swapi.dev/api/films/2/', 'https://swapi.dev/api/films/3/', 'https://swapi.dev/api/films/6/'], 'species': [], 'vehicles': ['https://swapi.dev/api/vehicles/14/', 'https://swapi.dev/api/vehicles/30/'], 'starships': ['https://swapi.dev/api/starships/12/', 'https://swapi.dev/api/starships/22/'], 'created': '2014-12-09T13:50:51.644000Z', 'edited': '2014-12-20T21:17:56.891000Z', 'url': 'https://swapi.dev/api/people/1/'}\n"
     ]
    }
   ],
   "source": [
    "import requests\n",
    "import json\n",
    "\n",
    "BASE_URL = \"http://swapi.dev/api/people\" # only interested in people\n",
    "\n",
    "resp = requests.get(BASE_URL)\n",
    "json_str = resp.text\n",
    "Results_Dictionary = json.loads(json_str)\n",
    "\n",
    "### note instead of using the json library we can simply do this by using the \n",
    "### the built-in capability of requests\n",
    "### try the following 'Results_Dictionary = resp.json()' instead of\n",
    "### the two commands above this comment\n",
    "\n",
    "people_list = Results_Dictionary[\"results\"]\n",
    "print(people_list[0]) # print the first person in the list\n"
   ]
  },
  {
   "cell_type": "markdown",
   "metadata": {
    "colab_type": "text",
    "id": "jaAbBMooKUVt"
   },
   "source": [
    "To make sure we are getting data in the format we want we can inspect some of the relevant fields."
   ]
  },
  {
   "cell_type": "code",
   "execution_count": 8,
   "metadata": {
    "colab": {},
    "colab_type": "code",
    "id": "CB1dx_O-KTWT"
   },
   "outputs": [
    {
     "name": "stdout",
     "output_type": "stream",
     "text": [
      "Luke Skywalker\n",
      "C-3PO\n",
      "R2-D2\n",
      "Darth Vader\n",
      "Leia Organa\n",
      "Owen Lars\n",
      "Beru Whitesun lars\n",
      "R5-D4\n",
      "Biggs Darklighter\n",
      "Obi-Wan Kenobi\n"
     ]
    }
   ],
   "source": [
    "import requests\n",
    "\n",
    "BASE_URL = \"http://swapi.dev/api/people\" # only interested in people\n",
    "\n",
    "resp = requests.get(BASE_URL)\n",
    "results_object = resp.json() \n",
    "people_list = results_object[\"results\"]\n",
    "for p in people_list:\n",
    "    print(p[\"name\"])"
   ]
  },
  {
   "cell_type": "markdown",
   "metadata": {
    "colab_type": "text",
    "id": "Y5ku3brQMMkj"
   },
   "source": [
    "Now that we have extracted all the relevant data, we still have to automatically generate the instances of our class. \n",
    "\n",
    "There are several ways to do this, but today we will use a 'default constructor' that will give us versatitilty in how we take in data"
   ]
  },
  {
   "cell_type": "code",
   "execution_count": 12,
   "metadata": {
    "colab": {},
    "colab_type": "code",
    "id": "HoNSWZVGM0HJ"
   },
   "outputs": [
    {
     "name": "stdout",
     "output_type": "stream",
     "text": [
      "16\n",
      "16\n",
      "None\n"
     ]
    }
   ],
   "source": [
    "## here is a constructor that is structured to accept strings or numbers\n",
    "def square(n=None, s=None):\n",
    "    if (n is not None):\n",
    "        return n * n\n",
    "    elif (s is not None \n",
    "            and isinstance(s, str) \n",
    "            and s.isnumeric()): #s is a numeric str\n",
    "        return int(s) * int(s)\n",
    "    else: \n",
    "        return None # should throw an Error really...\n",
    "    \n",
    "print(square(n=4))\n",
    "print(square(s=\"4\"))\n",
    "print(square(s=\"Hello\"))"
   ]
  },
  {
   "cell_type": "markdown",
   "metadata": {
    "colab_type": "text",
    "id": "DVhD1ZnmNDlX"
   },
   "source": [
    "Comment throuh to see what this code is doing. \n",
    "\n",
    "Pay special attention to the \"None\" default value."
   ]
  },
  {
   "cell_type": "markdown",
   "metadata": {
    "colab_type": "text",
    "id": "7Y9SJlJaNXrT"
   },
   "source": [
    "We will use a similar pattern for our Character class so that we can add characters 'automatically' (with a dictionary) or 'manually' one at a time. "
   ]
  },
  {
   "cell_type": "code",
   "execution_count": 13,
   "metadata": {
    "colab": {},
    "colab_type": "code",
    "id": "pR-VLFjWNmtl"
   },
   "outputs": [
    {
     "name": "stdout",
     "output_type": "stream",
     "text": [
      "Luke Skywalker (Test) is a Human\n",
      "C3PO (Test) is a Droid\n"
     ]
    }
   ],
   "source": [
    "import requests\n",
    "\n",
    "class Character:\n",
    "    def __init__(self, nm='', sp='', character_data=None):\n",
    "        if (character_data is None):\n",
    "            self.name = nm\n",
    "            self.species = sp\n",
    "        else:\n",
    "            self.name = character_data['name']\n",
    "            if (character_data[\"species\"]\n",
    "                    == ['http://swapi.dev/api/species/2/']):\n",
    "                self.species = \"Droid\"\n",
    "            else:\n",
    "                self.species = \"Human\"\n",
    "                \n",
    "\n",
    "    def info(self):\n",
    "        return self.name + \" is a \" + self.species\n",
    "\n",
    "\n",
    "#### Testing the Character class\n",
    "luke = Character(\"Luke Skywalker (Test)\", \"Human\")\n",
    "c3po = Character(\"C3PO (Test)\", \"Droid\")\n",
    "\n",
    "print(luke.info())\n",
    "print(c3po.info())\n"
   ]
  },
  {
   "cell_type": "markdown",
   "metadata": {
    "colab_type": "text",
    "id": "26mv1u5mN0rv"
   },
   "source": [
    "Can you see how its set up to accept either manual or automatic instantiation?  Now lets test it with the data from swapi"
   ]
  },
  {
   "cell_type": "code",
   "execution_count": 14,
   "metadata": {
    "colab": {},
    "colab_type": "code",
    "id": "MyOOomiFN_FJ"
   },
   "outputs": [
    {
     "name": "stdout",
     "output_type": "stream",
     "text": [
      "Luke Skywalker is a Human\n",
      "C-3PO is a Human\n",
      "R2-D2 is a Human\n",
      "Darth Vader is a Human\n",
      "Leia Organa is a Human\n",
      "Owen Lars is a Human\n",
      "Beru Whitesun lars is a Human\n",
      "R5-D4 is a Human\n",
      "Biggs Darklighter is a Human\n",
      "Obi-Wan Kenobi is a Human\n"
     ]
    }
   ],
   "source": [
    "#### Fetching Character data from swapi.dev\n",
    "BASE_URL = \"http://swapi.dev/api/people\" # only interested in people\n",
    "\n",
    "resp = requests.get(BASE_URL)\n",
    "results_object = resp.json() \n",
    "people_list = results_object[\"results\"]\n",
    "characters = []\n",
    "\n",
    "#Instance1 = Character(character_data=people_list[0])\n",
    "for p in people_list:\n",
    "    characters.append(Character(character_data=p))\n",
    "\n",
    "for c in characters:\n",
    "    print(c.info())"
   ]
  },
  {
   "cell_type": "markdown",
   "metadata": {
    "colab_type": "text",
    "id": "u2JVmbO_OLev"
   },
   "source": [
    "Now lets look at an example with subclasses for Human characters."
   ]
  },
  {
   "cell_type": "code",
   "execution_count": 15,
   "metadata": {
    "colab": {},
    "colab_type": "code",
    "id": "LFk175dJOWvk"
   },
   "outputs": [
    {
     "name": "stdout",
     "output_type": "stream",
     "text": [
      "Luke Skywalker (Test) is a Human who has sandy hair\n",
      "C3PO (Test) is a Droid\n"
     ]
    }
   ],
   "source": [
    "import requests\n",
    "\n",
    "class Character:\n",
    "\n",
    "\n",
    "    def __init__(self, nm='', sp='', character_data=None):\n",
    "        if (character_data is None):\n",
    "            self.name = nm\n",
    "            self.species = sp\n",
    "        else:\n",
    "            self.name = character_data['name']\n",
    "            if (character_data[\"species\"]\n",
    "                    == [\"http://swapi.dev/api/species/2/\"]):\n",
    "                self.species = \"Droid\"\n",
    "            else:\n",
    "                self.species = \"Human\"\n",
    "                \n",
    "\n",
    "    def info(self):\n",
    "        return self.name + \" is a \" + self.species\n",
    "\n",
    "\n",
    "class Human(Character):\n",
    "\n",
    "\n",
    "    def __init__(self, nm='', hc='Unkowmn', character_data=None):\n",
    "        super().__init__(nm, 'Human', character_data=character_data)\n",
    "        if (character_data is None):\n",
    "            self.hair_color = hc\n",
    "        else:\n",
    "            self.hair_color = character_data['hair_color']\n",
    "\n",
    "\n",
    "    def info(self):\n",
    "        return super().info() + \" who has \" + self.hair_color + \" hair\"\n",
    "\n",
    "\n",
    "\n",
    "#### Testing the Character class\n",
    "luke = Human(\"Luke Skywalker (Test)\", \"sandy\")\n",
    "c3po = Character(\"C3PO (Test)\", \"Droid\")\n",
    "\n",
    "print(luke.info())\n",
    "print(c3po.info())\n",
    "\n",
    "\n"
   ]
  },
  {
   "cell_type": "code",
   "execution_count": 17,
   "metadata": {
    "colab": {},
    "colab_type": "code",
    "id": "B_d9eOBEvJin"
   },
   "outputs": [
    {
     "name": "stdout",
     "output_type": "stream",
     "text": [
      "Luke Skywalker is a Human who has blond hair\n",
      "C-3PO is a Human\n",
      "R2-D2 is a Human\n",
      "Darth Vader is a Human who has none hair\n",
      "Leia Organa is a Human who has brown hair\n",
      "Owen Lars is a Human who has brown, grey hair\n",
      "Beru Whitesun lars is a Human who has brown hair\n",
      "R5-D4 is a Human\n",
      "Biggs Darklighter is a Human who has black hair\n",
      "Obi-Wan Kenobi is a Human who has auburn, white hair\n"
     ]
    }
   ],
   "source": [
    "#### Fetching Character data from swapi.dev\n",
    "BASE_URL = \"http://swapi.dev/api/people\" # only interested in people\n",
    "\n",
    "resp = requests.get(BASE_URL)\n",
    "results_object = resp.json() \n",
    "people_list = results_object[\"results\"]\n",
    "characters = []\n",
    "\n",
    "for p in people_list:\n",
    "    if p[\"species\"] == []:\n",
    "        characters.append(Human(character_data=p))\n",
    "    else:   \n",
    "        characters.append(Character(character_data=p))\n",
    "\n",
    "for c in characters:\n",
    "    print(c.info())"
   ]
  },
  {
   "cell_type": "markdown",
   "metadata": {
    "colab_type": "text",
    "id": "h8xC2ohFOh9B"
   },
   "source": [
    "Next week we'll do Unit-testing and assign your project!\n"
   ]
  }
 ],
 "metadata": {
  "colab": {
   "name": "SI_507_W4L3_WorkingWithJSON.ipynb",
   "private_outputs": true,
   "provenance": []
  },
  "kernelspec": {
   "display_name": "Python 3",
   "language": "python",
   "name": "python3"
  },
  "language_info": {
   "codemirror_mode": {
    "name": "ipython",
    "version": 3
   },
   "file_extension": ".py",
   "mimetype": "text/x-python",
   "name": "python",
   "nbconvert_exporter": "python",
   "pygments_lexer": "ipython3",
   "version": "3.9.7 (tags/v3.9.7:1016ef3, Aug 30 2021, 20:19:38) [MSC v.1929 64 bit (AMD64)]"
  },
  "vscode": {
   "interpreter": {
    "hash": "7a08528582f853724fc93c4f812e566cdd9488c17622c4c4e7d2493c4c9bb764"
   }
  }
 },
 "nbformat": 4,
 "nbformat_minor": 1
}
