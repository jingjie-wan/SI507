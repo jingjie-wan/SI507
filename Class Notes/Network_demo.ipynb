{
 "cells": [
  {
   "cell_type": "markdown",
   "metadata": {
    "id": "R3o__ZM8-YCT"
   },
   "source": [
    "### Overview\n",
    "For this lesson, we're going to walk through network analysis of 17th century Quakers from the [Programming Historian Python network lesson](https://programminghistorian.org/en/lessons/exploring-and-analyzing-network-data-with-python).  This text and code below is entirely from the Programming Historian lesson, but I've reworked it to run on Colabs here.  When you're done with this lesson, check out the [D3 visualization here](https://observablehq.com/@mkane2/force-directed-graph-demo)."
   ]
  },
  {
   "cell_type": "markdown",
   "metadata": {
    "id": "3iBFxmw2UHWr"
   },
   "source": [
    "## Introduction\n",
    "### What might you learn from network data?\n",
    "Networks have long interested researchers in the humanities, but many recent scholars have progressed from a largely qualitative and metaphoric interest in links and connections to a more formal suite of quantitative tools for studying mediators, hubs (important nodes), and inter-connected structures. As sociologist Mark Granovetter pointed out in his important 1973 article “The Strength of Weak Ties,” it’s rarely enough to notice that two people were connected with one another. Factors such as their structural relation to further people and whether those additional people were themselves connected to one another have decisive influence on events. Insofar as even the most perceptive of scholars has difficulty perceiving, say, the overall shape of a network (its network “topology”) and identifying the nodes most significant for connecting groups, quantitative network analysis offers scholars a way to move relatively fluidly between the large scale social object (the “graph”) and the minute particularities of people and social ties.\n",
    "\n",
    "This tutorial will help you answer questions such as:\n",
    "\n",
    "- What is the overall structure of the network?\n",
    "- Who are the important people, or hubs, in the network?\n",
    "- What are the subgroups and communities in the network?\n",
    "\n",
    "### Our example: the Society of Friends\n",
    "Before there were Facebook friends, there was the Society of Friends, known as the Quakers. Founded in England in the mid-seventeenth century, the Quakers were Protestant Christians who dissented from the official Church of England and promoted broad religious toleration, preferring Christians’ supposed “inner light” and consciences to state-enforced orthodoxy. Quakers’ numbers grew rapidly in the mid- to late-seventeenth century and their members spread through the British Isles, Europe, and the New World colonies—especially Pennsylvania, founded by Quaker leader William Penn and the home of your four authors.\n",
    "\n",
    "Since scholars have long linked Quakers’ growth and endurance to the effectiveness of their networks, the data used in this tutorial is a list of names and relationships among the earliest seventeenth-century Quakers. This dataset is derived from the [Oxford Dictionary of National Biography](http://www.oxforddnb.com/) and from the ongoing work of the [Six Degrees of Francis Bacon project](http://www.sixdegreesoffrancisbacon.com/), which is reconstructing the social networks of early modern Britain (1500-1700).\n",
    "\n",
    "### Data Prep and NetworkX\n",
    "Before beginning this tutorial, you will need to download two files that together constitute our network dataset. The file [quakers_nodelist.csv](https://programminghistorian.org/assets/exploring-and-analyzing-network-data-with-python/quakers_nodelist.csv) is a list of early modern Quakers (nodes) and the file [quakers_edgelist.csv](https://programminghistorian.org/assets/exploring-and-analyzing-network-data-with-python/quakers_edgelist.csv) is a list of relationships between those Quakers (edges). To download these files, simply right-click on the links and select “Save Link As…”.\n",
    "\n",
    "It will be extremely helpful to familiarize yourself with the structure of the dataset before continuing. For more on the general structure of network datasets, [see this tutorial](https://programminghistorian.org/lessons/creating-network-diagrams-from-historical-sources#developing-a-coding-scheme). When you open the node file in the program of your choice, you will see that each Quaker is primarily identified by their name. Each Quaker node also has a number of associated attributes including historical significance, gender, birth/death dates, and SDFB ID—a unique numerical identifier that will enable you to cross-reference nodes in this dataset with the original Six Degrees of Francis Bacon dataset, if desired. \n",
    "\n",
    "Here are the first few lines:\n",
    "\n",
    "```\n",
    "Name,Historical Significance,Gender,Birthdate,Deathdate,ID\n",
    "Joseph Wyeth,religious writer,male,1663,1731,10013191\n",
    "Alexander Skene of Newtyle,local politician and author,male,1621,1694,10011149\n",
    "James Logan,colonial official and scholar,male,1674,1751,10007567\n",
    "Dorcas Erbery,Quaker preacher,female,1656,1659,10003983\n",
    "Lilias Skene,Quaker preacher and poet,male,1626,1697,10011152\n",
    "```\n",
    "\n",
    "\n",
    "Notice that though the columns don’t line up correctly like they do in a spreadsheet, the commas keep everything separated appropriately.\n",
    "\n",
    "When you open the edge file, you will see that we use the names from the node file to identify the nodes connected by each edge. These edges begin at a source node and end at a target node. While this language derives from so-called directed network structures, we will be using our data as an undirected network: if Person A knows Person B, then Person B must also know Person A. In directed networks, relationships need not be reciprocal (Person A can send a letter to B without getting one back), but in undirected networks the connections are always reciprocal, or symmetric. Since this is a network of who knew whom rather than, say, a correspondence network, an undirected set of relations is the most fitting. The symmetric relations in undirected networks are useful any time you are concerned with relationships that stake out the same role for both parties. Two friends have a symmetric relationship: they are each a friend of the other. A letter writer and recipient have an asymmetric relationship because each has a different role. Directed and undirected networks each have their own affordances (and sometimes, their own unique metrics), and you’ll want to choose the one that best suits the kinds of relationships you are recording and the questions you want to answer. Here are the first few edges in the undirected Quaker network:\n",
    "\n",
    "```\n",
    "Source,Target\n",
    "George Keith,Robert Barclay\n",
    "George Keith,Benjamin Furly\n",
    "George Keith,Anne Conway Viscountess Conway and Killultagh\n",
    "George Keith,Franciscus Mercurius van Helmont\n",
    "George Keith,William Penn\n",
    "```\n",
    "Now that you’ve downloaded the Quaker data and had a look at how it’s structured, it’s time to begin working with that data in Python."
   ]
  },
  {
   "cell_type": "markdown",
   "metadata": {
    "id": "nPCsz5SKVFXs"
   },
   "source": [
    "## Getting Started\n"
   ]
  },
  {
   "cell_type": "markdown",
   "metadata": {
    "id": "YU4IBQSCagHC"
   },
   "source": [
    "### Reading files, importing data\n",
    "Start a new, blank plaintext file in the same directory as your data files called quaker_network.py (For more details on installing and running Python, [see this tutorial](https://programminghistorian.org/lessons/mac-installation)). At the top of that file, import the libraries you need. You’ll need three libraries—the one we just installed, and two built-in Python libraries. You can type:"
   ]
  },
  {
   "cell_type": "code",
   "execution_count": 1,
   "metadata": {
    "id": "o7nGBzaHVlgR"
   },
   "outputs": [],
   "source": [
    "import csv\n",
    "import json\n",
    "from operator import itemgetter\n",
    "import networkx as nx\n",
    "from networkx.algorithms import community #This part of networkx, for community detection, needs to be imported separately."
   ]
  },
  {
   "cell_type": "markdown",
   "metadata": {
    "id": "MFTzrnTLVqoD"
   },
   "source": [
    "Now you can tell the program to read your CSV files and retrieve the data you need. Ironically, reading files and reorganizing data often requires more complex code than the functions for running social network analysis, so please bear with us through this first code block. Here’s a set of commands for opening and reading our nodelist and edgelist files:"
   ]
  },
  {
   "cell_type": "code",
   "execution_count": 3,
   "metadata": {
    "colab": {
     "base_uri": "https://localhost:8080/",
     "height": 258
    },
    "id": "I-cNdQv8VtqD",
    "outputId": "d1e1ed3d-3bf5-4f68-8f59-2d4db9d845b1"
   },
   "outputs": [],
   "source": [
    "with open('quakers_nodelist.csv', 'r') as nodecsv: # Open the file\n",
    "    nodereader = csv.reader(nodecsv) # Read the csv\n",
    "    # Retrieve the data (using Python list comprhension and list slicing to remove the header row, see footnote 3)\n",
    "    nodes = [n for n in nodereader][1:]\n",
    "\n",
    "node_names = [n[0] for n in nodes] # Get a list of only the node names\n",
    "\n",
    "with open('quakers_edgelist.csv', 'r') as edgecsv: # Open the file\n",
    "    edgereader = csv.reader(edgecsv) # Read the csv\n",
    "    edges = [tuple(e) for e in edgereader][1:] # Retrieve the data"
   ]
  },
  {
   "cell_type": "code",
   "execution_count": 11,
   "metadata": {},
   "outputs": [
    {
     "data": {
      "text/plain": [
       "['Joseph Wyeth',\n",
       " 'Alexander Skene of Newtyle',\n",
       " 'James Logan',\n",
       " 'Dorcas Erbery',\n",
       " 'Lilias Skene',\n",
       " 'William Mucklow',\n",
       " 'Thomas Salthouse',\n",
       " 'William Dewsbury',\n",
       " 'John Audland',\n",
       " 'Richard Claridge',\n",
       " 'William Bradford',\n",
       " 'Fettiplace Bellers',\n",
       " 'John Bellers',\n",
       " 'Isabel Yeamans',\n",
       " 'George Fox the younger',\n",
       " 'George Fox',\n",
       " 'John Stubbs',\n",
       " 'Anne Camm',\n",
       " 'John Camm',\n",
       " 'Thomas Camm',\n",
       " 'Katharine Evans',\n",
       " 'Lydia Lancaster',\n",
       " 'Samuel Clarridge',\n",
       " 'Thomas Lower',\n",
       " 'Gervase Benson',\n",
       " 'Stephen Crisp',\n",
       " 'James Claypoole',\n",
       " 'Thomas Holme',\n",
       " 'John Freame',\n",
       " 'John Swinton',\n",
       " 'William Mead',\n",
       " 'Henry Pickworth',\n",
       " 'John Crook',\n",
       " 'Gilbert Latey',\n",
       " 'Ellis Hookes',\n",
       " 'Joseph Besse',\n",
       " 'James Nayler',\n",
       " 'Elizabeth Hooten',\n",
       " 'George Whitehead',\n",
       " 'John Whitehead',\n",
       " 'William Crouch',\n",
       " 'Benjamin Furly',\n",
       " 'Silvanus Bevan',\n",
       " 'Robert Rich',\n",
       " 'John Whiting',\n",
       " 'Christopher Taylor',\n",
       " 'Thomas Lawson',\n",
       " 'Richard Farnworth',\n",
       " 'William Coddington',\n",
       " 'Thomas Taylor',\n",
       " 'Richard Vickris',\n",
       " 'Robert Barclay',\n",
       " 'Jane Sowle',\n",
       " 'Tace Sowle',\n",
       " 'Leonard Fell',\n",
       " 'Margaret Fell',\n",
       " 'George Bishop',\n",
       " 'Elizabeth Leavens',\n",
       " 'Thomas Curtis',\n",
       " 'Alice Curwen',\n",
       " 'Alexander Parker',\n",
       " 'John Wilkinson',\n",
       " 'Thomas Aldam',\n",
       " 'David Barclay of Ury',\n",
       " 'David Barclay',\n",
       " 'Sir Charles Wager',\n",
       " 'George Keith',\n",
       " 'James Parnel',\n",
       " 'Peter Collinson',\n",
       " 'Franciscus Mercurius van Helmont',\n",
       " 'William Caton',\n",
       " 'Francis Howgill',\n",
       " 'Richard Hubberthorne',\n",
       " 'William Ames',\n",
       " 'William Rogers',\n",
       " 'Isaac Norris',\n",
       " 'Anthony Sharp',\n",
       " 'Mary Fisher',\n",
       " 'Anne Conway Viscountess Conway and Killultagh',\n",
       " 'Samuel Fisher',\n",
       " 'Francis Bugg',\n",
       " 'Sarah Gibbons',\n",
       " 'William Tomlinson',\n",
       " 'Humphrey Norton',\n",
       " 'William Gibson',\n",
       " 'Gideon Wanton',\n",
       " 'John Wanton',\n",
       " 'Grace Chamber',\n",
       " 'Mary Prince',\n",
       " 'John Bartram',\n",
       " 'Edward Haistwell',\n",
       " 'John ap John',\n",
       " 'John Rous',\n",
       " 'Anthony Pearson',\n",
       " 'Solomon Eccles',\n",
       " 'John Burnyeat',\n",
       " 'Edward Burrough',\n",
       " 'Rebecca Travers',\n",
       " 'William Edmundson',\n",
       " 'Sarah Cheevers',\n",
       " 'Edward Pyott',\n",
       " 'Daniel Quare',\n",
       " 'John Penington',\n",
       " 'Mary Penington',\n",
       " 'Charles Marshall',\n",
       " 'Humphrey Woolrich',\n",
       " 'William Penn',\n",
       " 'Mary Pennyman',\n",
       " 'Dorothy Waugh',\n",
       " 'David Lloyd',\n",
       " 'Lewis Morris',\n",
       " 'Martha Simmonds',\n",
       " 'John Story',\n",
       " 'Thomas Story',\n",
       " 'Thomas Ellwood',\n",
       " 'William Simpson',\n",
       " 'Samuel Bownas',\n",
       " 'John Perrot',\n",
       " 'Hannah Stranger']"
      ]
     },
     "execution_count": 11,
     "metadata": {},
     "output_type": "execute_result"
    }
   ],
   "source": [
    "node_names"
   ]
  },
  {
   "cell_type": "code",
   "execution_count": 12,
   "metadata": {},
   "outputs": [
    {
     "data": {
      "text/plain": [
       "[('George Keith', 'Robert Barclay'),\n",
       " ('George Keith', 'Benjamin Furly'),\n",
       " ('George Keith', 'Anne Conway Viscountess Conway and Killultagh'),\n",
       " ('George Keith', 'Franciscus Mercurius van Helmont'),\n",
       " ('George Keith', 'William Penn'),\n",
       " ('George Keith', 'George Fox'),\n",
       " ('George Keith', 'George Whitehead'),\n",
       " ('George Keith', 'William Bradford'),\n",
       " ('James Parnel', 'Benjamin Furly'),\n",
       " ('James Parnel', 'Stephen Crisp'),\n",
       " ('Peter Collinson', 'John Bartram'),\n",
       " ('Peter Collinson', 'James Logan'),\n",
       " ('Joseph Wyeth', 'Thomas Ellwood'),\n",
       " ('Alexander Skene of Newtyle', 'Lilias Skene'),\n",
       " ('Dorcas Erbery', 'James Nayler'),\n",
       " ('William Mucklow', 'George Fox'),\n",
       " ('Franciscus Mercurius van Helmont', 'Benjamin Furly'),\n",
       " ('William Dewsbury', 'Edward Burrough'),\n",
       " ('William Dewsbury', 'George Fox'),\n",
       " ('William Dewsbury', 'John Crook'),\n",
       " ('John Audland', 'John Camm'),\n",
       " ('John Audland', 'Francis Howgill'),\n",
       " ('John Audland', 'Edward Pyott'),\n",
       " ('John Audland', 'Charles Marshall'),\n",
       " ('John Audland', 'George Fox'),\n",
       " ('John Audland', 'Anne Camm'),\n",
       " ('Francis Howgill', 'Martha Simmonds'),\n",
       " ('Francis Howgill', 'James Nayler'),\n",
       " ('Francis Howgill', 'Edward Burrough'),\n",
       " ('Francis Howgill', 'George Fox'),\n",
       " ('Francis Howgill', 'Richard Farnworth'),\n",
       " ('Francis Howgill', 'William Crouch'),\n",
       " ('William Bradford', 'William Penn'),\n",
       " ('William Bradford', 'Tace Sowle'),\n",
       " ('John Bellers', 'Fettiplace Bellers'),\n",
       " ('William Rogers', 'Thomas Ellwood'),\n",
       " ('William Rogers', 'George Whitehead'),\n",
       " ('Martha Simmonds', 'Hannah Stranger'),\n",
       " ('Martha Simmonds', 'James Nayler'),\n",
       " ('Isabel Yeamans', 'William Penn'),\n",
       " ('George Fox the younger', 'Margaret Fell'),\n",
       " ('George Fox', 'Ellis Hookes'),\n",
       " ('George Fox', 'William Mead'),\n",
       " ('George Fox', 'Elizabeth Hooten'),\n",
       " ('George Fox', 'Margaret Fell'),\n",
       " ('George Fox', 'John Crook'),\n",
       " ('George Fox', 'George Whitehead'),\n",
       " ('George Fox', 'Benjamin Furly'),\n",
       " ('George Fox', 'Thomas Salthouse'),\n",
       " ('George Fox', 'James Nayler'),\n",
       " ('George Fox', 'Edward Burrough'),\n",
       " ('George Fox', 'John Wilkinson'),\n",
       " ('George Fox', 'Thomas Ellwood'),\n",
       " ('George Fox', 'William Coddington'),\n",
       " ('George Fox', 'John Stubbs'),\n",
       " ('George Fox', 'John Perrot'),\n",
       " ('George Fox', 'Leonard Fell'),\n",
       " ('George Fox', 'William Penn'),\n",
       " ('John Stubbs', 'Benjamin Furly'),\n",
       " ('John Stubbs', 'William Caton'),\n",
       " ('John Stubbs', 'Samuel Fisher'),\n",
       " ('John Stubbs', 'John Burnyeat'),\n",
       " ('John Camm', 'Charles Marshall'),\n",
       " ('John Camm', 'Thomas Camm'),\n",
       " ('John Camm', 'Edward Pyott'),\n",
       " ('Thomas Camm', 'John Story'),\n",
       " ('Thomas Camm', 'Anne Camm'),\n",
       " ('John Wilkinson', 'Charles Marshall'),\n",
       " ('John Wilkinson', 'Solomon Eccles'),\n",
       " ('John Wilkinson', 'John Story'),\n",
       " ('John Wilkinson', 'Alexander Parker'),\n",
       " ('Isaac Norris', 'William Penn'),\n",
       " ('John Swinton', 'David Barclay of Ury'),\n",
       " ('James Nayler', 'Hannah Stranger'),\n",
       " ('James Nayler', 'Gervase Benson'),\n",
       " ('James Nayler', 'Margaret Fell'),\n",
       " ('James Nayler', 'Richard Farnworth'),\n",
       " ('James Nayler', 'George Whitehead'),\n",
       " ('James Nayler', 'John Perrot'),\n",
       " ('James Nayler', 'Robert Rich'),\n",
       " ('James Nayler', 'Anthony Pearson'),\n",
       " ('James Nayler', 'Thomas Ellwood'),\n",
       " ('James Nayler', 'Edward Burrough'),\n",
       " ('James Nayler', 'Rebecca Travers'),\n",
       " ('James Nayler', 'William Tomlinson'),\n",
       " ('Anthony Sharp', 'Samuel Clarridge'),\n",
       " ('Anthony Sharp', 'Thomas Curtis'),\n",
       " ('Anthony Sharp', 'William Edmundson'),\n",
       " ('Thomas Salthouse', 'Margaret Fell'),\n",
       " ('William Ames', 'William Caton'),\n",
       " ('Mary Fisher', 'John Perrot'),\n",
       " ('Mary Fisher', 'Mary Prince'),\n",
       " ('Lydia Lancaster', 'Grace Chamber'),\n",
       " ('Henry Pickworth', 'Francis Bugg'),\n",
       " ('Samuel Clarridge', 'James Claypoole'),\n",
       " ('Francis Bugg', 'George Whitehead'),\n",
       " ('Thomas Lower', 'Margaret Fell'),\n",
       " ('Sarah Gibbons', 'Dorothy Waugh'),\n",
       " ('Gervase Benson', 'Anthony Pearson'),\n",
       " ('Stephen Crisp', 'William Caton'),\n",
       " ('Stephen Crisp', 'Benjamin Furly'),\n",
       " ('John Freame', 'David Barclay'),\n",
       " ('Humphrey Norton', 'John Rous'),\n",
       " ('William Gibson', 'Thomas Holme'),\n",
       " ('Gideon Wanton', 'John Wanton'),\n",
       " ('William Mead', 'Margaret Fell'),\n",
       " ('Benjamin Furly', 'Robert Barclay'),\n",
       " ('Benjamin Furly', 'Alexander Parker'),\n",
       " ('Benjamin Furly', 'William Caton'),\n",
       " ('Benjamin Furly', 'William Penn'),\n",
       " ('James Logan', 'John Bartram'),\n",
       " ('James Logan', 'William Penn'),\n",
       " ('James Logan', 'David Lloyd'),\n",
       " ('Mary Prince', 'John Perrot'),\n",
       " ('Edward Haistwell', 'William Penn'),\n",
       " ('John ap John', 'John Burnyeat'),\n",
       " ('John Crook', 'John Perrot'),\n",
       " ('John Crook', 'Edward Burrough'),\n",
       " ('Gilbert Latey', 'Edward Burrough'),\n",
       " ('Gilbert Latey', 'George Whitehead'),\n",
       " ('Richard Hubberthorne', 'George Whitehead'),\n",
       " ('Richard Hubberthorne', 'Richard Farnworth'),\n",
       " ('Joseph Besse', 'Richard Claridge'),\n",
       " ('Joseph Besse', 'Samuel Bownas'),\n",
       " ('George Whitehead', 'Alexander Parker'),\n",
       " ('George Whitehead', 'John Whitehead'),\n",
       " ('George Whitehead', 'Daniel Quare'),\n",
       " ('George Whitehead', 'William Penn'),\n",
       " ('George Whitehead', 'John Story'),\n",
       " ('George Whitehead', 'Rebecca Travers'),\n",
       " ('Silvanus Bevan', 'Daniel Quare'),\n",
       " ('Solomon Eccles', 'John Story'),\n",
       " ('Robert Rich', 'William Tomlinson'),\n",
       " ('John Burnyeat', 'William Edmundson'),\n",
       " ('John Burnyeat', 'William Penn'),\n",
       " ('Katharine Evans', 'Sarah Cheevers'),\n",
       " ('Edward Burrough', 'John Perrot'),\n",
       " ('Edward Burrough', 'Thomas Ellwood'),\n",
       " ('Edward Burrough', 'William Crouch'),\n",
       " ('John Whiting', 'Christopher Taylor'),\n",
       " ('Rebecca Travers', 'Alice Curwen'),\n",
       " ('Rebecca Travers', 'William Penn'),\n",
       " ('William Caton', 'Margaret Fell'),\n",
       " ('Thomas Lawson', 'Margaret Fell'),\n",
       " ('Thomas Lawson', 'Alexander Parker'),\n",
       " ('Richard Farnworth', 'John Perrot'),\n",
       " ('Richard Farnworth', 'Margaret Fell'),\n",
       " ('Richard Farnworth', 'Anthony Pearson'),\n",
       " ('Thomas Taylor', 'Christopher Taylor'),\n",
       " ('John Penington', 'Mary Penington'),\n",
       " ('Humphrey Woolrich', 'Mary Pennyman'),\n",
       " ('William Penn', 'Tace Sowle'),\n",
       " ('William Penn', 'James Claypoole'),\n",
       " ('William Penn', 'Thomas Story'),\n",
       " ('William Penn', 'Mary Penington'),\n",
       " ('William Penn', 'David Lloyd'),\n",
       " ('William Penn', 'Margaret Fell'),\n",
       " ('William Penn', 'Richard Claridge'),\n",
       " ('Richard Vickris', 'George Bishop'),\n",
       " ('Robert Barclay', 'David Barclay of Ury'),\n",
       " ('Jane Sowle', 'Tace Sowle'),\n",
       " ('Margaret Fell', 'Alexander Parker'),\n",
       " ('Margaret Fell', 'Elizabeth Leavens'),\n",
       " ('Margaret Fell', 'Anthony Pearson'),\n",
       " ('Elizabeth Leavens', 'Thomas Holme'),\n",
       " ('Lewis Morris', 'Sir Charles Wager'),\n",
       " ('Mary Penington', 'Thomas Curtis'),\n",
       " ('Mary Penington', 'Thomas Ellwood'),\n",
       " ('Thomas Curtis', 'Thomas Ellwood'),\n",
       " ('Thomas Curtis', 'William Simpson'),\n",
       " ('Thomas Curtis', 'John Story'),\n",
       " ('Alexander Parker', 'Sir Charles Wager'),\n",
       " ('John Story', 'Thomas Ellwood'),\n",
       " ('Thomas Aldam', 'Anthony Pearson')]"
      ]
     },
     "execution_count": 12,
     "metadata": {},
     "output_type": "execute_result"
    }
   ],
   "source": [
    "edges"
   ]
  },
  {
   "cell_type": "markdown",
   "metadata": {
    "id": "Bnb7eGDaVxKV"
   },
   "source": [
    "This code performs similar functions to the ones in [this tutorial](https://programminghistorian.org/lessons/working-with-text-files) but uses the CSV module to load your nodes and edges. You’ll go back and get more node information later, but for now you need two things: the full list of nodes and a list of edge pairs (as tuples of nodes).3 These are the forms NetworkX will need to create a “graph object,” a special NetworkX data type you’ll learn about in the next section.\n",
    "\n",
    "At this stage, before you start using NetworkX, you can do some basic sanity checks to make sure that your data loaded correctly using built-in Python functions and methods. Typing\n",
    "\n"
   ]
  },
  {
   "cell_type": "code",
   "execution_count": 7,
   "metadata": {
    "id": "3KVhJyDDV040"
   },
   "outputs": [
    {
     "name": "stdout",
     "output_type": "stream",
     "text": [
      "119\n",
      "174\n"
     ]
    }
   ],
   "source": [
    "print(len(node_names))\n",
    "print(len(edges))"
   ]
  },
  {
   "cell_type": "markdown",
   "metadata": {
    "id": "9aefo8itV5pq"
   },
   "source": [
    "and then running your script will show you how many nodes and edges you successfully loaded in Python. If you see 119 nodes and 174 edges, then you’ve got all the necessary data."
   ]
  },
  {
   "cell_type": "markdown",
   "metadata": {
    "id": "ejPBZyTTWI1J"
   },
   "source": [
    "### Basics of NetworkX: Creating the Graph\n",
    "Now you have your data as two Python lists: a list of nodes (node_names) and a list of edges (edges). In NetworkX, you can put these two lists together into a single network object that understands how nodes and edges are related. This object is called a Graph, referring to one of the common terms for data organized as a network [n.b. it does not refer to any visual representation of the data. Graph here is used purely in a mathematical, network analysis sense.] First you must initialize a Graph object with the following command:"
   ]
  },
  {
   "cell_type": "code",
   "execution_count": 8,
   "metadata": {
    "id": "hB6110TTV5PS"
   },
   "outputs": [],
   "source": [
    "G = nx.Graph()"
   ]
  },
  {
   "cell_type": "markdown",
   "metadata": {
    "id": "3j5H2YreWNIu"
   },
   "source": [
    "This will create a new Graph object, G, with nothing in it. Now you can add your lists of nodes and edges like so:"
   ]
  },
  {
   "cell_type": "code",
   "execution_count": 9,
   "metadata": {
    "id": "cC3DVRirWQ6v"
   },
   "outputs": [],
   "source": [
    "G.add_nodes_from(node_names)\n",
    "G.add_edges_from(edges)"
   ]
  },
  {
   "cell_type": "markdown",
   "metadata": {
    "id": "wO7R9zKKWUK5"
   },
   "source": [
    "This is one of several ways to add data to a network object. You can check out the NetworkX documentation for information about adding weighted edges, or adding nodes and edges one-at-a-time.\n",
    "\n",
    "Finally, you can get basic information about your newly-created network using the info function:"
   ]
  },
  {
   "cell_type": "code",
   "execution_count": 10,
   "metadata": {
    "id": "UYbYWkB-WVDa"
   },
   "outputs": [
    {
     "name": "stdout",
     "output_type": "stream",
     "text": [
      "Graph with 119 nodes and 174 edges\n"
     ]
    },
    {
     "name": "stderr",
     "output_type": "stream",
     "text": [
      "C:\\Users\\Lenovo\\AppData\\Local\\Temp\\ipykernel_57828\\2606185536.py:1: DeprecationWarning: info is deprecated and will be removed in version 3.0.\n",
      "\n",
      "  print(nx.info(G))\n"
     ]
    }
   ],
   "source": [
    "print(nx.info(G))"
   ]
  },
  {
   "cell_type": "markdown",
   "metadata": {
    "id": "JEnAMxbWWW2h"
   },
   "source": [
    "The info function gives five items as output: the name of your graph (which will be blank in our case), its type, the number of nodes, the number of edges, and the average degree4 in the network. The output should look like this:\n",
    "\n",
    "```\n",
    "Name:\n",
    "Type: Graph\n",
    "Number of nodes: 119\n",
    "Number of edges: 174\n",
    "Average degree:   2.9244\n",
    "```\n",
    "This is a quick way of getting some general information about your graph, but as you’ll learn in subsequent sections, it is only scratching the surface of what NetworkX can tell you about your data.\n",
    "\n",
    "To recap, by now your script will look like this:"
   ]
  },
  {
   "cell_type": "code",
   "execution_count": 14,
   "metadata": {
    "id": "0T7UbOS0Weje"
   },
   "outputs": [
    {
     "name": "stdout",
     "output_type": "stream",
     "text": [
      "119\n",
      "174\n",
      "Graph with 119 nodes and 174 edges\n"
     ]
    },
    {
     "name": "stderr",
     "output_type": "stream",
     "text": [
      "C:\\Users\\Lenovo\\AppData\\Local\\Temp\\ipykernel_57828\\3483908405.py:27: DeprecationWarning: info is deprecated and will be removed in version 3.0.\n",
      "\n",
      "  print(nx.info(G)) # Print information about the Graph\n"
     ]
    }
   ],
   "source": [
    "import csv\n",
    "import json\n",
    "from operator import itemgetter\n",
    "import networkx as nx\n",
    "from networkx.algorithms import community\n",
    "\n",
    "# Read in the nodelist file\n",
    "with open('quakers_nodelist.csv', 'r') as nodecsv:\n",
    "    nodereader = csv.reader(nodecsv)\n",
    "    nodes = [n for n in nodereader][1:]\n",
    "\n",
    "# Get a list of just the node names (the first item in each row)\n",
    "node_names = [n[0] for n in nodes]\n",
    "\n",
    "# Read in the edgelist file\n",
    "with open('quakers_edgelist.csv', 'r') as edgecsv:\n",
    "    edgereader = csv.reader(edgecsv)\n",
    "    edges = [tuple(e) for e in edgereader][1:]\n",
    "\n",
    "# Print the number of nodes and edges in our two lists\n",
    "print(len(node_names))\n",
    "print(len(edges))\n",
    "\n",
    "G = nx.Graph() # Initialize a Graph object\n",
    "G.add_nodes_from(node_names) # Add nodes to the Graph\n",
    "G.add_edges_from(edges) # Add edges to the Graph\n",
    "print(nx.info(G)) # Print information about the Graph"
   ]
  },
  {
   "cell_type": "markdown",
   "metadata": {
    "id": "iTY5dY0bWg94"
   },
   "source": [
    "So far, you’ve read node and edge data into Python from CSV files, and then you counted those nodes and edges. After that you created a Graph object using NetworkX and loaded your data into that object.\n",
    "\n",
    "### Adding Attributes\n",
    "For NetworkX, a Graph object is one big thing (your network) made up of two kinds of smaller things (your nodes and your edges). So far you’ve uploaded nodes and edges (as pairs of nodes), but NetworkX allows you to add attributes to both nodes and edges, providing more information about each of them. Later on in this tutorial, you’ll be running metrics and adding some of the results back to the Graph as attributes. For now, let’s make sure your Graph contains all of the attributes that are currently in our CSV.\n",
    "\n",
    "You’ll want to return to a list you created at the beginning of your script: nodes. This list contains all of the rows from quakers_nodelist.csv, including columns for name, historical significance, gender, birth year, death year, and SDFB ID. You’ll want to loop through this list and add this information to our graph. There are a couple ways to do this, but NetworkX provides two convenient functions for adding attributes to all of a Graph’s nodes or edges at once: nx.set_node_attributes() and nx.set_edge_attributes(). To use these functions, you’ll need your attribute data to be in the form of a Python dictionary, in which node names are the keys and the attributes you want to add are the values.5 You’ll want to create a dictionary for each one of your attributes, and then add them using the functions above. The first thing you must do is create five empty dictionaries, using curly braces:"
   ]
  },
  {
   "cell_type": "code",
   "execution_count": 15,
   "metadata": {
    "id": "PKfslRwEWgyT"
   },
   "outputs": [],
   "source": [
    "hist_sig_dict = {}\n",
    "gender_dict = {}\n",
    "birth_dict = {}\n",
    "death_dict = {}\n",
    "id_dict = {}"
   ]
  },
  {
   "cell_type": "markdown",
   "metadata": {
    "id": "VbmGrcqZWqo_"
   },
   "source": [
    "Now we can loop through our nodes list and add the appropriate items to each dictionary. We do this by knowing in advance the position, or index, of each attribute. Because our quaker_nodelist.csv file is well-organized, we know that the person’s name will always be the first item in the list: index 0, since you always start counting with 0 in Python. The person’s historical significance will be index 1, their gender will be index 2, and so on. Therefore we can construct our dictionaries like so:6"
   ]
  },
  {
   "cell_type": "code",
   "execution_count": 16,
   "metadata": {
    "id": "vXptYYqcWrbR"
   },
   "outputs": [],
   "source": [
    "for node in nodes: # Loop through the list, one row at a time\n",
    "    hist_sig_dict[node[0]] = node[1]\n",
    "    gender_dict[node[0]] = node[2]\n",
    "    birth_dict[node[0]] = node[3]\n",
    "    death_dict[node[0]] = node[4]\n",
    "    id_dict[node[0]] = node[5]"
   ]
  },
  {
   "cell_type": "markdown",
   "metadata": {
    "id": "u33W4TE2Wvrf"
   },
   "source": [
    "Now you have a set of dictionaries that you can use to add attributes to nodes in your Graph object. The set_node_attributes function takes three variables: the Graph to which you’re adding the attribute, the dictionary of id-attribute pairs, and the name of the new attribute. The code for adding your six attributes looks like this:"
   ]
  },
  {
   "cell_type": "code",
   "execution_count": 17,
   "metadata": {
    "id": "EpapcbLuWyHr"
   },
   "outputs": [],
   "source": [
    "nx.set_node_attributes(G, hist_sig_dict, 'historical_significance')\n",
    "nx.set_node_attributes(G, gender_dict, 'gender')\n",
    "nx.set_node_attributes(G, birth_dict, 'birth_year')\n",
    "nx.set_node_attributes(G, death_dict, 'death_year')\n",
    "nx.set_node_attributes(G, id_dict, 'sdfb_id')"
   ]
  },
  {
   "cell_type": "markdown",
   "metadata": {
    "id": "sSmSsDeSW0af"
   },
   "source": [
    "Now all of your nodes have these six attributes, and you can access them at any time. For example, you can print out all the birth years of your nodes by looping through them and accessing the birth_year attribute, like this:"
   ]
  },
  {
   "cell_type": "code",
   "execution_count": 18,
   "metadata": {
    "id": "Q5ul3MxwW2ws"
   },
   "outputs": [
    {
     "name": "stdout",
     "output_type": "stream",
     "text": [
      "Joseph Wyeth 1663\n",
      "Alexander Skene of Newtyle 1621\n",
      "James Logan 1674\n",
      "Dorcas Erbery 1656\n",
      "Lilias Skene 1626\n",
      "William Mucklow 1630\n",
      "Thomas Salthouse 1630\n",
      "William Dewsbury 1621\n",
      "John Audland 1630\n",
      "Richard Claridge 1649\n",
      "William Bradford 1663\n",
      "Fettiplace Bellers 1687\n",
      "John Bellers 1654\n",
      "Isabel Yeamans 1637\n",
      "George Fox the younger 1551\n",
      "George Fox 1624\n",
      "John Stubbs 1618\n",
      "Anne Camm 1627\n",
      "John Camm 1605\n",
      "Thomas Camm 1640\n",
      "Katharine Evans 1618\n",
      "Lydia Lancaster 1683\n",
      "Samuel Clarridge 1631\n",
      "Thomas Lower 1633\n",
      "Gervase Benson 1569\n",
      "Stephen Crisp 1628\n",
      "James Claypoole 1634\n",
      "Thomas Holme 1626\n",
      "John Freame 1665\n",
      "John Swinton 1620\n",
      "William Mead 1627\n",
      "Henry Pickworth 1673\n",
      "John Crook 1616\n",
      "Gilbert Latey 1626\n",
      "Ellis Hookes 1635\n",
      "Joseph Besse 1683\n",
      "James Nayler 1618\n",
      "Elizabeth Hooten 1562\n",
      "George Whitehead 1637\n",
      "John Whitehead 1630\n",
      "William Crouch 1628\n",
      "Benjamin Furly 1636\n",
      "Silvanus Bevan 1691\n",
      "Robert Rich 1607\n",
      "John Whiting 1656\n",
      "Christopher Taylor 1614\n",
      "Thomas Lawson 1630\n",
      "Richard Farnworth 1630\n",
      "William Coddington 1601\n",
      "Thomas Taylor 1617\n",
      "Richard Vickris 1590\n",
      "Robert Barclay 1648\n",
      "Jane Sowle 1631\n",
      "Tace Sowle 1666\n",
      "Leonard Fell 1624\n",
      "Margaret Fell 1614\n",
      "George Bishop 1558\n",
      "Elizabeth Leavens 1555\n",
      "Thomas Curtis 1602\n",
      "Alice Curwen 1619\n",
      "Alexander Parker 1628\n",
      "John Wilkinson 1652\n",
      "Thomas Aldam 1616\n",
      "David Barclay of Ury 1610\n",
      "David Barclay 1682\n",
      "Sir Charles Wager 1666\n",
      "George Keith 1638\n",
      "James Parnel 1636\n",
      "Peter Collinson 1694\n",
      "Franciscus Mercurius van Helmont 1614\n",
      "William Caton 1636\n",
      "Francis Howgill 1618\n",
      "Richard Hubberthorne 1628\n",
      "William Ames 1552\n",
      "William Rogers 1601\n",
      "Isaac Norris 1671\n",
      "Anthony Sharp 1643\n",
      "Mary Fisher 1623\n",
      "Anne Conway Viscountess Conway and Killultagh 1631\n",
      "Samuel Fisher 1604\n",
      "Francis Bugg 1640\n",
      "Sarah Gibbons 1634\n",
      "William Tomlinson 1650\n",
      "Humphrey Norton 1655\n",
      "William Gibson 1628\n",
      "Gideon Wanton 1693\n",
      "John Wanton 1672\n",
      "Grace Chamber 1676\n",
      "Mary Prince 1569\n",
      "John Bartram 1699\n",
      "Edward Haistwell 1658\n",
      "John ap John 1625\n",
      "John Rous 1585\n",
      "Anthony Pearson 1627\n",
      "Solomon Eccles 1617\n",
      "John Burnyeat 1631\n",
      "Edward Burrough 1633\n",
      "Rebecca Travers 1609\n",
      "William Edmundson 1627\n",
      "Sarah Cheevers 1608\n",
      "Edward Pyott 1560\n",
      "Daniel Quare 1648\n",
      "John Penington 1655\n",
      "Mary Penington 1623\n",
      "Charles Marshall 1637\n",
      "Humphrey Woolrich 1633\n",
      "William Penn 1644\n",
      "Mary Pennyman 1630\n",
      "Dorothy Waugh 1636\n",
      "David Lloyd 1656\n",
      "Lewis Morris 1671\n",
      "Martha Simmonds 1624\n",
      "John Story 1571\n",
      "Thomas Story 1670\n",
      "Thomas Ellwood 1639\n",
      "William Simpson 1627\n",
      "Samuel Bownas 1677\n",
      "John Perrot 1555\n",
      "Hannah Stranger 1656\n"
     ]
    }
   ],
   "source": [
    "for n in G.nodes(): # Loop through every node, in our data \"n\" will be the name of the person\n",
    "    print(n, G.nodes[n]['birth_year']) # Access every node by its name, and then by the attribute \"birth_year\""
   ]
  },
  {
   "cell_type": "markdown",
   "metadata": {
    "id": "WZGKSWOnW6Rp"
   },
   "source": [
    "From this statement, you’ll get a line of output for each node in the network. It should look like a simple list of names and years:\n",
    "\n",
    "```\n",
    "Anne Camm 1627\n",
    "Sir Charles Wager 1666\n",
    "John Bellers 1654\n",
    "Dorcas Erbery 1656\n",
    "Mary Pennyman 1630\n",
    "Humphrey Woolrich 1633\n",
    "John Stubbs 1618\n",
    "Richard Hubberthorne 1628\n",
    "Robert Barclay 1648\n",
    "William Coddington 1601\n",
    "```\n",
    "The steps above are a common method for adding attributes to nodes that you’ll be using repeatedly later on in the tutorial. Here’s a recap of the codeblock from this section:"
   ]
  },
  {
   "cell_type": "code",
   "execution_count": 22,
   "metadata": {
    "id": "PQ22VTMvW8il"
   },
   "outputs": [
    {
     "name": "stdout",
     "output_type": "stream",
     "text": [
      "Joseph Wyeth 1663\n",
      "Alexander Skene of Newtyle 1621\n",
      "James Logan 1674\n",
      "Dorcas Erbery 1656\n",
      "Lilias Skene 1626\n",
      "William Mucklow 1630\n",
      "Thomas Salthouse 1630\n",
      "William Dewsbury 1621\n",
      "John Audland 1630\n",
      "Richard Claridge 1649\n",
      "William Bradford 1663\n",
      "Fettiplace Bellers 1687\n",
      "John Bellers 1654\n",
      "Isabel Yeamans 1637\n",
      "George Fox the younger 1551\n",
      "George Fox 1624\n",
      "John Stubbs 1618\n",
      "Anne Camm 1627\n",
      "John Camm 1605\n",
      "Thomas Camm 1640\n",
      "Katharine Evans 1618\n",
      "Lydia Lancaster 1683\n",
      "Samuel Clarridge 1631\n",
      "Thomas Lower 1633\n",
      "Gervase Benson 1569\n",
      "Stephen Crisp 1628\n",
      "James Claypoole 1634\n",
      "Thomas Holme 1626\n",
      "John Freame 1665\n",
      "John Swinton 1620\n",
      "William Mead 1627\n",
      "Henry Pickworth 1673\n",
      "John Crook 1616\n",
      "Gilbert Latey 1626\n",
      "Ellis Hookes 1635\n",
      "Joseph Besse 1683\n",
      "James Nayler 1618\n",
      "Elizabeth Hooten 1562\n",
      "George Whitehead 1637\n",
      "John Whitehead 1630\n",
      "William Crouch 1628\n",
      "Benjamin Furly 1636\n",
      "Silvanus Bevan 1691\n",
      "Robert Rich 1607\n",
      "John Whiting 1656\n",
      "Christopher Taylor 1614\n",
      "Thomas Lawson 1630\n",
      "Richard Farnworth 1630\n",
      "William Coddington 1601\n",
      "Thomas Taylor 1617\n",
      "Richard Vickris 1590\n",
      "Robert Barclay 1648\n",
      "Jane Sowle 1631\n",
      "Tace Sowle 1666\n",
      "Leonard Fell 1624\n",
      "Margaret Fell 1614\n",
      "George Bishop 1558\n",
      "Elizabeth Leavens 1555\n",
      "Thomas Curtis 1602\n",
      "Alice Curwen 1619\n",
      "Alexander Parker 1628\n",
      "John Wilkinson 1652\n",
      "Thomas Aldam 1616\n",
      "David Barclay of Ury 1610\n",
      "David Barclay 1682\n",
      "Sir Charles Wager 1666\n",
      "George Keith 1638\n",
      "James Parnel 1636\n",
      "Peter Collinson 1694\n",
      "Franciscus Mercurius van Helmont 1614\n",
      "William Caton 1636\n",
      "Francis Howgill 1618\n",
      "Richard Hubberthorne 1628\n",
      "William Ames 1552\n",
      "William Rogers 1601\n",
      "Isaac Norris 1671\n",
      "Anthony Sharp 1643\n",
      "Mary Fisher 1623\n",
      "Anne Conway Viscountess Conway and Killultagh 1631\n",
      "Samuel Fisher 1604\n",
      "Francis Bugg 1640\n",
      "Sarah Gibbons 1634\n",
      "William Tomlinson 1650\n",
      "Humphrey Norton 1655\n",
      "William Gibson 1628\n",
      "Gideon Wanton 1693\n",
      "John Wanton 1672\n",
      "Grace Chamber 1676\n",
      "Mary Prince 1569\n",
      "John Bartram 1699\n",
      "Edward Haistwell 1658\n",
      "John ap John 1625\n",
      "John Rous 1585\n",
      "Anthony Pearson 1627\n",
      "Solomon Eccles 1617\n",
      "John Burnyeat 1631\n",
      "Edward Burrough 1633\n",
      "Rebecca Travers 1609\n",
      "William Edmundson 1627\n",
      "Sarah Cheevers 1608\n",
      "Edward Pyott 1560\n",
      "Daniel Quare 1648\n",
      "John Penington 1655\n",
      "Mary Penington 1623\n",
      "Charles Marshall 1637\n",
      "Humphrey Woolrich 1633\n",
      "William Penn 1644\n",
      "Mary Pennyman 1630\n",
      "Dorothy Waugh 1636\n",
      "David Lloyd 1656\n",
      "Lewis Morris 1671\n",
      "Martha Simmonds 1624\n",
      "John Story 1571\n",
      "Thomas Story 1670\n",
      "Thomas Ellwood 1639\n",
      "William Simpson 1627\n",
      "Samuel Bownas 1677\n",
      "John Perrot 1555\n",
      "Hannah Stranger 1656\n"
     ]
    }
   ],
   "source": [
    "# Create an empty dictionary for each attribute\n",
    "hist_sig_dict = {}\n",
    "gender_dict = {}\n",
    "birth_dict = {}\n",
    "death_dict = {}\n",
    "id_dict = {}\n",
    "\n",
    "for node in nodes: # Loop through the list of nodes, one row at a time\n",
    "    hist_sig_dict[node[0]] = node[1] # Access the correct item, add it to the corresponding dictionary\n",
    "    gender_dict[node[0]] = node[2]\n",
    "    birth_dict[node[0]] = node[3]\n",
    "    death_dict[node[0]] = node[4]\n",
    "    id_dict[node[0]] = node[5]\n",
    "\n",
    "# Add each dictionary as a node attribute to the Graph object\n",
    "nx.set_node_attributes(G, hist_sig_dict, 'historical_significance')\n",
    "nx.set_node_attributes(G, gender_dict, 'gender')\n",
    "nx.set_node_attributes(G, birth_dict, 'birth_year')\n",
    "nx.set_node_attributes(G, death_dict, 'death_year')\n",
    "nx.set_node_attributes(G, id_dict, 'sdfb_id')\n",
    "\n",
    "# Loop through each node, to access and print all the \"birth_year\" attributes\n",
    "for n in G.nodes():\n",
    "    print(n, G.nodes[n]['birth_year'])"
   ]
  },
  {
   "cell_type": "markdown",
   "metadata": {
    "id": "l3rOTL60XDYY"
   },
   "source": [
    "Now you’ve learned how to create a Graph object and add attributes to it. In the next section, you’ll learn about a variety of metrics available in NetworkX and how to access them. But relax, you’ve now learned the bulk of the code you’ll need for the rest of the tutorial!\n",
    "\n",
    "## Metrics available in NetworkX\n",
    "When you start work on a new dataset, it’s a good idea to get a general sense of the data. The first step, described above, is to simply open the files and see what’s inside. Because it’s a network, you know there will be nodes and edges, but how many of each are there? What information is appended to each node or edge?\n",
    "\n",
    "In our case, there are 174 edges and 119 nodes. These edges don’t have directions (that is, there’s a symmetric relationship between people) nor do they include additional information. For nodes, we know their names, historical significance, gender, birth and death dates, and SDFB ID.\n",
    "\n",
    "These details inform what you can or should do with your dataset. Too few nodes (say, 15), and a network analysis is less useful than drawing a picture or doing some reading; too many (say, 15 million), and you should consider starting with a subset or finding a supercomputer.\n",
    "\n",
    "The network’s properties also guide your analysis. Because this network is undirected, your analysis must use metrics that require symmetric edges between nodes. For example, you can determine what communities people find themselves in, but you can’t determine the directional routes through which information might flow along the network (you’d need a directed network for that). By using the symmetric, undirected relationships in this case, you’ll be able to find sub-communities and the people who are important to those communities, a process that would be more difficult (though still possible) with a directed network. NetworkX allows you to perform most analyses you might conceive, but you must understand the affordances of your dataset and realize some NetworkX algorithms are more appropriate than others.\n",
    "\n"
   ]
  },
  {
   "cell_type": "markdown",
   "metadata": {
    "id": "5grsbp21abaI"
   },
   "source": [
    "### The Shape of the Network\n",
    "After seeing what the dataset looks like, it’s important to see what the network looks like. They’re different things. The dataset is an abstract representation of what you assume to be connections between entities; the network is the specific instantiation of those assumptions. The network, at least in this context, is how the computer reads the connections you encoded in a dataset. A network has a topology, or a connective shape, that could be centralized or decentralized; dense or sparse; cyclical or linear. A dataset does not, outside the structure of the table it’s written in.\n",
    "\n",
    "The network’s shape and basic properties will give you a handle on what you’re working with and what analyses seem reasonable. You already know the number of nodes and edges, but what does the network ‘look’ like? Do nodes cluster together, or are they equally spread out? Are there complex structures, or is every node arranged along a straight line?\n",
    "\n",
    "The visualization below, created in network visualization tool Gephi, will give you an idea of the topology of this network.7 You could create a similar graph in Palladio following [this tutorial](https://programminghistorian.org/lessons/creating-network-diagrams-from-historical-sources).\n",
    "\n",
    "![network](https://programminghistorian.org/images/exploring-and-analyzing-network-data-with-python/exploring-and-analyzing-network-data-with-python-1.png)\n",
    "\n",
    "There are lots of ways to visualize a network, and a force-directed layout, of which the above image is an example, is among the most common. Force-directed graphs attempt to find the optimum placement for nodes with a calculation based on the tension of springs in Hooke’s Law, which for smaller graphs often creates clean, easy-to-read visualizations. The visualization embedded above shows you there is a single large component of connected nodes (in the center) and several small components with just one or two connections around the edges. This is a fairly common network structure. Knowing that there are multiple components in the network will usefully limit the calculations you’ll want to perform on it. By displaying the number of connections (known as degree, see below) as the size of nodes, the visualization also shows that there are a few nodes with lots of connections that keep the central component tied together. These large nodes are known as hubs, and the fact that they show up so clearly here gives you a clue as to what you’ll find when you measure centrality in the next section.\n",
    "\n",
    "Visualizations, however, only get you so far. The more networks you work with, the more you realize most appear similar enough that it’s hard to tell one from the next. Quantitative metrics let you differentiate networks, learn about their topologies, and turn a jumble of nodes and edges into something you can learn from.\n",
    "\n",
    "A good metric to begin with is network density. This is simply the ratio of actual edges in the network to all possible edges in the network. In an undirected network like this one, there could be a single edge between any two nodes, but as you saw in the visualization, only a few of those possible edges are actually present. Network density gives you a quick sense of how closely knit your network is.\n",
    "\n",
    "And the good news is many of these metrics require simple, one-line commands in Python. From here forward, you can keep building on your code block from the previous sections. You don’t have to delete anything you’ve already typed, and because you created your network object G in the codeblock above, all the metrics from here on should work correctly.\n",
    "\n",
    "You can calculate network density by running nx.density(G). However the best way to do this is to store your metric in a variable for future reference, and print that variable, like so:"
   ]
  },
  {
   "cell_type": "code",
   "execution_count": 20,
   "metadata": {
    "id": "IY0SJwbgXYL8"
   },
   "outputs": [
    {
     "name": "stdout",
     "output_type": "stream",
     "text": [
      "Network density: 0.02478279447372169\n"
     ]
    }
   ],
   "source": [
    "density = nx.density(G)\n",
    "print(\"Network density:\", density)"
   ]
  },
  {
   "cell_type": "markdown",
   "metadata": {
    "id": "l6wh2J_8XXeZ"
   },
   "source": [
    "The output of density is a number, so that’s what you’ll see when you print the value. In this case, the density of our network is approximately 0.0248. On a scale of 0 to 1, not a very dense network, which comports with what you can see in the visualization.8 A 0 would mean that there are no connections at all, and a 1 would indicate that all possible edges are present (a perfectly connected network): this Quaker network is on the lower end of that scale, but still far from 0.\n",
    "\n",
    "A shortest path measurement is a bit more complex. It calculates the shortest possible series of nodes and edges that stand between any two nodes, something hard to see in large network visualizations. This measure is essentially finding friends-of-friends—if my mother knows someone that I don’t, then mom is the shortest path between me and that person. The Six Degrees of Kevin Bacon game, from which our project takes its name, is basically a game of finding shortest paths (with a path length of six or less) from Kevin Bacon to any other actor.\n",
    "\n",
    "To calculate a shortest path, you’ll need to pass several input variables (information you give to a Python function): the whole graph, your source node, and your target node. Let’s find the shortest path between Margaret Fell and George Whitehead. Since we used names to uniquely identify our nodes in the network, you can access those nodes (as the source and target of your path), using the names directly.\n",
    "\n"
   ]
  },
  {
   "cell_type": "code",
   "execution_count": 23,
   "metadata": {
    "id": "-Hwe6icxXfI2"
   },
   "outputs": [
    {
     "name": "stdout",
     "output_type": "stream",
     "text": [
      "Shortest path between Fell and Whitehead: ['Margaret Fell', 'George Fox', 'George Whitehead']\n"
     ]
    }
   ],
   "source": [
    "fell_whitehead_path = nx.shortest_path(G, source=\"Margaret Fell\", target=\"George Whitehead\")\n",
    "\n",
    "print(\"Shortest path between Fell and Whitehead:\", fell_whitehead_path)"
   ]
  },
  {
   "cell_type": "markdown",
   "metadata": {
    "id": "bbHJGV7iXiYR"
   },
   "source": [
    "Depending on the size of your network, this could take a little while to calculate, since Python first finds all possible paths and then picks the shortest one. The output of shortest_path will be a list of the nodes that includes the “source” (Fell), the “target” (Whitehead), and the nodes between them. In this case, we can see that Quaker Founder George Fox is on the shortest path between them. Since Fox is also a hub (see degree centrality, below) with many connections, we might suppose that several shortest paths run through him as a mediator. What might this say about the importance of the Quaker founders to their social network?\n",
    "\n",
    "Python includes many tools that calculate shortest paths. There are functions for the lengths of shortest paths, for all shortest paths, and for whether or not a path exists at all in the [documentation](https://networkx.github.io/documentation/stable/reference/algorithms/shortest_paths.html). You could use a separate function to find out the length of the Fell-Whitehead path we just calculated, or you could simply take the length of the list minus one,9 like this:\n",
    "\n"
   ]
  },
  {
   "cell_type": "code",
   "execution_count": 24,
   "metadata": {
    "id": "BnaLMIQwXqkt"
   },
   "outputs": [
    {
     "name": "stdout",
     "output_type": "stream",
     "text": [
      "Length of that path: 2\n"
     ]
    }
   ],
   "source": [
    "print(\"Length of that path:\", len(fell_whitehead_path)-1)"
   ]
  },
  {
   "cell_type": "markdown",
   "metadata": {
    "id": "9U8QG0gWXtNP"
   },
   "source": [
    "There are many network metrics derived from shortest path lengths. One such measure is diameter, which is the longest of all shortest paths. After calculating all shortest paths between every possible pair of nodes in the network, diameter is the length of the path between the two nodes that are furthest apart. The measure is designed to give you a sense of the network’s overall size, the distance from one end of the network to another.\n",
    "\n",
    "Diameter uses a simple command: nx.diameter(G). However, running this command on the Quaker graph will yield an error telling you the Graph is “not connected.” This simply means that your graph, as you already saw, has more than one component. Because there are some nodes that have no path at all to others, it is impossible to find all of the shortest paths. Take another look at the visualization of your graph:\n",
    "\n",
    "![network](https://programminghistorian.org/images/exploring-and-analyzing-network-data-with-python/exploring-and-analyzing-network-data-with-python-1.png)\n",
    "\n",
    "Since there is no shortest path between nodes of one component and nodes of another, nx.diameter() returns the “not connected” error. You can remedy this by first finding out if your Graph “is connected” (i.e. all one component) and, if not connected, finding the largest component and calculating diameter on that component alone. Here’s the code:"
   ]
  },
  {
   "cell_type": "code",
   "execution_count": 25,
   "metadata": {
    "id": "Gd-QX_rpX2IG",
    "scrolled": true
   },
   "outputs": [
    {
     "name": "stdout",
     "output_type": "stream",
     "text": [
      "False\n",
      "Network diameter of largest component: 8\n"
     ]
    }
   ],
   "source": [
    "# If your Graph has more than one component, this will return False:\n",
    "print(nx.is_connected(G))\n",
    "\n",
    "# Next, use nx.connected_components to get the list of components,\n",
    "# then use the max() command to find the largest one:\n",
    "components = nx.connected_components(G)\n",
    "largest_component = max(components, key=len)\n",
    "\n",
    "# Create a \"subgraph\" of just the largest component\n",
    "# Then calculate the diameter of the subgraph, just like you did with density.\n",
    "#\n",
    "\n",
    "subgraph = G.subgraph(largest_component)\n",
    "diameter = nx.diameter(subgraph)\n",
    "print(\"Network diameter of largest component:\", diameter)"
   ]
  },
  {
   "cell_type": "markdown",
   "metadata": {
    "id": "KCvpDGhsX5dT"
   },
   "source": [
    "Since we took the largest component, we can assume there is no larger diameter for the other components. Therefore this figure is a good stand in for the diameter of the whole Graph. The network diameter of this network’s largest component is 8: there is a path length of 8 between the two farthest-apart nodes in the network. Unlike density which is scaled from 0 to 1, it is difficult to know from this number alone whether 8 is a large or small diameter. For some global metrics, it can be best to compare it to networks of similar size and shape.10\n",
    "\n",
    "The final structural calculation you will make on this network concerns the concept of triadic closure. Triadic closure supposes that if two people know the same person, they are likely to know each other. If Fox knows both Fell and Whitehead, then Fell and Whitehead may very well know each other, completing a triangle in the visualization of three edges connecting Fox, Fell, and Whitehead. The number of these enclosed triangles in the network can be used to find clusters and communities of individuals that all know each other fairly well.\n",
    "\n",
    "One way of measuring triadic closure is called clustering coefficient because of this clustering tendency, but the structural network measure you will learn is known as transitivity.11 Transitivity is the ratio of all triangles over all possible triangles. A possible triangle exists when one person (Fox) knows two people (Fell and Whitehead). So transitivity, like density, expresses how interconnected a graph is in terms of a ratio of actual over possible connections. Remember, measurements like transitivity and density concern likelihoods rather than certainties. All the outputs of your Python script must be interpreted, like any other object of research. Transitivity allows you a way of thinking about all the relationships in your graph that may exist but currently do not.\n",
    "\n",
    "You can calculate transitivity in one line, the same way you calculated density:"
   ]
  },
  {
   "cell_type": "code",
   "execution_count": 26,
   "metadata": {
    "id": "qCd_65NqX75e"
   },
   "outputs": [
    {
     "name": "stdout",
     "output_type": "stream",
     "text": [
      "Triadic closure: 0.16937799043062202\n"
     ]
    }
   ],
   "source": [
    "triadic_closure = nx.transitivity(G)\n",
    "print(\"Triadic closure:\", triadic_closure)"
   ]
  },
  {
   "cell_type": "markdown",
   "metadata": {
    "id": "ITcOxZpLX8aC"
   },
   "source": [
    "Also like density, transitivity is scaled from 0 to 1, and you can see that the network’s transitivity is about 0.1694, somewhat higher than its 0.0248 density. Because the graph is not very dense, there are fewer possible triangles to begin with, which may result in slightly higher transitivity. That is, nodes that already have lots of connections are likely to be part of these enclosed triangles. To back this up, you’ll want to know more about nodes with many connections.\n",
    "\n",
    "### Centrality\n",
    "After getting some basic measures of the entire network structure, a good next step is to find which nodes are the most important ones in your network. In network analysis, measures of the importance of nodes are referred to as centrality measures. Because there are many ways of approaching the question “Which nodes are the most important?” there are many different ways of calculating centrality. Here you’ll learn about three of the most common centrality measures: degree, betweenness centrality, and eigenvector centrality.\n",
    "\n",
    "Degree is the simplest and the most common way of finding important nodes. A node’s degree is the sum of its edges. If a node has three lines extending from it to other nodes, its degree is three. Five edges, its degree is five. It’s really that simple. Since each of those edges will always have a node on the other end, you might think of degree as the number of people to which a given person is directly connected. The nodes with the highest degree in a social network are the people who know the most people. These nodes are often referred to as hubs, and calculating degree is the quickest way of identifying hubs.\n",
    "\n",
    "Calculating centrality for each node in NetworkX is not quite as simple as the network-wide metrics above, but it still involves one-line commands. All of the centrality commands you’ll learn in this section produce dictionaries in which the keys are nodes and the values are centrality measures. That means they’re ready-made to add back into your network as a node attribute, like you did in the last section. Start by calculating degree and adding it as an attribute to your network."
   ]
  },
  {
   "cell_type": "code",
   "execution_count": 27,
   "metadata": {
    "id": "oHA2xZGVYFsD"
   },
   "outputs": [],
   "source": [
    "degree_dict = dict(G.degree(G.nodes()))\n",
    "nx.set_node_attributes(G, degree_dict, 'degree')"
   ]
  },
  {
   "cell_type": "code",
   "execution_count": 35,
   "metadata": {},
   "outputs": [
    {
     "data": {
      "text/plain": [
       "{'Joseph Wyeth': 1,\n",
       " 'Alexander Skene of Newtyle': 1,\n",
       " 'James Logan': 4,\n",
       " 'Dorcas Erbery': 1,\n",
       " 'Lilias Skene': 1,\n",
       " 'William Mucklow': 1,\n",
       " 'Thomas Salthouse': 2,\n",
       " 'William Dewsbury': 3,\n",
       " 'John Audland': 6,\n",
       " 'Richard Claridge': 2,\n",
       " 'William Bradford': 3,\n",
       " 'Fettiplace Bellers': 1,\n",
       " 'John Bellers': 1,\n",
       " 'Isabel Yeamans': 1,\n",
       " 'George Fox the younger': 1,\n",
       " 'George Fox': 22,\n",
       " 'John Stubbs': 5,\n",
       " 'Anne Camm': 2,\n",
       " 'John Camm': 4,\n",
       " 'Thomas Camm': 3,\n",
       " 'Katharine Evans': 1,\n",
       " 'Lydia Lancaster': 1,\n",
       " 'Samuel Clarridge': 2,\n",
       " 'Thomas Lower': 1,\n",
       " 'Gervase Benson': 2,\n",
       " 'Stephen Crisp': 3,\n",
       " 'James Claypoole': 2,\n",
       " 'Thomas Holme': 2,\n",
       " 'John Freame': 1,\n",
       " 'John Swinton': 1,\n",
       " 'William Mead': 2,\n",
       " 'Henry Pickworth': 1,\n",
       " 'John Crook': 4,\n",
       " 'Gilbert Latey': 2,\n",
       " 'Ellis Hookes': 1,\n",
       " 'Joseph Besse': 2,\n",
       " 'James Nayler': 16,\n",
       " 'Elizabeth Hooten': 1,\n",
       " 'George Whitehead': 13,\n",
       " 'John Whitehead': 1,\n",
       " 'William Crouch': 2,\n",
       " 'Benjamin Furly': 10,\n",
       " 'Silvanus Bevan': 1,\n",
       " 'Robert Rich': 2,\n",
       " 'John Whiting': 1,\n",
       " 'Christopher Taylor': 2,\n",
       " 'Thomas Lawson': 2,\n",
       " 'Richard Farnworth': 6,\n",
       " 'William Coddington': 1,\n",
       " 'Thomas Taylor': 1,\n",
       " 'Richard Vickris': 1,\n",
       " 'Robert Barclay': 3,\n",
       " 'Jane Sowle': 1,\n",
       " 'Tace Sowle': 3,\n",
       " 'Leonard Fell': 1,\n",
       " 'Margaret Fell': 13,\n",
       " 'George Bishop': 1,\n",
       " 'Elizabeth Leavens': 2,\n",
       " 'Thomas Curtis': 5,\n",
       " 'Alice Curwen': 1,\n",
       " 'Alexander Parker': 6,\n",
       " 'John Wilkinson': 5,\n",
       " 'Thomas Aldam': 1,\n",
       " 'David Barclay of Ury': 2,\n",
       " 'David Barclay': 1,\n",
       " 'Sir Charles Wager': 2,\n",
       " 'George Keith': 8,\n",
       " 'James Parnel': 2,\n",
       " 'Peter Collinson': 2,\n",
       " 'Franciscus Mercurius van Helmont': 2,\n",
       " 'William Caton': 5,\n",
       " 'Francis Howgill': 7,\n",
       " 'Richard Hubberthorne': 2,\n",
       " 'William Ames': 1,\n",
       " 'William Rogers': 2,\n",
       " 'Isaac Norris': 1,\n",
       " 'Anthony Sharp': 3,\n",
       " 'Mary Fisher': 2,\n",
       " 'Anne Conway Viscountess Conway and Killultagh': 1,\n",
       " 'Samuel Fisher': 1,\n",
       " 'Francis Bugg': 2,\n",
       " 'Sarah Gibbons': 1,\n",
       " 'William Tomlinson': 2,\n",
       " 'Humphrey Norton': 1,\n",
       " 'William Gibson': 1,\n",
       " 'Gideon Wanton': 1,\n",
       " 'John Wanton': 1,\n",
       " 'Grace Chamber': 1,\n",
       " 'Mary Prince': 2,\n",
       " 'John Bartram': 2,\n",
       " 'Edward Haistwell': 1,\n",
       " 'John ap John': 1,\n",
       " 'John Rous': 1,\n",
       " 'Anthony Pearson': 5,\n",
       " 'Solomon Eccles': 2,\n",
       " 'John Burnyeat': 4,\n",
       " 'Edward Burrough': 9,\n",
       " 'Rebecca Travers': 4,\n",
       " 'William Edmundson': 2,\n",
       " 'Sarah Cheevers': 1,\n",
       " 'Edward Pyott': 2,\n",
       " 'Daniel Quare': 2,\n",
       " 'John Penington': 1,\n",
       " 'Mary Penington': 4,\n",
       " 'Charles Marshall': 3,\n",
       " 'Humphrey Woolrich': 1,\n",
       " 'William Penn': 18,\n",
       " 'Mary Pennyman': 1,\n",
       " 'Dorothy Waugh': 1,\n",
       " 'David Lloyd': 2,\n",
       " 'Lewis Morris': 1,\n",
       " 'Martha Simmonds': 3,\n",
       " 'John Story': 6,\n",
       " 'Thomas Story': 1,\n",
       " 'Thomas Ellwood': 8,\n",
       " 'William Simpson': 1,\n",
       " 'Samuel Bownas': 1,\n",
       " 'John Perrot': 7,\n",
       " 'Hannah Stranger': 2}"
      ]
     },
     "execution_count": 35,
     "metadata": {},
     "output_type": "execute_result"
    }
   ],
   "source": [
    "degree_dict"
   ]
  },
  {
   "cell_type": "code",
   "execution_count": 36,
   "metadata": {},
   "outputs": [
    {
     "data": {
      "text/plain": [
       "DegreeView({'Joseph Wyeth': 1, 'Alexander Skene of Newtyle': 1, 'James Logan': 4, 'Dorcas Erbery': 1, 'Lilias Skene': 1, 'William Mucklow': 1, 'Thomas Salthouse': 2, 'William Dewsbury': 3, 'John Audland': 6, 'Richard Claridge': 2, 'William Bradford': 3, 'Fettiplace Bellers': 1, 'John Bellers': 1, 'Isabel Yeamans': 1, 'George Fox the younger': 1, 'George Fox': 22, 'John Stubbs': 5, 'Anne Camm': 2, 'John Camm': 4, 'Thomas Camm': 3, 'Katharine Evans': 1, 'Lydia Lancaster': 1, 'Samuel Clarridge': 2, 'Thomas Lower': 1, 'Gervase Benson': 2, 'Stephen Crisp': 3, 'James Claypoole': 2, 'Thomas Holme': 2, 'John Freame': 1, 'John Swinton': 1, 'William Mead': 2, 'Henry Pickworth': 1, 'John Crook': 4, 'Gilbert Latey': 2, 'Ellis Hookes': 1, 'Joseph Besse': 2, 'James Nayler': 16, 'Elizabeth Hooten': 1, 'George Whitehead': 13, 'John Whitehead': 1, 'William Crouch': 2, 'Benjamin Furly': 10, 'Silvanus Bevan': 1, 'Robert Rich': 2, 'John Whiting': 1, 'Christopher Taylor': 2, 'Thomas Lawson': 2, 'Richard Farnworth': 6, 'William Coddington': 1, 'Thomas Taylor': 1, 'Richard Vickris': 1, 'Robert Barclay': 3, 'Jane Sowle': 1, 'Tace Sowle': 3, 'Leonard Fell': 1, 'Margaret Fell': 13, 'George Bishop': 1, 'Elizabeth Leavens': 2, 'Thomas Curtis': 5, 'Alice Curwen': 1, 'Alexander Parker': 6, 'John Wilkinson': 5, 'Thomas Aldam': 1, 'David Barclay of Ury': 2, 'David Barclay': 1, 'Sir Charles Wager': 2, 'George Keith': 8, 'James Parnel': 2, 'Peter Collinson': 2, 'Franciscus Mercurius van Helmont': 2, 'William Caton': 5, 'Francis Howgill': 7, 'Richard Hubberthorne': 2, 'William Ames': 1, 'William Rogers': 2, 'Isaac Norris': 1, 'Anthony Sharp': 3, 'Mary Fisher': 2, 'Anne Conway Viscountess Conway and Killultagh': 1, 'Samuel Fisher': 1, 'Francis Bugg': 2, 'Sarah Gibbons': 1, 'William Tomlinson': 2, 'Humphrey Norton': 1, 'William Gibson': 1, 'Gideon Wanton': 1, 'John Wanton': 1, 'Grace Chamber': 1, 'Mary Prince': 2, 'John Bartram': 2, 'Edward Haistwell': 1, 'John ap John': 1, 'John Rous': 1, 'Anthony Pearson': 5, 'Solomon Eccles': 2, 'John Burnyeat': 4, 'Edward Burrough': 9, 'Rebecca Travers': 4, 'William Edmundson': 2, 'Sarah Cheevers': 1, 'Edward Pyott': 2, 'Daniel Quare': 2, 'John Penington': 1, 'Mary Penington': 4, 'Charles Marshall': 3, 'Humphrey Woolrich': 1, 'William Penn': 18, 'Mary Pennyman': 1, 'Dorothy Waugh': 1, 'David Lloyd': 2, 'Lewis Morris': 1, 'Martha Simmonds': 3, 'John Story': 6, 'Thomas Story': 1, 'Thomas Ellwood': 8, 'William Simpson': 1, 'Samuel Bownas': 1, 'John Perrot': 7, 'Hannah Stranger': 2})"
      ]
     },
     "execution_count": 36,
     "metadata": {},
     "output_type": "execute_result"
    }
   ],
   "source": [
    "G.degree()"
   ]
  },
  {
   "cell_type": "markdown",
   "metadata": {
    "id": "HKGSc5zZYIG5"
   },
   "source": [
    "You just ran the G.degree() method on the full list of nodes in your network (G.nodes()). Since you added it as an attribute, you can now see William Penn’s degree along with his other information if you access his node directly:"
   ]
  },
  {
   "cell_type": "code",
   "execution_count": 28,
   "metadata": {
    "id": "FpK944cDYH1U"
   },
   "outputs": [
    {
     "name": "stdout",
     "output_type": "stream",
     "text": [
      "{'historical_significance': 'Quaker leader and founder of Pennsylvania', 'gender': 'male', 'birth_year': '1644', 'death_year': '1718', 'sdfb_id': '10009531', 'degree': 18}\n"
     ]
    }
   ],
   "source": [
    "print(G.nodes['William Penn'])"
   ]
  },
  {
   "cell_type": "markdown",
   "metadata": {
    "id": "6pVYzo23YMJw"
   },
   "source": [
    "But these results are useful for more than just adding attributes to your Graph object. Since you’re already in Python, you can sort and compare them. You can use the built-in function sorted() to sort a dictionary by its keys or values and find the top twenty nodes ranked by degree. To do this you’ll need to use itemgetter, which we imported back at the beginning of the tutorial. Using sorted and itemgetter, you can sort the dictionary of degrees like this:"
   ]
  },
  {
   "cell_type": "code",
   "execution_count": 29,
   "metadata": {
    "id": "n59-Fd5rYNMd"
   },
   "outputs": [],
   "source": [
    "sorted_degree = sorted(degree_dict.items(), key=itemgetter(1), reverse=True)"
   ]
  },
  {
   "cell_type": "markdown",
   "metadata": {
    "id": "jPuQZ6GhYQ60"
   },
   "source": [
    "There’s a lot going on behind the scenes here, but just concentrate on the three input variables you gave to sorted(). The first is the dictionary, degree_dict.items(), you want to sort. The second is what to sort by: in this case, item “1” is the second item in the pair, or the value of your dictionary. Finally, you tell sorted() to go in reverse so that the highest degree nodes will be first in the resulting list. Once you’ve created this sorted list, you can loop through it, and use list slicing3 to get only the first 20 nodes:"
   ]
  },
  {
   "cell_type": "code",
   "execution_count": 30,
   "metadata": {
    "id": "AWk0VXsbYMzh"
   },
   "outputs": [
    {
     "name": "stdout",
     "output_type": "stream",
     "text": [
      "Top 20 nodes by degree:\n",
      "('George Fox', 22)\n",
      "('William Penn', 18)\n",
      "('James Nayler', 16)\n",
      "('George Whitehead', 13)\n",
      "('Margaret Fell', 13)\n",
      "('Benjamin Furly', 10)\n",
      "('Edward Burrough', 9)\n",
      "('George Keith', 8)\n",
      "('Thomas Ellwood', 8)\n",
      "('Francis Howgill', 7)\n",
      "('John Perrot', 7)\n",
      "('John Audland', 6)\n",
      "('Richard Farnworth', 6)\n",
      "('Alexander Parker', 6)\n",
      "('John Story', 6)\n",
      "('John Stubbs', 5)\n",
      "('Thomas Curtis', 5)\n",
      "('John Wilkinson', 5)\n",
      "('William Caton', 5)\n",
      "('Anthony Pearson', 5)\n"
     ]
    }
   ],
   "source": [
    "print(\"Top 20 nodes by degree:\")\n",
    "for d in sorted_degree[:20]:\n",
    "    print(d)"
   ]
  },
  {
   "cell_type": "markdown",
   "metadata": {
    "id": "ZRUmzVlPYV8a"
   },
   "source": [
    "As you can see, Penn’s degree is 18, relatively high for this network. But printing out this ranking information illustrates the limitations of degree as a centrality measure. You probably didn’t need NetworkX to tell you that William Penn, Quaker leader and founder of Pennsylvania, was important. Most social networks will have just a few hubs of very high degree, with the rest of similar, much lower degree.12 Degree can tell you about the biggest hubs, but it can’t tell you that much about the rest of the nodes. And in many cases, those hubs it’s telling you about (like Penn or Quakerism co-founder Margaret Fell, with a degree of 13) are not especially surprising. In this case almost all of the hubs are founders of the religion or otherwise important political figures.\n",
    "\n",
    "Thankfully there are other centrality measures that can tell you about more than just hubs. Eigenvector centrality is a kind of extension of degree—it looks at a combination of a node’s edges and the edges of that node’s neighbors. Eigenvector centrality cares if you are a hub, but it also cares how many hubs you are connected to. It’s calculated as a value from 0 to 1: the closer to one, the greater the centrality. Eigenvector centrality is useful for understanding which nodes can get information to many other nodes quickly. If you know a lot of well-connected people, you could spread a message very efficiently. If you’ve used Google, then you’re already somewhat familiar with Eigenvector centrality. Their PageRank algorithm uses an extension of this formula to decide which webpages get to the top of its search results.\n",
    "\n",
    "Betweenness centrality is a bit different from the other two measures in that it doesn’t care about the number of edges any one node or set of nodes has. Betweenness centrality looks at all the shortest paths that pass through a particular node (see above). To do this, it must first calculate every possible shortest path in your network, so keep in mind that betweenness centrality will take longer to calculate than other centrality measures (but it won’t be an issue in a dataset of this size). Betweenness centrality, which is also expressed on a scale of 0 to 1, is fairly good at finding nodes that connect two otherwise disparate parts of a network. If you’re the only thing connecting two clusters, every communication between those clusters has to pass through you. In contrast to a hub, this sort of node is often referred to as a broker. Betweenness centrality is not the only way of finding brokerage (and other methods are more systematic), but it’s a quick way of giving you a sense of which nodes are important not because they have lots of connections themselves but because they stand between groups, giving the network connectivity and cohesion.\n",
    "\n",
    "These two centrality measures are even simpler to run than degree—they don’t need to be fed a list of nodes, just the graph G. You can run them with these functions:"
   ]
  },
  {
   "cell_type": "code",
   "execution_count": 31,
   "metadata": {
    "id": "aGSzSfh3YW3c"
   },
   "outputs": [],
   "source": [
    "betweenness_dict = nx.betweenness_centrality(G) # Run betweenness centrality\n",
    "eigenvector_dict = nx.eigenvector_centrality(G) # Run eigenvector centrality\n",
    "\n",
    "# Assign each to an attribute in your network\n",
    "nx.set_node_attributes(G, betweenness_dict, 'betweenness')\n",
    "nx.set_node_attributes(G, eigenvector_dict, 'eigenvector')"
   ]
  },
  {
   "cell_type": "markdown",
   "metadata": {
    "id": "CVj1xkKxYaUI"
   },
   "source": [
    "You can sort betweenness (or eigenvector) centrality by changing the variable names in the sorting code above, as:"
   ]
  },
  {
   "cell_type": "code",
   "execution_count": 38,
   "metadata": {
    "id": "LW-5LcevYaun"
   },
   "outputs": [
    {
     "name": "stdout",
     "output_type": "stream",
     "text": [
      "Top 20 nodes by betweenness centrality:\n",
      "('William Penn', 0.23999456006192205)\n",
      "('George Fox', 0.23683257726065216)\n",
      "('George Whitehead', 0.12632024847366005)\n",
      "('Margaret Fell', 0.12106792237170329)\n",
      "('James Nayler', 0.10446026280446098)\n",
      "('Benjamin Furly', 0.06419626175167242)\n",
      "('Thomas Ellwood', 0.046190623885104545)\n",
      "('George Keith', 0.045006564009171565)\n",
      "('John Audland', 0.04164936340077581)\n",
      "('Alexander Parker', 0.03893676140525336)\n",
      "('John Story', 0.028990098622866983)\n",
      "('John Burnyeat', 0.028974117533439564)\n",
      "('John Perrot', 0.02829566854990583)\n",
      "('James Logan', 0.026944806605823553)\n",
      "('Richard Claridge', 0.026944806605823553)\n",
      "('Robert Barclay', 0.026944806605823553)\n",
      "('Elizabeth Leavens', 0.026944806605823553)\n",
      "('Thomas Curtis', 0.026729751729751724)\n",
      "('John Stubbs', 0.024316593960227152)\n",
      "('Mary Penington', 0.02420824624214454)\n"
     ]
    }
   ],
   "source": [
    "sorted_betweenness = sorted(betweenness_dict.items(), key=itemgetter(1), reverse=True)\n",
    "\n",
    "print(\"Top 20 nodes by betweenness centrality:\")\n",
    "for b in sorted_betweenness[:20]:\n",
    "    print(b)"
   ]
  },
  {
   "cell_type": "markdown",
   "metadata": {
    "id": "YS8yIb1JYedZ"
   },
   "source": [
    "You’ll notice that many, but not all, of the nodes that have high degree also have high betweenness centrality. In fact, betweeness centrality surfaces two women, Elizabeth Leavens and Mary Penington, whose significance had been obscured by the degree centrality metric. An advantage of doing these calculations in Python is that you can quickly compare two sets of calculations. What if you want to know which of the high betweenness centrality nodes had low degree? That is to say: which high-betweenness nodes are unexpected? You can use a combination of the sorted lists from above:"
   ]
  },
  {
   "cell_type": "code",
   "execution_count": 39,
   "metadata": {
    "id": "N5gtpYruYhUn"
   },
   "outputs": [
    {
     "name": "stdout",
     "output_type": "stream",
     "text": [
      "Name: William Penn | Betweenness Centrality: 0.23999456006192205 | Degree: 18\n",
      "Name: George Fox | Betweenness Centrality: 0.23683257726065216 | Degree: 22\n",
      "Name: George Whitehead | Betweenness Centrality: 0.12632024847366005 | Degree: 13\n",
      "Name: Margaret Fell | Betweenness Centrality: 0.12106792237170329 | Degree: 13\n",
      "Name: James Nayler | Betweenness Centrality: 0.10446026280446098 | Degree: 16\n",
      "Name: Benjamin Furly | Betweenness Centrality: 0.06419626175167242 | Degree: 10\n",
      "Name: Thomas Ellwood | Betweenness Centrality: 0.046190623885104545 | Degree: 8\n",
      "Name: George Keith | Betweenness Centrality: 0.045006564009171565 | Degree: 8\n",
      "Name: John Audland | Betweenness Centrality: 0.04164936340077581 | Degree: 6\n",
      "Name: Alexander Parker | Betweenness Centrality: 0.03893676140525336 | Degree: 6\n",
      "Name: John Story | Betweenness Centrality: 0.028990098622866983 | Degree: 6\n",
      "Name: John Burnyeat | Betweenness Centrality: 0.028974117533439564 | Degree: 4\n",
      "Name: John Perrot | Betweenness Centrality: 0.02829566854990583 | Degree: 7\n",
      "Name: James Logan | Betweenness Centrality: 0.026944806605823553 | Degree: 4\n",
      "Name: Richard Claridge | Betweenness Centrality: 0.026944806605823553 | Degree: 2\n",
      "Name: Robert Barclay | Betweenness Centrality: 0.026944806605823553 | Degree: 3\n",
      "Name: Elizabeth Leavens | Betweenness Centrality: 0.026944806605823553 | Degree: 2\n",
      "Name: Thomas Curtis | Betweenness Centrality: 0.026729751729751724 | Degree: 5\n",
      "Name: John Stubbs | Betweenness Centrality: 0.024316593960227152 | Degree: 5\n",
      "Name: Mary Penington | Betweenness Centrality: 0.02420824624214454 | Degree: 4\n"
     ]
    }
   ],
   "source": [
    "#First get the top 20 nodes by betweenness as a list\n",
    "top_betweenness = sorted_betweenness[:20]\n",
    "\n",
    "#Then find and print their degree\n",
    "for tb in top_betweenness: # Loop through top_betweenness\n",
    "    degree = degree_dict[tb[0]] # Use degree_dict to access a node's degree, see footnote 2\n",
    "    print(\"Name:\", tb[0], \"| Betweenness Centrality:\", tb[1], \"| Degree:\", degree)"
   ]
  },
  {
   "cell_type": "markdown",
   "metadata": {
    "id": "uSf2PnD9YnwO"
   },
   "source": [
    "You can confirm from these results that some people, like Leavens and Penington, have high betweenness centrality but low degree. This could mean that these women were important brokers, connecting otherwise disparate parts of the graph. You can also learn unexpected things about people you already know about—in this list you can see that Penn has lower degree than Quaker founder George Fox, but higher betweenness centrality. That is to say, simply knowing more people isn’t everything.\n",
    "\n",
    "This only scratches the surface of what can be done with network metrics in Python. NetworkX offers dozens of functions and measures for you to use in various combinations, and you can use Python to extend these measures in almost unlimited ways. A programming language like Python or R will give you the flexibility to explore your network computationally in ways other interfaces cannot by allowing you to combine and compare the statistical results of your network with other attributes of your data (like the dates and occupations you added to the network at the beginning of this tutorial!).\n",
    "\n",
    "### Advanced NetworkX: Community detection with modularity\n",
    "Another common thing to ask about a network dataset is what the subgroups or communities are within the larger social structure. Is your network one big, happy family where everyone knows everyone else? Or is it a collection of smaller subgroups that are only connected by one or two intermediaries? The field of community detection in networks is designed to answer these questions. There are many ways of calculating communities, cliques, and clusters in your network, but the most popular method currently is modularity. Modularity is a measure of relative density in your network: a community (called a module or modularity class) has high density relative to other nodes within its module but low density with those outside. Modularity gives you an overall score of how fractious your network is, and that score can be used to partition the network and return the individual communities.13\n",
    "\n",
    "Very dense networks are often more difficult to split into sensible partitions. Luckily, as you discovered earlier, this network is not all that dense. There aren’t nearly as many actual connections as possible connections, and there are several altogether disconnected components. Its worthwhile partitioning this sparse network with modularity and seeing if the result make historical and analytical sense.\n",
    "\n",
    "Community detection and partitioning in NetworkX requires a little more setup than some of the other metrics. There are some built-in approaches to community detection (like minimum cut, but modularity is not included with NetworkX. Fortunately there’s an additional python module you can use with NetworkX, which you already installed and imported at the beginning of this tutorial. You can read the full documentation for all of the functions it offers, but for most community detection purposes you’ll only want best_partition():"
   ]
  },
  {
   "cell_type": "code",
   "execution_count": 40,
   "metadata": {
    "id": "wANHYfL5YqI8"
   },
   "outputs": [],
   "source": [
    "communities = community.greedy_modularity_communities(G)"
   ]
  },
  {
   "cell_type": "markdown",
   "metadata": {
    "id": "3J5TiM46Ysm1"
   },
   "source": [
    "The method greedy_modularity_communities() tries to determine the number of communities appropriate for the graph, and groups all nodes into subsets based on these communities. Unlike the centrality functions, the above code will not create a dictionary. Instead it creates a list of special “frozenset” objects (similar to lists). There’s one set for each group, and the sets contain the names of the people in each group. In order to add this information to your network in the now-familiar way, you must first create a dictionary that labels each person with a number value for the group to which they belong:"
   ]
  },
  {
   "cell_type": "code",
   "execution_count": 41,
   "metadata": {
    "id": "-l_Ej309YudB"
   },
   "outputs": [],
   "source": [
    "modularity_dict = {} # Create a blank dictionary\n",
    "for i,c in enumerate(communities): # Loop through the list of communities, keeping track of the number for the community\n",
    "    for name in c: # Loop through each person in a community\n",
    "        modularity_dict[name] = i # Create an entry in the dictionary for the person, where the value is which group they belong to.\n",
    "\n",
    "# Now you can add modularity information like we did the other metrics\n",
    "nx.set_node_attributes(G, modularity_dict, 'modularity')"
   ]
  },
  {
   "cell_type": "markdown",
   "metadata": {
    "id": "VPdBT38rYw_k"
   },
   "source": [
    "As always, you can combine these measures with others. For example, here’s how you find the highest eigenvector centrality nodes in modularity class 0 (the first one):"
   ]
  },
  {
   "cell_type": "code",
   "execution_count": 42,
   "metadata": {
    "id": "-Mv_uadwY01j"
   },
   "outputs": [
    {
     "name": "stdout",
     "output_type": "stream",
     "text": [
      "Modularity Class 0 Sorted by Eigenvector Centrality:\n",
      "Name: James Nayler | Eigenvector Centrality: 0.3352974100447867\n",
      "Name: Margaret Fell | Eigenvector Centrality: 0.253170949905681\n",
      "Name: Francis Howgill | Eigenvector Centrality: 0.19095393782681047\n",
      "Name: Richard Farnworth | Eigenvector Centrality: 0.15368535029296412\n",
      "Name: Anthony Pearson | Eigenvector Centrality: 0.11120476725256782\n"
     ]
    }
   ],
   "source": [
    "# First get a list of just the nodes in that class\n",
    "class0 = [n for n in G.nodes() if G.nodes[n]['modularity'] == 0]\n",
    "\n",
    "# Then create a dictionary of the eigenvector centralities of those nodes\n",
    "class0_eigenvector = {n:G.nodes[n]['eigenvector'] for n in class0}\n",
    "\n",
    "# Then sort that dictionary and print the first 5 results\n",
    "class0_sorted_by_eigenvector = sorted(class0_eigenvector.items(), key=itemgetter(1), reverse=True)\n",
    "\n",
    "print(\"Modularity Class 0 Sorted by Eigenvector Centrality:\")\n",
    "for node in class0_sorted_by_eigenvector[:5]:\n",
    "    print(\"Name:\", node[0], \"| Eigenvector Centrality:\", node[1])"
   ]
  },
  {
   "cell_type": "markdown",
   "metadata": {
    "id": "h5rGsz9eY1bS"
   },
   "source": [
    "Using eigenvector centrality as a ranking can give you a sense of the important people within this modularity class. You’ll notice that some of these people, especially William Penn, William Bradford (not the Plymouth founder you’re thinking of), and James Logan, spent lots of time in America. Also, Bradford and Tace Sowle were both prominent Quaker printers. With just a little bit of digging, we can discover that there are both geographical and occupational reasons that this group of people belongs together. This is an indication that modularity is probably working as expected.\n",
    "\n",
    "In smaller networks like this one, a common task is to find and list all of the modularity classes and their members.14 You can do this by looping through the communities list:"
   ]
  },
  {
   "cell_type": "code",
   "execution_count": 43,
   "metadata": {
    "id": "ERrsFZ80Y4LK"
   },
   "outputs": [
    {
     "name": "stdout",
     "output_type": "stream",
     "text": [
      "Class 0: ['Thomas Lower', 'Thomas Holme', 'Thomas Aldam', 'Richard Farnworth', 'Hannah Stranger', 'Anthony Pearson', 'Martha Simmonds', 'Dorcas Erbery', 'William Gibson', 'Gervase Benson', 'Elizabeth Leavens', 'Francis Howgill', 'Robert Rich', 'William Tomlinson', 'George Fox the younger', 'Margaret Fell', 'James Nayler']\n",
      "Class 1: ['James Logan', 'Jane Sowle', 'Edward Haistwell', 'William Penn', 'Isaac Norris', 'George Keith', 'Richard Claridge', 'John Bartram', 'Isabel Yeamans', 'Peter Collinson', 'William Bradford', 'Joseph Besse', 'Thomas Story', 'Anne Conway Viscountess Conway and Killultagh', 'Tace Sowle', 'Samuel Bownas', 'David Lloyd']\n",
      "Class 2: ['Leonard Fell', 'Ellis Hookes', 'William Coddington', 'John Perrot', 'William Mucklow', 'George Fox', 'Elizabeth Hooten', 'William Dewsbury', 'Mary Fisher', 'Edward Burrough', 'William Crouch', 'John Crook', 'William Mead', 'Mary Prince', 'Thomas Salthouse']\n",
      "Class 3: ['Gilbert Latey', 'Henry Pickworth', 'Francis Bugg', 'Thomas Lawson', 'Richard Hubberthorne', 'Silvanus Bevan', 'Daniel Quare', 'Alice Curwen', 'Sir Charles Wager', 'George Whitehead', 'Lewis Morris', 'Alexander Parker', 'John Whitehead', 'Rebecca Travers']\n",
      "Class 4: ['Anthony Sharp', 'William Simpson', 'William Edmundson', 'Thomas Curtis', 'John ap John', 'Mary Penington', 'Thomas Ellwood', 'William Rogers', 'Joseph Wyeth', 'Samuel Clarridge', 'James Claypoole', 'John Burnyeat', 'John Penington']\n",
      "Class 5: ['Stephen Crisp', 'Franciscus Mercurius van Helmont', 'James Parnel', 'Robert Barclay', 'Benjamin Furly', 'Samuel Fisher', 'John Stubbs', 'William Caton', 'David Barclay of Ury', 'William Ames', 'John Swinton']\n",
      "Class 6: ['Edward Pyott', 'Anne Camm', 'Solomon Eccles', 'John Audland', 'Thomas Camm', 'John Wilkinson', 'Charles Marshall', 'John Story', 'John Camm']\n",
      "Class 7: ['John Whiting', 'Thomas Taylor', 'Christopher Taylor']\n"
     ]
    }
   ],
   "source": [
    "for i,c in enumerate(communities): # Loop through the list of communities\n",
    "    if len(c) > 2: # Filter out modularity classes with 2 or fewer nodes\n",
    "        print('Class '+str(i)+':', list(c)) # Print out the classes and their members"
   ]
  },
  {
   "cell_type": "markdown",
   "metadata": {
    "id": "jOQ8ehmPY8Fq"
   },
   "source": [
    "Notice in the code above that you are filtering out any modularity classes with two or fewer nodes, in the line if len(c) > 2. You’ll remember from the visualization that there were lots of small components of the network with only two nodes. Modularity will find these components and treat them as separate classes (since they’re not connected to anything else). By filtering them out, you get a better sense of the larger modularity classes within the network’s main component.\n",
    "\n",
    "Working with NetworkX alone will get you far, and you can find out a lot about modularity classes just by working with the data directly. But you’ll almost always want to visualize your data (and perhaps to express modularity as node color). In the next section you’ll learn how to export your NetworkX data for use in other programs."
   ]
  },
  {
   "cell_type": "markdown",
   "metadata": {
    "id": "QOz_RWpFY9nE"
   },
   "source": [
    "## Exporting Data\n",
    "\n",
    "The below is a function to export the graph data in json format for use on Observable.  NetworkX can export in many formats, so it's important to know when you go to export what you'll be using your data for."
   ]
  },
  {
   "cell_type": "code",
   "execution_count": 44,
   "metadata": {
    "id": "yDUeLRMUY9Lw"
   },
   "outputs": [
    {
     "name": "stdout",
     "output_type": "stream",
     "text": [
      "{\"directed\": false, \"multigraph\": false, \"graph\": {}, \"nodes\": [{\"historical_significance\": \"religious writer\", \"gender\": \"male\", \"birth_year\": \"1663\", \"death_year\": \"1731\", \"sdfb_id\": \"10013191\", \"degree\": 1, \"betweenness\": 0.0, \"eigenvector\": 0.02393856925288573, \"modularity\": 4, \"id\": \"Joseph Wyeth\"}, {\"historical_significance\": \"local politician and author\", \"gender\": \"male\", \"birth_year\": \"1621\", \"death_year\": \"1694\", \"sdfb_id\": \"10011149\", \"degree\": 1, \"betweenness\": 0.0, \"eigenvector\": 8.138875606113614e-16, \"modularity\": 8, \"id\": \"Alexander Skene of Newtyle\"}, {\"historical_significance\": \"colonial official and scholar\", \"gender\": \"male\", \"birth_year\": \"1674\", \"death_year\": \"1751\", \"sdfb_id\": \"10007567\", \"degree\": 4, \"betweenness\": 0.026944806605823553, \"eigenvector\": 0.04447446026748655, \"modularity\": 1, \"id\": \"James Logan\"}, {\"historical_significance\": \"Quaker preacher\", \"gender\": \"female\", \"birth_year\": \"1656\", \"death_year\": \"1659\", \"sdfb_id\": \"10003983\", \"degree\": 1, \"betweenness\": 0.0, \"eigenvector\": 0.04558398623515939, \"modularity\": 0, \"id\": \"Dorcas Erbery\"}, {\"historical_significance\": \"Quaker preacher and poet\", \"gender\": \"male\", \"birth_year\": \"1626\", \"death_year\": \"1697\", \"sdfb_id\": \"10011152\", \"degree\": 1, \"betweenness\": 0.0, \"eigenvector\": 8.138875606113614e-16, \"modularity\": 8, \"id\": \"Lilias Skene\"}, {\"historical_significance\": \"religious writer\", \"gender\": \"male\", \"birth_year\": \"1630\", \"death_year\": \"1713\", \"sdfb_id\": \"10008595\", \"degree\": 1, \"betweenness\": 0.0, \"eigenvector\": 0.06106681323567699, \"modularity\": 2, \"id\": \"William Mucklow\"}, {\"historical_significance\": \"Quaker preacher and writer\", \"gender\": \"male\", \"birth_year\": \"1630\", \"death_year\": \"1691\", \"sdfb_id\": \"10010643\", \"degree\": 2, \"betweenness\": 0.0, \"eigenvector\": 0.09548628544138768, \"modularity\": 2, \"id\": \"Thomas Salthouse\"}, {\"historical_significance\": \"Quaker activist\", \"gender\": \"male\", \"birth_year\": \"1621\", \"death_year\": \"1688\", \"sdfb_id\": \"10003478\", \"degree\": 3, \"betweenness\": 0.0, \"eigenvector\": 0.11057869321157117, \"modularity\": 2, \"id\": \"William Dewsbury\"}, {\"historical_significance\": \"Quaker preacher\", \"gender\": \"male\", \"birth_year\": \"1630\", \"death_year\": \"1664\", \"sdfb_id\": \"10000411\", \"degree\": 6, \"betweenness\": 0.04164936340077581, \"eigenvector\": 0.09830889719333748, \"modularity\": 6, \"id\": \"John Audland\"}, {\"historical_significance\": \"Quaker minister and schoolmaster\", \"gender\": \"male\", \"birth_year\": \"1649\", \"death_year\": \"1723\", \"sdfb_id\": \"10002469\", \"degree\": 2, \"betweenness\": 0.026944806605823553, \"eigenvector\": 0.03745784226737175, \"modularity\": 1, \"id\": \"Richard Claridge\"}, {\"historical_significance\": \"printer\", \"gender\": \"male\", \"birth_year\": \"1663\", \"death_year\": \"1752\", \"sdfb_id\": \"10001445\", \"degree\": 3, \"betweenness\": 0.000676034574339659, \"eigenvector\": 0.06812170326615952, \"modularity\": 1, \"id\": \"William Bradford\"}, {\"historical_significance\": \"philosophical writer and playwright\", \"gender\": \"male\", \"birth_year\": \"1687\", \"death_year\": \"1750\", \"sdfb_id\": \"10000933\", \"degree\": 1, \"betweenness\": 0.0, \"eigenvector\": 8.138875606113614e-16, \"modularity\": 9, \"id\": \"Fettiplace Bellers\"}, {\"historical_significance\": \"political economist and cloth merchant\", \"gender\": \"male\", \"birth_year\": \"1654\", \"death_year\": \"1725\", \"sdfb_id\": \"10000934\", \"degree\": 1, \"betweenness\": 0.0, \"eigenvector\": 8.138875606113614e-16, \"modularity\": 9, \"id\": \"John Bellers\"}, {\"historical_significance\": \"Quaker preacher\", \"gender\": \"female\", \"birth_year\": \"1637\", \"death_year\": \"1704\", \"sdfb_id\": \"10013226\", \"degree\": 1, \"betweenness\": 0.0, \"eigenvector\": 0.036752364236589646, \"modularity\": 1, \"id\": \"Isabel Yeamans\"}, {\"historical_significance\": \"religious writer\", \"gender\": \"male\", \"birth_year\": \"1551\", \"death_year\": \"1661\", \"sdfb_id\": \"10004523\", \"degree\": 1, \"betweenness\": 0.0, \"eigenvector\": 0.034419472205710684, \"modularity\": 0, \"id\": \"George Fox the younger\"}, {\"historical_significance\": \" a founder of the Religious Society of Friends (Quakers)\", \"gender\": \"male\", \"birth_year\": \"1624\", \"death_year\": \"1691\", \"sdfb_id\": \"10004524\", \"degree\": 22, \"betweenness\": 0.23683257726065216, \"eigenvector\": 0.44917507108599225, \"modularity\": 2, \"id\": \"George Fox\"}, {\"historical_significance\": \"Quaker minister\", \"gender\": \"male\", \"birth_year\": \"1618\", \"death_year\": \"1675\", \"sdfb_id\": \"10011695\", \"degree\": 5, \"betweenness\": 0.024316593960227152, \"eigenvector\": 0.10693500692141822, \"modularity\": 5, \"id\": \"John Stubbs\"}, {\"historical_significance\": \"Quaker preacher\", \"gender\": \"female\", \"birth_year\": \"1627\", \"death_year\": \"1705\", \"sdfb_id\": \"10001967\", \"degree\": 2, \"betweenness\": 0.0008462504225216084, \"eigenvector\": 0.01558409271306099, \"modularity\": 6, \"id\": \"Anne Camm\"}, {\"historical_significance\": \"Quaker preacher\", \"gender\": \"male\", \"birth_year\": \"1605\", \"death_year\": \"1657\", \"sdfb_id\": \"10001968\", \"degree\": 4, \"betweenness\": 0.0017637259162682885, \"eigenvector\": 0.021785514186690304, \"modularity\": 6, \"id\": \"John Camm\"}, {\"historical_significance\": \"Quaker preacher and writer\", \"gender\": \"male\", \"birth_year\": \"1640\", \"death_year\": \"1708\", \"sdfb_id\": \"10001969\", \"degree\": 3, \"betweenness\": 0.004187620289315204, \"eigenvector\": 0.0163207219782383, \"modularity\": 6, \"id\": \"Thomas Camm\"}, {\"historical_significance\": \"Quaker missionary\", \"gender\": \"female\", \"birth_year\": \"1618\", \"death_year\": \"1692\", \"sdfb_id\": \"10004036\", \"degree\": 1, \"betweenness\": 0.0, \"eigenvector\": 8.138875606113614e-16, \"modularity\": 16, \"id\": \"Katharine Evans\"}, {\"historical_significance\": \"Quaker minister\", \"gender\": \"female\", \"birth_year\": \"1683\", \"death_year\": \"1761\", \"sdfb_id\": \"10007110\", \"degree\": 1, \"betweenness\": 0.0, \"eigenvector\": 8.138875606113614e-16, \"modularity\": 10, \"id\": \"Lydia Lancaster\"}, {\"historical_significance\": \"Quaker activist\", \"gender\": \"male\", \"birth_year\": \"1631\", \"death_year\": \"1704\", \"sdfb_id\": \"10002504\", \"degree\": 2, \"betweenness\": 0.00159488973048295, \"eigenvector\": 0.006241256686351222, \"modularity\": 4, \"id\": \"Samuel Clarridge\"}, {\"historical_significance\": \"Quaker activist and physician\", \"gender\": \"male\", \"birth_year\": \"1633\", \"death_year\": \"1720\", \"sdfb_id\": \"10007626\", \"degree\": 1, \"betweenness\": 0.0, \"eigenvector\": 0.034419472205710684, \"modularity\": 0, \"id\": \"Thomas Lower\"}, {\"historical_significance\": \"Quaker leader\", \"gender\": \"male\", \"birth_year\": \"1569\", \"death_year\": \"1679\", \"sdfb_id\": \"10000972\", \"degree\": 2, \"betweenness\": 0.0, \"eigenvector\": 0.06070231190047901, \"modularity\": 0, \"id\": \"Gervase Benson\"}, {\"historical_significance\": \"Quaker activist and writer\", \"gender\": \"male\", \"birth_year\": \"1628\", \"death_year\": \"1692\", \"sdfb_id\": \"10003022\", \"degree\": 3, \"betweenness\": 0.00038509826645419866, \"eigenvector\": 0.04085637118824347, \"modularity\": 5, \"id\": \"Stephen Crisp\"}, {\"historical_significance\": \"merchant and pioneer settler in America\", \"gender\": \"male\", \"birth_year\": \"1634\", \"death_year\": \"1687\", \"sdfb_id\": \"10002513\", \"degree\": 2, \"betweenness\": 0.012532163379621009, \"eigenvector\": 0.03760094415042913, \"modularity\": 4, \"id\": \"James Claypoole\"}, {\"historical_significance\": \"Quaker missionary\", \"gender\": \"male\", \"birth_year\": \"1626\", \"death_year\": \"1666\", \"sdfb_id\": \"10006100\", \"degree\": 2, \"betweenness\": 0.013617267854555989, \"eigenvector\": 0.004859072815366481, \"modularity\": 0, \"id\": \"Thomas Holme\"}, {\"historical_significance\": \"banker and lobbyist\", \"gender\": \"male\", \"birth_year\": \"1665\", \"death_year\": \"1745\", \"sdfb_id\": \"10004564\", \"degree\": 1, \"betweenness\": 0.0, \"eigenvector\": 8.138875606113614e-16, \"modularity\": 11, \"id\": \"John Freame\"}, {\"historical_significance\": \"politician\", \"gender\": \"male\", \"birth_year\": \"1620\", \"death_year\": \"1679\", \"sdfb_id\": \"10011742\", \"degree\": 1, \"betweenness\": 0.0, \"eigenvector\": 0.0009700459639015541, \"modularity\": 5, \"id\": \"John Swinton\"}, {\"historical_significance\": \"Quaker patron and merchant\", \"gender\": \"male\", \"birth_year\": \"1627\", \"death_year\": \"1713\", \"sdfb_id\": \"10008161\", \"degree\": 2, \"betweenness\": 0.0, \"eigenvector\": 0.09548628544138768, \"modularity\": 2, \"id\": \"William Mead\"}, {\"historical_significance\": \"religious controversialist\", \"gender\": \"male\", \"birth_year\": \"1673\", \"death_year\": \"1738\", \"sdfb_id\": \"10009697\", \"degree\": 1, \"betweenness\": 0.0, \"eigenvector\": 0.00470318167357865, \"modularity\": 3, \"id\": \"Henry Pickworth\"}, {\"historical_significance\": \"Quaker leader and writer\", \"gender\": \"male\", \"birth_year\": \"1616\", \"death_year\": \"1699\", \"sdfb_id\": \"10003063\", \"degree\": 4, \"betweenness\": 0.00016297262059973924, \"eigenvector\": 0.13271581268807786, \"modularity\": 2, \"id\": \"John Crook\"}, {\"historical_significance\": \"Quaker activist\", \"gender\": \"male\", \"birth_year\": \"1626\", \"death_year\": \"1705\", \"sdfb_id\": \"10007166\", \"degree\": 2, \"betweenness\": 0.0005808378689734622, \"eigenvector\": 0.06542312738472622, \"modularity\": 3, \"id\": \"Gilbert Latey\"}, {\"historical_significance\": \"Quaker administrator\", \"gender\": \"male\", \"birth_year\": \"1635\", \"death_year\": \"1681\", \"sdfb_id\": \"10006146\", \"degree\": 1, \"betweenness\": 0.0, \"eigenvector\": 0.06106681323567699, \"modularity\": 2, \"id\": \"Ellis Hookes\"}, {\"historical_significance\": \"historian of Quakerism\", \"gender\": \"male\", \"birth_year\": \"1683\", \"death_year\": \"1757\", \"sdfb_id\": \"10001027\", \"degree\": 2, \"betweenness\": 0.013617267854555989, \"eigenvector\": 0.005188701843520934, \"modularity\": 1, \"id\": \"Joseph Besse\"}, {\"historical_significance\": \"Quaker preacher and writer\", \"gender\": \"male\", \"birth_year\": \"1618\", \"death_year\": \"1660\", \"sdfb_id\": \"10008713\", \"degree\": 16, \"betweenness\": 0.10446026280446098, \"eigenvector\": 0.3352974100447867, \"modularity\": 0, \"id\": \"James Nayler\"}, {\"historical_significance\": \"Quaker preacher\", \"gender\": \"female\", \"birth_year\": \"1562\", \"death_year\": \"1672\", \"sdfb_id\": \"10006153\", \"degree\": 1, \"betweenness\": 0.0, \"eigenvector\": 0.06106681323567699, \"modularity\": 2, \"id\": \"Elizabeth Hooten\"}, {\"historical_significance\": \"Quaker leader and writer\", \"gender\": \"male\", \"birth_year\": \"1637\", \"death_year\": \"1724\", \"sdfb_id\": \"10012813\", \"degree\": 13, \"betweenness\": 0.12632024847366005, \"eigenvector\": 0.2497455334914196, \"modularity\": 3, \"id\": \"George Whitehead\"}, {\"historical_significance\": \"Quaker minister and preacher\", \"gender\": \"male\", \"birth_year\": \"1630\", \"death_year\": \"1696\", \"sdfb_id\": \"10012815\", \"degree\": 1, \"betweenness\": 0.0, \"eigenvector\": 0.03395409244871086, \"modularity\": 3, \"id\": \"John Whitehead\"}, {\"historical_significance\": \"Quaker leader and writer\", \"gender\": \"male\", \"birth_year\": \"1628\", \"death_year\": \"1711\", \"sdfb_id\": \"10003087\", \"degree\": 2, \"betweenness\": 0.0, \"eigenvector\": 0.05742927075071553, \"modularity\": 2, \"id\": \"William Crouch\"}, {\"historical_significance\": \"merchant and religious writer\", \"gender\": \"male\", \"birth_year\": \"1636\", \"death_year\": \"1714\", \"sdfb_id\": \"10004625\", \"degree\": 10, \"betweenness\": 0.06419626175167242, \"eigenvector\": 0.18785206346916508, \"modularity\": 5, \"id\": \"Benjamin Furly\"}, {\"historical_significance\": \"apothecary\", \"gender\": \"male\", \"birth_year\": \"1691\", \"death_year\": \"1765\", \"sdfb_id\": \"10001041\", \"degree\": 1, \"betweenness\": 0.0, \"eigenvector\": 0.004703181673578649, \"modularity\": 3, \"id\": \"Silvanus Bevan\"}, {\"historical_significance\": \"Quaker adherent and sectary\", \"gender\": \"male\", \"birth_year\": \"1607\", \"death_year\": \"1679\", \"sdfb_id\": \"10010260\", \"degree\": 2, \"betweenness\": 0.0, \"eigenvector\": 0.052756141766563604, \"modularity\": 0, \"id\": \"Robert Rich\"}, {\"historical_significance\": \"Quaker bibliographer and writer\", \"gender\": \"male\", \"birth_year\": \"1656\", \"death_year\": \"1722\", \"sdfb_id\": \"10012829\", \"degree\": 1, \"betweenness\": 0.0, \"eigenvector\": 5.271642676521065e-14, \"modularity\": 7, \"id\": \"John Whiting\"}, {\"historical_significance\": \"religious writer and schoolmaster\", \"gender\": \"male\", \"birth_year\": \"1614\", \"death_year\": \"1686\", \"sdfb_id\": \"10011811\", \"degree\": 2, \"betweenness\": 0.00014486455164421265, \"eigenvector\": 7.455228569120892e-14, \"modularity\": 7, \"id\": \"Christopher Taylor\"}, {\"historical_significance\": \"Quaker minister and botanist\", \"gender\": \"male\", \"birth_year\": \"1630\", \"death_year\": \"1691\", \"sdfb_id\": \"10007210\", \"degree\": 2, \"betweenness\": 0.0, \"eigenvector\": 0.050173778831813086, \"modularity\": 3, \"id\": \"Thomas Lawson\"}, {\"historical_significance\": \"Quaker preacher and writer\", \"gender\": \"male\", \"birth_year\": \"1630\", \"death_year\": \"1666\", \"sdfb_id\": \"10004141\", \"degree\": 6, \"betweenness\": 0.006719760674562933, \"eigenvector\": 0.15368535029296412, \"modularity\": 0, \"id\": \"Richard Farnworth\"}, {\"historical_significance\": \"merchant and official in America\", \"gender\": \"male\", \"birth_year\": \"1601\", \"death_year\": \"1678\", \"sdfb_id\": \"10002606\", \"degree\": 1, \"betweenness\": 0.0, \"eigenvector\": 0.06106681323567699, \"modularity\": 2, \"id\": \"William Coddington\"}, {\"historical_significance\": \"Quaker minister and writer\", \"gender\": \"male\", \"birth_year\": \"1617\", \"death_year\": \"1682\", \"sdfb_id\": \"10011824\", \"degree\": 1, \"betweenness\": 0.0, \"eigenvector\": 5.271642676521065e-14, \"modularity\": 7, \"id\": \"Thomas Taylor\"}, {\"historical_significance\": \"religious writer\", \"gender\": \"male\", \"birth_year\": \"1590\", \"death_year\": \"1700\", \"sdfb_id\": \"10012350\", \"degree\": 1, \"betweenness\": 0.0, \"eigenvector\": 8.138875606113614e-16, \"modularity\": 12, \"id\": \"Richard Vickris\"}, {\"historical_significance\": \"religious writer and colonial governor\", \"gender\": \"male\", \"birth_year\": \"1648\", \"death_year\": \"1690\", \"sdfb_id\": \"10054848\", \"degree\": 3, \"betweenness\": 0.026944806605823553, \"eigenvector\": 0.0515053715043734, \"modularity\": 5, \"id\": \"Robert Barclay\"}, {\"historical_significance\": \"\", \"gender\": \"female\", \"birth_year\": \"1631\", \"death_year\": \"1711\", \"sdfb_id\": \"10011331\", \"degree\": 1, \"betweenness\": 0.0, \"eigenvector\": 0.00637397353134701, \"modularity\": 1, \"id\": \"Jane Sowle\"}, {\"historical_significance\": \"printer and bookseller\", \"gender\": \"male\", \"birth_year\": \"1666\", \"death_year\": \"1749\", \"sdfb_id\": \"10011332\", \"degree\": 3, \"betweenness\": 0.013617267854555989, \"eigenvector\": 0.04688085927497435, \"modularity\": 1, \"id\": \"Tace Sowle\"}, {\"historical_significance\": \"Quaker missionary and writer\", \"gender\": \"male\", \"birth_year\": \"1624\", \"death_year\": \"1701\", \"sdfb_id\": \"10004169\", \"degree\": 1, \"betweenness\": 0.0, \"eigenvector\": 0.06106681323567699, \"modularity\": 2, \"id\": \"Leonard Fell\"}, {\"historical_significance\": \"Quaker leader\", \"gender\": \"female\", \"birth_year\": \"1614\", \"death_year\": \"1702\", \"sdfb_id\": \"10004170\", \"degree\": 13, \"betweenness\": 0.12106792237170329, \"eigenvector\": 0.253170949905681, \"modularity\": 0, \"id\": \"Margaret Fell\"}, {\"historical_significance\": \"government official and religious writer\", \"gender\": \"male\", \"birth_year\": \"1558\", \"death_year\": \"1668\", \"sdfb_id\": \"10001097\", \"degree\": 1, \"betweenness\": 0.0, \"eigenvector\": 8.138875606113614e-16, \"modularity\": 12, \"id\": \"George Bishop\"}, {\"historical_significance\": \"Quaker missionary\", \"gender\": \"female\", \"birth_year\": \"1555\", \"death_year\": \"1665\", \"sdfb_id\": \"10007246\", \"degree\": 2, \"betweenness\": 0.026944806605823553, \"eigenvector\": 0.03508008060750142, \"modularity\": 0, \"id\": \"Elizabeth Leavens\"}, {\"historical_significance\": \"Quaker schismatic\", \"gender\": \"male\", \"birth_year\": \"1602\", \"death_year\": \"1712\", \"sdfb_id\": \"10003161\", \"degree\": 5, \"betweenness\": 0.026729751729751724, \"eigenvector\": 0.046447785670461705, \"modularity\": 4, \"id\": \"Thomas Curtis\"}, {\"historical_significance\": \"Quaker missionary\", \"gender\": \"female\", \"birth_year\": \"1619\", \"death_year\": \"1679\", \"sdfb_id\": \"10003162\", \"degree\": 1, \"betweenness\": 0.0, \"eigenvector\": 0.01610796215879335, \"modularity\": 3, \"id\": \"Alice Curwen\"}, {\"historical_significance\": \"Quaker preacher and author\", \"gender\": \"male\", \"birth_year\": \"1628\", \"death_year\": \"1689\", \"sdfb_id\": \"10009307\", \"degree\": 6, \"betweenness\": 0.03893676140525336, \"eigenvector\": 0.11587808682088319, \"modularity\": 3, \"id\": \"Alexander Parker\"}, {\"historical_significance\": \"Quaker schismatic\", \"gender\": \"male\", \"birth_year\": \"1652\", \"death_year\": \"1683\", \"sdfb_id\": \"10012893\", \"degree\": 5, \"betweenness\": 0.020561108696701903, \"eigenvector\": 0.09533342948271299, \"modularity\": 6, \"id\": \"John Wilkinson\"}, {\"historical_significance\": \"Quaker preacher and writer\", \"gender\": \"male\", \"birth_year\": \"1616\", \"death_year\": \"1660\", \"sdfb_id\": \"10000099\", \"degree\": 1, \"betweenness\": 0.0, \"eigenvector\": 0.015118325665319619, \"modularity\": 0, \"id\": \"Thomas Aldam\"}, {\"historical_significance\": \"soldier and politician\", \"gender\": \"male\", \"birth_year\": \"1610\", \"death_year\": \"1686\", \"sdfb_id\": \"10000621\", \"degree\": 2, \"betweenness\": 0.013617267854555989, \"eigenvector\": 0.007134575474521652, \"modularity\": 5, \"id\": \"David Barclay of Ury\"}, {\"historical_significance\": \"merchant\", \"gender\": \"male\", \"birth_year\": \"1682\", \"death_year\": \"1769\", \"sdfb_id\": \"10000622\", \"degree\": 1, \"betweenness\": 0.0, \"eigenvector\": 8.138875606113614e-16, \"modularity\": 11, \"id\": \"David Barclay\"}, {\"historical_significance\": \"naval officer and politician\", \"gender\": \"male\", \"birth_year\": \"1666\", \"death_year\": \"1743\", \"sdfb_id\": \"10012403\", \"degree\": 2, \"betweenness\": 0.013617267854555989, \"eigenvector\": 0.016051004363228375, \"modularity\": 3, \"id\": \"Sir Charles Wager\"}, {\"historical_significance\": \"Quaker schismatic and Church of England clergyman\", \"gender\": \"male\", \"birth_year\": \"1638\", \"death_year\": \"1716\", \"sdfb_id\": \"10006784\", \"degree\": 8, \"betweenness\": 0.045006564009171565, \"eigenvector\": 0.1838469086791534, \"modularity\": 1, \"id\": \"George Keith\"}, {\"historical_significance\": \"Quaker martyr\", \"gender\": \"male\", \"birth_year\": \"1636\", \"death_year\": \"1656\", \"sdfb_id\": \"10009347\", \"degree\": 2, \"betweenness\": 0.0, \"eigenvector\": 0.031094812432434536, \"modularity\": 5, \"id\": \"James Parnel\"}, {\"historical_significance\": \"botanist\", \"gender\": \"male\", \"birth_year\": \"1694\", \"death_year\": \"1768\", \"sdfb_id\": \"10002694\", \"degree\": 2, \"betweenness\": 0.0, \"eigenvector\": 0.006998347503803875, \"modularity\": 1, \"id\": \"Peter Collinson\"}, {\"historical_significance\": \"physician and cabbalist\", \"gender\": \"male\", \"birth_year\": \"1614\", \"death_year\": \"1698\", \"sdfb_id\": \"10005781\", \"degree\": 2, \"betweenness\": 0.0, \"eigenvector\": 0.050535325540471854, \"modularity\": 5, \"id\": \"Franciscus Mercurius van Helmont\"}, {\"historical_significance\": \"Quaker preacher\", \"gender\": \"male\", \"birth_year\": \"1636\", \"death_year\": \"1665\", \"sdfb_id\": \"10002203\", \"degree\": 5, \"betweenness\": 0.01873110149946308, \"eigenvector\": 0.08156039199871845, \"modularity\": 5, \"id\": \"William Caton\"}, {\"historical_significance\": \"Quaker activist\", \"gender\": \"male\", \"birth_year\": \"1618\", \"death_year\": \"1669\", \"sdfb_id\": \"10006305\", \"degree\": 7, \"betweenness\": 0.014689610452322314, \"eigenvector\": 0.19095393782681047, \"modularity\": 0, \"id\": \"Francis Howgill\"}, {\"historical_significance\": \"Quaker activist\", \"gender\": \"male\", \"birth_year\": \"1628\", \"death_year\": \"1662\", \"sdfb_id\": \"10006314\", \"degree\": 2, \"betweenness\": 0.000690003656105351, \"eigenvector\": 0.05484764549114932, \"modularity\": 3, \"id\": \"Richard Hubberthorne\"}, {\"historical_significance\": \"Quaker preacher\", \"gender\": \"male\", \"birth_year\": \"1552\", \"death_year\": \"1662\", \"sdfb_id\": \"10000175\", \"degree\": 1, \"betweenness\": 0.0, \"eigenvector\": 0.011088730822341923, \"modularity\": 5, \"id\": \"William Ames\"}, {\"historical_significance\": \"Quaker schismatic\", \"gender\": \"male\", \"birth_year\": \"1601\", \"death_year\": \"1711\", \"sdfb_id\": \"10010417\", \"degree\": 2, \"betweenness\": 0.0005891158433531314, \"eigenvector\": 0.05789266170159659, \"modularity\": 4, \"id\": \"William Rogers\"}, {\"historical_significance\": \"colonial official and merchant\", \"gender\": \"male\", \"birth_year\": \"1671\", \"death_year\": \"1735\", \"sdfb_id\": \"10008884\", \"degree\": 1, \"betweenness\": 0.0, \"eigenvector\": 0.036752364236589646, \"modularity\": 1, \"id\": \"Isaac Norris\"}, {\"historical_significance\": \"Quaker leader\", \"gender\": \"male\", \"birth_year\": \"1643\", \"death_year\": \"1707\", \"sdfb_id\": \"10010941\", \"degree\": 3, \"betweenness\": 0.004321964915185254, \"eigenvector\": 0.00830428709360371, \"modularity\": 4, \"id\": \"Anthony Sharp\"}, {\"historical_significance\": \"Quaker missionary\", \"gender\": \"female\", \"birth_year\": \"1623\", \"death_year\": \"1698\", \"sdfb_id\": \"10004290\", \"degree\": 2, \"betweenness\": 0.0, \"eigenvector\": 0.029103162487616643, \"modularity\": 2, \"id\": \"Mary Fisher\"}, {\"historical_significance\": \"philosopher\", \"gender\": \"female\", \"birth_year\": \"1631\", \"death_year\": \"1679\", \"sdfb_id\": \"10002755\", \"degree\": 1, \"betweenness\": 0.0, \"eigenvector\": 0.024995365498222868, \"modularity\": 1, \"id\": \"Anne Conway Viscountess Conway and Killultagh\"}, {\"historical_significance\": \"Quaker preacher and writer\", \"gender\": \"male\", \"birth_year\": \"1604\", \"death_year\": \"1665\", \"sdfb_id\": \"10004292\", \"degree\": 1, \"betweenness\": 0.0, \"eigenvector\": 0.014538490289696351, \"modularity\": 5, \"id\": \"Samuel Fisher\"}, {\"historical_significance\": \"Quaker apostate\", \"gender\": \"male\", \"birth_year\": \"1640\", \"death_year\": \"1727\", \"sdfb_id\": \"10001737\", \"degree\": 2, \"betweenness\": 0.013617267854555989, \"eigenvector\": 0.034593521815088644, \"modularity\": 3, \"id\": \"Francis Bugg\"}, {\"historical_significance\": \"Quaker preacher in America\", \"gender\": \"female\", \"birth_year\": \"1634\", \"death_year\": \"1659\", \"sdfb_id\": \"10004811\", \"degree\": 1, \"betweenness\": 0.0, \"eigenvector\": 8.138875606113614e-16, \"modularity\": 13, \"id\": \"Sarah Gibbons\"}, {\"historical_significance\": \"religious writer\", \"gender\": \"male\", \"birth_year\": \"1650\", \"death_year\": \"1696\", \"sdfb_id\": \"10011989\", \"degree\": 2, \"betweenness\": 0.0, \"eigenvector\": 0.052756141766563604, \"modularity\": 0, \"id\": \"William Tomlinson\"}, {\"historical_significance\": \"Quaker missionary and author\", \"gender\": \"male\", \"birth_year\": \"1655\", \"death_year\": \"1660\", \"sdfb_id\": \"10008917\", \"degree\": 1, \"betweenness\": 0.0, \"eigenvector\": 8.138875606113614e-16, \"modularity\": 15, \"id\": \"Humphrey Norton\"}, {\"historical_significance\": \"Quaker leader\", \"gender\": \"male\", \"birth_year\": \"1628\", \"death_year\": \"1684\", \"sdfb_id\": \"10004827\", \"degree\": 1, \"betweenness\": 0.0, \"eigenvector\": 0.000660608401790725, \"modularity\": 0, \"id\": \"William Gibson\"}, {\"historical_significance\": \"merchant and colonial governor\", \"gender\": \"male\", \"birth_year\": \"1693\", \"death_year\": \"1767\", \"sdfb_id\": \"10012509\", \"degree\": 1, \"betweenness\": 0.0, \"eigenvector\": 8.138875606113614e-16, \"modularity\": 14, \"id\": \"Gideon Wanton\"}, {\"historical_significance\": \"merchant and colonial governor\", \"gender\": \"male\", \"birth_year\": \"1672\", \"death_year\": \"1740\", \"sdfb_id\": \"10012510\", \"degree\": 1, \"betweenness\": 0.0, \"eigenvector\": 8.138875606113614e-16, \"modularity\": 14, \"id\": \"John Wanton\"}, {\"historical_significance\": \"Quaker minister\", \"gender\": \"female\", \"birth_year\": \"1676\", \"death_year\": \"1762\", \"sdfb_id\": \"10002274\", \"degree\": 1, \"betweenness\": 0.0, \"eigenvector\": 8.138875606113614e-16, \"modularity\": 10, \"id\": \"Grace Chamber\"}, {\"historical_significance\": \"Quaker preacher\", \"gender\": \"female\", \"birth_year\": \"1569\", \"death_year\": \"1679\", \"sdfb_id\": \"10009959\", \"degree\": 2, \"betweenness\": 0.0, \"eigenvector\": 0.029103162487616643, \"modularity\": 2, \"id\": \"Mary Prince\"}, {\"historical_significance\": \"botanist and explorer in America\", \"gender\": \"male\", \"birth_year\": \"1699\", \"death_year\": \"1777\", \"sdfb_id\": \"10000745\", \"degree\": 2, \"betweenness\": 0.0, \"eigenvector\": 0.006998347503803875, \"modularity\": 1, \"id\": \"John Bartram\"}, {\"historical_significance\": \"merchant\", \"gender\": \"male\", \"birth_year\": \"1658\", \"death_year\": \"1709\", \"sdfb_id\": \"10005359\", \"degree\": 1, \"betweenness\": 0.0, \"eigenvector\": 0.036752364236589646, \"modularity\": 1, \"id\": \"Edward Haistwell\"}, {\"historical_significance\": \"Quaker leader\", \"gender\": \"male\", \"birth_year\": \"1625\", \"death_year\": \"1697\", \"sdfb_id\": \"10000243\", \"degree\": 1, \"betweenness\": 0.0, \"eigenvector\": 0.007262880358552969, \"modularity\": 4, \"id\": \"John ap John\"}, {\"historical_significance\": \"Quaker missionary\", \"gender\": \"male\", \"birth_year\": \"1585\", \"death_year\": \"1695\", \"sdfb_id\": \"10010488\", \"degree\": 1, \"betweenness\": 0.0, \"eigenvector\": 8.138875606113614e-16, \"modularity\": 15, \"id\": \"John Rous\"}, {\"historical_significance\": \"Quaker administrator\", \"gender\": \"male\", \"birth_year\": \"1627\", \"death_year\": \"1666\", \"sdfb_id\": \"10009470\", \"degree\": 5, \"betweenness\": 0.015228023702599968, \"eigenvector\": 0.11120476725256782, \"modularity\": 0, \"id\": \"Anthony Pearson\"}, {\"historical_significance\": \"musician and Quaker missionary\", \"gender\": \"male\", \"birth_year\": \"1617\", \"death_year\": \"1682\", \"sdfb_id\": \"10003859\", \"degree\": 2, \"betweenness\": 0.0, \"eigenvector\": 0.02420124554591077, \"modularity\": 6, \"id\": \"Solomon Eccles\"}, {\"historical_significance\": \"Quaker minister\", \"gender\": \"male\", \"birth_year\": \"1631\", \"death_year\": \"1690\", \"sdfb_id\": \"10001815\", \"degree\": 4, \"betweenness\": 0.028974117533439564, \"eigenvector\": 0.05341932451869629, \"modularity\": 4, \"id\": \"John Burnyeat\"}, {\"historical_significance\": \"Quaker activist and writer\", \"gender\": \"male\", \"birth_year\": \"1633\", \"death_year\": \"1663\", \"sdfb_id\": \"10001818\", \"degree\": 9, \"betweenness\": 0.015338670858010266, \"eigenvector\": 0.23147427604862295, \"modularity\": 2, \"id\": \"Edward Burrough\"}, {\"historical_significance\": \"Quaker preacher and writer\", \"gender\": \"female\", \"birth_year\": \"1609\", \"death_year\": \"1688\", \"sdfb_id\": \"10012062\", \"degree\": 4, \"betweenness\": 0.018094272331560468, \"eigenvector\": 0.11848040644650927, \"modularity\": 3, \"id\": \"Rebecca Travers\"}, {\"historical_significance\": \"Quaker leader\", \"gender\": \"male\", \"birth_year\": \"1627\", \"death_year\": \"1712\", \"sdfb_id\": \"10003882\", \"degree\": 2, \"betweenness\": 0.002773121417189214, \"eigenvector\": 0.008391903203030049, \"modularity\": 4, \"id\": \"William Edmundson\"}, {\"historical_significance\": \"Quaker missionary\", \"gender\": \"female\", \"birth_year\": \"1608\", \"death_year\": \"1664\", \"sdfb_id\": \"10002354\", \"degree\": 1, \"betweenness\": 0.0, \"eigenvector\": 8.138875606113614e-16, \"modularity\": 16, \"id\": \"Sarah Cheevers\"}, {\"historical_significance\": \"parliamentarian army officer\", \"gender\": \"male\", \"birth_year\": \"1560\", \"death_year\": \"1670\", \"sdfb_id\": \"10010036\", \"degree\": 2, \"betweenness\": 0.0, \"eigenvector\": 0.016327007462597794, \"modularity\": 6, \"id\": \"Edward Pyott\"}, {\"historical_significance\": \"maker of clocks, watches, and barometers\", \"gender\": \"male\", \"birth_year\": \"1648\", \"death_year\": \"1724\", \"sdfb_id\": \"10010037\", \"degree\": 2, \"betweenness\": 0.013617267854555989, \"eigenvector\": 0.034593521815088644, \"modularity\": 3, \"id\": \"Daniel Quare\"}, {\"historical_significance\": \"Quaker apologist and controversialist\", \"gender\": \"male\", \"birth_year\": \"1655\", \"death_year\": \"1710\", \"sdfb_id\": \"10009526\", \"degree\": 1, \"betweenness\": 0.0, \"eigenvector\": 0.00928139241833698, \"modularity\": 4, \"id\": \"John Penington\"}, {\"historical_significance\": \"Quaker and writer\", \"gender\": \"female\", \"birth_year\": \"1623\", \"death_year\": \"1682\", \"sdfb_id\": \"10009527\", \"degree\": 4, \"betweenness\": 0.02420824624214454, \"eigenvector\": 0.0682675324207553, \"modularity\": 4, \"id\": \"Mary Penington\"}, {\"historical_significance\": \"Quaker preacher and apothecary\", \"gender\": \"male\", \"birth_year\": \"1637\", \"death_year\": \"1698\", \"sdfb_id\": \"10007992\", \"degree\": 3, \"betweenness\": 0.001404496319750557, \"eigenvector\": 0.02928795769960127, \"modularity\": 6, \"id\": \"Charles Marshall\"}, {\"historical_significance\": \"religious writer\", \"gender\": \"male\", \"birth_year\": \"1633\", \"death_year\": \"1707\", \"sdfb_id\": \"10013112\", \"degree\": 1, \"betweenness\": 0.0, \"eigenvector\": 8.138875606113614e-16, \"modularity\": 17, \"id\": \"Humphrey Woolrich\"}, {\"historical_significance\": \"Quaker leader and founder of Pennsylvania\", \"gender\": \"male\", \"birth_year\": \"1644\", \"death_year\": \"1718\", \"sdfb_id\": \"10009531\", \"degree\": 18, \"betweenness\": 0.23999456006192205, \"eigenvector\": 0.27032201153998675, \"modularity\": 1, \"id\": \"William Penn\"}, {\"historical_significance\": \"\", \"gender\": \"female\", \"birth_year\": \"1630\", \"death_year\": \"1701\", \"sdfb_id\": \"10009535\", \"degree\": 1, \"betweenness\": 0.0, \"eigenvector\": 8.138875606113614e-16, \"modularity\": 17, \"id\": \"Mary Pennyman\"}, {\"historical_significance\": \"Quaker preacher\", \"gender\": \"female\", \"birth_year\": \"1636\", \"death_year\": \"1666\", \"sdfb_id\": \"10012614\", \"degree\": 1, \"betweenness\": 0.0, \"eigenvector\": 8.138875606113614e-16, \"modularity\": 13, \"id\": \"Dorothy Waugh\"}, {\"historical_significance\": \"lawyer and politician in America\", \"gender\": \"male\", \"birth_year\": \"1656\", \"death_year\": \"1731\", \"sdfb_id\": \"10007509\", \"degree\": 2, \"betweenness\": 0.0, \"eigenvector\": 0.04279916936862533, \"modularity\": 1, \"id\": \"David Lloyd\"}, {\"historical_significance\": \"politician in America\", \"gender\": \"male\", \"birth_year\": \"1671\", \"death_year\": \"1746\", \"sdfb_id\": \"10008534\", \"degree\": 1, \"betweenness\": 0.0, \"eigenvector\": 0.0021822515950574075, \"modularity\": 3, \"id\": \"Lewis Morris\"}, {\"historical_significance\": \"Quaker and author\", \"gender\": \"female\", \"birth_year\": \"1624\", \"death_year\": \"1665\", \"sdfb_id\": \"10011100\", \"degree\": 3, \"betweenness\": 0.0003500893331401806, \"eigenvector\": 0.07920519864438022, \"modularity\": 0, \"id\": \"Martha Simmonds\"}, {\"historical_significance\": \"Quaker schismatic\", \"gender\": \"male\", \"birth_year\": \"1571\", \"death_year\": \"1681\", \"sdfb_id\": \"10011613\", \"degree\": 6, \"betweenness\": 0.028990098622866983, \"eigenvector\": 0.08267743160271736, \"modularity\": 6, \"id\": \"John Story\"}, {\"historical_significance\": \"Quaker minister and journal writer\", \"gender\": \"male\", \"birth_year\": \"1670\", \"death_year\": \"1742\", \"sdfb_id\": \"10011614\", \"degree\": 1, \"betweenness\": 0.0, \"eigenvector\": 0.036752364236589646, \"modularity\": 1, \"id\": \"Thomas Story\"}, {\"historical_significance\": \"religious controversialist\", \"gender\": \"male\", \"birth_year\": \"1639\", \"death_year\": \"1713\", \"sdfb_id\": \"10003945\", \"degree\": 8, \"betweenness\": 0.046190623885104545, \"eigenvector\": 0.17608142535843854, \"modularity\": 4, \"id\": \"Thomas Ellwood\"}, {\"historical_significance\": \"Quaker preacher\", \"gender\": \"male\", \"birth_year\": \"1627\", \"death_year\": \"1671\", \"sdfb_id\": \"10011114\", \"degree\": 1, \"betweenness\": 0.0, \"eigenvector\": 0.0063147220469040284, \"modularity\": 4, \"id\": \"William Simpson\"}, {\"historical_significance\": \"Quaker minister and writer\", \"gender\": \"male\", \"birth_year\": \"1677\", \"death_year\": \"1753\", \"sdfb_id\": \"10001390\", \"degree\": 1, \"betweenness\": 0.0, \"eigenvector\": 0.0007054780307821075, \"modularity\": 1, \"id\": \"Samuel Bownas\"}, {\"historical_significance\": \"Quaker schismatic\", \"gender\": \"male\", \"birth_year\": \"1555\", \"death_year\": \"1665\", \"sdfb_id\": \"10009584\", \"degree\": 7, \"betweenness\": 0.02829566854990583, \"eigenvector\": 0.18496928077956104, \"modularity\": 2, \"id\": \"John Perrot\"}, {\"historical_significance\": \"Quaker missionary\", \"gender\": \"female\", \"birth_year\": \"1656\", \"death_year\": \"1671\", \"sdfb_id\": \"10011632\", \"degree\": 2, \"betweenness\": 0.0, \"eigenvector\": 0.05635184926227044, \"modularity\": 0, \"id\": \"Hannah Stranger\"}], \"links\": [{\"source\": \"Joseph Wyeth\", \"target\": \"Thomas Ellwood\"}, {\"source\": \"Alexander Skene of Newtyle\", \"target\": \"Lilias Skene\"}, {\"source\": \"James Logan\", \"target\": \"Peter Collinson\"}, {\"source\": \"James Logan\", \"target\": \"John Bartram\"}, {\"source\": \"James Logan\", \"target\": \"William Penn\"}, {\"source\": \"James Logan\", \"target\": \"David Lloyd\"}, {\"source\": \"Dorcas Erbery\", \"target\": \"James Nayler\"}, {\"source\": \"William Mucklow\", \"target\": \"George Fox\"}, {\"source\": \"Thomas Salthouse\", \"target\": \"George Fox\"}, {\"source\": \"Thomas Salthouse\", \"target\": \"Margaret Fell\"}, {\"source\": \"William Dewsbury\", \"target\": \"Edward Burrough\"}, {\"source\": \"William Dewsbury\", \"target\": \"George Fox\"}, {\"source\": \"William Dewsbury\", \"target\": \"John Crook\"}, {\"source\": \"John Audland\", \"target\": \"John Camm\"}, {\"source\": \"John Audland\", \"target\": \"Francis Howgill\"}, {\"source\": \"John Audland\", \"target\": \"Edward Pyott\"}, {\"source\": \"John Audland\", \"target\": \"Charles Marshall\"}, {\"source\": \"John Audland\", \"target\": \"George Fox\"}, {\"source\": \"John Audland\", \"target\": \"Anne Camm\"}, {\"source\": \"Richard Claridge\", \"target\": \"Joseph Besse\"}, {\"source\": \"Richard Claridge\", \"target\": \"William Penn\"}, {\"source\": \"William Bradford\", \"target\": \"George Keith\"}, {\"source\": \"William Bradford\", \"target\": \"William Penn\"}, {\"source\": \"William Bradford\", \"target\": \"Tace Sowle\"}, {\"source\": \"Fettiplace Bellers\", \"target\": \"John Bellers\"}, {\"source\": \"Isabel Yeamans\", \"target\": \"William Penn\"}, {\"source\": \"George Fox the younger\", \"target\": \"Margaret Fell\"}, {\"source\": \"George Fox\", \"target\": \"George Keith\"}, {\"source\": \"George Fox\", \"target\": \"Francis Howgill\"}, {\"source\": \"George Fox\", \"target\": \"Ellis Hookes\"}, {\"source\": \"George Fox\", \"target\": \"William Mead\"}, {\"source\": \"George Fox\", \"target\": \"Elizabeth Hooten\"}, {\"source\": \"George Fox\", \"target\": \"Margaret Fell\"}, {\"source\": \"George Fox\", \"target\": \"John Crook\"}, {\"source\": \"George Fox\", \"target\": \"George Whitehead\"}, {\"source\": \"George Fox\", \"target\": \"Benjamin Furly\"}, {\"source\": \"George Fox\", \"target\": \"James Nayler\"}, {\"source\": \"George Fox\", \"target\": \"Edward Burrough\"}, {\"source\": \"George Fox\", \"target\": \"John Wilkinson\"}, {\"source\": \"George Fox\", \"target\": \"Thomas Ellwood\"}, {\"source\": \"George Fox\", \"target\": \"William Coddington\"}, {\"source\": \"George Fox\", \"target\": \"John Stubbs\"}, {\"source\": \"George Fox\", \"target\": \"John Perrot\"}, {\"source\": \"George Fox\", \"target\": \"Leonard Fell\"}, {\"source\": \"George Fox\", \"target\": \"William Penn\"}, {\"source\": \"John Stubbs\", \"target\": \"Benjamin Furly\"}, {\"source\": \"John Stubbs\", \"target\": \"William Caton\"}, {\"source\": \"John Stubbs\", \"target\": \"Samuel Fisher\"}, {\"source\": \"John Stubbs\", \"target\": \"John Burnyeat\"}, {\"source\": \"Anne Camm\", \"target\": \"Thomas Camm\"}, {\"source\": \"John Camm\", \"target\": \"Charles Marshall\"}, {\"source\": \"John Camm\", \"target\": \"Thomas Camm\"}, {\"source\": \"John Camm\", \"target\": \"Edward Pyott\"}, {\"source\": \"Thomas Camm\", \"target\": \"John Story\"}, {\"source\": \"Katharine Evans\", \"target\": \"Sarah Cheevers\"}, {\"source\": \"Lydia Lancaster\", \"target\": \"Grace Chamber\"}, {\"source\": \"Samuel Clarridge\", \"target\": \"Anthony Sharp\"}, {\"source\": \"Samuel Clarridge\", \"target\": \"James Claypoole\"}, {\"source\": \"Thomas Lower\", \"target\": \"Margaret Fell\"}, {\"source\": \"Gervase Benson\", \"target\": \"James Nayler\"}, {\"source\": \"Gervase Benson\", \"target\": \"Anthony Pearson\"}, {\"source\": \"Stephen Crisp\", \"target\": \"James Parnel\"}, {\"source\": \"Stephen Crisp\", \"target\": \"William Caton\"}, {\"source\": \"Stephen Crisp\", \"target\": \"Benjamin Furly\"}, {\"source\": \"James Claypoole\", \"target\": \"William Penn\"}, {\"source\": \"Thomas Holme\", \"target\": \"William Gibson\"}, {\"source\": \"Thomas Holme\", \"target\": \"Elizabeth Leavens\"}, {\"source\": \"John Freame\", \"target\": \"David Barclay\"}, {\"source\": \"John Swinton\", \"target\": \"David Barclay of Ury\"}, {\"source\": \"William Mead\", \"target\": \"Margaret Fell\"}, {\"source\": \"Henry Pickworth\", \"target\": \"Francis Bugg\"}, {\"source\": \"John Crook\", \"target\": \"John Perrot\"}, {\"source\": \"John Crook\", \"target\": \"Edward Burrough\"}, {\"source\": \"Gilbert Latey\", \"target\": \"Edward Burrough\"}, {\"source\": \"Gilbert Latey\", \"target\": \"George Whitehead\"}, {\"source\": \"Joseph Besse\", \"target\": \"Samuel Bownas\"}, {\"source\": \"James Nayler\", \"target\": \"Francis Howgill\"}, {\"source\": \"James Nayler\", \"target\": \"Martha Simmonds\"}, {\"source\": \"James Nayler\", \"target\": \"Hannah Stranger\"}, {\"source\": \"James Nayler\", \"target\": \"Margaret Fell\"}, {\"source\": \"James Nayler\", \"target\": \"Richard Farnworth\"}, {\"source\": \"James Nayler\", \"target\": \"George Whitehead\"}, {\"source\": \"James Nayler\", \"target\": \"John Perrot\"}, {\"source\": \"James Nayler\", \"target\": \"Robert Rich\"}, {\"source\": \"James Nayler\", \"target\": \"Anthony Pearson\"}, {\"source\": \"James Nayler\", \"target\": \"Thomas Ellwood\"}, {\"source\": \"James Nayler\", \"target\": \"Edward Burrough\"}, {\"source\": \"James Nayler\", \"target\": \"Rebecca Travers\"}, {\"source\": \"James Nayler\", \"target\": \"William Tomlinson\"}, {\"source\": \"George Whitehead\", \"target\": \"George Keith\"}, {\"source\": \"George Whitehead\", \"target\": \"William Rogers\"}, {\"source\": \"George Whitehead\", \"target\": \"Francis Bugg\"}, {\"source\": \"George Whitehead\", \"target\": \"Richard Hubberthorne\"}, {\"source\": \"George Whitehead\", \"target\": \"Alexander Parker\"}, {\"source\": \"George Whitehead\", \"target\": \"John Whitehead\"}, {\"source\": \"George Whitehead\", \"target\": \"Daniel Quare\"}, {\"source\": \"George Whitehead\", \"target\": \"William Penn\"}, {\"source\": \"George Whitehead\", \"target\": \"John Story\"}, {\"source\": \"George Whitehead\", \"target\": \"Rebecca Travers\"}, {\"source\": \"William Crouch\", \"target\": \"Francis Howgill\"}, {\"source\": \"William Crouch\", \"target\": \"Edward Burrough\"}, {\"source\": \"Benjamin Furly\", \"target\": \"George Keith\"}, {\"source\": \"Benjamin Furly\", \"target\": \"James Parnel\"}, {\"source\": \"Benjamin Furly\", \"target\": \"Franciscus Mercurius van Helmont\"}, {\"source\": \"Benjamin Furly\", \"target\": \"Robert Barclay\"}, {\"source\": \"Benjamin Furly\", \"target\": \"Alexander Parker\"}, {\"source\": \"Benjamin Furly\", \"target\": \"William Caton\"}, {\"source\": \"Benjamin Furly\", \"target\": \"William Penn\"}, {\"source\": \"Silvanus Bevan\", \"target\": \"Daniel Quare\"}, {\"source\": \"Robert Rich\", \"target\": \"William Tomlinson\"}, {\"source\": \"John Whiting\", \"target\": \"Christopher Taylor\"}, {\"source\": \"Christopher Taylor\", \"target\": \"Thomas Taylor\"}, {\"source\": \"Thomas Lawson\", \"target\": \"Margaret Fell\"}, {\"source\": \"Thomas Lawson\", \"target\": \"Alexander Parker\"}, {\"source\": \"Richard Farnworth\", \"target\": \"Francis Howgill\"}, {\"source\": \"Richard Farnworth\", \"target\": \"Richard Hubberthorne\"}, {\"source\": \"Richard Farnworth\", \"target\": \"John Perrot\"}, {\"source\": \"Richard Farnworth\", \"target\": \"Margaret Fell\"}, {\"source\": \"Richard Farnworth\", \"target\": \"Anthony Pearson\"}, {\"source\": \"Richard Vickris\", \"target\": \"George Bishop\"}, {\"source\": \"Robert Barclay\", \"target\": \"George Keith\"}, {\"source\": \"Robert Barclay\", \"target\": \"David Barclay of Ury\"}, {\"source\": \"Jane Sowle\", \"target\": \"Tace Sowle\"}, {\"source\": \"Tace Sowle\", \"target\": \"William Penn\"}, {\"source\": \"Margaret Fell\", \"target\": \"William Caton\"}, {\"source\": \"Margaret Fell\", \"target\": \"William Penn\"}, {\"source\": \"Margaret Fell\", \"target\": \"Alexander Parker\"}, {\"source\": \"Margaret Fell\", \"target\": \"Elizabeth Leavens\"}, {\"source\": \"Margaret Fell\", \"target\": \"Anthony Pearson\"}, {\"source\": \"Thomas Curtis\", \"target\": \"Anthony Sharp\"}, {\"source\": \"Thomas Curtis\", \"target\": \"Mary Penington\"}, {\"source\": \"Thomas Curtis\", \"target\": \"Thomas Ellwood\"}, {\"source\": \"Thomas Curtis\", \"target\": \"William Simpson\"}, {\"source\": \"Thomas Curtis\", \"target\": \"John Story\"}, {\"source\": \"Alice Curwen\", \"target\": \"Rebecca Travers\"}, {\"source\": \"Alexander Parker\", \"target\": \"John Wilkinson\"}, {\"source\": \"Alexander Parker\", \"target\": \"Sir Charles Wager\"}, {\"source\": \"John Wilkinson\", \"target\": \"Charles Marshall\"}, {\"source\": \"John Wilkinson\", \"target\": \"Solomon Eccles\"}, {\"source\": \"John Wilkinson\", \"target\": \"John Story\"}, {\"source\": \"Thomas Aldam\", \"target\": \"Anthony Pearson\"}, {\"source\": \"Sir Charles Wager\", \"target\": \"Lewis Morris\"}, {\"source\": \"George Keith\", \"target\": \"Anne Conway Viscountess Conway and Killultagh\"}, {\"source\": \"George Keith\", \"target\": \"Franciscus Mercurius van Helmont\"}, {\"source\": \"George Keith\", \"target\": \"William Penn\"}, {\"source\": \"Peter Collinson\", \"target\": \"John Bartram\"}, {\"source\": \"William Caton\", \"target\": \"William Ames\"}, {\"source\": \"Francis Howgill\", \"target\": \"Martha Simmonds\"}, {\"source\": \"Francis Howgill\", \"target\": \"Edward Burrough\"}, {\"source\": \"William Rogers\", \"target\": \"Thomas Ellwood\"}, {\"source\": \"Isaac Norris\", \"target\": \"William Penn\"}, {\"source\": \"Anthony Sharp\", \"target\": \"William Edmundson\"}, {\"source\": \"Mary Fisher\", \"target\": \"John Perrot\"}, {\"source\": \"Mary Fisher\", \"target\": \"Mary Prince\"}, {\"source\": \"Sarah Gibbons\", \"target\": \"Dorothy Waugh\"}, {\"source\": \"Humphrey Norton\", \"target\": \"John Rous\"}, {\"source\": \"Gideon Wanton\", \"target\": \"John Wanton\"}, {\"source\": \"Mary Prince\", \"target\": \"John Perrot\"}, {\"source\": \"Edward Haistwell\", \"target\": \"William Penn\"}, {\"source\": \"John ap John\", \"target\": \"John Burnyeat\"}, {\"source\": \"Solomon Eccles\", \"target\": \"John Story\"}, {\"source\": \"John Burnyeat\", \"target\": \"William Edmundson\"}, {\"source\": \"John Burnyeat\", \"target\": \"William Penn\"}, {\"source\": \"Edward Burrough\", \"target\": \"John Perrot\"}, {\"source\": \"Edward Burrough\", \"target\": \"Thomas Ellwood\"}, {\"source\": \"Rebecca Travers\", \"target\": \"William Penn\"}, {\"source\": \"John Penington\", \"target\": \"Mary Penington\"}, {\"source\": \"Mary Penington\", \"target\": \"William Penn\"}, {\"source\": \"Mary Penington\", \"target\": \"Thomas Ellwood\"}, {\"source\": \"Humphrey Woolrich\", \"target\": \"Mary Pennyman\"}, {\"source\": \"William Penn\", \"target\": \"Thomas Story\"}, {\"source\": \"William Penn\", \"target\": \"David Lloyd\"}, {\"source\": \"Martha Simmonds\", \"target\": \"Hannah Stranger\"}, {\"source\": \"John Story\", \"target\": \"Thomas Ellwood\"}]}\n"
     ]
    }
   ],
   "source": [
    "from networkx.readwrite import json_graph\n",
    "data_export = json_graph.node_link_data(G)\n",
    "stuff = json.dumps(data_export)\n",
    "\n",
    "print(stuff)\n",
    "\n",
    "f = open(\"graph.json\", \"w\")\n",
    "f.write(stuff)\n",
    "f.close()"
   ]
  },
  {
   "cell_type": "markdown",
   "metadata": {
    "id": "a04gN05HZ0pn"
   },
   "source": [
    "## Drawing Conclusions\n",
    "Having processed and reviewed an array of network metrics in Python, you now have evidence from which arguments can be made and conclusions drawn about this network of Quakers in early modern Britain. You know, for example, that the network has relatively low density, suggesting loose associations and/or incomplete original data. You know that the community is organized around several disproportionately large hubs, among them founders of the denomination like Margaret Fell and George Fox, as well as important political and religious leaders like William Penn. More helpfully, you know about women with relatively low degree, like Elizabeth Leavens and Mary Penington, who (as a result of high betweenness centrality) may have acted as brokers, connecting multiple groups. Finally you learned that the network is made of one large component and many very small ones. Within that largest component, there are several distinct communities, some of which seem organized around time or place (like Penn and his American associates). Because of the metadata you added to your network, you have the tools to explore these metrics further and to potentially explain some of the structural features you identified.\n",
    "\n",
    "Each of these findings is an invitation to more research rather than an endpoint or proof. Network analysis is a set of tools for asking targeted questions about the structure of relationships within a dataset, and NetworkX provides a relatively simple interface to many of the common techniques and metrics. Networks are a useful way of extending your research into a group by providing information about community structure, and we hope you’ll be inspired by this tutorial to use these metrics to enrich your own investigations and to explore the flexibility of network analysis beyond visualization.\n",
    "\n",
    "When you're done with this lesson, take a look at the [D3 visualization here](https://observablehq.com/@mkane2/force-directed-graph-demo)."
   ]
  },
  {
   "cell_type": "markdown",
   "metadata": {
    "id": "70n0K1rxZ34Z"
   },
   "source": [
    "## The whole program"
   ]
  },
  {
   "cell_type": "code",
   "execution_count": 45,
   "metadata": {
    "id": "cfc15TrUa-oj"
   },
   "outputs": [
    {
     "name": "stdout",
     "output_type": "stream",
     "text": [
      "Graph with 119 nodes and 174 edges\n",
      "Network density: 0.02478279447372169\n",
      "Shortest path between Fell and Whitehead: ['Margaret Fell', 'George Fox', 'George Whitehead']\n",
      "Length of that path: 2\n",
      "False\n",
      "Network diameter of largest component: 8\n",
      "{'historical_significance': 'Quaker leader and founder of Pennsylvania', 'gender': 'male', 'birth_year': '1644', 'death_year': '1718', 'sdfb_id': '10009531', 'degree': 18}\n",
      "Top 20 nodes by degree:\n",
      "('George Fox', 22)\n",
      "('William Penn', 18)\n",
      "('James Nayler', 16)\n",
      "('George Whitehead', 13)\n",
      "('Margaret Fell', 13)\n",
      "('Benjamin Furly', 10)\n",
      "('Edward Burrough', 9)\n",
      "('George Keith', 8)\n",
      "('Thomas Ellwood', 8)\n",
      "('Francis Howgill', 7)\n",
      "('John Perrot', 7)\n",
      "('John Audland', 6)\n",
      "('Richard Farnworth', 6)\n",
      "('Alexander Parker', 6)\n",
      "('John Story', 6)\n",
      "('John Stubbs', 5)\n",
      "('Thomas Curtis', 5)\n",
      "('John Wilkinson', 5)\n",
      "('William Caton', 5)\n",
      "('Anthony Pearson', 5)\n",
      "Top 20 nodes by betweenness centrality:\n",
      "('William Penn', 0.23999456006192205)\n",
      "('George Fox', 0.23683257726065216)\n",
      "('George Whitehead', 0.12632024847366005)\n",
      "('Margaret Fell', 0.12106792237170329)\n",
      "('James Nayler', 0.10446026280446098)\n",
      "('Benjamin Furly', 0.06419626175167242)\n",
      "('Thomas Ellwood', 0.046190623885104545)\n",
      "('George Keith', 0.045006564009171565)\n",
      "('John Audland', 0.04164936340077581)\n",
      "('Alexander Parker', 0.03893676140525336)\n",
      "('John Story', 0.028990098622866983)\n",
      "('John Burnyeat', 0.028974117533439564)\n",
      "('John Perrot', 0.02829566854990583)\n",
      "('James Logan', 0.026944806605823553)\n",
      "('Richard Claridge', 0.026944806605823553)\n",
      "('Robert Barclay', 0.026944806605823553)\n",
      "('Elizabeth Leavens', 0.026944806605823553)\n",
      "('Thomas Curtis', 0.026729751729751724)\n",
      "('John Stubbs', 0.024316593960227152)\n",
      "('Mary Penington', 0.02420824624214454)\n",
      "Modularity Class 0 Sorted by Eigenvector Centrality:\n",
      "Name: James Nayler | Eigenvector Centrality: 0.3352974100447867\n",
      "Name: Margaret Fell | Eigenvector Centrality: 0.253170949905681\n",
      "Name: Francis Howgill | Eigenvector Centrality: 0.19095393782681047\n",
      "Name: Richard Farnworth | Eigenvector Centrality: 0.15368535029296412\n",
      "Name: Anthony Pearson | Eigenvector Centrality: 0.11120476725256782\n",
      "Class 0: ['Thomas Lower', 'Thomas Holme', 'Thomas Aldam', 'Richard Farnworth', 'Hannah Stranger', 'Anthony Pearson', 'Martha Simmonds', 'Dorcas Erbery', 'William Gibson', 'Gervase Benson', 'Elizabeth Leavens', 'Francis Howgill', 'Robert Rich', 'William Tomlinson', 'George Fox the younger', 'Margaret Fell', 'James Nayler']\n",
      "Class 1: ['James Logan', 'Jane Sowle', 'Edward Haistwell', 'William Penn', 'Isaac Norris', 'George Keith', 'Richard Claridge', 'John Bartram', 'Isabel Yeamans', 'Peter Collinson', 'William Bradford', 'Joseph Besse', 'Thomas Story', 'Anne Conway Viscountess Conway and Killultagh', 'Tace Sowle', 'Samuel Bownas', 'David Lloyd']\n",
      "Class 2: ['Leonard Fell', 'Ellis Hookes', 'William Coddington', 'John Perrot', 'William Mucklow', 'George Fox', 'Elizabeth Hooten', 'William Dewsbury', 'Mary Fisher', 'Edward Burrough', 'William Crouch', 'John Crook', 'William Mead', 'Mary Prince', 'Thomas Salthouse']\n",
      "Class 3: ['Gilbert Latey', 'Henry Pickworth', 'Francis Bugg', 'Thomas Lawson', 'Richard Hubberthorne', 'Silvanus Bevan', 'Daniel Quare', 'Alice Curwen', 'Sir Charles Wager', 'George Whitehead', 'Lewis Morris', 'Alexander Parker', 'John Whitehead', 'Rebecca Travers']\n",
      "Class 4: ['Anthony Sharp', 'William Simpson', 'William Edmundson', 'Thomas Curtis', 'John ap John', 'Mary Penington', 'Thomas Ellwood', 'William Rogers', 'Joseph Wyeth', 'Samuel Clarridge', 'James Claypoole', 'John Burnyeat', 'John Penington']\n",
      "Class 5: ['Stephen Crisp', 'Franciscus Mercurius van Helmont', 'James Parnel', 'Robert Barclay', 'Benjamin Furly', 'Samuel Fisher', 'John Stubbs', 'William Caton', 'David Barclay of Ury', 'William Ames', 'John Swinton']\n",
      "Class 6: ['Edward Pyott', 'Anne Camm', 'Solomon Eccles', 'John Audland', 'Thomas Camm', 'John Wilkinson', 'Charles Marshall', 'John Story', 'John Camm']\n",
      "Class 7: ['John Whiting', 'Thomas Taylor', 'Christopher Taylor']\n",
      "{\"directed\": false, \"multigraph\": false, \"graph\": {}, \"nodes\": [{\"historical_significance\": \"religious writer\", \"gender\": \"male\", \"birth_year\": \"1663\", \"death_year\": \"1731\", \"sdfb_id\": \"10013191\", \"degree\": 1, \"betweenness\": 0.0, \"eigenvector\": 0.02393856925288573, \"modularity\": 4, \"id\": \"Joseph Wyeth\"}, {\"historical_significance\": \"local politician and author\", \"gender\": \"male\", \"birth_year\": \"1621\", \"death_year\": \"1694\", \"sdfb_id\": \"10011149\", \"degree\": 1, \"betweenness\": 0.0, \"eigenvector\": 8.138875606113614e-16, \"modularity\": 8, \"id\": \"Alexander Skene of Newtyle\"}, {\"historical_significance\": \"colonial official and scholar\", \"gender\": \"male\", \"birth_year\": \"1674\", \"death_year\": \"1751\", \"sdfb_id\": \"10007567\", \"degree\": 4, \"betweenness\": 0.026944806605823553, \"eigenvector\": 0.04447446026748655, \"modularity\": 1, \"id\": \"James Logan\"}, {\"historical_significance\": \"Quaker preacher\", \"gender\": \"female\", \"birth_year\": \"1656\", \"death_year\": \"1659\", \"sdfb_id\": \"10003983\", \"degree\": 1, \"betweenness\": 0.0, \"eigenvector\": 0.04558398623515939, \"modularity\": 0, \"id\": \"Dorcas Erbery\"}, {\"historical_significance\": \"Quaker preacher and poet\", \"gender\": \"male\", \"birth_year\": \"1626\", \"death_year\": \"1697\", \"sdfb_id\": \"10011152\", \"degree\": 1, \"betweenness\": 0.0, \"eigenvector\": 8.138875606113614e-16, \"modularity\": 8, \"id\": \"Lilias Skene\"}, {\"historical_significance\": \"religious writer\", \"gender\": \"male\", \"birth_year\": \"1630\", \"death_year\": \"1713\", \"sdfb_id\": \"10008595\", \"degree\": 1, \"betweenness\": 0.0, \"eigenvector\": 0.06106681323567699, \"modularity\": 2, \"id\": \"William Mucklow\"}, {\"historical_significance\": \"Quaker preacher and writer\", \"gender\": \"male\", \"birth_year\": \"1630\", \"death_year\": \"1691\", \"sdfb_id\": \"10010643\", \"degree\": 2, \"betweenness\": 0.0, \"eigenvector\": 0.09548628544138768, \"modularity\": 2, \"id\": \"Thomas Salthouse\"}, {\"historical_significance\": \"Quaker activist\", \"gender\": \"male\", \"birth_year\": \"1621\", \"death_year\": \"1688\", \"sdfb_id\": \"10003478\", \"degree\": 3, \"betweenness\": 0.0, \"eigenvector\": 0.11057869321157117, \"modularity\": 2, \"id\": \"William Dewsbury\"}, {\"historical_significance\": \"Quaker preacher\", \"gender\": \"male\", \"birth_year\": \"1630\", \"death_year\": \"1664\", \"sdfb_id\": \"10000411\", \"degree\": 6, \"betweenness\": 0.04164936340077581, \"eigenvector\": 0.09830889719333748, \"modularity\": 6, \"id\": \"John Audland\"}, {\"historical_significance\": \"Quaker minister and schoolmaster\", \"gender\": \"male\", \"birth_year\": \"1649\", \"death_year\": \"1723\", \"sdfb_id\": \"10002469\", \"degree\": 2, \"betweenness\": 0.026944806605823553, \"eigenvector\": 0.03745784226737175, \"modularity\": 1, \"id\": \"Richard Claridge\"}, {\"historical_significance\": \"printer\", \"gender\": \"male\", \"birth_year\": \"1663\", \"death_year\": \"1752\", \"sdfb_id\": \"10001445\", \"degree\": 3, \"betweenness\": 0.000676034574339659, \"eigenvector\": 0.06812170326615952, \"modularity\": 1, \"id\": \"William Bradford\"}, {\"historical_significance\": \"philosophical writer and playwright\", \"gender\": \"male\", \"birth_year\": \"1687\", \"death_year\": \"1750\", \"sdfb_id\": \"10000933\", \"degree\": 1, \"betweenness\": 0.0, \"eigenvector\": 8.138875606113614e-16, \"modularity\": 9, \"id\": \"Fettiplace Bellers\"}, {\"historical_significance\": \"political economist and cloth merchant\", \"gender\": \"male\", \"birth_year\": \"1654\", \"death_year\": \"1725\", \"sdfb_id\": \"10000934\", \"degree\": 1, \"betweenness\": 0.0, \"eigenvector\": 8.138875606113614e-16, \"modularity\": 9, \"id\": \"John Bellers\"}, {\"historical_significance\": \"Quaker preacher\", \"gender\": \"female\", \"birth_year\": \"1637\", \"death_year\": \"1704\", \"sdfb_id\": \"10013226\", \"degree\": 1, \"betweenness\": 0.0, \"eigenvector\": 0.036752364236589646, \"modularity\": 1, \"id\": \"Isabel Yeamans\"}, {\"historical_significance\": \"religious writer\", \"gender\": \"male\", \"birth_year\": \"1551\", \"death_year\": \"1661\", \"sdfb_id\": \"10004523\", \"degree\": 1, \"betweenness\": 0.0, \"eigenvector\": 0.034419472205710684, \"modularity\": 0, \"id\": \"George Fox the younger\"}, {\"historical_significance\": \" a founder of the Religious Society of Friends (Quakers)\", \"gender\": \"male\", \"birth_year\": \"1624\", \"death_year\": \"1691\", \"sdfb_id\": \"10004524\", \"degree\": 22, \"betweenness\": 0.23683257726065216, \"eigenvector\": 0.44917507108599225, \"modularity\": 2, \"id\": \"George Fox\"}, {\"historical_significance\": \"Quaker minister\", \"gender\": \"male\", \"birth_year\": \"1618\", \"death_year\": \"1675\", \"sdfb_id\": \"10011695\", \"degree\": 5, \"betweenness\": 0.024316593960227152, \"eigenvector\": 0.10693500692141822, \"modularity\": 5, \"id\": \"John Stubbs\"}, {\"historical_significance\": \"Quaker preacher\", \"gender\": \"female\", \"birth_year\": \"1627\", \"death_year\": \"1705\", \"sdfb_id\": \"10001967\", \"degree\": 2, \"betweenness\": 0.0008462504225216084, \"eigenvector\": 0.01558409271306099, \"modularity\": 6, \"id\": \"Anne Camm\"}, {\"historical_significance\": \"Quaker preacher\", \"gender\": \"male\", \"birth_year\": \"1605\", \"death_year\": \"1657\", \"sdfb_id\": \"10001968\", \"degree\": 4, \"betweenness\": 0.0017637259162682885, \"eigenvector\": 0.021785514186690304, \"modularity\": 6, \"id\": \"John Camm\"}, {\"historical_significance\": \"Quaker preacher and writer\", \"gender\": \"male\", \"birth_year\": \"1640\", \"death_year\": \"1708\", \"sdfb_id\": \"10001969\", \"degree\": 3, \"betweenness\": 0.004187620289315204, \"eigenvector\": 0.0163207219782383, \"modularity\": 6, \"id\": \"Thomas Camm\"}, {\"historical_significance\": \"Quaker missionary\", \"gender\": \"female\", \"birth_year\": \"1618\", \"death_year\": \"1692\", \"sdfb_id\": \"10004036\", \"degree\": 1, \"betweenness\": 0.0, \"eigenvector\": 8.138875606113614e-16, \"modularity\": 16, \"id\": \"Katharine Evans\"}, {\"historical_significance\": \"Quaker minister\", \"gender\": \"female\", \"birth_year\": \"1683\", \"death_year\": \"1761\", \"sdfb_id\": \"10007110\", \"degree\": 1, \"betweenness\": 0.0, \"eigenvector\": 8.138875606113614e-16, \"modularity\": 10, \"id\": \"Lydia Lancaster\"}, {\"historical_significance\": \"Quaker activist\", \"gender\": \"male\", \"birth_year\": \"1631\", \"death_year\": \"1704\", \"sdfb_id\": \"10002504\", \"degree\": 2, \"betweenness\": 0.00159488973048295, \"eigenvector\": 0.006241256686351222, \"modularity\": 4, \"id\": \"Samuel Clarridge\"}, {\"historical_significance\": \"Quaker activist and physician\", \"gender\": \"male\", \"birth_year\": \"1633\", \"death_year\": \"1720\", \"sdfb_id\": \"10007626\", \"degree\": 1, \"betweenness\": 0.0, \"eigenvector\": 0.034419472205710684, \"modularity\": 0, \"id\": \"Thomas Lower\"}, {\"historical_significance\": \"Quaker leader\", \"gender\": \"male\", \"birth_year\": \"1569\", \"death_year\": \"1679\", \"sdfb_id\": \"10000972\", \"degree\": 2, \"betweenness\": 0.0, \"eigenvector\": 0.06070231190047901, \"modularity\": 0, \"id\": \"Gervase Benson\"}, {\"historical_significance\": \"Quaker activist and writer\", \"gender\": \"male\", \"birth_year\": \"1628\", \"death_year\": \"1692\", \"sdfb_id\": \"10003022\", \"degree\": 3, \"betweenness\": 0.00038509826645419866, \"eigenvector\": 0.04085637118824347, \"modularity\": 5, \"id\": \"Stephen Crisp\"}, {\"historical_significance\": \"merchant and pioneer settler in America\", \"gender\": \"male\", \"birth_year\": \"1634\", \"death_year\": \"1687\", \"sdfb_id\": \"10002513\", \"degree\": 2, \"betweenness\": 0.012532163379621009, \"eigenvector\": 0.03760094415042913, \"modularity\": 4, \"id\": \"James Claypoole\"}, {\"historical_significance\": \"Quaker missionary\", \"gender\": \"male\", \"birth_year\": \"1626\", \"death_year\": \"1666\", \"sdfb_id\": \"10006100\", \"degree\": 2, \"betweenness\": 0.013617267854555989, \"eigenvector\": 0.004859072815366481, \"modularity\": 0, \"id\": \"Thomas Holme\"}, {\"historical_significance\": \"banker and lobbyist\", \"gender\": \"male\", \"birth_year\": \"1665\", \"death_year\": \"1745\", \"sdfb_id\": \"10004564\", \"degree\": 1, \"betweenness\": 0.0, \"eigenvector\": 8.138875606113614e-16, \"modularity\": 11, \"id\": \"John Freame\"}, {\"historical_significance\": \"politician\", \"gender\": \"male\", \"birth_year\": \"1620\", \"death_year\": \"1679\", \"sdfb_id\": \"10011742\", \"degree\": 1, \"betweenness\": 0.0, \"eigenvector\": 0.0009700459639015541, \"modularity\": 5, \"id\": \"John Swinton\"}, {\"historical_significance\": \"Quaker patron and merchant\", \"gender\": \"male\", \"birth_year\": \"1627\", \"death_year\": \"1713\", \"sdfb_id\": \"10008161\", \"degree\": 2, \"betweenness\": 0.0, \"eigenvector\": 0.09548628544138768, \"modularity\": 2, \"id\": \"William Mead\"}, {\"historical_significance\": \"religious controversialist\", \"gender\": \"male\", \"birth_year\": \"1673\", \"death_year\": \"1738\", \"sdfb_id\": \"10009697\", \"degree\": 1, \"betweenness\": 0.0, \"eigenvector\": 0.00470318167357865, \"modularity\": 3, \"id\": \"Henry Pickworth\"}, {\"historical_significance\": \"Quaker leader and writer\", \"gender\": \"male\", \"birth_year\": \"1616\", \"death_year\": \"1699\", \"sdfb_id\": \"10003063\", \"degree\": 4, \"betweenness\": 0.00016297262059973924, \"eigenvector\": 0.13271581268807786, \"modularity\": 2, \"id\": \"John Crook\"}, {\"historical_significance\": \"Quaker activist\", \"gender\": \"male\", \"birth_year\": \"1626\", \"death_year\": \"1705\", \"sdfb_id\": \"10007166\", \"degree\": 2, \"betweenness\": 0.0005808378689734622, \"eigenvector\": 0.06542312738472622, \"modularity\": 3, \"id\": \"Gilbert Latey\"}, {\"historical_significance\": \"Quaker administrator\", \"gender\": \"male\", \"birth_year\": \"1635\", \"death_year\": \"1681\", \"sdfb_id\": \"10006146\", \"degree\": 1, \"betweenness\": 0.0, \"eigenvector\": 0.06106681323567699, \"modularity\": 2, \"id\": \"Ellis Hookes\"}, {\"historical_significance\": \"historian of Quakerism\", \"gender\": \"male\", \"birth_year\": \"1683\", \"death_year\": \"1757\", \"sdfb_id\": \"10001027\", \"degree\": 2, \"betweenness\": 0.013617267854555989, \"eigenvector\": 0.005188701843520934, \"modularity\": 1, \"id\": \"Joseph Besse\"}, {\"historical_significance\": \"Quaker preacher and writer\", \"gender\": \"male\", \"birth_year\": \"1618\", \"death_year\": \"1660\", \"sdfb_id\": \"10008713\", \"degree\": 16, \"betweenness\": 0.10446026280446098, \"eigenvector\": 0.3352974100447867, \"modularity\": 0, \"id\": \"James Nayler\"}, {\"historical_significance\": \"Quaker preacher\", \"gender\": \"female\", \"birth_year\": \"1562\", \"death_year\": \"1672\", \"sdfb_id\": \"10006153\", \"degree\": 1, \"betweenness\": 0.0, \"eigenvector\": 0.06106681323567699, \"modularity\": 2, \"id\": \"Elizabeth Hooten\"}, {\"historical_significance\": \"Quaker leader and writer\", \"gender\": \"male\", \"birth_year\": \"1637\", \"death_year\": \"1724\", \"sdfb_id\": \"10012813\", \"degree\": 13, \"betweenness\": 0.12632024847366005, \"eigenvector\": 0.2497455334914196, \"modularity\": 3, \"id\": \"George Whitehead\"}, {\"historical_significance\": \"Quaker minister and preacher\", \"gender\": \"male\", \"birth_year\": \"1630\", \"death_year\": \"1696\", \"sdfb_id\": \"10012815\", \"degree\": 1, \"betweenness\": 0.0, \"eigenvector\": 0.03395409244871086, \"modularity\": 3, \"id\": \"John Whitehead\"}, {\"historical_significance\": \"Quaker leader and writer\", \"gender\": \"male\", \"birth_year\": \"1628\", \"death_year\": \"1711\", \"sdfb_id\": \"10003087\", \"degree\": 2, \"betweenness\": 0.0, \"eigenvector\": 0.05742927075071553, \"modularity\": 2, \"id\": \"William Crouch\"}, {\"historical_significance\": \"merchant and religious writer\", \"gender\": \"male\", \"birth_year\": \"1636\", \"death_year\": \"1714\", \"sdfb_id\": \"10004625\", \"degree\": 10, \"betweenness\": 0.06419626175167242, \"eigenvector\": 0.18785206346916508, \"modularity\": 5, \"id\": \"Benjamin Furly\"}, {\"historical_significance\": \"apothecary\", \"gender\": \"male\", \"birth_year\": \"1691\", \"death_year\": \"1765\", \"sdfb_id\": \"10001041\", \"degree\": 1, \"betweenness\": 0.0, \"eigenvector\": 0.004703181673578649, \"modularity\": 3, \"id\": \"Silvanus Bevan\"}, {\"historical_significance\": \"Quaker adherent and sectary\", \"gender\": \"male\", \"birth_year\": \"1607\", \"death_year\": \"1679\", \"sdfb_id\": \"10010260\", \"degree\": 2, \"betweenness\": 0.0, \"eigenvector\": 0.052756141766563604, \"modularity\": 0, \"id\": \"Robert Rich\"}, {\"historical_significance\": \"Quaker bibliographer and writer\", \"gender\": \"male\", \"birth_year\": \"1656\", \"death_year\": \"1722\", \"sdfb_id\": \"10012829\", \"degree\": 1, \"betweenness\": 0.0, \"eigenvector\": 5.271642676521065e-14, \"modularity\": 7, \"id\": \"John Whiting\"}, {\"historical_significance\": \"religious writer and schoolmaster\", \"gender\": \"male\", \"birth_year\": \"1614\", \"death_year\": \"1686\", \"sdfb_id\": \"10011811\", \"degree\": 2, \"betweenness\": 0.00014486455164421265, \"eigenvector\": 7.455228569120892e-14, \"modularity\": 7, \"id\": \"Christopher Taylor\"}, {\"historical_significance\": \"Quaker minister and botanist\", \"gender\": \"male\", \"birth_year\": \"1630\", \"death_year\": \"1691\", \"sdfb_id\": \"10007210\", \"degree\": 2, \"betweenness\": 0.0, \"eigenvector\": 0.050173778831813086, \"modularity\": 3, \"id\": \"Thomas Lawson\"}, {\"historical_significance\": \"Quaker preacher and writer\", \"gender\": \"male\", \"birth_year\": \"1630\", \"death_year\": \"1666\", \"sdfb_id\": \"10004141\", \"degree\": 6, \"betweenness\": 0.006719760674562933, \"eigenvector\": 0.15368535029296412, \"modularity\": 0, \"id\": \"Richard Farnworth\"}, {\"historical_significance\": \"merchant and official in America\", \"gender\": \"male\", \"birth_year\": \"1601\", \"death_year\": \"1678\", \"sdfb_id\": \"10002606\", \"degree\": 1, \"betweenness\": 0.0, \"eigenvector\": 0.06106681323567699, \"modularity\": 2, \"id\": \"William Coddington\"}, {\"historical_significance\": \"Quaker minister and writer\", \"gender\": \"male\", \"birth_year\": \"1617\", \"death_year\": \"1682\", \"sdfb_id\": \"10011824\", \"degree\": 1, \"betweenness\": 0.0, \"eigenvector\": 5.271642676521065e-14, \"modularity\": 7, \"id\": \"Thomas Taylor\"}, {\"historical_significance\": \"religious writer\", \"gender\": \"male\", \"birth_year\": \"1590\", \"death_year\": \"1700\", \"sdfb_id\": \"10012350\", \"degree\": 1, \"betweenness\": 0.0, \"eigenvector\": 8.138875606113614e-16, \"modularity\": 12, \"id\": \"Richard Vickris\"}, {\"historical_significance\": \"religious writer and colonial governor\", \"gender\": \"male\", \"birth_year\": \"1648\", \"death_year\": \"1690\", \"sdfb_id\": \"10054848\", \"degree\": 3, \"betweenness\": 0.026944806605823553, \"eigenvector\": 0.0515053715043734, \"modularity\": 5, \"id\": \"Robert Barclay\"}, {\"historical_significance\": \"\", \"gender\": \"female\", \"birth_year\": \"1631\", \"death_year\": \"1711\", \"sdfb_id\": \"10011331\", \"degree\": 1, \"betweenness\": 0.0, \"eigenvector\": 0.00637397353134701, \"modularity\": 1, \"id\": \"Jane Sowle\"}, {\"historical_significance\": \"printer and bookseller\", \"gender\": \"male\", \"birth_year\": \"1666\", \"death_year\": \"1749\", \"sdfb_id\": \"10011332\", \"degree\": 3, \"betweenness\": 0.013617267854555989, \"eigenvector\": 0.04688085927497435, \"modularity\": 1, \"id\": \"Tace Sowle\"}, {\"historical_significance\": \"Quaker missionary and writer\", \"gender\": \"male\", \"birth_year\": \"1624\", \"death_year\": \"1701\", \"sdfb_id\": \"10004169\", \"degree\": 1, \"betweenness\": 0.0, \"eigenvector\": 0.06106681323567699, \"modularity\": 2, \"id\": \"Leonard Fell\"}, {\"historical_significance\": \"Quaker leader\", \"gender\": \"female\", \"birth_year\": \"1614\", \"death_year\": \"1702\", \"sdfb_id\": \"10004170\", \"degree\": 13, \"betweenness\": 0.12106792237170329, \"eigenvector\": 0.253170949905681, \"modularity\": 0, \"id\": \"Margaret Fell\"}, {\"historical_significance\": \"government official and religious writer\", \"gender\": \"male\", \"birth_year\": \"1558\", \"death_year\": \"1668\", \"sdfb_id\": \"10001097\", \"degree\": 1, \"betweenness\": 0.0, \"eigenvector\": 8.138875606113614e-16, \"modularity\": 12, \"id\": \"George Bishop\"}, {\"historical_significance\": \"Quaker missionary\", \"gender\": \"female\", \"birth_year\": \"1555\", \"death_year\": \"1665\", \"sdfb_id\": \"10007246\", \"degree\": 2, \"betweenness\": 0.026944806605823553, \"eigenvector\": 0.03508008060750142, \"modularity\": 0, \"id\": \"Elizabeth Leavens\"}, {\"historical_significance\": \"Quaker schismatic\", \"gender\": \"male\", \"birth_year\": \"1602\", \"death_year\": \"1712\", \"sdfb_id\": \"10003161\", \"degree\": 5, \"betweenness\": 0.026729751729751724, \"eigenvector\": 0.046447785670461705, \"modularity\": 4, \"id\": \"Thomas Curtis\"}, {\"historical_significance\": \"Quaker missionary\", \"gender\": \"female\", \"birth_year\": \"1619\", \"death_year\": \"1679\", \"sdfb_id\": \"10003162\", \"degree\": 1, \"betweenness\": 0.0, \"eigenvector\": 0.01610796215879335, \"modularity\": 3, \"id\": \"Alice Curwen\"}, {\"historical_significance\": \"Quaker preacher and author\", \"gender\": \"male\", \"birth_year\": \"1628\", \"death_year\": \"1689\", \"sdfb_id\": \"10009307\", \"degree\": 6, \"betweenness\": 0.03893676140525336, \"eigenvector\": 0.11587808682088319, \"modularity\": 3, \"id\": \"Alexander Parker\"}, {\"historical_significance\": \"Quaker schismatic\", \"gender\": \"male\", \"birth_year\": \"1652\", \"death_year\": \"1683\", \"sdfb_id\": \"10012893\", \"degree\": 5, \"betweenness\": 0.020561108696701903, \"eigenvector\": 0.09533342948271299, \"modularity\": 6, \"id\": \"John Wilkinson\"}, {\"historical_significance\": \"Quaker preacher and writer\", \"gender\": \"male\", \"birth_year\": \"1616\", \"death_year\": \"1660\", \"sdfb_id\": \"10000099\", \"degree\": 1, \"betweenness\": 0.0, \"eigenvector\": 0.015118325665319619, \"modularity\": 0, \"id\": \"Thomas Aldam\"}, {\"historical_significance\": \"soldier and politician\", \"gender\": \"male\", \"birth_year\": \"1610\", \"death_year\": \"1686\", \"sdfb_id\": \"10000621\", \"degree\": 2, \"betweenness\": 0.013617267854555989, \"eigenvector\": 0.007134575474521652, \"modularity\": 5, \"id\": \"David Barclay of Ury\"}, {\"historical_significance\": \"merchant\", \"gender\": \"male\", \"birth_year\": \"1682\", \"death_year\": \"1769\", \"sdfb_id\": \"10000622\", \"degree\": 1, \"betweenness\": 0.0, \"eigenvector\": 8.138875606113614e-16, \"modularity\": 11, \"id\": \"David Barclay\"}, {\"historical_significance\": \"naval officer and politician\", \"gender\": \"male\", \"birth_year\": \"1666\", \"death_year\": \"1743\", \"sdfb_id\": \"10012403\", \"degree\": 2, \"betweenness\": 0.013617267854555989, \"eigenvector\": 0.016051004363228375, \"modularity\": 3, \"id\": \"Sir Charles Wager\"}, {\"historical_significance\": \"Quaker schismatic and Church of England clergyman\", \"gender\": \"male\", \"birth_year\": \"1638\", \"death_year\": \"1716\", \"sdfb_id\": \"10006784\", \"degree\": 8, \"betweenness\": 0.045006564009171565, \"eigenvector\": 0.1838469086791534, \"modularity\": 1, \"id\": \"George Keith\"}, {\"historical_significance\": \"Quaker martyr\", \"gender\": \"male\", \"birth_year\": \"1636\", \"death_year\": \"1656\", \"sdfb_id\": \"10009347\", \"degree\": 2, \"betweenness\": 0.0, \"eigenvector\": 0.031094812432434536, \"modularity\": 5, \"id\": \"James Parnel\"}, {\"historical_significance\": \"botanist\", \"gender\": \"male\", \"birth_year\": \"1694\", \"death_year\": \"1768\", \"sdfb_id\": \"10002694\", \"degree\": 2, \"betweenness\": 0.0, \"eigenvector\": 0.006998347503803875, \"modularity\": 1, \"id\": \"Peter Collinson\"}, {\"historical_significance\": \"physician and cabbalist\", \"gender\": \"male\", \"birth_year\": \"1614\", \"death_year\": \"1698\", \"sdfb_id\": \"10005781\", \"degree\": 2, \"betweenness\": 0.0, \"eigenvector\": 0.050535325540471854, \"modularity\": 5, \"id\": \"Franciscus Mercurius van Helmont\"}, {\"historical_significance\": \"Quaker preacher\", \"gender\": \"male\", \"birth_year\": \"1636\", \"death_year\": \"1665\", \"sdfb_id\": \"10002203\", \"degree\": 5, \"betweenness\": 0.01873110149946308, \"eigenvector\": 0.08156039199871845, \"modularity\": 5, \"id\": \"William Caton\"}, {\"historical_significance\": \"Quaker activist\", \"gender\": \"male\", \"birth_year\": \"1618\", \"death_year\": \"1669\", \"sdfb_id\": \"10006305\", \"degree\": 7, \"betweenness\": 0.014689610452322314, \"eigenvector\": 0.19095393782681047, \"modularity\": 0, \"id\": \"Francis Howgill\"}, {\"historical_significance\": \"Quaker activist\", \"gender\": \"male\", \"birth_year\": \"1628\", \"death_year\": \"1662\", \"sdfb_id\": \"10006314\", \"degree\": 2, \"betweenness\": 0.000690003656105351, \"eigenvector\": 0.05484764549114932, \"modularity\": 3, \"id\": \"Richard Hubberthorne\"}, {\"historical_significance\": \"Quaker preacher\", \"gender\": \"male\", \"birth_year\": \"1552\", \"death_year\": \"1662\", \"sdfb_id\": \"10000175\", \"degree\": 1, \"betweenness\": 0.0, \"eigenvector\": 0.011088730822341923, \"modularity\": 5, \"id\": \"William Ames\"}, {\"historical_significance\": \"Quaker schismatic\", \"gender\": \"male\", \"birth_year\": \"1601\", \"death_year\": \"1711\", \"sdfb_id\": \"10010417\", \"degree\": 2, \"betweenness\": 0.0005891158433531314, \"eigenvector\": 0.05789266170159659, \"modularity\": 4, \"id\": \"William Rogers\"}, {\"historical_significance\": \"colonial official and merchant\", \"gender\": \"male\", \"birth_year\": \"1671\", \"death_year\": \"1735\", \"sdfb_id\": \"10008884\", \"degree\": 1, \"betweenness\": 0.0, \"eigenvector\": 0.036752364236589646, \"modularity\": 1, \"id\": \"Isaac Norris\"}, {\"historical_significance\": \"Quaker leader\", \"gender\": \"male\", \"birth_year\": \"1643\", \"death_year\": \"1707\", \"sdfb_id\": \"10010941\", \"degree\": 3, \"betweenness\": 0.004321964915185254, \"eigenvector\": 0.00830428709360371, \"modularity\": 4, \"id\": \"Anthony Sharp\"}, {\"historical_significance\": \"Quaker missionary\", \"gender\": \"female\", \"birth_year\": \"1623\", \"death_year\": \"1698\", \"sdfb_id\": \"10004290\", \"degree\": 2, \"betweenness\": 0.0, \"eigenvector\": 0.029103162487616643, \"modularity\": 2, \"id\": \"Mary Fisher\"}, {\"historical_significance\": \"philosopher\", \"gender\": \"female\", \"birth_year\": \"1631\", \"death_year\": \"1679\", \"sdfb_id\": \"10002755\", \"degree\": 1, \"betweenness\": 0.0, \"eigenvector\": 0.024995365498222868, \"modularity\": 1, \"id\": \"Anne Conway Viscountess Conway and Killultagh\"}, {\"historical_significance\": \"Quaker preacher and writer\", \"gender\": \"male\", \"birth_year\": \"1604\", \"death_year\": \"1665\", \"sdfb_id\": \"10004292\", \"degree\": 1, \"betweenness\": 0.0, \"eigenvector\": 0.014538490289696351, \"modularity\": 5, \"id\": \"Samuel Fisher\"}, {\"historical_significance\": \"Quaker apostate\", \"gender\": \"male\", \"birth_year\": \"1640\", \"death_year\": \"1727\", \"sdfb_id\": \"10001737\", \"degree\": 2, \"betweenness\": 0.013617267854555989, \"eigenvector\": 0.034593521815088644, \"modularity\": 3, \"id\": \"Francis Bugg\"}, {\"historical_significance\": \"Quaker preacher in America\", \"gender\": \"female\", \"birth_year\": \"1634\", \"death_year\": \"1659\", \"sdfb_id\": \"10004811\", \"degree\": 1, \"betweenness\": 0.0, \"eigenvector\": 8.138875606113614e-16, \"modularity\": 13, \"id\": \"Sarah Gibbons\"}, {\"historical_significance\": \"religious writer\", \"gender\": \"male\", \"birth_year\": \"1650\", \"death_year\": \"1696\", \"sdfb_id\": \"10011989\", \"degree\": 2, \"betweenness\": 0.0, \"eigenvector\": 0.052756141766563604, \"modularity\": 0, \"id\": \"William Tomlinson\"}, {\"historical_significance\": \"Quaker missionary and author\", \"gender\": \"male\", \"birth_year\": \"1655\", \"death_year\": \"1660\", \"sdfb_id\": \"10008917\", \"degree\": 1, \"betweenness\": 0.0, \"eigenvector\": 8.138875606113614e-16, \"modularity\": 15, \"id\": \"Humphrey Norton\"}, {\"historical_significance\": \"Quaker leader\", \"gender\": \"male\", \"birth_year\": \"1628\", \"death_year\": \"1684\", \"sdfb_id\": \"10004827\", \"degree\": 1, \"betweenness\": 0.0, \"eigenvector\": 0.000660608401790725, \"modularity\": 0, \"id\": \"William Gibson\"}, {\"historical_significance\": \"merchant and colonial governor\", \"gender\": \"male\", \"birth_year\": \"1693\", \"death_year\": \"1767\", \"sdfb_id\": \"10012509\", \"degree\": 1, \"betweenness\": 0.0, \"eigenvector\": 8.138875606113614e-16, \"modularity\": 14, \"id\": \"Gideon Wanton\"}, {\"historical_significance\": \"merchant and colonial governor\", \"gender\": \"male\", \"birth_year\": \"1672\", \"death_year\": \"1740\", \"sdfb_id\": \"10012510\", \"degree\": 1, \"betweenness\": 0.0, \"eigenvector\": 8.138875606113614e-16, \"modularity\": 14, \"id\": \"John Wanton\"}, {\"historical_significance\": \"Quaker minister\", \"gender\": \"female\", \"birth_year\": \"1676\", \"death_year\": \"1762\", \"sdfb_id\": \"10002274\", \"degree\": 1, \"betweenness\": 0.0, \"eigenvector\": 8.138875606113614e-16, \"modularity\": 10, \"id\": \"Grace Chamber\"}, {\"historical_significance\": \"Quaker preacher\", \"gender\": \"female\", \"birth_year\": \"1569\", \"death_year\": \"1679\", \"sdfb_id\": \"10009959\", \"degree\": 2, \"betweenness\": 0.0, \"eigenvector\": 0.029103162487616643, \"modularity\": 2, \"id\": \"Mary Prince\"}, {\"historical_significance\": \"botanist and explorer in America\", \"gender\": \"male\", \"birth_year\": \"1699\", \"death_year\": \"1777\", \"sdfb_id\": \"10000745\", \"degree\": 2, \"betweenness\": 0.0, \"eigenvector\": 0.006998347503803875, \"modularity\": 1, \"id\": \"John Bartram\"}, {\"historical_significance\": \"merchant\", \"gender\": \"male\", \"birth_year\": \"1658\", \"death_year\": \"1709\", \"sdfb_id\": \"10005359\", \"degree\": 1, \"betweenness\": 0.0, \"eigenvector\": 0.036752364236589646, \"modularity\": 1, \"id\": \"Edward Haistwell\"}, {\"historical_significance\": \"Quaker leader\", \"gender\": \"male\", \"birth_year\": \"1625\", \"death_year\": \"1697\", \"sdfb_id\": \"10000243\", \"degree\": 1, \"betweenness\": 0.0, \"eigenvector\": 0.007262880358552969, \"modularity\": 4, \"id\": \"John ap John\"}, {\"historical_significance\": \"Quaker missionary\", \"gender\": \"male\", \"birth_year\": \"1585\", \"death_year\": \"1695\", \"sdfb_id\": \"10010488\", \"degree\": 1, \"betweenness\": 0.0, \"eigenvector\": 8.138875606113614e-16, \"modularity\": 15, \"id\": \"John Rous\"}, {\"historical_significance\": \"Quaker administrator\", \"gender\": \"male\", \"birth_year\": \"1627\", \"death_year\": \"1666\", \"sdfb_id\": \"10009470\", \"degree\": 5, \"betweenness\": 0.015228023702599968, \"eigenvector\": 0.11120476725256782, \"modularity\": 0, \"id\": \"Anthony Pearson\"}, {\"historical_significance\": \"musician and Quaker missionary\", \"gender\": \"male\", \"birth_year\": \"1617\", \"death_year\": \"1682\", \"sdfb_id\": \"10003859\", \"degree\": 2, \"betweenness\": 0.0, \"eigenvector\": 0.02420124554591077, \"modularity\": 6, \"id\": \"Solomon Eccles\"}, {\"historical_significance\": \"Quaker minister\", \"gender\": \"male\", \"birth_year\": \"1631\", \"death_year\": \"1690\", \"sdfb_id\": \"10001815\", \"degree\": 4, \"betweenness\": 0.028974117533439564, \"eigenvector\": 0.05341932451869629, \"modularity\": 4, \"id\": \"John Burnyeat\"}, {\"historical_significance\": \"Quaker activist and writer\", \"gender\": \"male\", \"birth_year\": \"1633\", \"death_year\": \"1663\", \"sdfb_id\": \"10001818\", \"degree\": 9, \"betweenness\": 0.015338670858010266, \"eigenvector\": 0.23147427604862295, \"modularity\": 2, \"id\": \"Edward Burrough\"}, {\"historical_significance\": \"Quaker preacher and writer\", \"gender\": \"female\", \"birth_year\": \"1609\", \"death_year\": \"1688\", \"sdfb_id\": \"10012062\", \"degree\": 4, \"betweenness\": 0.018094272331560468, \"eigenvector\": 0.11848040644650927, \"modularity\": 3, \"id\": \"Rebecca Travers\"}, {\"historical_significance\": \"Quaker leader\", \"gender\": \"male\", \"birth_year\": \"1627\", \"death_year\": \"1712\", \"sdfb_id\": \"10003882\", \"degree\": 2, \"betweenness\": 0.002773121417189214, \"eigenvector\": 0.008391903203030049, \"modularity\": 4, \"id\": \"William Edmundson\"}, {\"historical_significance\": \"Quaker missionary\", \"gender\": \"female\", \"birth_year\": \"1608\", \"death_year\": \"1664\", \"sdfb_id\": \"10002354\", \"degree\": 1, \"betweenness\": 0.0, \"eigenvector\": 8.138875606113614e-16, \"modularity\": 16, \"id\": \"Sarah Cheevers\"}, {\"historical_significance\": \"parliamentarian army officer\", \"gender\": \"male\", \"birth_year\": \"1560\", \"death_year\": \"1670\", \"sdfb_id\": \"10010036\", \"degree\": 2, \"betweenness\": 0.0, \"eigenvector\": 0.016327007462597794, \"modularity\": 6, \"id\": \"Edward Pyott\"}, {\"historical_significance\": \"maker of clocks, watches, and barometers\", \"gender\": \"male\", \"birth_year\": \"1648\", \"death_year\": \"1724\", \"sdfb_id\": \"10010037\", \"degree\": 2, \"betweenness\": 0.013617267854555989, \"eigenvector\": 0.034593521815088644, \"modularity\": 3, \"id\": \"Daniel Quare\"}, {\"historical_significance\": \"Quaker apologist and controversialist\", \"gender\": \"male\", \"birth_year\": \"1655\", \"death_year\": \"1710\", \"sdfb_id\": \"10009526\", \"degree\": 1, \"betweenness\": 0.0, \"eigenvector\": 0.00928139241833698, \"modularity\": 4, \"id\": \"John Penington\"}, {\"historical_significance\": \"Quaker and writer\", \"gender\": \"female\", \"birth_year\": \"1623\", \"death_year\": \"1682\", \"sdfb_id\": \"10009527\", \"degree\": 4, \"betweenness\": 0.02420824624214454, \"eigenvector\": 0.0682675324207553, \"modularity\": 4, \"id\": \"Mary Penington\"}, {\"historical_significance\": \"Quaker preacher and apothecary\", \"gender\": \"male\", \"birth_year\": \"1637\", \"death_year\": \"1698\", \"sdfb_id\": \"10007992\", \"degree\": 3, \"betweenness\": 0.001404496319750557, \"eigenvector\": 0.02928795769960127, \"modularity\": 6, \"id\": \"Charles Marshall\"}, {\"historical_significance\": \"religious writer\", \"gender\": \"male\", \"birth_year\": \"1633\", \"death_year\": \"1707\", \"sdfb_id\": \"10013112\", \"degree\": 1, \"betweenness\": 0.0, \"eigenvector\": 8.138875606113614e-16, \"modularity\": 17, \"id\": \"Humphrey Woolrich\"}, {\"historical_significance\": \"Quaker leader and founder of Pennsylvania\", \"gender\": \"male\", \"birth_year\": \"1644\", \"death_year\": \"1718\", \"sdfb_id\": \"10009531\", \"degree\": 18, \"betweenness\": 0.23999456006192205, \"eigenvector\": 0.27032201153998675, \"modularity\": 1, \"id\": \"William Penn\"}, {\"historical_significance\": \"\", \"gender\": \"female\", \"birth_year\": \"1630\", \"death_year\": \"1701\", \"sdfb_id\": \"10009535\", \"degree\": 1, \"betweenness\": 0.0, \"eigenvector\": 8.138875606113614e-16, \"modularity\": 17, \"id\": \"Mary Pennyman\"}, {\"historical_significance\": \"Quaker preacher\", \"gender\": \"female\", \"birth_year\": \"1636\", \"death_year\": \"1666\", \"sdfb_id\": \"10012614\", \"degree\": 1, \"betweenness\": 0.0, \"eigenvector\": 8.138875606113614e-16, \"modularity\": 13, \"id\": \"Dorothy Waugh\"}, {\"historical_significance\": \"lawyer and politician in America\", \"gender\": \"male\", \"birth_year\": \"1656\", \"death_year\": \"1731\", \"sdfb_id\": \"10007509\", \"degree\": 2, \"betweenness\": 0.0, \"eigenvector\": 0.04279916936862533, \"modularity\": 1, \"id\": \"David Lloyd\"}, {\"historical_significance\": \"politician in America\", \"gender\": \"male\", \"birth_year\": \"1671\", \"death_year\": \"1746\", \"sdfb_id\": \"10008534\", \"degree\": 1, \"betweenness\": 0.0, \"eigenvector\": 0.0021822515950574075, \"modularity\": 3, \"id\": \"Lewis Morris\"}, {\"historical_significance\": \"Quaker and author\", \"gender\": \"female\", \"birth_year\": \"1624\", \"death_year\": \"1665\", \"sdfb_id\": \"10011100\", \"degree\": 3, \"betweenness\": 0.0003500893331401806, \"eigenvector\": 0.07920519864438022, \"modularity\": 0, \"id\": \"Martha Simmonds\"}, {\"historical_significance\": \"Quaker schismatic\", \"gender\": \"male\", \"birth_year\": \"1571\", \"death_year\": \"1681\", \"sdfb_id\": \"10011613\", \"degree\": 6, \"betweenness\": 0.028990098622866983, \"eigenvector\": 0.08267743160271736, \"modularity\": 6, \"id\": \"John Story\"}, {\"historical_significance\": \"Quaker minister and journal writer\", \"gender\": \"male\", \"birth_year\": \"1670\", \"death_year\": \"1742\", \"sdfb_id\": \"10011614\", \"degree\": 1, \"betweenness\": 0.0, \"eigenvector\": 0.036752364236589646, \"modularity\": 1, \"id\": \"Thomas Story\"}, {\"historical_significance\": \"religious controversialist\", \"gender\": \"male\", \"birth_year\": \"1639\", \"death_year\": \"1713\", \"sdfb_id\": \"10003945\", \"degree\": 8, \"betweenness\": 0.046190623885104545, \"eigenvector\": 0.17608142535843854, \"modularity\": 4, \"id\": \"Thomas Ellwood\"}, {\"historical_significance\": \"Quaker preacher\", \"gender\": \"male\", \"birth_year\": \"1627\", \"death_year\": \"1671\", \"sdfb_id\": \"10011114\", \"degree\": 1, \"betweenness\": 0.0, \"eigenvector\": 0.0063147220469040284, \"modularity\": 4, \"id\": \"William Simpson\"}, {\"historical_significance\": \"Quaker minister and writer\", \"gender\": \"male\", \"birth_year\": \"1677\", \"death_year\": \"1753\", \"sdfb_id\": \"10001390\", \"degree\": 1, \"betweenness\": 0.0, \"eigenvector\": 0.0007054780307821075, \"modularity\": 1, \"id\": \"Samuel Bownas\"}, {\"historical_significance\": \"Quaker schismatic\", \"gender\": \"male\", \"birth_year\": \"1555\", \"death_year\": \"1665\", \"sdfb_id\": \"10009584\", \"degree\": 7, \"betweenness\": 0.02829566854990583, \"eigenvector\": 0.18496928077956104, \"modularity\": 2, \"id\": \"John Perrot\"}, {\"historical_significance\": \"Quaker missionary\", \"gender\": \"female\", \"birth_year\": \"1656\", \"death_year\": \"1671\", \"sdfb_id\": \"10011632\", \"degree\": 2, \"betweenness\": 0.0, \"eigenvector\": 0.05635184926227044, \"modularity\": 0, \"id\": \"Hannah Stranger\"}], \"links\": [{\"source\": \"Joseph Wyeth\", \"target\": \"Thomas Ellwood\"}, {\"source\": \"Alexander Skene of Newtyle\", \"target\": \"Lilias Skene\"}, {\"source\": \"James Logan\", \"target\": \"Peter Collinson\"}, {\"source\": \"James Logan\", \"target\": \"John Bartram\"}, {\"source\": \"James Logan\", \"target\": \"William Penn\"}, {\"source\": \"James Logan\", \"target\": \"David Lloyd\"}, {\"source\": \"Dorcas Erbery\", \"target\": \"James Nayler\"}, {\"source\": \"William Mucklow\", \"target\": \"George Fox\"}, {\"source\": \"Thomas Salthouse\", \"target\": \"George Fox\"}, {\"source\": \"Thomas Salthouse\", \"target\": \"Margaret Fell\"}, {\"source\": \"William Dewsbury\", \"target\": \"Edward Burrough\"}, {\"source\": \"William Dewsbury\", \"target\": \"George Fox\"}, {\"source\": \"William Dewsbury\", \"target\": \"John Crook\"}, {\"source\": \"John Audland\", \"target\": \"John Camm\"}, {\"source\": \"John Audland\", \"target\": \"Francis Howgill\"}, {\"source\": \"John Audland\", \"target\": \"Edward Pyott\"}, {\"source\": \"John Audland\", \"target\": \"Charles Marshall\"}, {\"source\": \"John Audland\", \"target\": \"George Fox\"}, {\"source\": \"John Audland\", \"target\": \"Anne Camm\"}, {\"source\": \"Richard Claridge\", \"target\": \"Joseph Besse\"}, {\"source\": \"Richard Claridge\", \"target\": \"William Penn\"}, {\"source\": \"William Bradford\", \"target\": \"George Keith\"}, {\"source\": \"William Bradford\", \"target\": \"William Penn\"}, {\"source\": \"William Bradford\", \"target\": \"Tace Sowle\"}, {\"source\": \"Fettiplace Bellers\", \"target\": \"John Bellers\"}, {\"source\": \"Isabel Yeamans\", \"target\": \"William Penn\"}, {\"source\": \"George Fox the younger\", \"target\": \"Margaret Fell\"}, {\"source\": \"George Fox\", \"target\": \"George Keith\"}, {\"source\": \"George Fox\", \"target\": \"Francis Howgill\"}, {\"source\": \"George Fox\", \"target\": \"Ellis Hookes\"}, {\"source\": \"George Fox\", \"target\": \"William Mead\"}, {\"source\": \"George Fox\", \"target\": \"Elizabeth Hooten\"}, {\"source\": \"George Fox\", \"target\": \"Margaret Fell\"}, {\"source\": \"George Fox\", \"target\": \"John Crook\"}, {\"source\": \"George Fox\", \"target\": \"George Whitehead\"}, {\"source\": \"George Fox\", \"target\": \"Benjamin Furly\"}, {\"source\": \"George Fox\", \"target\": \"James Nayler\"}, {\"source\": \"George Fox\", \"target\": \"Edward Burrough\"}, {\"source\": \"George Fox\", \"target\": \"John Wilkinson\"}, {\"source\": \"George Fox\", \"target\": \"Thomas Ellwood\"}, {\"source\": \"George Fox\", \"target\": \"William Coddington\"}, {\"source\": \"George Fox\", \"target\": \"John Stubbs\"}, {\"source\": \"George Fox\", \"target\": \"John Perrot\"}, {\"source\": \"George Fox\", \"target\": \"Leonard Fell\"}, {\"source\": \"George Fox\", \"target\": \"William Penn\"}, {\"source\": \"John Stubbs\", \"target\": \"Benjamin Furly\"}, {\"source\": \"John Stubbs\", \"target\": \"William Caton\"}, {\"source\": \"John Stubbs\", \"target\": \"Samuel Fisher\"}, {\"source\": \"John Stubbs\", \"target\": \"John Burnyeat\"}, {\"source\": \"Anne Camm\", \"target\": \"Thomas Camm\"}, {\"source\": \"John Camm\", \"target\": \"Charles Marshall\"}, {\"source\": \"John Camm\", \"target\": \"Thomas Camm\"}, {\"source\": \"John Camm\", \"target\": \"Edward Pyott\"}, {\"source\": \"Thomas Camm\", \"target\": \"John Story\"}, {\"source\": \"Katharine Evans\", \"target\": \"Sarah Cheevers\"}, {\"source\": \"Lydia Lancaster\", \"target\": \"Grace Chamber\"}, {\"source\": \"Samuel Clarridge\", \"target\": \"Anthony Sharp\"}, {\"source\": \"Samuel Clarridge\", \"target\": \"James Claypoole\"}, {\"source\": \"Thomas Lower\", \"target\": \"Margaret Fell\"}, {\"source\": \"Gervase Benson\", \"target\": \"James Nayler\"}, {\"source\": \"Gervase Benson\", \"target\": \"Anthony Pearson\"}, {\"source\": \"Stephen Crisp\", \"target\": \"James Parnel\"}, {\"source\": \"Stephen Crisp\", \"target\": \"William Caton\"}, {\"source\": \"Stephen Crisp\", \"target\": \"Benjamin Furly\"}, {\"source\": \"James Claypoole\", \"target\": \"William Penn\"}, {\"source\": \"Thomas Holme\", \"target\": \"William Gibson\"}, {\"source\": \"Thomas Holme\", \"target\": \"Elizabeth Leavens\"}, {\"source\": \"John Freame\", \"target\": \"David Barclay\"}, {\"source\": \"John Swinton\", \"target\": \"David Barclay of Ury\"}, {\"source\": \"William Mead\", \"target\": \"Margaret Fell\"}, {\"source\": \"Henry Pickworth\", \"target\": \"Francis Bugg\"}, {\"source\": \"John Crook\", \"target\": \"John Perrot\"}, {\"source\": \"John Crook\", \"target\": \"Edward Burrough\"}, {\"source\": \"Gilbert Latey\", \"target\": \"Edward Burrough\"}, {\"source\": \"Gilbert Latey\", \"target\": \"George Whitehead\"}, {\"source\": \"Joseph Besse\", \"target\": \"Samuel Bownas\"}, {\"source\": \"James Nayler\", \"target\": \"Francis Howgill\"}, {\"source\": \"James Nayler\", \"target\": \"Martha Simmonds\"}, {\"source\": \"James Nayler\", \"target\": \"Hannah Stranger\"}, {\"source\": \"James Nayler\", \"target\": \"Margaret Fell\"}, {\"source\": \"James Nayler\", \"target\": \"Richard Farnworth\"}, {\"source\": \"James Nayler\", \"target\": \"George Whitehead\"}, {\"source\": \"James Nayler\", \"target\": \"John Perrot\"}, {\"source\": \"James Nayler\", \"target\": \"Robert Rich\"}, {\"source\": \"James Nayler\", \"target\": \"Anthony Pearson\"}, {\"source\": \"James Nayler\", \"target\": \"Thomas Ellwood\"}, {\"source\": \"James Nayler\", \"target\": \"Edward Burrough\"}, {\"source\": \"James Nayler\", \"target\": \"Rebecca Travers\"}, {\"source\": \"James Nayler\", \"target\": \"William Tomlinson\"}, {\"source\": \"George Whitehead\", \"target\": \"George Keith\"}, {\"source\": \"George Whitehead\", \"target\": \"William Rogers\"}, {\"source\": \"George Whitehead\", \"target\": \"Francis Bugg\"}, {\"source\": \"George Whitehead\", \"target\": \"Richard Hubberthorne\"}, {\"source\": \"George Whitehead\", \"target\": \"Alexander Parker\"}, {\"source\": \"George Whitehead\", \"target\": \"John Whitehead\"}, {\"source\": \"George Whitehead\", \"target\": \"Daniel Quare\"}, {\"source\": \"George Whitehead\", \"target\": \"William Penn\"}, {\"source\": \"George Whitehead\", \"target\": \"John Story\"}, {\"source\": \"George Whitehead\", \"target\": \"Rebecca Travers\"}, {\"source\": \"William Crouch\", \"target\": \"Francis Howgill\"}, {\"source\": \"William Crouch\", \"target\": \"Edward Burrough\"}, {\"source\": \"Benjamin Furly\", \"target\": \"George Keith\"}, {\"source\": \"Benjamin Furly\", \"target\": \"James Parnel\"}, {\"source\": \"Benjamin Furly\", \"target\": \"Franciscus Mercurius van Helmont\"}, {\"source\": \"Benjamin Furly\", \"target\": \"Robert Barclay\"}, {\"source\": \"Benjamin Furly\", \"target\": \"Alexander Parker\"}, {\"source\": \"Benjamin Furly\", \"target\": \"William Caton\"}, {\"source\": \"Benjamin Furly\", \"target\": \"William Penn\"}, {\"source\": \"Silvanus Bevan\", \"target\": \"Daniel Quare\"}, {\"source\": \"Robert Rich\", \"target\": \"William Tomlinson\"}, {\"source\": \"John Whiting\", \"target\": \"Christopher Taylor\"}, {\"source\": \"Christopher Taylor\", \"target\": \"Thomas Taylor\"}, {\"source\": \"Thomas Lawson\", \"target\": \"Margaret Fell\"}, {\"source\": \"Thomas Lawson\", \"target\": \"Alexander Parker\"}, {\"source\": \"Richard Farnworth\", \"target\": \"Francis Howgill\"}, {\"source\": \"Richard Farnworth\", \"target\": \"Richard Hubberthorne\"}, {\"source\": \"Richard Farnworth\", \"target\": \"John Perrot\"}, {\"source\": \"Richard Farnworth\", \"target\": \"Margaret Fell\"}, {\"source\": \"Richard Farnworth\", \"target\": \"Anthony Pearson\"}, {\"source\": \"Richard Vickris\", \"target\": \"George Bishop\"}, {\"source\": \"Robert Barclay\", \"target\": \"George Keith\"}, {\"source\": \"Robert Barclay\", \"target\": \"David Barclay of Ury\"}, {\"source\": \"Jane Sowle\", \"target\": \"Tace Sowle\"}, {\"source\": \"Tace Sowle\", \"target\": \"William Penn\"}, {\"source\": \"Margaret Fell\", \"target\": \"William Caton\"}, {\"source\": \"Margaret Fell\", \"target\": \"William Penn\"}, {\"source\": \"Margaret Fell\", \"target\": \"Alexander Parker\"}, {\"source\": \"Margaret Fell\", \"target\": \"Elizabeth Leavens\"}, {\"source\": \"Margaret Fell\", \"target\": \"Anthony Pearson\"}, {\"source\": \"Thomas Curtis\", \"target\": \"Anthony Sharp\"}, {\"source\": \"Thomas Curtis\", \"target\": \"Mary Penington\"}, {\"source\": \"Thomas Curtis\", \"target\": \"Thomas Ellwood\"}, {\"source\": \"Thomas Curtis\", \"target\": \"William Simpson\"}, {\"source\": \"Thomas Curtis\", \"target\": \"John Story\"}, {\"source\": \"Alice Curwen\", \"target\": \"Rebecca Travers\"}, {\"source\": \"Alexander Parker\", \"target\": \"John Wilkinson\"}, {\"source\": \"Alexander Parker\", \"target\": \"Sir Charles Wager\"}, {\"source\": \"John Wilkinson\", \"target\": \"Charles Marshall\"}, {\"source\": \"John Wilkinson\", \"target\": \"Solomon Eccles\"}, {\"source\": \"John Wilkinson\", \"target\": \"John Story\"}, {\"source\": \"Thomas Aldam\", \"target\": \"Anthony Pearson\"}, {\"source\": \"Sir Charles Wager\", \"target\": \"Lewis Morris\"}, {\"source\": \"George Keith\", \"target\": \"Anne Conway Viscountess Conway and Killultagh\"}, {\"source\": \"George Keith\", \"target\": \"Franciscus Mercurius van Helmont\"}, {\"source\": \"George Keith\", \"target\": \"William Penn\"}, {\"source\": \"Peter Collinson\", \"target\": \"John Bartram\"}, {\"source\": \"William Caton\", \"target\": \"William Ames\"}, {\"source\": \"Francis Howgill\", \"target\": \"Martha Simmonds\"}, {\"source\": \"Francis Howgill\", \"target\": \"Edward Burrough\"}, {\"source\": \"William Rogers\", \"target\": \"Thomas Ellwood\"}, {\"source\": \"Isaac Norris\", \"target\": \"William Penn\"}, {\"source\": \"Anthony Sharp\", \"target\": \"William Edmundson\"}, {\"source\": \"Mary Fisher\", \"target\": \"John Perrot\"}, {\"source\": \"Mary Fisher\", \"target\": \"Mary Prince\"}, {\"source\": \"Sarah Gibbons\", \"target\": \"Dorothy Waugh\"}, {\"source\": \"Humphrey Norton\", \"target\": \"John Rous\"}, {\"source\": \"Gideon Wanton\", \"target\": \"John Wanton\"}, {\"source\": \"Mary Prince\", \"target\": \"John Perrot\"}, {\"source\": \"Edward Haistwell\", \"target\": \"William Penn\"}, {\"source\": \"John ap John\", \"target\": \"John Burnyeat\"}, {\"source\": \"Solomon Eccles\", \"target\": \"John Story\"}, {\"source\": \"John Burnyeat\", \"target\": \"William Edmundson\"}, {\"source\": \"John Burnyeat\", \"target\": \"William Penn\"}, {\"source\": \"Edward Burrough\", \"target\": \"John Perrot\"}, {\"source\": \"Edward Burrough\", \"target\": \"Thomas Ellwood\"}, {\"source\": \"Rebecca Travers\", \"target\": \"William Penn\"}, {\"source\": \"John Penington\", \"target\": \"Mary Penington\"}, {\"source\": \"Mary Penington\", \"target\": \"William Penn\"}, {\"source\": \"Mary Penington\", \"target\": \"Thomas Ellwood\"}, {\"source\": \"Humphrey Woolrich\", \"target\": \"Mary Pennyman\"}, {\"source\": \"William Penn\", \"target\": \"Thomas Story\"}, {\"source\": \"William Penn\", \"target\": \"David Lloyd\"}, {\"source\": \"Martha Simmonds\", \"target\": \"Hannah Stranger\"}, {\"source\": \"John Story\", \"target\": \"Thomas Ellwood\"}]}\n"
     ]
    },
    {
     "name": "stderr",
     "output_type": "stream",
     "text": [
      "C:\\Users\\Lenovo\\AppData\\Local\\Temp\\ipykernel_57828\\2413307308.py:25: DeprecationWarning: info is deprecated and will be removed in version 3.0.\n",
      "\n",
      "  print(nx.info(G)) # Print information about the Graph\n"
     ]
    }
   ],
   "source": [
    "import csv\n",
    "import json\n",
    "from operator import itemgetter # a helper library that extends python\n",
    "from networkx.readwrite import json_graph # import the networkx reader/writer function to work with json\n",
    "import networkx as nx # import the networkx package\n",
    "from networkx.algorithms import community #This part of networkx, for community detection, needs to be imported separately.\n",
    "\n",
    "with open('quakers_nodelist.csv', 'r') as nodecsv: # Open the file\n",
    "    nodereader = csv.reader(nodecsv) # Read the csv\n",
    "    # Retrieve the data (using Python list comprhension and list slicing to remove the header row, see footnote 3)\n",
    "    nodes = [n for n in nodereader][1:]\n",
    "\n",
    "node_names = [n[0] for n in nodes] # Get a list of only the node names\n",
    "\n",
    "with open('quakers_edgelist.csv', 'r') as edgecsv: # Open the file\n",
    "    edgereader = csv.reader(edgecsv) # Read the csv\n",
    "    edges = [tuple(e) for e in edgereader][1:] # Retrieve the data\n",
    "\n",
    "# print(len(node_names))\n",
    "# print(len(edges))\n",
    "\n",
    "G = nx.Graph() # Initialize a Graph object\n",
    "G.add_nodes_from(node_names) # Add nodes to the Graph\n",
    "G.add_edges_from(edges) # Add edges to the Graph\n",
    "print(nx.info(G)) # Print information about the Graph\n",
    "\n",
    "hist_sig_dict = {} # create containers to print information to\n",
    "gender_dict = {}\n",
    "birth_dict = {}\n",
    "death_dict = {}\n",
    "id_dict = {}\n",
    "\n",
    "for node in nodes: # Loop through the list, one row at a time\n",
    "    hist_sig_dict[node[0]] = node[1]\n",
    "    gender_dict[node[0]] = node[2]\n",
    "    birth_dict[node[0]] = node[3]\n",
    "    death_dict[node[0]] = node[4]\n",
    "    id_dict[node[0]] = node[5]\n",
    "\n",
    "nx.set_node_attributes(G, hist_sig_dict, 'historical_significance')\n",
    "nx.set_node_attributes(G, gender_dict, 'gender')\n",
    "nx.set_node_attributes(G, birth_dict, 'birth_year')\n",
    "nx.set_node_attributes(G, death_dict, 'death_year')\n",
    "nx.set_node_attributes(G, id_dict, 'sdfb_id')\n",
    "\n",
    "# for n in G.nodes(): # loop through every node, in our data \"n\" will be the name of the person\n",
    "#     print(n, G.nodes[n]['birth_year']) # access every node by its name, and then by the attribute \"birth_year\"\n",
    "\n",
    "density = nx.density(G)\n",
    "print(\"Network density:\", density)\n",
    "\n",
    "fell_whitehead_path = nx.shortest_path(G, source=\"Margaret Fell\", target=\"George Whitehead\")\n",
    "\n",
    "print(\"Shortest path between Fell and Whitehead:\", fell_whitehead_path)\n",
    "print(\"Length of that path:\", len(fell_whitehead_path)-1)\n",
    "\n",
    "# If your Graph has more than one component, this will return False:\n",
    "print(nx.is_connected(G))\n",
    "\n",
    "# Next, use nx.connected_components to get the list of components,\n",
    "# then use the max() command to find the largest one:\n",
    "components = nx.connected_components(G)\n",
    "largest_component = max(components, key=len)\n",
    "\n",
    "# Create a \"subgraph\" of just the largest component\n",
    "# Then calculate the diameter of the subgraph, just like you did with density.\n",
    "\n",
    "subgraph = G.subgraph(largest_component)\n",
    "diameter = nx.diameter(subgraph)\n",
    "print(\"Network diameter of largest component:\", diameter)\n",
    "\n",
    "degree_dict = dict(G.degree(G.nodes()))\n",
    "nx.set_node_attributes(G, degree_dict, 'degree')\n",
    "print(G.nodes['William Penn'])\n",
    "\n",
    "sorted_degree = sorted(degree_dict.items(), key=itemgetter(1), reverse=True)\n",
    "print(\"Top 20 nodes by degree:\")\n",
    "for d in sorted_degree[:20]:\n",
    "    print(d)\n",
    "\n",
    "betweenness_dict = nx.betweenness_centrality(G) # Run betweenness centrality\n",
    "eigenvector_dict = nx.eigenvector_centrality(G) # Run eigenvector centrality\n",
    "\n",
    "# Assign each to an attribute in your network\n",
    "nx.set_node_attributes(G, betweenness_dict, 'betweenness')\n",
    "nx.set_node_attributes(G, eigenvector_dict, 'eigenvector')\n",
    "\n",
    "sorted_betweenness = sorted(betweenness_dict.items(), key=itemgetter(1), reverse=True)\n",
    "\n",
    "print(\"Top 20 nodes by betweenness centrality:\")\n",
    "for b in sorted_betweenness[:20]:\n",
    "    print(b)\n",
    "\n",
    "#First get the top 20 nodes by betweenness as a list\n",
    "top_betweenness = sorted_betweenness[:20]\n",
    "\n",
    "#Then find and print their degree\n",
    "for tb in top_betweenness: # Loop through top_betweenness\n",
    "    degree = degree_dict[tb[0]] # Use degree_dict to access a node's degree, see footnote 2\n",
    "    # print(\"Name:\", tb[0], \"| Betweenness Centrality:\", tb[1], \"| Degree:\", degree)\n",
    "\n",
    "communities = community.greedy_modularity_communities(G)\n",
    "modularity_dict = {} # Create a blank dictionary\n",
    "for i,c in enumerate(communities): # Loop through the list of communities, keeping track of the number for the community\n",
    "    for name in c: # Loop through each person in a community\n",
    "        modularity_dict[name] = i # Create an entry in the dictionary for the person, where the value is which group they belong to.\n",
    "\n",
    "# Now you can add modularity information like we did the other metrics\n",
    "nx.set_node_attributes(G, modularity_dict, 'modularity')\n",
    "\n",
    "# First get a list of just the nodes in that class\n",
    "class0 = [n for n in G.nodes() if G.nodes[n]['modularity'] == 0]\n",
    "\n",
    "# Then create a dictionary of the eigenvector centralities of those nodes\n",
    "class0_eigenvector = {n:G.nodes[n]['eigenvector'] for n in class0}\n",
    "\n",
    "# Then sort that dictionary and print the first 5 results\n",
    "class0_sorted_by_eigenvector = sorted(class0_eigenvector.items(), key=itemgetter(1), reverse=True)\n",
    "\n",
    "print(\"Modularity Class 0 Sorted by Eigenvector Centrality:\")\n",
    "for node in class0_sorted_by_eigenvector[:5]:\n",
    "    print(\"Name:\", node[0], \"| Eigenvector Centrality:\", node[1])\n",
    "\n",
    "for i,c in enumerate(communities): # Loop through the list of communities\n",
    "    if len(c) > 2: # Filter out modularity classes with 2 or fewer nodes\n",
    "        print('Class '+str(i)+':', list(c)) # Print out the classes and their members\n",
    " \n",
    "data1 = json_graph.node_link_data(G)\n",
    "s1 = json.dumps(data1)\n",
    "\n",
    "print(s1)\n",
    "\n",
    "# f = open(\"graph.json\", \"w\")\n",
    "# f.write(s1)\n",
    "# f.close()"
   ]
  },
  {
   "cell_type": "markdown",
   "metadata": {
    "id": "S9x95878PiqN"
   },
   "source": [
    "When you're done here, check out the code to visualize this network on [Observable](https://observablehq.com/@mkane2/force-directed-graph-demo)."
   ]
  }
 ],
 "metadata": {
  "colab": {
   "provenance": [],
   "toc_visible": true
  },
  "kernelspec": {
   "display_name": "Python 3 (ipykernel)",
   "language": "python",
   "name": "python3"
  },
  "language_info": {
   "codemirror_mode": {
    "name": "ipython",
    "version": 3
   },
   "file_extension": ".py",
   "mimetype": "text/x-python",
   "name": "python",
   "nbconvert_exporter": "python",
   "pygments_lexer": "ipython3",
   "version": "3.8.13"
  }
 },
 "nbformat": 4,
 "nbformat_minor": 1
}
