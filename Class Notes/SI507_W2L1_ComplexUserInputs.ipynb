{
 "cells": [
  {
   "cell_type": "markdown",
   "metadata": {
    "colab_type": "text",
    "id": "KaYbKjy4WKZ4"
   },
   "source": [
    "# **Welcome to SI 507 Week 2 Lesson 1: Complex Uses of User Input.**\n",
    "\n",
    "# (https://tinyurl.com/y6egzg64)\n",
    "\n",
    "### **Review Basics of User Input**\n",
    "![picture](https://drive.google.com/uc?export=view&id=1TAWCfqxLaXIiMzPJaob5qIlt0jMY9K_5)\n",
    "\n",
    "As discussed previously, and as practiced in the Week 1 homework, the built-in function `input()` accepts user input in the form of a string by default.\n",
    "\n",
    "The built-infunctions of `int()` and `float()` can convert a string into an integer or float. \n",
    "\n",
    "Nesting the `input()` function within an `int()` or `float()` function can require the user input to be an integer or \n",
    "\n",
    "Let's play with these examples.\n",
    "\n",
    "**Best Practice: before executing the code, pause the video and make a prediction about what you think will happen. Doing this will engage metacognition and let you make deeper insights**\n"
   ]
  },
  {
   "cell_type": "code",
   "execution_count": 2,
   "metadata": {
    "colab": {},
    "colab_type": "code",
    "id": "0dAybaqTQ32b"
   },
   "outputs": [
    {
     "name": "stdout",
     "output_type": "stream",
     "text": [
      "What's your name?Jingjie\n"
     ]
    }
   ],
   "source": [
    "name = input(\"What's your name?\")"
   ]
  },
  {
   "cell_type": "code",
   "execution_count": 3,
   "metadata": {
    "colab": {},
    "colab_type": "code",
    "id": "h6qONb8naReL"
   },
   "outputs": [
    {
     "name": "stdout",
     "output_type": "stream",
     "text": [
      "What's your name? Jingjie\n",
      "Hello, Jingjie!\n"
     ]
    }
   ],
   "source": [
    "name = input(\"What's your name? \")\n",
    "print(\"Hello, \"+ name + \"!\")"
   ]
  },
  {
   "cell_type": "code",
   "execution_count": 4,
   "metadata": {
    "colab": {},
    "colab_type": "code",
    "id": "UxM4dxeRarkW"
   },
   "outputs": [
    {
     "name": "stdout",
     "output_type": "stream",
     "text": [
      "How old are you? 21\n"
     ]
    }
   ],
   "source": [
    "age = input(\"How old are you? \") \n",
    "\n",
    "\n",
    "\n",
    "\n",
    "\n",
    "\n",
    "\n",
    "\n",
    "\n",
    "\n",
    "\n"
   ]
  },
  {
   "cell_type": "code",
   "execution_count": 5,
   "metadata": {
    "colab": {},
    "colab_type": "code",
    "id": "bv6yMcejcUMh"
   },
   "outputs": [
    {
     "ename": "TypeError",
     "evalue": "can only concatenate str (not \"int\") to str",
     "output_type": "error",
     "traceback": [
      "\u001b[1;31m---------------------------------------------------------------------------\u001b[0m",
      "\u001b[1;31mTypeError\u001b[0m                                 Traceback (most recent call last)",
      "\u001b[1;32m<ipython-input-5-27523040b421>\u001b[0m in \u001b[0;36m<module>\u001b[1;34m\u001b[0m\n\u001b[1;32m----> 1\u001b[1;33m \u001b[0mage\u001b[0m\u001b[1;33m+\u001b[0m\u001b[1;36m4\u001b[0m  \u001b[1;31m#if you entered '35' before for age, what do you think this command will output?\u001b[0m\u001b[1;33m\u001b[0m\u001b[1;33m\u001b[0m\u001b[0m\n\u001b[0m\u001b[0;32m      2\u001b[0m \u001b[1;33m\u001b[0m\u001b[0m\n\u001b[0;32m      3\u001b[0m \u001b[1;33m\u001b[0m\u001b[0m\n\u001b[0;32m      4\u001b[0m \u001b[1;33m\u001b[0m\u001b[0m\n\u001b[0;32m      5\u001b[0m \u001b[1;33m\u001b[0m\u001b[0m\n",
      "\u001b[1;31mTypeError\u001b[0m: can only concatenate str (not \"int\") to str"
     ]
    }
   ],
   "source": [
    "age+4  #if you entered '35' before for age, what do you think this command will output?\n",
    "\n",
    "\n",
    "\n",
    "\n",
    "\n",
    "\n",
    "\n",
    "\n",
    "\n",
    "\n"
   ]
  },
  {
   "cell_type": "code",
   "execution_count": 6,
   "metadata": {
    "colab": {},
    "colab_type": "code",
    "id": "XfPDY0gWa2GO"
   },
   "outputs": [
    {
     "data": {
      "text/plain": [
       "25"
      ]
     },
     "execution_count": 6,
     "metadata": {},
     "output_type": "execute_result"
    }
   ],
   "source": [
    "age = int(age)    #what is this command doing?\n",
    "age+4          #now what do you expect the output of this command to be?\n",
    "\n",
    "\n",
    "\n",
    "\n",
    "\n",
    "\n",
    "\n",
    "\n",
    "\n",
    "\n",
    "\n",
    "\n"
   ]
  },
  {
   "cell_type": "code",
   "execution_count": 7,
   "metadata": {
    "colab": {},
    "colab_type": "code",
    "id": "AB1n9HNRc65_"
   },
   "outputs": [
    {
     "name": "stdout",
     "output_type": "stream",
     "text": [
      "How old are you? 21\n"
     ]
    },
    {
     "data": {
      "text/plain": [
       "25"
      ]
     },
     "execution_count": 7,
     "metadata": {},
     "output_type": "execute_result"
    }
   ],
   "source": [
    "age = int(input(\"How old are you? \")) # what if a child is answer 8.5\n",
    "age+4          #now what do you expect the output of this command to be?\n",
    "\n",
    "\n",
    "\n",
    "\n",
    "\n",
    "\n",
    "\n",
    "\n",
    "\n",
    "\n",
    "\n",
    "\n"
   ]
  },
  {
   "cell_type": "code",
   "execution_count": 8,
   "metadata": {
    "colab": {},
    "colab_type": "code",
    "id": "-yhSATandO-n"
   },
   "outputs": [
    {
     "name": "stdout",
     "output_type": "stream",
     "text": [
      "How old are you? 21\n"
     ]
    },
    {
     "data": {
      "text/plain": [
       "25.0"
      ]
     },
     "execution_count": 8,
     "metadata": {},
     "output_type": "execute_result"
    }
   ],
   "source": [
    "age = input(\"How old are you? \") # what if a child is answer 8.5\n",
    "age=float(age)   #what is this command doing?\n",
    "age+4          #now what do you expect the output of this command to be?\n",
    "\n",
    "\n",
    "\n",
    "\n",
    "\n",
    "\n",
    "\n",
    "\n",
    "\n",
    "\n",
    "\n",
    "\n",
    "\n",
    "\n"
   ]
  },
  {
   "cell_type": "markdown",
   "metadata": {
    "colab_type": "text",
    "id": "BjJZbWjyaEos"
   },
   "source": [
    "Reflection question: Order `str`, `int` and `float` from most restrictive to least restrictive.\n",
    "\n",
    "Reflection question: why not use `float()` instead of `int()` all the time?\n",
    "\n",
    "If you need more practice on what a string is, and how you can manipulate it, work through the exercises here: https://www.w3schools.com/python/python_strings.asp"
   ]
  },
  {
   "cell_type": "markdown",
   "metadata": {
    "colab_type": "text",
    "id": "qmlcMTHCdpjk"
   },
   "source": [
    "\n",
    "##**Validation**\n",
    "Validation can be used to further constrain the user input so that it's useful later. Built-in string functions can be used in validation\n",
    "\n",
    "*   `isalnum()`\tReturns `True` if all characters in the string are alphanumeric\n",
    "*   `isalpha()`\tReturns `True` if all characters in the string are in the alphabet\n",
    "*   `isdecimal()`\tReturns `True` if all characters in the string are decimals\n",
    "*   `isdigit()`\tReturns `True` if all characters in the string are digits\n",
    "*   `isidentifier()`\tReturns `True` if the string `is an identifier\n",
    "*   `islower()`\tReturns `True` if all characters in the string are lower case\n",
    "*   `isnumeric()`\tReturns `True` if all characters in the string are numeric\n",
    "*   `isprintable()`\tReturns `True` if all characters in the string are printable\n",
    "*   `isspace()`\tReturns `True` if all characters in the string are whitespaces\n",
    "*   `istitle()`\tReturns `True` if the string follows the rules of a title\n",
    "*   `isupper()`\tReturns `True` if all characters in the string are upper case\n",
    "\n",
    "Lets look at an example of how to use `isalpha()` in combination with conditionals to ensure that user input is only alphabetical. \n"
   ]
  },
  {
   "cell_type": "code",
   "execution_count": 10,
   "metadata": {
    "colab": {},
    "colab_type": "code",
    "id": "Y5wXrzr5o_Vi"
   },
   "outputs": [
    {
     "name": "stdout",
     "output_type": "stream",
     "text": [
      "what is your name? JIngjie\n",
      "Hello  JIngjie !\n"
     ]
    }
   ],
   "source": [
    "#before running this code pause the video \n",
    "#use comments to annote the lines of the code\n",
    "#is the output what you expect? \n",
    "name = input(\"what is your name? \")\n",
    "if not name.isalpha():\n",
    "    print(\"That's not a name I can use. Sorry.\")\n",
    "else:\n",
    "    print(\"Hello \", name, \"!\")"
   ]
  },
  {
   "cell_type": "markdown",
   "metadata": {
    "colab_type": "text",
    "id": "kgh_A9umqGif"
   },
   "source": [
    "Reflection: How can we get rid of the space between the name and the exclamation point in the printed output?"
   ]
  },
  {
   "cell_type": "markdown",
   "metadata": {
    "colab_type": "text",
    "id": "U9AjSzM0qya2"
   },
   "source": [
    "Lets examine a more complicated example. \n",
    "\n",
    "```\n",
    "print(\"Gas Tank Refeuling light\")\n",
    "print(\"/\\\" * 10)  #what does this line do?\n",
    "\n",
    "GasLevel = input(\"What percent full is the gas tank?\")\n",
    "\n",
    "if GasLevel > 50:\n",
    "  print(\"We have enough gas\")\n",
    "\n",
    "elif GasLevel > 10:\n",
    "  print(\"We need to get more gas soon\")\n",
    "\n",
    "else: \n",
    "  print(\"Please stop at the very next gas station!\")\n",
    "```\n",
    "\n",
    "Do you know what should be printed if the user enters 55? or 45? or 10?\n",
    "\n",
    "This code will not run as written. Can you figure out why? Pause the video and take a few minutes to think it through. Use comments to annotate the code. \n",
    "\n",
    "Hint: Should the user enter % or not?\n",
    "\n",
    "If you still can't figure it out try running it below. \n",
    "\n"
   ]
  },
  {
   "cell_type": "code",
   "execution_count": 11,
   "metadata": {
    "colab": {},
    "colab_type": "code",
    "id": "LpRxT_RauOeo"
   },
   "outputs": [
    {
     "name": "stdout",
     "output_type": "stream",
     "text": [
      "Gas Tank Refeuling light\n",
      "/\\/\\/\\/\\/\\/\\/\\/\\/\\/\\\n",
      "What percent full is the gas tank? 80\n"
     ]
    },
    {
     "ename": "TypeError",
     "evalue": "'>' not supported between instances of 'str' and 'int'",
     "output_type": "error",
     "traceback": [
      "\u001b[1;31m---------------------------------------------------------------------------\u001b[0m",
      "\u001b[1;31mTypeError\u001b[0m                                 Traceback (most recent call last)",
      "\u001b[1;32m<ipython-input-11-db138ef67e56>\u001b[0m in \u001b[0;36m<module>\u001b[1;34m\u001b[0m\n\u001b[0;32m      4\u001b[0m \u001b[0mGasLevel\u001b[0m \u001b[1;33m=\u001b[0m \u001b[0minput\u001b[0m\u001b[1;33m(\u001b[0m\u001b[1;34m\"What percent full is the gas tank? \"\u001b[0m\u001b[1;33m)\u001b[0m\u001b[1;33m\u001b[0m\u001b[1;33m\u001b[0m\u001b[0m\n\u001b[0;32m      5\u001b[0m \u001b[1;33m\u001b[0m\u001b[0m\n\u001b[1;32m----> 6\u001b[1;33m \u001b[1;32mif\u001b[0m \u001b[0mGasLevel\u001b[0m \u001b[1;33m>\u001b[0m \u001b[1;36m50\u001b[0m\u001b[1;33m:\u001b[0m\u001b[1;33m\u001b[0m\u001b[1;33m\u001b[0m\u001b[0m\n\u001b[0m\u001b[0;32m      7\u001b[0m   \u001b[0mprint\u001b[0m\u001b[1;33m(\u001b[0m\u001b[1;34m\"We have enough gas\"\u001b[0m\u001b[1;33m)\u001b[0m\u001b[1;33m\u001b[0m\u001b[1;33m\u001b[0m\u001b[0m\n\u001b[0;32m      8\u001b[0m \u001b[1;33m\u001b[0m\u001b[0m\n",
      "\u001b[1;31mTypeError\u001b[0m: '>' not supported between instances of 'str' and 'int'"
     ]
    }
   ],
   "source": [
    "print(\"Gas Tank Refeuling light\")\n",
    "print(\"/\\\\\" * 10)  #what does this line do? #did it do what you predict\n",
    "\n",
    "GasLevel = input(\"What percent full is the gas tank? \")\n",
    "\n",
    "if GasLevel > 50:\n",
    "  print(\"We have enough gas\")\n",
    "\n",
    "elif GasLevel > 10:\n",
    "  print(\"We need to get more gas soon\")\n",
    "\n",
    "else: \n",
    "  print(\"Please stop at the very next gas station!\")"
   ]
  },
  {
   "cell_type": "markdown",
   "metadata": {
    "colab_type": "text",
    "id": "ly32DlYwvKCY"
   },
   "source": [
    "We could use a nested `int(input())` command as previously disrupted but that would create an error and stop the program. What if we want to prompt the user to give a proper input? \n",
    "\n",
    "we can do that with a `while` loop using the `while True...break` pattern."
   ]
  },
  {
   "cell_type": "code",
   "execution_count": 12,
   "metadata": {
    "colab": {},
    "colab_type": "code",
    "id": "hWNre4bIvwtA"
   },
   "outputs": [
    {
     "name": "stdout",
     "output_type": "stream",
     "text": [
      "Gas Tank Refeuling light\n",
      "/\\/\\/\\/\\/\\/\\/\\/\\/\\/\\\n",
      "What percent full is the gas tank? (exclude the % sign)8j\n",
      "What percent full is the gas tank? (exclude the % sign)90\n",
      "We have enough gas\n"
     ]
    }
   ],
   "source": [
    "print(\"Gas Tank Refeuling light\")\n",
    "print(\"/\\\\\" * 10)  #what does this line do? #did it do what you predict\n",
    "while True:\n",
    "  GasLevel = input(\"What percent full is the gas tank? (exclude the % sign)\")\n",
    "  if GasLevel.isnumeric():\n",
    "    GasLevelInteger= int(GasLevel)\n",
    "    break  #why is this necessary?\n",
    "\n",
    "if GasLevelInteger > 50:\n",
    "  print(\"We have enough gas\")\n",
    "\n",
    "elif GasLevelInteger > 10:\n",
    "  print(\"We need to get more gas soon\")\n",
    "\n",
    "else: \n",
    "  print(\"Please stop at the very next gas station!\")"
   ]
  },
  {
   "cell_type": "code",
   "execution_count": null,
   "metadata": {},
   "outputs": [],
   "source": []
  }
 ],
 "metadata": {
  "colab": {
   "collapsed_sections": [],
   "name": "SI507_W2L1_ComplexUserInputs.ipynb",
   "provenance": []
  },
  "kernelspec": {
   "display_name": "Python 3",
   "language": "python",
   "name": "python3"
  },
  "language_info": {
   "codemirror_mode": {
    "name": "ipython",
    "version": 3
   },
   "file_extension": ".py",
   "mimetype": "text/x-python",
   "name": "python",
   "nbconvert_exporter": "python",
   "pygments_lexer": "ipython3",
   "version": "3.8.8"
  }
 },
 "nbformat": 4,
 "nbformat_minor": 1
}
