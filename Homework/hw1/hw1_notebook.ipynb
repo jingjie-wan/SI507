{
 "cells": [
  {
   "cell_type": "code",
   "execution_count": 54,
   "id": "5787d6f4",
   "metadata": {},
   "outputs": [
    {
     "name": "stdout",
     "output_type": "stream",
     "text": [
      "\n",
      "1 | 2 | 3\n",
      "4 | 5 | 6\n",
      "7 | 8 | 9\n",
      "\n",
      "X's move: 5\n",
      "\n",
      "1 | 2 | 3\n",
      "4 | X | 6\n",
      "7 | 8 | 9\n",
      "\n",
      "O's move: 4\n",
      "\n",
      "1 | 2 | 3\n",
      "O | X | 6\n",
      "7 | 8 | 9\n",
      "\n",
      "X's move: 1\n",
      "\n",
      "X | 2 | 3\n",
      "O | X | 6\n",
      "7 | 8 | 9\n",
      "\n",
      "O's move: 6\n",
      "\n",
      "X | 2 | 3\n",
      "O | X | O\n",
      "7 | 8 | 9\n",
      "\n",
      "X's move: 9\n",
      "\n",
      "X | 2 | 3\n",
      "O | X | O\n",
      "7 | 8 | X\n",
      "\n",
      "Game over! X wins!\n"
     ]
    }
   ],
   "source": [
    "\"\"\"\n",
    "############################## Homework #1 ##############################\n",
    "\n",
    "% Student Name:\n",
    "\n",
    "% Student Unique Name:\n",
    "\n",
    "% Lab Section 00X: \n",
    "\n",
    "% I worked with the following classmates: \n",
    "\n",
    "%%% Please fill in the first 4 lines of this file with the appropriate information before submitting on Canvas.\n",
    "\"\"\"\n",
    "\n",
    "\n",
    "\n",
    "#CONSTANTS\n",
    "PLAYER_NAMES = [\"Nobody\", \"X\", \"O\"] \n",
    "\n",
    "\n",
    "# FUNCTIONS\n",
    "def player_name(player_id):\n",
    "    '''return the name of a player with a specified ID\n",
    "\n",
    "    Looks up the name in the PLAYER_NAMES global list\n",
    "\n",
    "    Parameters\n",
    "    ----------\n",
    "    player_id: int\n",
    "        player's id, which is an index into PLAYER_NAMES\n",
    "\n",
    "    Returns\n",
    "    -------\n",
    "    string\n",
    "        the player's name\n",
    "\n",
    "    '''\n",
    "    return PLAYER_NAMES[player_id]\n",
    "\n",
    "\n",
    "def display_board(board):\n",
    "    '''display the current state of the board\n",
    "\n",
    "    board layout:\n",
    "    1 | 2 | 3\n",
    "    4 | 5 | 6\n",
    "    7 | 8 | 9\n",
    "\n",
    "    Numbers are replaced by players' names once they move. \n",
    "    Iterate through the board and choose the right thing\n",
    "    to display for each cell.\n",
    "\n",
    "    Parameters\n",
    "    ----------\n",
    "    board: list\n",
    "        the playing board\n",
    "\n",
    "    Returns\n",
    "    -------\n",
    "    None\n",
    "    '''\n",
    "\n",
    "    board_to_show = \"\" # string that will display the board, starts empty\n",
    "    for i in range(len(board)):\n",
    "        if board[i] == 0: # 0 means unoccupied\n",
    "            # displayed numbers are one greater than the board index\n",
    "            board_to_show += str(i + 1) # display cell number\n",
    "        else:\n",
    "            board_to_show += player_name(board[i]) # display player's mark\n",
    "        if (i + 1) % 3 == 0: # every 3 cells, start a new row\n",
    "            board_to_show += \"\\n\"\n",
    "        else:\n",
    "            board_to_show += \" | \" # within a row, divide the cells\n",
    "    print()\n",
    "    print(board_to_show)\n",
    "\n",
    "\n",
    "def make_move(player, board):\n",
    "    '''allows a player to make a move in the game\n",
    "\n",
    "    displays who's move it is (X or O)\n",
    "    prompts the user to enter a number 1-9\n",
    "    validates input, repeats until valid input is entered\n",
    "    checks move is valid (space is unoccupied), repeats until valid move\n",
    "    is entered\n",
    "    updates/modifies the board in place when a valid move is entered\n",
    "\n",
    "    Parameters\n",
    "    ----------\n",
    "    player: int\n",
    "        the id of the player to move (1 = X, 2 = O)\n",
    "\n",
    "    board: list\n",
    "        the board upon which to move\n",
    "        the board is modified in place when a valid move is entered\n",
    "    '''\n",
    "    # TODO: Implement function\n",
    "    number_list = ['1','2','3','4','5','6','7','8','9']\n",
    "    move = input(player_name(player) +'\\'s move: ')\n",
    "    while (not(move in number_list) or board[int(move) - 1] != 0):\n",
    "        if (not(move in number_list)):\n",
    "            print(\"Enter a number between 1 and 9.\")\n",
    "        elif (board[int(move) - 1] != 0):\n",
    "            print(\"That space is occupied, try another.\")\n",
    "        move = input(player_name(player) + '\\'s move: ')\n",
    "        \n",
    "    board[int(move) - 1] = player\n",
    "    pass\n",
    "\n",
    "\n",
    "def check_win_horizontal(board):\n",
    "    # TODO: write docstring\n",
    "    '''check whether a player has three moves in a horizontal line\n",
    "    \n",
    "    check each three horizontal lines: whether the three numbers in the board is non-zero and identical\n",
    "    \n",
    "    Parameters\n",
    "    ----------\n",
    "    board: list\n",
    "        the board to check win\n",
    "        \n",
    "    Returns\n",
    "    -------\n",
    "    int\n",
    "        0 for no winner, 1 for X wins, 2 for O wins\n",
    "    '''\n",
    "    if (board[0] != 0 and \n",
    "        board[0] == board[1] and \n",
    "        board[0] == board[2]):\n",
    "        return board[0]\n",
    "    if (board[3] != 0 and\n",
    "        board[3] == board[4] and \n",
    "        board[3] == board[5]):\n",
    "        return board[3]\n",
    "    if (board[6] != 0 and\n",
    "        board[6] == board[7] and \n",
    "        board[6] == board[8]):\n",
    "        return board[6]\n",
    "    return 0\n",
    "\n",
    "\n",
    "def check_win_vertical(board):\n",
    "    # TODO: write docstring\n",
    "    '''check whether a player has three moves in a vertical line\n",
    "    \n",
    "    check each three vertical lines: whether the three numbers in the board is non-zero and identical\n",
    "    \n",
    "    Parameters\n",
    "    ----------\n",
    "    board: list\n",
    "        the board to check win\n",
    "        \n",
    "    Returns\n",
    "    -------\n",
    "    int\n",
    "        0 for no winner, 1 for X wins, 2 for O wins\n",
    "    '''\n",
    "    # TODO: implement function\n",
    "    if (board[0] != 0 and \n",
    "        board[0] == board[3] and \n",
    "        board[0] == board[6]):\n",
    "        return board[0]\n",
    "    if (board[1] != 0 and\n",
    "        board[1] == board[4] and \n",
    "        board[1] == board[7]):\n",
    "        return board[1]\n",
    "    if (board[2] != 0 and\n",
    "        board[2] == board[5] and \n",
    "        board[2] == board[8]):\n",
    "        return board[2]\n",
    "    return 0\n",
    "\n",
    "\n",
    "def check_win_diagonal(board):\n",
    "    # TODO: write docstring\n",
    "    '''check whether a player has three moves in a diagonal line\n",
    "    \n",
    "    check both two diagonal lines: whether the three numbers in the board is non-zero and identical\n",
    "    \n",
    "    Parameters\n",
    "    ----------\n",
    "    board: list\n",
    "        the board to check win\n",
    "        \n",
    "    Returns\n",
    "    -------\n",
    "    int\n",
    "        0 for no winner, 1 for X wins, 2 for O wins\n",
    "    '''\n",
    "    # TODO: implement function\n",
    "    if (board[0] != 0 and \n",
    "        board[0] == board[4] and \n",
    "        board[0] == board[8]):\n",
    "        return board[0]\n",
    "    if (board[2] != 0 and\n",
    "        board[2] == board[4] and \n",
    "        board[2] == board[6]):\n",
    "        return board[2]\n",
    "    return 0\n",
    "\n",
    "\n",
    "def check_win(board):\n",
    "    '''checks a board to see if there's a winner\n",
    "\n",
    "    delegates to functions that check horizontally, vertically, and \n",
    "    diagonally to see if there is a winner. Returns the first winner\n",
    "    found in the case of multiple winners.\n",
    "\n",
    "    Parameters\n",
    "    ----------        \n",
    "    board: list\n",
    "        the board to check\n",
    "\n",
    "    Returns\n",
    "    -------\n",
    "    int\n",
    "        the player ID of the winner. 0 means no winner found.\n",
    "    '''\n",
    "\n",
    "    winner = check_win_horizontal(board)\n",
    "    if (winner != 0):\n",
    "        return winner\n",
    "    \n",
    "    winner = check_win_vertical(board)\n",
    "    if (winner != 0):\n",
    "        return winner\n",
    "    \n",
    "    return check_win_diagonal(board)\n",
    "\n",
    "\n",
    "def next_player(current_player):\n",
    "    '''determines who goes next\n",
    "\n",
    "    given the current player ID, returns the player who should \n",
    "    go next\n",
    "\n",
    "    Parameters\n",
    "    ----------        \n",
    "    current_player: int\n",
    "        the id of the player who's turn it is now\n",
    "\n",
    "    Returns\n",
    "    -------\n",
    "    int\n",
    "        the id of the player to go next\n",
    "    '''\n",
    "    # TODO: Implement function\n",
    "    \n",
    "    #(1 = X, 2 = O)\n",
    "    if (current_player == 2):\n",
    "        return 1\n",
    "    \n",
    "    return 2 \n",
    "\n",
    "# MAIN PROGRAM (INDENT LEVEL 0)\n",
    "\n",
    "# GLOBAL VARIABLES\n",
    "board = [0, 0, 0,   # top row:    indices 0, 1, 2\n",
    "         0, 0, 0,   # middle row: indices 3, 4, 5\n",
    "         0, 0, 0]   # bottom row: indices 6, 7, 8\n",
    "\n",
    "player = 1          # X goes first\n",
    "moves_left = 9      # number of moves so far \n",
    "winner = 0          # \"Nobody\" is winning to start\n",
    "\n",
    "# TODO: write code to display the correct winner. \n",
    "# NOTE: where you implement this (in the while loop or outside it) is up to you to decide, \n",
    "# but your program should behave like the sample output\n",
    "# NOTE: You may also find it helpful to display the board one final time to make sure \n",
    "# you are correctly identifying the winner, but you will not be graded on that. \n",
    "\n",
    "while(moves_left > 0 and winner == 0):\n",
    "    display_board(board)\n",
    "    make_move(player, board)\n",
    "    winner = check_win(board)\n",
    "    player = next_player(player)\n",
    "    moves_left -= 1\n",
    "    \n",
    "display_board(board)\n",
    "\n",
    "print(\"Game over! \"+ player_name(winner) + \" wins!\")"
   ]
  },
  {
   "cell_type": "code",
   "execution_count": null,
   "id": "bb849ef2",
   "metadata": {},
   "outputs": [],
   "source": [
    "a=1\n",
    "not (isinstance(a,int))"
   ]
  },
  {
   "cell_type": "code",
   "execution_count": 6,
   "id": "1c095e96",
   "metadata": {},
   "outputs": [
    {
     "ename": "NameError",
     "evalue": "name 'player' is not defined",
     "output_type": "error",
     "traceback": [
      "\u001b[1;31m---------------------------------------------------------------------------\u001b[0m",
      "\u001b[1;31mNameError\u001b[0m                                 Traceback (most recent call last)",
      "\u001b[1;32m<ipython-input-6-66c000e5da95>\u001b[0m in \u001b[0;36m<module>\u001b[1;34m\u001b[0m\n\u001b[1;32m----> 1\u001b[1;33m \u001b[0mmove\u001b[0m \u001b[1;33m=\u001b[0m \u001b[0minput\u001b[0m\u001b[1;33m(\u001b[0m\u001b[0mplayer\u001b[0m\u001b[1;33m+\u001b[0m\u001b[1;34m'\\'s move: '\u001b[0m\u001b[1;33m)\u001b[0m\u001b[1;33m\u001b[0m\u001b[1;33m\u001b[0m\u001b[0m\n\u001b[0m",
      "\u001b[1;31mNameError\u001b[0m: name 'player' is not defined"
     ]
    }
   ],
   "source": [
    "move = input(player+'\\'s move: ')"
   ]
  },
  {
   "cell_type": "code",
   "execution_count": 19,
   "id": "df663641",
   "metadata": {},
   "outputs": [
    {
     "name": "stdout",
     "output_type": "stream",
     "text": [
      "X's move: 1\n"
     ]
    },
    {
     "data": {
      "text/plain": [
       "True"
      ]
     },
     "execution_count": 19,
     "metadata": {},
     "output_type": "execute_result"
    }
   ],
   "source": [
    "move = input(player_name(player) +'\\'s move: ')\n",
    "not(isinstance(move,int) and move <= 9 and move >= 1)"
   ]
  },
  {
   "cell_type": "code",
   "execution_count": 20,
   "id": "95e008ae",
   "metadata": {},
   "outputs": [
    {
     "data": {
      "text/plain": [
       "str"
      ]
     },
     "execution_count": 20,
     "metadata": {},
     "output_type": "execute_result"
    }
   ],
   "source": [
    "type(move)"
   ]
  },
  {
   "cell_type": "code",
   "execution_count": 8,
   "id": "5b8408e5",
   "metadata": {},
   "outputs": [
    {
     "data": {
      "text/plain": [
       "True"
      ]
     },
     "execution_count": 8,
     "metadata": {},
     "output_type": "execute_result"
    }
   ],
   "source": [
    "winner = 2\n",
    "winner != 0"
   ]
  },
  {
   "cell_type": "code",
   "execution_count": 44,
   "id": "d2298c16",
   "metadata": {},
   "outputs": [
    {
     "data": {
      "text/plain": [
       "True"
      ]
     },
     "execution_count": 44,
     "metadata": {},
     "output_type": "execute_result"
    }
   ],
   "source": [
    "a = '3242'\n",
    "a<='9'and a>='1'"
   ]
  },
  {
   "cell_type": "code",
   "execution_count": 45,
   "id": "f80477a5",
   "metadata": {},
   "outputs": [
    {
     "name": "stdout",
     "output_type": "stream",
     "text": [
      "range(1, 9)\n"
     ]
    }
   ],
   "source": [
    "print(range(1,9))"
   ]
  },
  {
   "cell_type": "code",
   "execution_count": 48,
   "id": "dde5ab97",
   "metadata": {},
   "outputs": [
    {
     "data": {
      "text/plain": [
       "False"
      ]
     },
     "execution_count": 48,
     "metadata": {},
     "output_type": "execute_result"
    }
   ],
   "source": [
    "9 in range(1,9)"
   ]
  },
  {
   "cell_type": "code",
   "execution_count": null,
   "id": "0eb1bbee",
   "metadata": {},
   "outputs": [],
   "source": []
  }
 ],
 "metadata": {
  "kernelspec": {
   "display_name": "Python 3 (ipykernel)",
   "language": "python",
   "name": "python3"
  },
  "language_info": {
   "codemirror_mode": {
    "name": "ipython",
    "version": 3
   },
   "file_extension": ".py",
   "mimetype": "text/x-python",
   "name": "python",
   "nbconvert_exporter": "python",
   "pygments_lexer": "ipython3",
   "version": "3.8.13"
  }
 },
 "nbformat": 4,
 "nbformat_minor": 5
}
