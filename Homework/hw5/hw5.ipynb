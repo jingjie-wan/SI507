{
 "cells": [
  {
   "cell_type": "code",
   "execution_count": 1,
   "id": "9503d37a",
   "metadata": {},
   "outputs": [],
   "source": [
    "import pandas as pd\n",
    "import numpy as np"
   ]
  },
  {
   "cell_type": "code",
   "execution_count": 43,
   "id": "b065c9dc",
   "metadata": {},
   "outputs": [],
   "source": [
    "def change(amount, coins):\n",
    "    '''\n",
    "    amount >= 0\n",
    "    '''\n",
    "    if amount == 0: return 0\n",
    "    elif coins == []: return float('inf')\n",
    "    else:\n",
    "        current = coins[0]\n",
    "        if current > amount: return change(amount, coins[1:])\n",
    "        else:\n",
    "            use_it = 1 + change(amount - current, coins)\n",
    "            lose_it = change(amount, coins[1:])\n",
    "            return min(use_it, lose_it)\n",
    "\n",
    "def giveChange(amount, coins):\n",
    "    '''\n",
    "    amount >= 0\n",
    "    '''\n",
    "    if amount == 0: return [0, []]\n",
    "    elif coins == []: return [float('inf'), []]\n",
    "    else:\n",
    "        current = coins[0]\n",
    "        if current > amount: return giveChange(amount, coins[1:])\n",
    "        else:\n",
    "            use_it = giveChange(amount - current, coins)\n",
    "            lose_it = giveChange(amount, coins[1:])\n",
    "            if use_it[0] < lose_it[0]: return [1 + use_it[0], use_it[1] + [current]]\n",
    "            else: return lose_it"
   ]
  },
  {
   "cell_type": "code",
   "execution_count": 44,
   "id": "cee8d566",
   "metadata": {},
   "outputs": [
    {
     "data": {
      "text/plain": [
       "6"
      ]
     },
     "execution_count": 44,
     "metadata": {},
     "output_type": "execute_result"
    }
   ],
   "source": [
    " change(48, [1, 5, 10, 25, 50])"
   ]
  },
  {
   "cell_type": "code",
   "execution_count": 45,
   "id": "eb684b1b",
   "metadata": {},
   "outputs": [
    {
     "data": {
      "text/plain": [
       "2"
      ]
     },
     "execution_count": 45,
     "metadata": {},
     "output_type": "execute_result"
    }
   ],
   "source": [
    "change(48, [1, 7, 24, 42])"
   ]
  },
  {
   "cell_type": "code",
   "execution_count": 46,
   "id": "e18e2b9e",
   "metadata": {},
   "outputs": [
    {
     "data": {
      "text/plain": [
       "3"
      ]
     },
     "execution_count": 46,
     "metadata": {},
     "output_type": "execute_result"
    }
   ],
   "source": [
    "change(35, [1, 3, 16, 30, 50])"
   ]
  },
  {
   "cell_type": "code",
   "execution_count": 47,
   "id": "f6543b4b",
   "metadata": {},
   "outputs": [
    {
     "data": {
      "text/plain": [
       "inf"
      ]
     },
     "execution_count": 47,
     "metadata": {},
     "output_type": "execute_result"
    }
   ],
   "source": [
    "change(6, [4, 5, 9])"
   ]
  },
  {
   "cell_type": "code",
   "execution_count": 48,
   "id": "eec627a7",
   "metadata": {},
   "outputs": [
    {
     "data": {
      "text/plain": [
       "inf"
      ]
     },
     "execution_count": 48,
     "metadata": {},
     "output_type": "execute_result"
    }
   ],
   "source": [
    "change(1, [])"
   ]
  },
  {
   "cell_type": "code",
   "execution_count": 49,
   "id": "95a871ef",
   "metadata": {},
   "outputs": [
    {
     "data": {
      "text/plain": [
       "[6, [25, 10, 10, 1, 1, 1]]"
      ]
     },
     "execution_count": 49,
     "metadata": {},
     "output_type": "execute_result"
    }
   ],
   "source": [
    "giveChange(48, [1, 5, 10, 25, 50])"
   ]
  },
  {
   "cell_type": "code",
   "execution_count": 50,
   "id": "7ca1b99f",
   "metadata": {},
   "outputs": [
    {
     "data": {
      "text/plain": [
       "[2, [24, 24]]"
      ]
     },
     "execution_count": 50,
     "metadata": {},
     "output_type": "execute_result"
    }
   ],
   "source": [
    "giveChange(48, [1, 7, 24, 42])"
   ]
  },
  {
   "cell_type": "code",
   "execution_count": 51,
   "id": "9abe7556",
   "metadata": {},
   "outputs": [
    {
     "data": {
      "text/plain": [
       "[3, [16, 16, 3]]"
      ]
     },
     "execution_count": 51,
     "metadata": {},
     "output_type": "execute_result"
    }
   ],
   "source": [
    "giveChange(35, [1, 3, 16, 30, 50])"
   ]
  },
  {
   "cell_type": "code",
   "execution_count": 52,
   "id": "2b23174c",
   "metadata": {},
   "outputs": [
    {
     "data": {
      "text/plain": [
       "[inf, []]"
      ]
     },
     "execution_count": 52,
     "metadata": {},
     "output_type": "execute_result"
    }
   ],
   "source": [
    "giveChange(6, [4, 5, 9])"
   ]
  },
  {
   "cell_type": "code",
   "execution_count": 53,
   "id": "e6caf50c",
   "metadata": {},
   "outputs": [
    {
     "data": {
      "text/plain": [
       "[inf, []]"
      ]
     },
     "execution_count": 53,
     "metadata": {},
     "output_type": "execute_result"
    }
   ],
   "source": [
    "giveChange(1, [5])"
   ]
  },
  {
   "cell_type": "code",
   "execution_count": 30,
   "id": "dc387afd",
   "metadata": {},
   "outputs": [
    {
     "name": "stdout",
     "output_type": "stream",
     "text": [
      "[1, 2, 'a']\n"
     ]
    }
   ],
   "source": [
    "lst = [1, 2]\n",
    "lst.append('a')\n",
    "print(lst)"
   ]
  },
  {
   "cell_type": "code",
   "execution_count": null,
   "id": "ecdc6c1f",
   "metadata": {},
   "outputs": [],
   "source": []
  }
 ],
 "metadata": {
  "kernelspec": {
   "display_name": "Python 3 (ipykernel)",
   "language": "python",
   "name": "python3"
  },
  "language_info": {
   "codemirror_mode": {
    "name": "ipython",
    "version": 3
   },
   "file_extension": ".py",
   "mimetype": "text/x-python",
   "name": "python",
   "nbconvert_exporter": "python",
   "pygments_lexer": "ipython3",
   "version": "3.8.13"
  }
 },
 "nbformat": 4,
 "nbformat_minor": 5
}
